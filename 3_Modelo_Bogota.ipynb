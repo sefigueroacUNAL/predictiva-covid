{
 "cells": [
  {
   "cell_type": "markdown",
   "metadata": {},
   "source": [
    "# Modelo para la Ciudad de Bogotá"
   ]
  },
  {
   "cell_type": "code",
   "execution_count": 1,
   "metadata": {
    "colab": {},
    "colab_type": "code",
    "executionInfo": {
     "elapsed": 1674,
     "status": "ok",
     "timestamp": 1599268041527,
     "user": {
      "displayName": "Juan Manuel Lombana Martinez",
      "photoUrl": "https://lh3.googleusercontent.com/a-/AOh14GjjvnrdriZlzXxdV00af0OFnQ3lxzsrl5cE-wBq=s64",
      "userId": "06181135591528508533"
     },
     "user_tz": 300
    },
    "id": "H4cpgpvEVunf"
   },
   "outputs": [],
   "source": [
    "import numpy as np\n",
    "import pandas as pd\n",
    "import matplotlib.pyplot as plt"
   ]
  },
  {
   "cell_type": "code",
   "execution_count": 2,
   "metadata": {
    "colab": {
     "base_uri": "https://localhost:8080/",
     "height": 34
    },
    "colab_type": "code",
    "executionInfo": {
     "elapsed": 1657,
     "status": "ok",
     "timestamp": 1599268041527,
     "user": {
      "displayName": "Juan Manuel Lombana Martinez",
      "photoUrl": "https://lh3.googleusercontent.com/a-/AOh14GjjvnrdriZlzXxdV00af0OFnQ3lxzsrl5cE-wBq=s64",
      "userId": "06181135591528508533"
     },
     "user_tz": 300
    },
    "id": "y2gAPfWtWFTJ",
    "outputId": "6f65e17a-9c15-4450-92d3-b2b8285f5437"
   },
   "outputs": [],
   "source": [
    "##Sección de código para ejecutar el ejercicio en COLAB sin realizar ningún cambio adicional.\n",
    "#from google.colab import drive\n",
    "#drive.mount('/content/drive')\n",
    "#baseUrl = '/content/drive/Shared drives/Analitica Predictiva/covid-19-flr-analitica-predictiva'\n",
    "#os.chdir(baseUrl)"
   ]
  },
  {
   "cell_type": "markdown",
   "metadata": {},
   "source": [
    "Librerias requeridas para realizar los modelos."
   ]
  },
  {
   "cell_type": "code",
   "execution_count": 3,
   "metadata": {
    "colab": {},
    "colab_type": "code",
    "executionInfo": {
     "elapsed": 2183,
     "status": "ok",
     "timestamp": 1599268042062,
     "user": {
      "displayName": "Juan Manuel Lombana Martinez",
      "photoUrl": "https://lh3.googleusercontent.com/a-/AOh14GjjvnrdriZlzXxdV00af0OFnQ3lxzsrl5cE-wBq=s64",
      "userId": "06181135591528508533"
     },
     "user_tz": 300
    },
    "id": "LnzcztOtO2OW"
   },
   "outputs": [],
   "source": [
    "from sklearn.preprocessing import PolynomialFeatures, StandardScaler\n",
    "from sklearn.linear_model import Lasso\n",
    "from sklearn.pipeline import make_pipeline\n",
    "from sklearn.model_selection import train_test_split\n",
    "from sklearn.metrics import mean_squared_error, mean_absolute_error"
   ]
  },
  {
   "cell_type": "markdown",
   "metadata": {
    "colab_type": "text",
    "id": "QeVXw8BSZEyI"
   },
   "source": [
    "## Modelo Corto Plazo"
   ]
  },
  {
   "cell_type": "code",
   "execution_count": 4,
   "metadata": {},
   "outputs": [],
   "source": [
    "ciudades = ['Bogotá D.C.','Medellín','Cali','Barranquilla', 'Cartagena de Indias']\n",
    "names = ['Bogota','Medellin','Cali','Barranquilla','Cartagena']\n",
    "id_city = 0\n",
    "name = names[id_city]\n",
    "urlDataSet = 'Datos/data_{}.pickle'.format(name)"
   ]
  },
  {
   "cell_type": "markdown",
   "metadata": {},
   "source": [
    "Se carga el dataset generado en la sección de preprocesamiento, se muestran los últimos 20 registros, para validar visualmente los ultimos días de información."
   ]
  },
  {
   "cell_type": "code",
   "execution_count": 5,
   "metadata": {
    "colab": {
     "base_uri": "https://localhost:8080/",
     "height": 700
    },
    "colab_type": "code",
    "executionInfo": {
     "elapsed": 3102,
     "status": "ok",
     "timestamp": 1599052707567,
     "user": {
      "displayName": "Juan Manuel Lombana Martinez",
      "photoUrl": "https://lh3.googleusercontent.com/a-/AOh14GjjvnrdriZlzXxdV00af0OFnQ3lxzsrl5cE-wBq=s64",
      "userId": "06181135591528508533"
     },
     "user_tz": 300
    },
    "id": "EGxtOkIqY-yT",
    "outputId": "c6995f4a-7dea-4968-eeaa-c1b77d14a90b"
   },
   "outputs": [
    {
     "data": {
      "text/html": [
       "<div>\n",
       "<style scoped>\n",
       "    .dataframe tbody tr th:only-of-type {\n",
       "        vertical-align: middle;\n",
       "    }\n",
       "\n",
       "    .dataframe tbody tr th {\n",
       "        vertical-align: top;\n",
       "    }\n",
       "\n",
       "    .dataframe thead th {\n",
       "        text-align: right;\n",
       "    }\n",
       "</style>\n",
       "<table border=\"1\" class=\"dataframe\">\n",
       "  <thead>\n",
       "    <tr style=\"text-align: right;\">\n",
       "      <th></th>\n",
       "      <th>dias</th>\n",
       "      <th>semana</th>\n",
       "      <th>infectados</th>\n",
       "      <th>recuperados</th>\n",
       "      <th>muertos</th>\n",
       "      <th>acumulado_infectados</th>\n",
       "      <th>acumulado_recuperados</th>\n",
       "      <th>acumulado_muertos</th>\n",
       "      <th>activos</th>\n",
       "    </tr>\n",
       "    <tr>\n",
       "      <th>fecha_infeccioso</th>\n",
       "      <th></th>\n",
       "      <th></th>\n",
       "      <th></th>\n",
       "      <th></th>\n",
       "      <th></th>\n",
       "      <th></th>\n",
       "      <th></th>\n",
       "      <th></th>\n",
       "      <th></th>\n",
       "    </tr>\n",
       "  </thead>\n",
       "  <tbody>\n",
       "    <tr>\n",
       "      <th>2020-08-16</th>\n",
       "      <td>171</td>\n",
       "      <td>24</td>\n",
       "      <td>1200.0</td>\n",
       "      <td>4541.0</td>\n",
       "      <td>83.0</td>\n",
       "      <td>137784.0</td>\n",
       "      <td>91712.0</td>\n",
       "      <td>4826.0</td>\n",
       "      <td>41246.0</td>\n",
       "    </tr>\n",
       "    <tr>\n",
       "      <th>2020-08-17</th>\n",
       "      <td>172</td>\n",
       "      <td>24</td>\n",
       "      <td>1277.0</td>\n",
       "      <td>4895.0</td>\n",
       "      <td>75.0</td>\n",
       "      <td>139061.0</td>\n",
       "      <td>96607.0</td>\n",
       "      <td>4901.0</td>\n",
       "      <td>37553.0</td>\n",
       "    </tr>\n",
       "    <tr>\n",
       "      <th>2020-08-18</th>\n",
       "      <td>173</td>\n",
       "      <td>24</td>\n",
       "      <td>1565.0</td>\n",
       "      <td>4541.0</td>\n",
       "      <td>101.0</td>\n",
       "      <td>140626.0</td>\n",
       "      <td>101148.0</td>\n",
       "      <td>5002.0</td>\n",
       "      <td>34476.0</td>\n",
       "    </tr>\n",
       "    <tr>\n",
       "      <th>2020-08-19</th>\n",
       "      <td>174</td>\n",
       "      <td>24</td>\n",
       "      <td>1866.0</td>\n",
       "      <td>4788.0</td>\n",
       "      <td>89.0</td>\n",
       "      <td>142492.0</td>\n",
       "      <td>105936.0</td>\n",
       "      <td>5091.0</td>\n",
       "      <td>31465.0</td>\n",
       "    </tr>\n",
       "    <tr>\n",
       "      <th>2020-08-20</th>\n",
       "      <td>175</td>\n",
       "      <td>25</td>\n",
       "      <td>1895.0</td>\n",
       "      <td>2919.0</td>\n",
       "      <td>79.0</td>\n",
       "      <td>144387.0</td>\n",
       "      <td>108855.0</td>\n",
       "      <td>5170.0</td>\n",
       "      <td>30362.0</td>\n",
       "    </tr>\n",
       "    <tr>\n",
       "      <th>2020-08-21</th>\n",
       "      <td>176</td>\n",
       "      <td>25</td>\n",
       "      <td>1299.0</td>\n",
       "      <td>2571.0</td>\n",
       "      <td>80.0</td>\n",
       "      <td>145686.0</td>\n",
       "      <td>111426.0</td>\n",
       "      <td>5250.0</td>\n",
       "      <td>29010.0</td>\n",
       "    </tr>\n",
       "    <tr>\n",
       "      <th>2020-08-22</th>\n",
       "      <td>177</td>\n",
       "      <td>25</td>\n",
       "      <td>899.0</td>\n",
       "      <td>3290.0</td>\n",
       "      <td>81.0</td>\n",
       "      <td>146585.0</td>\n",
       "      <td>114716.0</td>\n",
       "      <td>5331.0</td>\n",
       "      <td>26538.0</td>\n",
       "    </tr>\n",
       "    <tr>\n",
       "      <th>2020-08-23</th>\n",
       "      <td>178</td>\n",
       "      <td>25</td>\n",
       "      <td>768.0</td>\n",
       "      <td>6763.0</td>\n",
       "      <td>61.0</td>\n",
       "      <td>147353.0</td>\n",
       "      <td>121479.0</td>\n",
       "      <td>5392.0</td>\n",
       "      <td>20482.0</td>\n",
       "    </tr>\n",
       "    <tr>\n",
       "      <th>2020-08-24</th>\n",
       "      <td>179</td>\n",
       "      <td>25</td>\n",
       "      <td>885.0</td>\n",
       "      <td>3558.0</td>\n",
       "      <td>71.0</td>\n",
       "      <td>148238.0</td>\n",
       "      <td>125037.0</td>\n",
       "      <td>5463.0</td>\n",
       "      <td>17738.0</td>\n",
       "    </tr>\n",
       "    <tr>\n",
       "      <th>2020-08-25</th>\n",
       "      <td>180</td>\n",
       "      <td>25</td>\n",
       "      <td>906.0</td>\n",
       "      <td>3506.0</td>\n",
       "      <td>91.0</td>\n",
       "      <td>149144.0</td>\n",
       "      <td>128543.0</td>\n",
       "      <td>5554.0</td>\n",
       "      <td>15047.0</td>\n",
       "    </tr>\n",
       "    <tr>\n",
       "      <th>2020-08-26</th>\n",
       "      <td>181</td>\n",
       "      <td>25</td>\n",
       "      <td>764.0</td>\n",
       "      <td>3859.0</td>\n",
       "      <td>71.0</td>\n",
       "      <td>149908.0</td>\n",
       "      <td>132402.0</td>\n",
       "      <td>5625.0</td>\n",
       "      <td>11881.0</td>\n",
       "    </tr>\n",
       "    <tr>\n",
       "      <th>2020-08-27</th>\n",
       "      <td>182</td>\n",
       "      <td>26</td>\n",
       "      <td>634.0</td>\n",
       "      <td>3473.0</td>\n",
       "      <td>86.0</td>\n",
       "      <td>150542.0</td>\n",
       "      <td>135875.0</td>\n",
       "      <td>5711.0</td>\n",
       "      <td>8956.0</td>\n",
       "    </tr>\n",
       "    <tr>\n",
       "      <th>2020-08-28</th>\n",
       "      <td>183</td>\n",
       "      <td>26</td>\n",
       "      <td>626.0</td>\n",
       "      <td>5430.0</td>\n",
       "      <td>55.0</td>\n",
       "      <td>151168.0</td>\n",
       "      <td>141305.0</td>\n",
       "      <td>5766.0</td>\n",
       "      <td>4097.0</td>\n",
       "    </tr>\n",
       "    <tr>\n",
       "      <th>2020-08-29</th>\n",
       "      <td>184</td>\n",
       "      <td>26</td>\n",
       "      <td>483.0</td>\n",
       "      <td>4213.0</td>\n",
       "      <td>78.0</td>\n",
       "      <td>151651.0</td>\n",
       "      <td>145518.0</td>\n",
       "      <td>5844.0</td>\n",
       "      <td>289.0</td>\n",
       "    </tr>\n",
       "    <tr>\n",
       "      <th>2020-08-30</th>\n",
       "      <td>185</td>\n",
       "      <td>26</td>\n",
       "      <td>404.0</td>\n",
       "      <td>3190.0</td>\n",
       "      <td>56.0</td>\n",
       "      <td>152055.0</td>\n",
       "      <td>148708.0</td>\n",
       "      <td>5900.0</td>\n",
       "      <td>-2553.0</td>\n",
       "    </tr>\n",
       "    <tr>\n",
       "      <th>2020-08-31</th>\n",
       "      <td>186</td>\n",
       "      <td>26</td>\n",
       "      <td>368.0</td>\n",
       "      <td>2517.0</td>\n",
       "      <td>61.0</td>\n",
       "      <td>152423.0</td>\n",
       "      <td>151225.0</td>\n",
       "      <td>5961.0</td>\n",
       "      <td>-4763.0</td>\n",
       "    </tr>\n",
       "    <tr>\n",
       "      <th>2020-09-01</th>\n",
       "      <td>187</td>\n",
       "      <td>26</td>\n",
       "      <td>274.0</td>\n",
       "      <td>4431.0</td>\n",
       "      <td>50.0</td>\n",
       "      <td>152697.0</td>\n",
       "      <td>155656.0</td>\n",
       "      <td>6011.0</td>\n",
       "      <td>-8970.0</td>\n",
       "    </tr>\n",
       "    <tr>\n",
       "      <th>2020-09-02</th>\n",
       "      <td>188</td>\n",
       "      <td>26</td>\n",
       "      <td>129.0</td>\n",
       "      <td>3440.0</td>\n",
       "      <td>56.0</td>\n",
       "      <td>152826.0</td>\n",
       "      <td>159096.0</td>\n",
       "      <td>6067.0</td>\n",
       "      <td>-12337.0</td>\n",
       "    </tr>\n",
       "    <tr>\n",
       "      <th>2020-09-03</th>\n",
       "      <td>189</td>\n",
       "      <td>27</td>\n",
       "      <td>37.0</td>\n",
       "      <td>1903.0</td>\n",
       "      <td>50.0</td>\n",
       "      <td>152863.0</td>\n",
       "      <td>160999.0</td>\n",
       "      <td>6117.0</td>\n",
       "      <td>-14253.0</td>\n",
       "    </tr>\n",
       "    <tr>\n",
       "      <th>2020-09-04</th>\n",
       "      <td>190</td>\n",
       "      <td>27</td>\n",
       "      <td>14.0</td>\n",
       "      <td>798.0</td>\n",
       "      <td>65.0</td>\n",
       "      <td>152877.0</td>\n",
       "      <td>161797.0</td>\n",
       "      <td>6182.0</td>\n",
       "      <td>-15102.0</td>\n",
       "    </tr>\n",
       "  </tbody>\n",
       "</table>\n",
       "</div>"
      ],
      "text/plain": [
       "                  dias  semana  infectados  recuperados  muertos  \\\n",
       "fecha_infeccioso                                                   \n",
       "2020-08-16         171      24      1200.0       4541.0     83.0   \n",
       "2020-08-17         172      24      1277.0       4895.0     75.0   \n",
       "2020-08-18         173      24      1565.0       4541.0    101.0   \n",
       "2020-08-19         174      24      1866.0       4788.0     89.0   \n",
       "2020-08-20         175      25      1895.0       2919.0     79.0   \n",
       "2020-08-21         176      25      1299.0       2571.0     80.0   \n",
       "2020-08-22         177      25       899.0       3290.0     81.0   \n",
       "2020-08-23         178      25       768.0       6763.0     61.0   \n",
       "2020-08-24         179      25       885.0       3558.0     71.0   \n",
       "2020-08-25         180      25       906.0       3506.0     91.0   \n",
       "2020-08-26         181      25       764.0       3859.0     71.0   \n",
       "2020-08-27         182      26       634.0       3473.0     86.0   \n",
       "2020-08-28         183      26       626.0       5430.0     55.0   \n",
       "2020-08-29         184      26       483.0       4213.0     78.0   \n",
       "2020-08-30         185      26       404.0       3190.0     56.0   \n",
       "2020-08-31         186      26       368.0       2517.0     61.0   \n",
       "2020-09-01         187      26       274.0       4431.0     50.0   \n",
       "2020-09-02         188      26       129.0       3440.0     56.0   \n",
       "2020-09-03         189      27        37.0       1903.0     50.0   \n",
       "2020-09-04         190      27        14.0        798.0     65.0   \n",
       "\n",
       "                  acumulado_infectados  acumulado_recuperados  \\\n",
       "fecha_infeccioso                                                \n",
       "2020-08-16                    137784.0                91712.0   \n",
       "2020-08-17                    139061.0                96607.0   \n",
       "2020-08-18                    140626.0               101148.0   \n",
       "2020-08-19                    142492.0               105936.0   \n",
       "2020-08-20                    144387.0               108855.0   \n",
       "2020-08-21                    145686.0               111426.0   \n",
       "2020-08-22                    146585.0               114716.0   \n",
       "2020-08-23                    147353.0               121479.0   \n",
       "2020-08-24                    148238.0               125037.0   \n",
       "2020-08-25                    149144.0               128543.0   \n",
       "2020-08-26                    149908.0               132402.0   \n",
       "2020-08-27                    150542.0               135875.0   \n",
       "2020-08-28                    151168.0               141305.0   \n",
       "2020-08-29                    151651.0               145518.0   \n",
       "2020-08-30                    152055.0               148708.0   \n",
       "2020-08-31                    152423.0               151225.0   \n",
       "2020-09-01                    152697.0               155656.0   \n",
       "2020-09-02                    152826.0               159096.0   \n",
       "2020-09-03                    152863.0               160999.0   \n",
       "2020-09-04                    152877.0               161797.0   \n",
       "\n",
       "                  acumulado_muertos  activos  \n",
       "fecha_infeccioso                              \n",
       "2020-08-16                   4826.0  41246.0  \n",
       "2020-08-17                   4901.0  37553.0  \n",
       "2020-08-18                   5002.0  34476.0  \n",
       "2020-08-19                   5091.0  31465.0  \n",
       "2020-08-20                   5170.0  30362.0  \n",
       "2020-08-21                   5250.0  29010.0  \n",
       "2020-08-22                   5331.0  26538.0  \n",
       "2020-08-23                   5392.0  20482.0  \n",
       "2020-08-24                   5463.0  17738.0  \n",
       "2020-08-25                   5554.0  15047.0  \n",
       "2020-08-26                   5625.0  11881.0  \n",
       "2020-08-27                   5711.0   8956.0  \n",
       "2020-08-28                   5766.0   4097.0  \n",
       "2020-08-29                   5844.0    289.0  \n",
       "2020-08-30                   5900.0  -2553.0  \n",
       "2020-08-31                   5961.0  -4763.0  \n",
       "2020-09-01                   6011.0  -8970.0  \n",
       "2020-09-02                   6067.0 -12337.0  \n",
       "2020-09-03                   6117.0 -14253.0  \n",
       "2020-09-04                   6182.0 -15102.0  "
      ]
     },
     "execution_count": 5,
     "metadata": {},
     "output_type": "execute_result"
    }
   ],
   "source": [
    "df_city = pd.read_pickle(urlDataSet)\n",
    "df = df_city.copy()\n",
    "df.tail(20)"
   ]
  },
  {
   "cell_type": "markdown",
   "metadata": {
    "colab_type": "text",
    "id": "HRu51ggLJj9p"
   },
   "source": [
    "### Activos"
   ]
  },
  {
   "cell_type": "markdown",
   "metadata": {},
   "source": [
    "Para la predicción de casos activos se usó una Regressión Lasso con caracteristicas Polinomiales de grado 5; previamente se estandarizaron los datos, y se entrenaron con un conjunto del 70% de los datos; estos datos se toman aleatoriamente, pero al graficarlos se orden en secuencia."
   ]
  },
  {
   "cell_type": "code",
   "execution_count": 6,
   "metadata": {
    "colab": {
     "base_uri": "https://localhost:8080/",
     "height": 221
    },
    "colab_type": "code",
    "executionInfo": {
     "elapsed": 742,
     "status": "ok",
     "timestamp": 1599052716093,
     "user": {
      "displayName": "Juan Manuel Lombana Martinez",
      "photoUrl": "https://lh3.googleusercontent.com/a-/AOh14GjjvnrdriZlzXxdV00af0OFnQ3lxzsrl5cE-wBq=s64",
      "userId": "06181135591528508533"
     },
     "user_tz": 300
    },
    "id": "hrHDX35Yhepj",
    "outputId": "a1c40f75-2700-4f6b-c1e0-7a17d6dd8a99"
   },
   "outputs": [
    {
     "data": {
      "text/plain": [
       "Pipeline(steps=[('standardscaler', StandardScaler()),\n",
       "                ('polynomialfeatures', PolynomialFeatures(degree=5)),\n",
       "                ('lasso', Lasso(random_state=123))])"
      ]
     },
     "execution_count": 6,
     "metadata": {},
     "output_type": "execute_result"
    }
   ],
   "source": [
    "totalDays = len(df['dias'].values)\n",
    "X = df['dias'].values[0:totalDays-5].reshape(-1,1) #Variable independiente.\n",
    "y = df['activos'].values[0:totalDays-5].reshape(-1,1) #Variable dependiente.\n",
    "#Datos de validación - nunca entran al modelo.\n",
    "X_v = df['dias'].values[totalDays-5:].reshape(-1,1)\n",
    "y_v = df['activos'].values[totalDays-5:].reshape(-1,1)\n",
    "#Se obtiene el 70% para entrenamiento y 30% para pruebas.\n",
    "X_train, X_test, y_train, y_test = train_test_split(X,y,test_size=0.3,random_state=123,shuffle=True)\n",
    "#Se crea un pipeline con el escalado, las caracteristicas polinomiales y la regresión lasso\n",
    "pipe = make_pipeline(StandardScaler(),PolynomialFeatures(degree=5),Lasso(random_state=123))\n",
    "#Se realiza el entrenamiento.\n",
    "pipe.fit(X_train,y_train)"
   ]
  },
  {
   "cell_type": "markdown",
   "metadata": {},
   "source": [
    "Se realizan las predicciones sobre el dataset de pruebas, adicionalmente se establece el pico en el día 175, por lo cual para fines de prueba se realizan predicciones desde dicho día, hasta el día 200 de la pandemia, para probar la predicción futura de los modelos a corto plazo."
   ]
  },
  {
   "cell_type": "code",
   "execution_count": 7,
   "metadata": {
    "colab": {},
    "colab_type": "code",
    "id": "nPalclh38qB3"
   },
   "outputs": [],
   "source": [
    "#Obtener predicciones para los datos de prueba.\n",
    "y_pred = pipe.predict(X_test)\n",
    "#Predicciones futuras.\n",
    "x_pred_future = np.arange(totalDays-10,totalDays,step=1)\n",
    "y_pred_future = pipe.predict(x_pred_future.reshape(-1,1))"
   ]
  },
  {
   "cell_type": "code",
   "execution_count": 8,
   "metadata": {},
   "outputs": [],
   "source": [
    "def GetMax(*args):\n",
    "    arr = np.array([[0]])\n",
    "    for arg in args:\n",
    "        s = [x for x in arg.shape]\n",
    "        l = np.prod(s)\n",
    "        a = np.array(arg.reshape(1,l))\n",
    "        arr = np.concatenate((a,arr),axis=1)\n",
    "    return arr.max()"
   ]
  },
  {
   "cell_type": "code",
   "execution_count": 9,
   "metadata": {},
   "outputs": [],
   "source": [
    "def GetPeak(*args):\n",
    "    x_arr = np.array([[0]])\n",
    "    y_arr = np.array([[0]])\n",
    "    for x,y in args:\n",
    "        s = [x for x in x.shape]\n",
    "        l = np.prod(s)\n",
    "        xr = np.array(x.reshape(1,l))\n",
    "        yr = np.array(y.reshape(1,l))\n",
    "        x_arr = np.concatenate((x_arr,xr),axis=1)\n",
    "        y_arr = np.concatenate((y_arr,yr),axis=1)\n",
    "        print(x_arr)\n",
    "        print(y_arr)\n",
    "        print(y_arr.max())\n",
    "    return x_arr[0][y_arr.argmax()]"
   ]
  },
  {
   "cell_type": "code",
   "execution_count": 10,
   "metadata": {
    "tags": []
   },
   "outputs": [
    {
     "name": "stdout",
     "output_type": "stream",
     "text": [
      "[[  0 110 177 139   4 130 159 169  80  37 175 112  41 128  19  31  26 149\n",
      "  143 137  53 127  72  62 161  90 120 172  82  33 146 141  88 100  23 152\n",
      "  125 140  63  77  42 151  10  52 119 142  71 108  95   8  79 145 165 167\n",
      "  171 114  36]]\n",
      "[[    0.         13378.9713403  28019.02515838 41770.79233709\n",
      "    748.81350881 31998.22932105 54196.85414619 46628.60918331\n",
      "   3550.83580132  2153.91172545 33978.29231944 14836.37704486\n",
      "   2838.72841584 29831.64011635 -1364.16421136   925.06421112\n",
      "   -151.36733315 50804.27822289 45785.65953531 39647.02796222\n",
      "   3953.77967762 28761.92120875  3573.46314403  3937.96831745\n",
      "  53759.13957032  4630.60444629 21679.53925037 41217.76864281\n",
      "   3643.98661402  1352.95256444 48485.70075452 43825.65818257\n",
      "   4278.04596088  7720.00625632  -742.65975364 52625.44730261\n",
      "  26658.43268927 42808.41100837  3907.02879971  3496.92225222\n",
      "   2987.43126063 52081.31183969 -1304.05884582  3916.06826219\n",
      "  20741.98455892 44819.22271289  3605.30708691 12029.45541348\n",
      "   5880.10379903  -851.80511125  3522.35404022 47622.68775652\n",
      "  51380.51837476 49330.35887221 43213.25971247 16399.30899548\n",
      "   1962.80759901]]\n",
      "54196.85414619469\n"
     ]
    }
   ],
   "source": [
    "Ymax = GetMax(y_train,y_test,y_pred,y_pred_future)\n",
    "Xpeak = GetPeak((X_test,y_pred))"
   ]
  },
  {
   "cell_type": "markdown",
   "metadata": {},
   "source": [
    "Se grafican los datos."
   ]
  },
  {
   "cell_type": "code",
   "execution_count": 11,
   "metadata": {
    "colab": {
     "base_uri": "https://localhost:8080/",
     "height": 499
    },
    "colab_type": "code",
    "executionInfo": {
     "elapsed": 1084,
     "status": "ok",
     "timestamp": 1599052726186,
     "user": {
      "displayName": "Juan Manuel Lombana Martinez",
      "photoUrl": "https://lh3.googleusercontent.com/a-/AOh14GjjvnrdriZlzXxdV00af0OFnQ3lxzsrl5cE-wBq=s64",
      "userId": "06181135591528508533"
     },
     "user_tz": 300
    },
    "id": "GJ01qHQx_SIY",
    "outputId": "ffd3eec2-7d98-4d48-beb1-5848d2f4b46f"
   },
   "outputs": [
    {
     "data": {
      "image/png": "[encoded data removed]",
      "text/plain": [
       "<Figure size 1296x576 with 1 Axes>"
      ]
     },
     "metadata": {
      "needs_background": "light"
     },
     "output_type": "display_data"
    }
   ],
   "source": [
    "f = plt.figure(figsize=(18,8))\n",
    "plt.title('Predicción de casos activos')\n",
    "plt.grid()\n",
    "plt.plot(X_train[X_train.flatten().argsort(),0],y_train[X_train.flatten().argsort(),0],'ob',markersize=3,label='Train')\n",
    "plt.plot(X_test[X_test.flatten().argsort(),0],y_test[X_test.flatten().argsort(),0],'or',markersize=2,label='Test')\n",
    "plt.plot(X_v,y_v,'o',color='gray',markersize=2,label='Validation')\n",
    "plt.plot(X_test[X_test.flatten().argsort(),0],y_pred[X_test.flatten().argsort()],'--g',label='Predict')\n",
    "plt.plot(x_pred_future,y_pred_future,'--',color='orange',label='Future Predict')\n",
    "plt.plot([Xpeak,Xpeak],[-5000,Ymax],'--',color='lightseagreen', label='Peak') #Peak of cases.\n",
    "plt.ylim(-5000,Ymax)\n",
    "plt.legend(loc='upper left');\n",
    "plt.savefig('docs/images/pcp_{}_activos'.format(name))"
   ]
  },
  {
   "cell_type": "code",
   "execution_count": null,
   "metadata": {
    "tags": []
   },
   "outputs": [],
   "source": [
    "\n"
   ]
  },
  {
   "cell_type": "code",
   "execution_count": 12,
   "metadata": {},
   "outputs": [],
   "source": [
    "s = [y_pred_future.shape]\n",
    "l = np.prod(s)\n"
   ]
  },
  {
   "cell_type": "markdown",
   "metadata": {},
   "source": [
    "Se calculan las métricas de la regresión, en este caso se calculan las metricas completas sobre el conjunto de prueba, adicionalmente se computan las metricas solo desde el pico en adelante como indicar de las predicciones futuras."
   ]
  },
  {
   "cell_type": "code",
   "execution_count": 13,
   "metadata": {
    "colab": {
     "base_uri": "https://localhost:8080/",
     "height": 102
    },
    "colab_type": "code",
    "executionInfo": {
     "elapsed": 699,
     "status": "ok",
     "timestamp": 1599052740183,
     "user": {
      "displayName": "Juan Manuel Lombana Martinez",
      "photoUrl": "https://lh3.googleusercontent.com/a-/AOh14GjjvnrdriZlzXxdV00af0OFnQ3lxzsrl5cE-wBq=s64",
      "userId": "06181135591528508533"
     },
     "user_tz": 300
    },
    "id": "_NhMP7t3Q3XM",
    "outputId": "769fa212-5912-4c3d-8a5f-101a9f2d9a50",
    "tags": []
   },
   "outputs": [
    {
     "name": "stdout",
     "output_type": "stream",
     "text": [
      "     ---- Métricas ----\n",
      "Total RMSE:\t\t2250\n",
      "Total MAE:\t\t1788\n",
      "Future (5 days) RMSE:\t15112\n",
      "Future (5 days) MAE:\t13962\n"
     ]
    }
   ],
   "source": [
    "y_pred_val = pipe.predict(X_v)\n",
    "print('     ---- Métricas ----')\n",
    "print('Total RMSE:\\t\\t{:.0f}'.format(np.sqrt(mean_squared_error(y_test, y_pred))))\n",
    "print('Total MAE:\\t\\t{:.0f}'.format(mean_absolute_error(y_test,y_pred)))\n",
    "print('Future (5 days) RMSE:\\t{:.0f}'.format(np.sqrt(mean_squared_error(y_v, y_pred_val))))\n",
    "print('Future (5 days) MAE:\\t{:.0f}'.format(mean_absolute_error(y_v,y_pred_val)))"
   ]
  },
  {
   "cell_type": "markdown",
   "metadata": {
    "colab_type": "text",
    "id": "qlEu9h2VI-7U"
   },
   "source": [
    "### Recuperados\n",
    "Para la predicción de casos recuperados se usó una Regressión Lasso con caracteristicas Polinomiales de grado 4; previamente se estandarizaron los datos, y se entrenaron con un conjunto del 70% de los datos; estos datos se toman aleatoriamente, pero al graficarlos se orden en secuencia."
   ]
  },
  {
   "cell_type": "code",
   "execution_count": 14,
   "metadata": {
    "colab": {
     "base_uri": "https://localhost:8080/"
    },
    "colab_type": "code",
    "executionInfo": {
     "elapsed": 710,
     "status": "ok",
     "timestamp": 1599052750204,
     "user": {
      "displayName": "Juan Manuel Lombana Martinez",
      "photoUrl": "https://lh3.googleusercontent.com/a-/AOh14GjjvnrdriZlzXxdV00af0OFnQ3lxzsrl5cE-wBq=s64",
      "userId": "06181135591528508533"
     },
     "user_tz": 300
    },
    "id": "_zHxNJGwGZTj",
    "outputId": "06501e40-8dc4-4a46-a277-b854b433fdf4"
   },
   "outputs": [
    {
     "data": {
      "text/plain": [
       "Pipeline(steps=[('standardscaler', StandardScaler()),\n",
       "                ('polynomialfeatures', PolynomialFeatures(degree=4)),\n",
       "                ('lasso', Lasso(random_state=123))])"
      ]
     },
     "execution_count": 14,
     "metadata": {},
     "output_type": "execute_result"
    }
   ],
   "source": [
    "totalDays = len(df['dias'].values)\n",
    "X = df['dias'].values[0:totalDays-5].reshape(-1,1) #Variable independiente.\n",
    "y = df['acumulado_recuperados'].values[0:totalDays-5].reshape(-1,1) #Variable dependiente.\n",
    "#Datos de validación - nunca entran al modelo.\n",
    "X_v = df['dias'].values[totalDays-5:].reshape(-1,1)\n",
    "y_v = df['acumulado_recuperados'].values[totalDays-5:].reshape(-1,1)\n",
    "#Se obtiene el 70% para entrenamiento y 30% para pruebas.\n",
    "X_train, X_test, y_train, y_test = train_test_split(X,y,test_size=0.3,random_state=123,shuffle=True)\n",
    "#Se crea un pipeline con el escalado, las caracteristicas polinomiales y la regresión lasso\n",
    "pipe = make_pipeline(StandardScaler(),PolynomialFeatures(degree=4),Lasso(random_state=123))\n",
    "#Se realiza el entrenamiento.\n",
    "pipe.fit(X_train,y_train)"
   ]
  },
  {
   "cell_type": "markdown",
   "metadata": {},
   "source": [
    "Se realizan las predicciones sobre el dataset de pruebas, adicionalmente se establece el pico en el día 175, por lo cual para fines de prueba se realizan predicciones desde dicho día, hasta el día 200 de la pandemia, para probar la predicción futura de los modelos a corto plazo."
   ]
  },
  {
   "cell_type": "code",
   "execution_count": 15,
   "metadata": {
    "colab": {},
    "colab_type": "code",
    "id": "cvqqk2ayJCl4"
   },
   "outputs": [],
   "source": [
    "#Obtener predicciones para los datos de prueba.\n",
    "y_pred = pipe.predict(X_test)\n",
    "#Predicciones futuras.\n",
    "x_pred_future = np.arange(totalDays-10,totalDays,step=1)\n",
    "y_pred_future = pipe.predict(x_pred_future.reshape(-1,1))"
   ]
  },
  {
   "cell_type": "code",
   "execution_count": 16,
   "metadata": {},
   "outputs": [],
   "source": [
    "Ymax = GetMax(y_train,y_test,y_pred,y_pred_future)"
   ]
  },
  {
   "cell_type": "markdown",
   "metadata": {},
   "source": [
    "Se grafican los datos."
   ]
  },
  {
   "cell_type": "code",
   "execution_count": 17,
   "metadata": {
    "colab": {
     "base_uri": "https://localhost:8080/"
    },
    "colab_type": "code",
    "executionInfo": {
     "elapsed": 1453,
     "status": "ok",
     "timestamp": 1599052752644,
     "user": {
      "displayName": "Juan Manuel Lombana Martinez",
      "photoUrl": "https://lh3.googleusercontent.com/a-/AOh14GjjvnrdriZlzXxdV00af0OFnQ3lxzsrl5cE-wBq=s64",
      "userId": "06181135591528508533"
     },
     "user_tz": 300
    },
    "id": "WbQV4J3XJEYa",
    "outputId": "3dc0b4b7-5c27-4f93-c8e0-2a90d8571153"
   },
   "outputs": [
    {
     "data": {
      "image/png": "[encoded data removed]",
      "text/plain": [
       "<Figure size 1296x576 with 1 Axes>"
      ]
     },
     "metadata": {
      "needs_background": "light"
     },
     "output_type": "display_data"
    }
   ],
   "source": [
    "f = plt.figure(figsize=(18,8))\n",
    "plt.title('Predicción de recuperados')\n",
    "plt.grid()\n",
    "plt.plot(X_train[X_train.flatten().argsort(),0],y_train[X_train.flatten().argsort(),0],'ob',markersize=3,label='Train')\n",
    "plt.plot(X_test[X_test.flatten().argsort(),0],y_test[X_test.flatten().argsort(),0],'or',markersize=2,label='Test')\n",
    "plt.plot(X_v,y_v,'o',color='gray',markersize=2,label='Validation')\n",
    "plt.plot(X_test[X_test.flatten().argsort(),0],y_pred[X_test.flatten().argsort()],'--g',label='Predict')\n",
    "plt.plot(x_pred_future,y_pred_future,'--',color='orange',label='Future Predict')\n",
    "plt.plot([Xpeak,Xpeak],[-5000,Ymax],'--',color='lightseagreen', label='Peak') #Peak of cases.\n",
    "plt.ylim(-5000,Ymax)\n",
    "plt.legend(loc='upper left');\n",
    "plt.savefig('docs/images/pcp_{}_recuperados'.format(name))"
   ]
  },
  {
   "cell_type": "markdown",
   "metadata": {},
   "source": [
    "Se calculan las métricas de la regresión, en este caso se calculan las metricas completas sobre el conjunto de prueba, adicionalmente se computan las metricas solo desde el pico en adelante como indicar de las predicciones futuras."
   ]
  },
  {
   "cell_type": "code",
   "execution_count": 18,
   "metadata": {
    "colab": {
     "base_uri": "https://localhost:8080/"
    },
    "colab_type": "code",
    "executionInfo": {
     "elapsed": 905,
     "status": "ok",
     "timestamp": 1599052757674,
     "user": {
      "displayName": "Juan Manuel Lombana Martinez",
      "photoUrl": "https://lh3.googleusercontent.com/a-/AOh14GjjvnrdriZlzXxdV00af0OFnQ3lxzsrl5cE-wBq=s64",
      "userId": "06181135591528508533"
     },
     "user_tz": 300
    },
    "id": "vpXpyg6K2xu6",
    "outputId": "72cc7211-1a59-4c81-8e3b-5edeb1189752",
    "tags": []
   },
   "outputs": [
    {
     "name": "stdout",
     "output_type": "stream",
     "text": [
      "     ---- Métricas ----\n",
      "Total RMSE:\t\t1936\n",
      "Total MAE:\t\t1613\n",
      "Future (5 days) RMSE:\t9913\n",
      "Future (5 days) MAE:\t8960\n"
     ]
    }
   ],
   "source": [
    "y_pred_val = pipe.predict(X_v)\n",
    "print('     ---- Métricas ----')\n",
    "print('Total RMSE:\\t\\t{:.0f}'.format(np.sqrt(mean_squared_error(y_test, y_pred))))\n",
    "print('Total MAE:\\t\\t{:.0f}'.format(mean_absolute_error(y_test,y_pred)))\n",
    "print('Future (5 days) RMSE:\\t{:.0f}'.format(np.sqrt(mean_squared_error(y_v, y_pred_val))))\n",
    "print('Future (5 days) MAE:\\t{:.0f}'.format(mean_absolute_error(y_v,y_pred_val)))\n"
   ]
  },
  {
   "cell_type": "markdown",
   "metadata": {
    "colab_type": "text",
    "id": "i2U-CF5PJrF0"
   },
   "source": [
    "### Muertes\n",
    "Para la predicción de las muertes se usó una Regressión Lasso con caracteristicas Polinomiales de grado 6; previamente se estandarizaron los datos, y se entrenaron con un conjunto del 70% de los datos; estos datos se toman aleatoriamente, pero al graficarlos se orden en secuencia."
   ]
  },
  {
   "cell_type": "code",
   "execution_count": 19,
   "metadata": {
    "colab": {
     "base_uri": "https://localhost:8080/"
    },
    "colab_type": "code",
    "executionInfo": {
     "elapsed": 753,
     "status": "ok",
     "timestamp": 1599052764782,
     "user": {
      "displayName": "Juan Manuel Lombana Martinez",
      "photoUrl": "https://lh3.googleusercontent.com/a-/AOh14GjjvnrdriZlzXxdV00af0OFnQ3lxzsrl5cE-wBq=s64",
      "userId": "06181135591528508533"
     },
     "user_tz": 300
    },
    "id": "ZLV827mPJGDi",
    "outputId": "53060c32-e2bb-4bd9-9df2-4822a563e5e6"
   },
   "outputs": [
    {
     "data": {
      "text/plain": [
       "Pipeline(steps=[('standardscaler', StandardScaler()),\n",
       "                ('polynomialfeatures', PolynomialFeatures(degree=6)),\n",
       "                ('lasso', Lasso(max_iter=10000, random_state=123))])"
      ]
     },
     "execution_count": 19,
     "metadata": {},
     "output_type": "execute_result"
    }
   ],
   "source": [
    "totalDays = len(df['dias'].values)\n",
    "X = df['dias'].values[0:totalDays-5].reshape(-1,1) #Variable independiente.\n",
    "y = df['acumulado_muertos'].values[0:totalDays-5].reshape(-1,1) #Variable dependiente.\n",
    "#Datos de validación - nunca entran al modelo.\n",
    "X_v = df['dias'].values[totalDays-5:].reshape(-1,1)\n",
    "y_v = df['acumulado_muertos'].values[totalDays-5:].reshape(-1,1)\n",
    "\n",
    "X_train, X_test, y_train, y_test = train_test_split(X,y,test_size=0.3,random_state=123,shuffle=True)\n",
    "pipe = make_pipeline(StandardScaler(),PolynomialFeatures(degree=6),Lasso(random_state=123,max_iter=10000))\n",
    "pipe.fit(X_train,y_train)"
   ]
  },
  {
   "cell_type": "code",
   "execution_count": 20,
   "metadata": {
    "colab": {},
    "colab_type": "code",
    "id": "doTn5gN5J-MT"
   },
   "outputs": [],
   "source": [
    "y_pred = pipe.predict(X_test)\n",
    "x_pred_future = np.arange(totalDays-10,totalDays,step=1)\n",
    "y_pred_future = pipe.predict(x_pred_future.reshape(-1,1))\n",
    "Ymax = GetMax(y_train,y_test,y_pred,y_pred_future)"
   ]
  },
  {
   "cell_type": "code",
   "execution_count": 21,
   "metadata": {
    "colab": {
     "base_uri": "https://localhost:8080/"
    },
    "colab_type": "code",
    "executionInfo": {
     "elapsed": 870,
     "status": "ok",
     "timestamp": 1599052772309,
     "user": {
      "displayName": "Juan Manuel Lombana Martinez",
      "photoUrl": "https://lh3.googleusercontent.com/a-/AOh14GjjvnrdriZlzXxdV00af0OFnQ3lxzsrl5cE-wBq=s64",
      "userId": "06181135591528508533"
     },
     "user_tz": 300
    },
    "id": "uM57zoZDJ-tr",
    "outputId": "f4fd1cf8-bed4-4a35-b38b-5fea4028a8d8"
   },
   "outputs": [
    {
     "data": {
      "image/png": "[encoded data removed]",
      "text/plain": [
       "<Figure size 1296x576 with 1 Axes>"
      ]
     },
     "metadata": {
      "needs_background": "light"
     },
     "output_type": "display_data"
    }
   ],
   "source": [
    "#Graph ordered data.\n",
    "f = plt.figure(figsize=(18,8))\n",
    "plt.title('Predicción de muertes')\n",
    "plt.grid()\n",
    "plt.plot(X_train[X_train.flatten().argsort(),0],y_train[X_train.flatten().argsort(),0],'ob',markersize=3,label='Train')\n",
    "plt.plot(X_test[X_test.flatten().argsort(),0],y_test[X_test.flatten().argsort(),0],'or',markersize=2,label='Test')\n",
    "plt.plot(X_v,y_v,'o',color='gray',markersize=2,label='Validation')\n",
    "plt.plot(X_test[X_test.flatten().argsort(),0],y_pred[X_test.flatten().argsort()],'--g',label='Predict')\n",
    "plt.plot(x_pred_future,y_pred_future,'--',color='orange',label='Future Predict')\n",
    "plt.plot([Xpeak,Xpeak],[-10,Ymax],'--',color='lightseagreen', label='Peak') #Peak of cases.\n",
    "plt.ylim(-10,Ymax)\n",
    "plt.legend(loc='upper left');\n",
    "plt.savefig('docs/images/pcp_{}_muertes'.format(name))"
   ]
  },
  {
   "cell_type": "code",
   "execution_count": 22,
   "metadata": {
    "colab": {
     "base_uri": "https://localhost:8080/"
    },
    "colab_type": "code",
    "executionInfo": {
     "elapsed": 663,
     "status": "ok",
     "timestamp": 1599052776755,
     "user": {
      "displayName": "Juan Manuel Lombana Martinez",
      "photoUrl": "https://lh3.googleusercontent.com/a-/AOh14GjjvnrdriZlzXxdV00af0OFnQ3lxzsrl5cE-wBq=s64",
      "userId": "06181135591528508533"
     },
     "user_tz": 300
    },
    "id": "MH1iookH3-Lt",
    "outputId": "9f01f9dc-e2f1-4310-df6f-2df596bfeab6",
    "tags": []
   },
   "outputs": [
    {
     "name": "stdout",
     "output_type": "stream",
     "text": [
      "     ---- Métricas ----\n",
      "Total RMSE:\t\t43\n",
      "Total MAE:\t\t36\n",
      "Future (5 days) RMSE:\t299\n",
      "Future (5 days) MAE:\t281\n"
     ]
    }
   ],
   "source": [
    "y_pred_val = pipe.predict(X_v)\n",
    "print('     ---- Métricas ----')\n",
    "print('Total RMSE:\\t\\t{:.0f}'.format(np.sqrt(mean_squared_error(y_test, y_pred))))\n",
    "print('Total MAE:\\t\\t{:.0f}'.format(mean_absolute_error(y_test,y_pred)))\n",
    "print('Future (5 days) RMSE:\\t{:.0f}'.format(np.sqrt(mean_squared_error(y_v, y_pred_val))))\n",
    "print('Future (5 days) MAE:\\t{:.0f}'.format(mean_absolute_error(y_v,y_pred_val)))"
   ]
  },
  {
   "cell_type": "markdown",
   "metadata": {
    "colab_type": "text",
    "id": "86hUjNhNKaVc"
   },
   "source": [
    "### Infectados\n",
    "Para la predicción de los infectados se usó una Regressión Lasso con caracteristicas Polinomiales de grado 4; previamente se estandarizaron los datos, y se entrenaron con un conjunto del 70% de los datos; estos datos se toman aleatoriamente, pero al graficarlos se orden en secuencia."
   ]
  },
  {
   "cell_type": "code",
   "execution_count": 23,
   "metadata": {
    "colab": {
     "base_uri": "https://localhost:8080/",
     "height": 221
    },
    "colab_type": "code",
    "executionInfo": {
     "elapsed": 707,
     "status": "ok",
     "timestamp": 1599052781291,
     "user": {
      "displayName": "Juan Manuel Lombana Martinez",
      "photoUrl": "https://lh3.googleusercontent.com/a-/AOh14GjjvnrdriZlzXxdV00af0OFnQ3lxzsrl5cE-wBq=s64",
      "userId": "06181135591528508533"
     },
     "user_tz": 300
    },
    "id": "2tNQeSn_KBR0",
    "outputId": "e0deb692-b4e5-4d19-9c30-db2a5d7bf8c1"
   },
   "outputs": [
    {
     "data": {
      "text/plain": [
       "Pipeline(steps=[('standardscaler', StandardScaler()),\n",
       "                ('polynomialfeatures', PolynomialFeatures(degree=5)),\n",
       "                ('lasso', Lasso(random_state=123))])"
      ]
     },
     "execution_count": 23,
     "metadata": {},
     "output_type": "execute_result"
    }
   ],
   "source": [
    "totalDays = len(df['dias'].values)\n",
    "X = df['dias'].values[0:totalDays-5].reshape(-1,1) #Variable independiente.\n",
    "y = df['acumulado_infectados'].values[0:totalDays-5].reshape(-1,1) #Variable dependiente.\n",
    "#Datos de validación - nunca entran al modelo.\n",
    "X_v = df['dias'].values[totalDays-5:].reshape(-1,1)\n",
    "y_v = df['acumulado_infectados'].values[totalDays-5:].reshape(-1,1)\n",
    "\n",
    "X_train, X_test, y_train, y_test = train_test_split(X,y,test_size=0.3,random_state=123,shuffle=True)\n",
    "pipe = make_pipeline(StandardScaler(),PolynomialFeatures(degree=5),Lasso(random_state=123))\n",
    "pipe.fit(X_train,y_train)"
   ]
  },
  {
   "cell_type": "code",
   "execution_count": 24,
   "metadata": {
    "colab": {},
    "colab_type": "code",
    "id": "m3voeNGUKf4B"
   },
   "outputs": [],
   "source": [
    "y_pred = pipe.predict(X_test)\n",
    "x_pred_future = np.arange(totalDays-10,totalDays,step=1)\n",
    "y_pred_future = pipe.predict(x_pred_future.reshape(-1,1))\n",
    "Ymax = GetMax(y_train,y_test,y_pred,y_pred_future)"
   ]
  },
  {
   "cell_type": "code",
   "execution_count": 25,
   "metadata": {
    "colab": {
     "base_uri": "https://localhost:8080/",
     "height": 499
    },
    "colab_type": "code",
    "executionInfo": {
     "elapsed": 981,
     "status": "ok",
     "timestamp": 1599052787685,
     "user": {
      "displayName": "Juan Manuel Lombana Martinez",
      "photoUrl": "https://lh3.googleusercontent.com/a-/AOh14GjjvnrdriZlzXxdV00af0OFnQ3lxzsrl5cE-wBq=s64",
      "userId": "06181135591528508533"
     },
     "user_tz": 300
    },
    "id": "2m1Rxj53Khjj",
    "outputId": "6583bf8f-9ba4-488f-c61c-d0c8d96fbb77"
   },
   "outputs": [
    {
     "data": {
      "image/png": "[encoded data removed]",
      "text/plain": [
       "<Figure size 1296x576 with 1 Axes>"
      ]
     },
     "metadata": {
      "needs_background": "light"
     },
     "output_type": "display_data"
    }
   ],
   "source": [
    "#Graph ordered data.\n",
    "f = plt.figure(figsize=(18,8))\n",
    "plt.title('Predicción de infectados')\n",
    "plt.grid()\n",
    "plt.plot(X_train[X_train.flatten().argsort(),0],y_train[X_train.flatten().argsort(),0],'ob',markersize=3,label='Train')\n",
    "plt.plot(X_test[X_test.flatten().argsort(),0],y_test[X_test.flatten().argsort(),0],'or',markersize=2,label='Test')\n",
    "plt.plot(X_v,y_v,'o',color='gray',markersize=2,label='Validation')\n",
    "plt.plot(X_test[X_test.flatten().argsort(),0],y_pred[X_test.flatten().argsort()],'--g',label='Predict')\n",
    "plt.plot(x_pred_future,y_pred_future,'--',color='orange',label='Future Predict')\n",
    "plt.plot([Xpeak,Xpeak],[-10000,Ymax],'--',color='lightseagreen', label='Peak') #Peak of cases.\n",
    "plt.ylim(-10000,Ymax)\n",
    "plt.legend(loc='upper left');\n",
    "plt.savefig('docs/images/pcp_{}_infectados'.format(name))"
   ]
  },
  {
   "cell_type": "code",
   "execution_count": 26,
   "metadata": {
    "colab": {
     "base_uri": "https://localhost:8080/",
     "height": 102
    },
    "colab_type": "code",
    "executionInfo": {
     "elapsed": 696,
     "status": "ok",
     "timestamp": 1599052792858,
     "user": {
      "displayName": "Juan Manuel Lombana Martinez",
      "photoUrl": "https://lh3.googleusercontent.com/a-/AOh14GjjvnrdriZlzXxdV00af0OFnQ3lxzsrl5cE-wBq=s64",
      "userId": "06181135591528508533"
     },
     "user_tz": 300
    },
    "id": "APnL6CHtxjqL",
    "outputId": "7605549d-5fed-48a2-c640-cbe976eaa0f5",
    "tags": []
   },
   "outputs": [
    {
     "name": "stdout",
     "output_type": "stream",
     "text": [
      "     ---- Métricas ----\n",
      "Total RMSE:\t\t1782\n",
      "Total MAE:\t\t1489\n",
      "Future (5 days) RMSE:\t557\n",
      "Future (5 days) MAE:\t483\n"
     ]
    }
   ],
   "source": [
    "y_pred_val = pipe.predict(X_v)\n",
    "print('     ---- Métricas ----')\n",
    "print('Total RMSE:\\t\\t{:.0f}'.format(np.sqrt(mean_squared_error(y_test, y_pred))))\n",
    "print('Total MAE:\\t\\t{:.0f}'.format(mean_absolute_error(y_test,y_pred)))\n",
    "print('Future (5 days) RMSE:\\t{:.0f}'.format(np.sqrt(mean_squared_error(y_v, y_pred_val))))\n",
    "print('Future (5 days) MAE:\\t{:.0f}'.format(mean_absolute_error(y_v,y_pred_val)))"
   ]
  },
  {
   "cell_type": "markdown",
   "metadata": {
    "colab_type": "text",
    "id": "J6mx0PZzOsaE"
   },
   "source": [
    "## Modelo Mediano Plazo\n",
    "Para los modelos de mediano plazo, se sigue la misma dinámica que en corto plazo, pero se trabaja con un conjunto de datos que se preprocesó para que tenga los datos acumulados semanalmente, esto permite obtener las predicciones de Infectados, recuperados y muertos por semana."
   ]
  },
  {
   "cell_type": "code",
   "execution_count": 27,
   "metadata": {
    "colab": {
     "base_uri": "https://localhost:8080/",
     "height": 700
    },
    "colab_type": "code",
    "executionInfo": {
     "elapsed": 3287,
     "status": "ok",
     "timestamp": 1599268045357,
     "user": {
      "displayName": "Juan Manuel Lombana Martinez",
      "photoUrl": "https://lh3.googleusercontent.com/a-/AOh14GjjvnrdriZlzXxdV00af0OFnQ3lxzsrl5cE-wBq=s64",
      "userId": "06181135591528508533"
     },
     "user_tz": 300
    },
    "id": "c9JymuCTOvRm",
    "outputId": "fd1d55e4-51f3-4dc4-a085-f58c7f22e482"
   },
   "outputs": [
    {
     "data": {
      "text/html": [
       "<div>\n",
       "<style scoped>\n",
       "    .dataframe tbody tr th:only-of-type {\n",
       "        vertical-align: middle;\n",
       "    }\n",
       "\n",
       "    .dataframe tbody tr th {\n",
       "        vertical-align: top;\n",
       "    }\n",
       "\n",
       "    .dataframe thead th {\n",
       "        text-align: right;\n",
       "    }\n",
       "</style>\n",
       "<table border=\"1\" class=\"dataframe\">\n",
       "  <thead>\n",
       "    <tr style=\"text-align: right;\">\n",
       "      <th></th>\n",
       "      <th>infectados</th>\n",
       "      <th>recuperados</th>\n",
       "      <th>muertos</th>\n",
       "      <th>acumulado_infectados</th>\n",
       "      <th>acumulado_recuperados</th>\n",
       "      <th>acumulado_muertos</th>\n",
       "      <th>activos</th>\n",
       "    </tr>\n",
       "    <tr>\n",
       "      <th>semana</th>\n",
       "      <th></th>\n",
       "      <th></th>\n",
       "      <th></th>\n",
       "      <th></th>\n",
       "      <th></th>\n",
       "      <th></th>\n",
       "      <th></th>\n",
       "    </tr>\n",
       "  </thead>\n",
       "  <tbody>\n",
       "    <tr>\n",
       "      <th>8</th>\n",
       "      <td>764.0</td>\n",
       "      <td>308.0</td>\n",
       "      <td>28.0</td>\n",
       "      <td>3649.0</td>\n",
       "      <td>889.0</td>\n",
       "      <td>123.0</td>\n",
       "      <td>2637.0</td>\n",
       "    </tr>\n",
       "    <tr>\n",
       "      <th>9</th>\n",
       "      <td>1198.0</td>\n",
       "      <td>556.0</td>\n",
       "      <td>31.0</td>\n",
       "      <td>4847.0</td>\n",
       "      <td>1445.0</td>\n",
       "      <td>154.0</td>\n",
       "      <td>3248.0</td>\n",
       "    </tr>\n",
       "    <tr>\n",
       "      <th>10</th>\n",
       "      <td>1714.0</td>\n",
       "      <td>574.0</td>\n",
       "      <td>30.0</td>\n",
       "      <td>6561.0</td>\n",
       "      <td>2019.0</td>\n",
       "      <td>184.0</td>\n",
       "      <td>4358.0</td>\n",
       "    </tr>\n",
       "    <tr>\n",
       "      <th>11</th>\n",
       "      <td>2235.0</td>\n",
       "      <td>485.0</td>\n",
       "      <td>33.0</td>\n",
       "      <td>8796.0</td>\n",
       "      <td>2504.0</td>\n",
       "      <td>217.0</td>\n",
       "      <td>6075.0</td>\n",
       "    </tr>\n",
       "    <tr>\n",
       "      <th>12</th>\n",
       "      <td>2378.0</td>\n",
       "      <td>722.0</td>\n",
       "      <td>51.0</td>\n",
       "      <td>11174.0</td>\n",
       "      <td>3226.0</td>\n",
       "      <td>268.0</td>\n",
       "      <td>7680.0</td>\n",
       "    </tr>\n",
       "    <tr>\n",
       "      <th>13</th>\n",
       "      <td>2786.0</td>\n",
       "      <td>1542.0</td>\n",
       "      <td>56.0</td>\n",
       "      <td>13960.0</td>\n",
       "      <td>4768.0</td>\n",
       "      <td>324.0</td>\n",
       "      <td>8868.0</td>\n",
       "    </tr>\n",
       "    <tr>\n",
       "      <th>14</th>\n",
       "      <td>3458.0</td>\n",
       "      <td>1751.0</td>\n",
       "      <td>82.0</td>\n",
       "      <td>17418.0</td>\n",
       "      <td>6519.0</td>\n",
       "      <td>406.0</td>\n",
       "      <td>10493.0</td>\n",
       "    </tr>\n",
       "    <tr>\n",
       "      <th>15</th>\n",
       "      <td>4528.0</td>\n",
       "      <td>1415.0</td>\n",
       "      <td>107.0</td>\n",
       "      <td>21946.0</td>\n",
       "      <td>7934.0</td>\n",
       "      <td>513.0</td>\n",
       "      <td>13499.0</td>\n",
       "    </tr>\n",
       "    <tr>\n",
       "      <th>16</th>\n",
       "      <td>6778.0</td>\n",
       "      <td>2764.0</td>\n",
       "      <td>129.0</td>\n",
       "      <td>28724.0</td>\n",
       "      <td>10698.0</td>\n",
       "      <td>642.0</td>\n",
       "      <td>17384.0</td>\n",
       "    </tr>\n",
       "    <tr>\n",
       "      <th>17</th>\n",
       "      <td>9205.0</td>\n",
       "      <td>3180.0</td>\n",
       "      <td>196.0</td>\n",
       "      <td>37929.0</td>\n",
       "      <td>13878.0</td>\n",
       "      <td>838.0</td>\n",
       "      <td>23213.0</td>\n",
       "    </tr>\n",
       "    <tr>\n",
       "      <th>18</th>\n",
       "      <td>11325.0</td>\n",
       "      <td>3109.0</td>\n",
       "      <td>296.0</td>\n",
       "      <td>49254.0</td>\n",
       "      <td>16987.0</td>\n",
       "      <td>1134.0</td>\n",
       "      <td>31133.0</td>\n",
       "    </tr>\n",
       "    <tr>\n",
       "      <th>19</th>\n",
       "      <td>14176.0</td>\n",
       "      <td>4258.0</td>\n",
       "      <td>500.0</td>\n",
       "      <td>63430.0</td>\n",
       "      <td>21245.0</td>\n",
       "      <td>1634.0</td>\n",
       "      <td>40551.0</td>\n",
       "    </tr>\n",
       "    <tr>\n",
       "      <th>20</th>\n",
       "      <td>17970.0</td>\n",
       "      <td>6287.0</td>\n",
       "      <td>631.0</td>\n",
       "      <td>81400.0</td>\n",
       "      <td>27532.0</td>\n",
       "      <td>2265.0</td>\n",
       "      <td>51603.0</td>\n",
       "    </tr>\n",
       "    <tr>\n",
       "      <th>21</th>\n",
       "      <td>18405.0</td>\n",
       "      <td>14619.0</td>\n",
       "      <td>747.0</td>\n",
       "      <td>99805.0</td>\n",
       "      <td>42151.0</td>\n",
       "      <td>3012.0</td>\n",
       "      <td>54642.0</td>\n",
       "    </tr>\n",
       "    <tr>\n",
       "      <th>22</th>\n",
       "      <td>16945.0</td>\n",
       "      <td>15119.0</td>\n",
       "      <td>788.0</td>\n",
       "      <td>116750.0</td>\n",
       "      <td>57270.0</td>\n",
       "      <td>3800.0</td>\n",
       "      <td>55680.0</td>\n",
       "    </tr>\n",
       "    <tr>\n",
       "      <th>23</th>\n",
       "      <td>15815.0</td>\n",
       "      <td>18186.0</td>\n",
       "      <td>705.0</td>\n",
       "      <td>132565.0</td>\n",
       "      <td>75456.0</td>\n",
       "      <td>4505.0</td>\n",
       "      <td>52604.0</td>\n",
       "    </tr>\n",
       "    <tr>\n",
       "      <th>24</th>\n",
       "      <td>9927.0</td>\n",
       "      <td>30480.0</td>\n",
       "      <td>586.0</td>\n",
       "      <td>142492.0</td>\n",
       "      <td>105936.0</td>\n",
       "      <td>5091.0</td>\n",
       "      <td>31465.0</td>\n",
       "    </tr>\n",
       "    <tr>\n",
       "      <th>25</th>\n",
       "      <td>7416.0</td>\n",
       "      <td>26466.0</td>\n",
       "      <td>534.0</td>\n",
       "      <td>149908.0</td>\n",
       "      <td>132402.0</td>\n",
       "      <td>5625.0</td>\n",
       "      <td>11881.0</td>\n",
       "    </tr>\n",
       "    <tr>\n",
       "      <th>26</th>\n",
       "      <td>2918.0</td>\n",
       "      <td>26694.0</td>\n",
       "      <td>442.0</td>\n",
       "      <td>152826.0</td>\n",
       "      <td>159096.0</td>\n",
       "      <td>6067.0</td>\n",
       "      <td>-12337.0</td>\n",
       "    </tr>\n",
       "    <tr>\n",
       "      <th>27</th>\n",
       "      <td>51.0</td>\n",
       "      <td>2701.0</td>\n",
       "      <td>115.0</td>\n",
       "      <td>152877.0</td>\n",
       "      <td>161797.0</td>\n",
       "      <td>6182.0</td>\n",
       "      <td>-15102.0</td>\n",
       "    </tr>\n",
       "  </tbody>\n",
       "</table>\n",
       "</div>"
      ],
      "text/plain": [
       "        infectados  recuperados  muertos  acumulado_infectados  \\\n",
       "semana                                                           \n",
       "8            764.0        308.0     28.0                3649.0   \n",
       "9           1198.0        556.0     31.0                4847.0   \n",
       "10          1714.0        574.0     30.0                6561.0   \n",
       "11          2235.0        485.0     33.0                8796.0   \n",
       "12          2378.0        722.0     51.0               11174.0   \n",
       "13          2786.0       1542.0     56.0               13960.0   \n",
       "14          3458.0       1751.0     82.0               17418.0   \n",
       "15          4528.0       1415.0    107.0               21946.0   \n",
       "16          6778.0       2764.0    129.0               28724.0   \n",
       "17          9205.0       3180.0    196.0               37929.0   \n",
       "18         11325.0       3109.0    296.0               49254.0   \n",
       "19         14176.0       4258.0    500.0               63430.0   \n",
       "20         17970.0       6287.0    631.0               81400.0   \n",
       "21         18405.0      14619.0    747.0               99805.0   \n",
       "22         16945.0      15119.0    788.0              116750.0   \n",
       "23         15815.0      18186.0    705.0              132565.0   \n",
       "24          9927.0      30480.0    586.0              142492.0   \n",
       "25          7416.0      26466.0    534.0              149908.0   \n",
       "26          2918.0      26694.0    442.0              152826.0   \n",
       "27            51.0       2701.0    115.0              152877.0   \n",
       "\n",
       "        acumulado_recuperados  acumulado_muertos  activos  \n",
       "semana                                                     \n",
       "8                       889.0              123.0   2637.0  \n",
       "9                      1445.0              154.0   3248.0  \n",
       "10                     2019.0              184.0   4358.0  \n",
       "11                     2504.0              217.0   6075.0  \n",
       "12                     3226.0              268.0   7680.0  \n",
       "13                     4768.0              324.0   8868.0  \n",
       "14                     6519.0              406.0  10493.0  \n",
       "15                     7934.0              513.0  13499.0  \n",
       "16                    10698.0              642.0  17384.0  \n",
       "17                    13878.0              838.0  23213.0  \n",
       "18                    16987.0             1134.0  31133.0  \n",
       "19                    21245.0             1634.0  40551.0  \n",
       "20                    27532.0             2265.0  51603.0  \n",
       "21                    42151.0             3012.0  54642.0  \n",
       "22                    57270.0             3800.0  55680.0  \n",
       "23                    75456.0             4505.0  52604.0  \n",
       "24                   105936.0             5091.0  31465.0  \n",
       "25                   132402.0             5625.0  11881.0  \n",
       "26                   159096.0             6067.0 -12337.0  \n",
       "27                   161797.0             6182.0 -15102.0  "
      ]
     },
     "execution_count": 27,
     "metadata": {},
     "output_type": "execute_result"
    }
   ],
   "source": [
    "urlDataset_w = 'Datos/data_weekly_{}.pickle'.format(name)\n",
    "df_w = pd.read_pickle(urlDataset_w)\n",
    "df_w.tail(20)"
   ]
  },
  {
   "cell_type": "markdown",
   "metadata": {
    "colab_type": "text",
    "id": "tzAqlcmnPA8x"
   },
   "source": [
    "### Activos"
   ]
  },
  {
   "cell_type": "code",
   "execution_count": 28,
   "metadata": {
    "colab": {
     "base_uri": "https://localhost:8080/",
     "height": 275
    },
    "colab_type": "code",
    "executionInfo": {
     "elapsed": 675,
     "status": "ok",
     "timestamp": 1599161513183,
     "user": {
      "displayName": "Juan Manuel Lombana Martinez",
      "photoUrl": "https://lh3.googleusercontent.com/a-/AOh14GjjvnrdriZlzXxdV00af0OFnQ3lxzsrl5cE-wBq=s64",
      "userId": "06181135591528508533"
     },
     "user_tz": 300
    },
    "id": "Z-ZwHvHeO77X",
    "outputId": "b166cfee-dd6e-4942-91be-f705ec500ebc"
   },
   "outputs": [
    {
     "data": {
      "text/plain": [
       "Pipeline(steps=[('standardscaler', StandardScaler()),\n",
       "                ('polynomialfeatures', PolynomialFeatures(degree=5)),\n",
       "                ('lasso', Lasso(max_iter=10000, random_state=123))])"
      ]
     },
     "execution_count": 28,
     "metadata": {},
     "output_type": "execute_result"
    }
   ],
   "source": [
    "totalW = len(df_w.index.values)\n",
    "X = df_w.index.values[0:totalW-3].reshape(-1,1) #Variable independiente.\n",
    "y = df_w['activos'].values[0:totalW-3].reshape(-1,1) #Variable dependiente.\n",
    "#Datos de validación - nunca entran al modelo.\n",
    "X_v = df_w.index.values[totalW-3:].reshape(-1,1)\n",
    "y_v = df_w['activos'].values[totalW-3:].reshape(-1,1)\n",
    "\n",
    "X_train, X_test, y_train, y_test = train_test_split(X,y,test_size=0.3,random_state=123,shuffle=True)\n",
    "pipe = make_pipeline(StandardScaler(),PolynomialFeatures(degree=5),Lasso(max_iter=10000,random_state=123))\n",
    "pipe.fit(X_train,y_train)"
   ]
  },
  {
   "cell_type": "markdown",
   "metadata": {},
   "source": [
    "El pico de la pandemia se grafica en la semana 22."
   ]
  },
  {
   "cell_type": "code",
   "execution_count": 29,
   "metadata": {
    "colab": {},
    "colab_type": "code",
    "id": "0Z7cB6kOPG-v",
    "tags": []
   },
   "outputs": [
    {
     "name": "stdout",
     "output_type": "stream",
     "text": [
      "[[ 0  5 21 22 18 15  8  7 11]]\n",
      "[[    0.          3430.10385232 54355.34135651 54987.24468007\n",
      "  34313.02187747 13505.2866428   5238.89896394  5228.46624945\n",
      "   4289.44565035]]\n",
      "54987.24468006572\n"
     ]
    },
    {
     "data": {
      "text/plain": [
       "22"
      ]
     },
     "execution_count": 29,
     "metadata": {},
     "output_type": "execute_result"
    }
   ],
   "source": [
    "y_pred = pipe.predict(X_test)\n",
    "x_pred_future = np.arange(0,totalW,step=1)\n",
    "y_pred_future = pipe.predict(x_pred_future.reshape(-1,1))\n",
    "Ymax = GetMax(y_train,y_test,y_pred,y_pred_future)\n",
    "Xpeak = GetPeak((X_test,y_pred))\n",
    "Xpeak"
   ]
  },
  {
   "cell_type": "code",
   "execution_count": 30,
   "metadata": {
    "colab": {
     "base_uri": "https://localhost:8080/",
     "height": 499
    },
    "colab_type": "code",
    "executionInfo": {
     "elapsed": 1061,
     "status": "ok",
     "timestamp": 1599161539417,
     "user": {
      "displayName": "Juan Manuel Lombana Martinez",
      "photoUrl": "https://lh3.googleusercontent.com/a-/AOh14GjjvnrdriZlzXxdV00af0OFnQ3lxzsrl5cE-wBq=s64",
      "userId": "06181135591528508533"
     },
     "user_tz": 300
    },
    "id": "mobqityePL2u",
    "outputId": "ca9dfe1a-96e9-4f49-e3ef-13c115839233"
   },
   "outputs": [
    {
     "data": {
      "image/png": "[encoded data removed]",
      "text/plain": [
       "<Figure size 1296x576 with 1 Axes>"
      ]
     },
     "metadata": {
      "needs_background": "light"
     },
     "output_type": "display_data"
    }
   ],
   "source": [
    "f = plt.figure(figsize=(18,8))\n",
    "plt.title('Predicción Semanal de casos activos')\n",
    "plt.grid()\n",
    "plt.plot(X_train[X_train.flatten().argsort(),0],y_train[X_train.flatten().argsort(),0],'ob',markersize=3,label='Train')\n",
    "plt.plot(X_test[X_test.flatten().argsort(),0],y_test[X_test.flatten().argsort(),0],'or',markersize=2,label='Test')\n",
    "plt.plot(X_v,y_v,'o',color='gray',markersize=2,label='Validation')\n",
    "plt.plot(x_pred_future[0:totalW-2],y_pred_future[0:totalW-2],'--g',label='Predict')\n",
    "plt.plot(x_pred_future[totalW-3:],y_pred_future[totalW-3:],'--',color='orange',label='Future Predict')\n",
    "plt.plot([Xpeak,Xpeak],[-5000,Ymax],'--',color='lightseagreen', label='Peak') #Peak of cases.\n",
    "plt.ylim(-5000,Ymax)\n",
    "plt.legend(loc='upper left');\n",
    "plt.savefig('docs/images/pmp_{}_activos'.format(name))"
   ]
  },
  {
   "cell_type": "code",
   "execution_count": 31,
   "metadata": {
    "colab": {
     "base_uri": "https://localhost:8080/",
     "height": 102
    },
    "colab_type": "code",
    "executionInfo": {
     "elapsed": 511,
     "status": "ok",
     "timestamp": 1599107806964,
     "user": {
      "displayName": "Juan Manuel Lombana Martinez",
      "photoUrl": "https://lh3.googleusercontent.com/a-/AOh14GjjvnrdriZlzXxdV00af0OFnQ3lxzsrl5cE-wBq=s64",
      "userId": "06181135591528508533"
     },
     "user_tz": 300
    },
    "id": "ihYYQStNPW9O",
    "outputId": "d6c4c23d-837c-4610-e6d3-7b5a929419a7",
    "tags": []
   },
   "outputs": [
    {
     "name": "stdout",
     "output_type": "stream",
     "text": [
      "     ---- Métricas ----\n",
      "Total RMSE:\t\t2033\n",
      "Total MAE:\t\t1674\n",
      "Future (3 weeks) RMSE:\t53404\n",
      "Future (3 weeks) MAE:\t40054\n"
     ]
    }
   ],
   "source": [
    "y_pred_val = pipe.predict(X_v)\n",
    "print('     ---- Métricas ----')\n",
    "print('Total RMSE:\\t\\t{:.0f}'.format(np.sqrt(mean_squared_error(y_test, y_pred))))\n",
    "print('Total MAE:\\t\\t{:.0f}'.format(mean_absolute_error(y_test,y_pred)))\n",
    "print('Future (3 weeks) RMSE:\\t{:.0f}'.format(np.sqrt(mean_squared_error(y_v, y_pred_val))))\n",
    "print('Future (3 weeks) MAE:\\t{:.0f}'.format(mean_absolute_error(y_v,y_pred_val)))"
   ]
  },
  {
   "cell_type": "markdown",
   "metadata": {
    "colab_type": "text",
    "id": "r3gzJowqXxM9"
   },
   "source": [
    "### Recuperados"
   ]
  },
  {
   "cell_type": "code",
   "execution_count": 32,
   "metadata": {
    "colab": {
     "base_uri": "https://localhost:8080/",
     "height": 221
    },
    "colab_type": "code",
    "executionInfo": {
     "elapsed": 1102,
     "status": "ok",
     "timestamp": 1599268048919,
     "user": {
      "displayName": "Juan Manuel Lombana Martinez",
      "photoUrl": "https://lh3.googleusercontent.com/a-/AOh14GjjvnrdriZlzXxdV00af0OFnQ3lxzsrl5cE-wBq=s64",
      "userId": "06181135591528508533"
     },
     "user_tz": 300
    },
    "id": "rCtzv0sJQLSw",
    "outputId": "03a6923e-3ea8-443a-8d99-1a2926545f23"
   },
   "outputs": [
    {
     "data": {
      "text/plain": [
       "Pipeline(steps=[('standardscaler', StandardScaler()),\n",
       "                ('polynomialfeatures', PolynomialFeatures(degree=5)),\n",
       "                ('lasso', Lasso(max_iter=10000, random_state=123))])"
      ]
     },
     "execution_count": 32,
     "metadata": {},
     "output_type": "execute_result"
    }
   ],
   "source": [
    "totalW = len(df_w.index.values)\n",
    "X = df_w.index.values[0:totalW-3].reshape(-1,1) #Variable independiente.\n",
    "y = df_w['acumulado_recuperados'].values[0:totalW-3].reshape(-1,1) #Variable dependiente.\n",
    "#Datos de validación - nunca entran al modelo.\n",
    "X_v = df_w.index.values[totalW-3:].reshape(-1,1)\n",
    "y_v = df_w['acumulado_recuperados'].values[totalW-3:].reshape(-1,1)\n",
    "\n",
    "X_train, X_test, y_train, y_test = train_test_split(X,y,test_size=0.3,random_state=123,shuffle=True)\n",
    "pipe = make_pipeline(StandardScaler(),PolynomialFeatures(degree=5),Lasso(random_state=123,max_iter=10000))\n",
    "pipe.fit(X_train,y_train)"
   ]
  },
  {
   "cell_type": "code",
   "execution_count": 33,
   "metadata": {
    "colab": {},
    "colab_type": "code",
    "executionInfo": {
     "elapsed": 1028,
     "status": "ok",
     "timestamp": 1599268050775,
     "user": {
      "displayName": "Juan Manuel Lombana Martinez",
      "photoUrl": "https://lh3.googleusercontent.com/a-/AOh14GjjvnrdriZlzXxdV00af0OFnQ3lxzsrl5cE-wBq=s64",
      "userId": "06181135591528508533"
     },
     "user_tz": 300
    },
    "id": "DxXcVIjOX3rq"
   },
   "outputs": [],
   "source": [
    "y_pred = pipe.predict(X_test)\n",
    "x_pred_future = np.arange(0,totalW,step=1)\n",
    "y_pred_future = pipe.predict(x_pred_future.reshape(-1,1))\n",
    "Ymax = GetMax(y_train,y_test,y_pred,y_pred_future)"
   ]
  },
  {
   "cell_type": "code",
   "execution_count": 34,
   "metadata": {
    "colab": {
     "base_uri": "https://localhost:8080/",
     "height": 499
    },
    "colab_type": "code",
    "executionInfo": {
     "elapsed": 988,
     "status": "ok",
     "timestamp": 1599268075548,
     "user": {
      "displayName": "Juan Manuel Lombana Martinez",
      "photoUrl": "https://lh3.googleusercontent.com/a-/AOh14GjjvnrdriZlzXxdV00af0OFnQ3lxzsrl5cE-wBq=s64",
      "userId": "06181135591528508533"
     },
     "user_tz": 300
    },
    "id": "FMIpg2T7X5lQ",
    "outputId": "e7f236c4-2fcb-448d-dadb-ceda51843345"
   },
   "outputs": [
    {
     "data": {
      "image/png": "[encoded data removed]",
      "text/plain": [
       "<Figure size 1296x576 with 1 Axes>"
      ]
     },
     "metadata": {
      "needs_background": "light"
     },
     "output_type": "display_data"
    }
   ],
   "source": [
    "#Graph ordered data.\n",
    "f = plt.figure(figsize=(18,8))\n",
    "plt.title('Predicción Semanal de recuperados')\n",
    "plt.grid()\n",
    "plt.plot(X_train[X_train.flatten().argsort(),0],y_train[X_train.flatten().argsort(),0],'ob',markersize=3,label='Train')\n",
    "plt.plot(X_test[X_test.flatten().argsort(),0],y_test[X_test.flatten().argsort(),0],'or',markersize=2,label='Test')\n",
    "plt.plot(X_v,y_v,'o',color='gray',markersize=2,label='Validation')\n",
    "plt.plot(x_pred_future[0:totalW-2],y_pred_future[0:totalW-2],'--g',label='Predict')\n",
    "plt.plot(x_pred_future[totalW-3:],y_pred_future[totalW-3:],'--',color='orange',label='Future Predict')\n",
    "plt.plot([Xpeak,Xpeak],[-5000,Ymax],'--',color='lightseagreen', label='Peak') #Peak of cases.\n",
    "plt.ylim(-5000,Ymax)\n",
    "plt.legend(loc='upper left');\n",
    "plt.savefig('docs/images/pmp_{}_recuperados'.format(name))"
   ]
  },
  {
   "cell_type": "code",
   "execution_count": 35,
   "metadata": {
    "colab": {
     "base_uri": "https://localhost:8080/",
     "height": 102
    },
    "colab_type": "code",
    "executionInfo": {
     "elapsed": 642,
     "status": "ok",
     "timestamp": 1599160567717,
     "user": {
      "displayName": "Juan Manuel Lombana Martinez",
      "photoUrl": "https://lh3.googleusercontent.com/a-/AOh14GjjvnrdriZlzXxdV00af0OFnQ3lxzsrl5cE-wBq=s64",
      "userId": "06181135591528508533"
     },
     "user_tz": 300
    },
    "id": "WxVjNYR-X7P3",
    "outputId": "6293c17e-b75d-4269-d96a-ae72e913f1df",
    "tags": []
   },
   "outputs": [
    {
     "name": "stdout",
     "output_type": "stream",
     "text": [
      "     ---- Métricas ----\n",
      "Total RMSE:\t\t1475\n",
      "Total MAE:\t\t1215\n",
      "Future (3 weeks) RMSE:\t59825\n",
      "Future (3 weeks) MAE:\t47761\n"
     ]
    }
   ],
   "source": [
    "y_pred_val = pipe.predict(X_v)\n",
    "print('     ---- Métricas ----')\n",
    "print('Total RMSE:\\t\\t{:.0f}'.format(np.sqrt(mean_squared_error(y_test, y_pred))))\n",
    "print('Total MAE:\\t\\t{:.0f}'.format(mean_absolute_error(y_test,y_pred)))\n",
    "print('Future (3 weeks) RMSE:\\t{:.0f}'.format(np.sqrt(mean_squared_error(y_v, y_pred_val))))\n",
    "print('Future (3 weeks) MAE:\\t{:.0f}'.format(mean_absolute_error(y_v,y_pred_val)))"
   ]
  },
  {
   "cell_type": "markdown",
   "metadata": {
    "colab_type": "text",
    "id": "7GOGiriZcMo5"
   },
   "source": [
    "### Muertos"
   ]
  },
  {
   "cell_type": "code",
   "execution_count": 36,
   "metadata": {
    "colab": {
     "base_uri": "https://localhost:8080/",
     "height": 221
    },
    "colab_type": "code",
    "executionInfo": {
     "elapsed": 605,
     "status": "ok",
     "timestamp": 1599161309220,
     "user": {
      "displayName": "Juan Manuel Lombana Martinez",
      "photoUrl": "https://lh3.googleusercontent.com/a-/AOh14GjjvnrdriZlzXxdV00af0OFnQ3lxzsrl5cE-wBq=s64",
      "userId": "06181135591528508533"
     },
     "user_tz": 300
    },
    "id": "qishb1F7cOmZ",
    "outputId": "45135d7e-be04-4c49-9587-c4c9faa6e941"
   },
   "outputs": [
    {
     "data": {
      "text/plain": [
       "Pipeline(steps=[('standardscaler', StandardScaler()),\n",
       "                ('polynomialfeatures', PolynomialFeatures(degree=7)),\n",
       "                ('lasso', Lasso(max_iter=10000, random_state=123))])"
      ]
     },
     "execution_count": 36,
     "metadata": {},
     "output_type": "execute_result"
    }
   ],
   "source": [
    "totalW = len(df_w.index.values)\n",
    "X = df_w.index.values[0:totalW-3].reshape(-1,1) #Variable independiente.\n",
    "y = df_w['acumulado_muertos'].values[0:totalW-3].reshape(-1,1) #Variable dependiente.\n",
    "#Datos de validación - nunca entran al modelo.\n",
    "X_v = df_w.index.values[totalW-3:].reshape(-1,1)\n",
    "y_v = df_w['acumulado_muertos'].values[totalW-3:].reshape(-1,1)\n",
    "\n",
    "X_train, X_test, y_train, y_test = train_test_split(X,y,test_size=0.3,random_state=123,shuffle=True)\n",
    "pipe = make_pipeline(StandardScaler(),PolynomialFeatures(degree=7),Lasso(random_state=123,max_iter=10000))\n",
    "pipe.fit(X_train,y_train)"
   ]
  },
  {
   "cell_type": "code",
   "execution_count": 37,
   "metadata": {
    "colab": {},
    "colab_type": "code",
    "id": "swxCP_DrcRWQ"
   },
   "outputs": [],
   "source": [
    "y_pred = pipe.predict(X_test)\n",
    "x_pred_future = np.arange(0,totalW,step=1)\n",
    "y_pred_future = pipe.predict(x_pred_future.reshape(-1,1))\n",
    "Ymax = GetMax(y_train,y_test,y_pred,y_pred_future)"
   ]
  },
  {
   "cell_type": "code",
   "execution_count": 38,
   "metadata": {
    "colab": {
     "base_uri": "https://localhost:8080/",
     "height": 499
    },
    "colab_type": "code",
    "executionInfo": {
     "elapsed": 1046,
     "status": "ok",
     "timestamp": 1599161447629,
     "user": {
      "displayName": "Juan Manuel Lombana Martinez",
      "photoUrl": "https://lh3.googleusercontent.com/a-/AOh14GjjvnrdriZlzXxdV00af0OFnQ3lxzsrl5cE-wBq=s64",
      "userId": "06181135591528508533"
     },
     "user_tz": 300
    },
    "id": "7UsC9fb8cUa4",
    "outputId": "05f2531c-9a28-4615-b71c-0b57cf7d8d6c"
   },
   "outputs": [
    {
     "data": {
      "image/png": "[encoded data removed]",
      "text/plain": [
       "<Figure size 1296x576 with 1 Axes>"
      ]
     },
     "metadata": {
      "needs_background": "light"
     },
     "output_type": "display_data"
    }
   ],
   "source": [
    "#Graph ordered data.\n",
    "f = plt.figure(figsize=(18,8))\n",
    "plt.title('Predicción Semanal de Muertes')\n",
    "plt.grid()\n",
    "plt.plot(X_train[X_train.flatten().argsort(),0],y_train[X_train.flatten().argsort(),0],'ob',markersize=3,label='Train')\n",
    "plt.plot(X_test[X_test.flatten().argsort(),0],y_test[X_test.flatten().argsort(),0],'or',markersize=2,label='Test')\n",
    "plt.plot(X_v,y_v,'o',color='gray',markersize=2,label='Validation')\n",
    "plt.plot(x_pred_future[0:totalW-2],y_pred_future[0:totalW-2],'--g',label='Predict')\n",
    "plt.plot(x_pred_future[totalW-3:],y_pred_future[totalW-3:],'--',color='orange',label='Future Predict')\n",
    "plt.plot([Xpeak,Xpeak],[-5000,Ymax],'--',color='lightseagreen', label='Peak') #Peak of cases.\n",
    "plt.ylim(-2000,Ymax)\n",
    "plt.legend(loc='upper left');\n",
    "plt.savefig('docs/images/pmp_{}_muertes'.format(name))"
   ]
  },
  {
   "cell_type": "code",
   "execution_count": 39,
   "metadata": {
    "colab": {
     "base_uri": "https://localhost:8080/",
     "height": 102
    },
    "colab_type": "code",
    "executionInfo": {
     "elapsed": 630,
     "status": "ok",
     "timestamp": 1599161356262,
     "user": {
      "displayName": "Juan Manuel Lombana Martinez",
      "photoUrl": "https://lh3.googleusercontent.com/a-/AOh14GjjvnrdriZlzXxdV00af0OFnQ3lxzsrl5cE-wBq=s64",
      "userId": "06181135591528508533"
     },
     "user_tz": 300
    },
    "id": "GcerxUFacWyR",
    "outputId": "f0ebedc4-3ca3-4823-d509-69615dbdf23b",
    "tags": []
   },
   "outputs": [
    {
     "name": "stdout",
     "output_type": "stream",
     "text": [
      "     ---- Métricas ----\n",
      "Total RMSE:\t\t44\n",
      "Total MAE:\t\t36\n",
      "Future (3 weeks) RMSE:\t1879\n",
      "Future (3 weeks) MAE:\t1510\n"
     ]
    }
   ],
   "source": [
    "y_pred_val = pipe.predict(X_v)\n",
    "print('     ---- Métricas ----')\n",
    "print('Total RMSE:\\t\\t{:.0f}'.format(np.sqrt(mean_squared_error(y_test, y_pred))))\n",
    "print('Total MAE:\\t\\t{:.0f}'.format(mean_absolute_error(y_test,y_pred)))\n",
    "print('Future (3 weeks) RMSE:\\t{:.0f}'.format(np.sqrt(mean_squared_error(y_v, y_pred_val))))\n",
    "print('Future (3 weeks) MAE:\\t{:.0f}'.format(mean_absolute_error(y_v,y_pred_val)))"
   ]
  }
 ],
 "metadata": {
  "colab": {
   "authorship_tag": "ABX9TyPrfDS/xsy7pBi5E+JtIL1A",
   "collapsed_sections": [],
   "mount_file_id": "1e65ez2PT-HnjAITg0O_HtXOixMx6xamn",
   "name": "3_Modelo_JLM",
   "provenance": []
  },
  "kernelspec": {
   "display_name": "Python 3",
   "language": "python",
   "name": "python3"
  },
  "language_info": {
   "codemirror_mode": {
    "name": "ipython",
    "version": 3
   },
   "file_extension": ".py",
   "mimetype": "text/x-python",
   "name": "python",
   "nbconvert_exporter": "python",
   "pygments_lexer": "ipython3",
   "version": "3.7.3"
  }
 },
 "nbformat": 4,
 "nbformat_minor": 4
}
