{
 "cells": [
  {
   "cell_type": "markdown",
   "metadata": {},
   "source": [
    "# Modelo para la Ciudad de Medellin"
   ]
  },
  {
   "cell_type": "code",
   "execution_count": 1,
   "metadata": {
    "colab": {},
    "colab_type": "code",
    "executionInfo": {
     "elapsed": 1674,
     "status": "ok",
     "timestamp": 1599268041527,
     "user": {
      "displayName": "Juan Manuel Lombana Martinez",
      "photoUrl": "https://lh3.googleusercontent.com/a-/AOh14GjjvnrdriZlzXxdV00af0OFnQ3lxzsrl5cE-wBq=s64",
      "userId": "06181135591528508533"
     },
     "user_tz": 300
    },
    "id": "H4cpgpvEVunf"
   },
   "outputs": [],
   "source": [
    "import numpy as np\n",
    "import pandas as pd\n",
    "import matplotlib.pyplot as plt"
   ]
  },
  {
   "cell_type": "code",
   "execution_count": 2,
   "metadata": {
    "colab": {
     "base_uri": "https://localhost:8080/",
     "height": 34
    },
    "colab_type": "code",
    "executionInfo": {
     "elapsed": 1657,
     "status": "ok",
     "timestamp": 1599268041527,
     "user": {
      "displayName": "Juan Manuel Lombana Martinez",
      "photoUrl": "https://lh3.googleusercontent.com/a-/AOh14GjjvnrdriZlzXxdV00af0OFnQ3lxzsrl5cE-wBq=s64",
      "userId": "06181135591528508533"
     },
     "user_tz": 300
    },
    "id": "y2gAPfWtWFTJ",
    "outputId": "6f65e17a-9c15-4450-92d3-b2b8285f5437"
   },
   "outputs": [],
   "source": [
    "##Sección de código para ejecutar el ejercicio en COLAB sin realizar ningún cambio adicional.\n",
    "#from google.colab import drive\n",
    "#drive.mount('/content/drive')\n",
    "#baseUrl = '/content/drive/Shared drives/Analitica Predictiva/covid-19-flr-analitica-predictiva'\n",
    "#os.chdir(baseUrl)"
   ]
  },
  {
   "cell_type": "markdown",
   "metadata": {},
   "source": [
    "Librerias requeridas para realizar los modelos."
   ]
  },
  {
   "cell_type": "code",
   "execution_count": 5,
   "metadata": {
    "colab": {},
    "colab_type": "code",
    "executionInfo": {
     "elapsed": 2183,
     "status": "ok",
     "timestamp": 1599268042062,
     "user": {
      "displayName": "Juan Manuel Lombana Martinez",
      "photoUrl": "https://lh3.googleusercontent.com/a-/AOh14GjjvnrdriZlzXxdV00af0OFnQ3lxzsrl5cE-wBq=s64",
      "userId": "06181135591528508533"
     },
     "user_tz": 300
    },
    "id": "LnzcztOtO2OW"
   },
   "outputs": [],
   "source": [
    "from sklearn.preprocessing import PolynomialFeatures, StandardScaler\n",
    "from sklearn.linear_model import Lasso\n",
    "from sklearn.pipeline import make_pipeline\n",
    "\n",
    "from sklearn.model_selection import train_test_split\n",
    "from sklearn.metrics import mean_squared_error, mean_absolute_error"
   ]
  },
  {
   "cell_type": "markdown",
   "metadata": {
    "colab_type": "text",
    "id": "QeVXw8BSZEyI"
   },
   "source": [
    "## Modelo Corto Plazo"
   ]
  },
  {
   "cell_type": "markdown",
   "metadata": {},
   "source": [
    "Se carga el dataset generado en la sección de preprocesamiento, se muestran los últimos 20 registros, para validar visualmente los ultimos días de información."
   ]
  },
  {
   "cell_type": "code",
   "execution_count": 3,
   "metadata": {
    "colab": {
     "base_uri": "https://localhost:8080/",
     "height": 700
    },
    "colab_type": "code",
    "executionInfo": {
     "elapsed": 3102,
     "status": "ok",
     "timestamp": 1599052707567,
     "user": {
      "displayName": "Juan Manuel Lombana Martinez",
      "photoUrl": "https://lh3.googleusercontent.com/a-/AOh14GjjvnrdriZlzXxdV00af0OFnQ3lxzsrl5cE-wBq=s64",
      "userId": "06181135591528508533"
     },
     "user_tz": 300
    },
    "id": "EGxtOkIqY-yT",
    "outputId": "c6995f4a-7dea-4968-eeaa-c1b77d14a90b"
   },
   "outputs": [
    {
     "data": {
      "text/html": [
       "<div>\n",
       "<style scoped>\n",
       "    .dataframe tbody tr th:only-of-type {\n",
       "        vertical-align: middle;\n",
       "    }\n",
       "\n",
       "    .dataframe tbody tr th {\n",
       "        vertical-align: top;\n",
       "    }\n",
       "\n",
       "    .dataframe thead th {\n",
       "        text-align: right;\n",
       "    }\n",
       "</style>\n",
       "<table border=\"1\" class=\"dataframe\">\n",
       "  <thead>\n",
       "    <tr style=\"text-align: right;\">\n",
       "      <th></th>\n",
       "      <th>dias</th>\n",
       "      <th>semana</th>\n",
       "      <th>infectados</th>\n",
       "      <th>recuperados</th>\n",
       "      <th>muertos</th>\n",
       "      <th>acumulado_infectados</th>\n",
       "      <th>acumulado_recuperados</th>\n",
       "      <th>acumulado_muertos</th>\n",
       "      <th>activos</th>\n",
       "    </tr>\n",
       "    <tr>\n",
       "      <th>fecha_infeccioso</th>\n",
       "      <th></th>\n",
       "      <th></th>\n",
       "      <th></th>\n",
       "      <th></th>\n",
       "      <th></th>\n",
       "      <th></th>\n",
       "      <th></th>\n",
       "      <th></th>\n",
       "      <th></th>\n",
       "    </tr>\n",
       "  </thead>\n",
       "  <tbody>\n",
       "    <tr>\n",
       "      <th>2020-08-13</th>\n",
       "      <td>166</td>\n",
       "      <td>23</td>\n",
       "      <td>829.0</td>\n",
       "      <td>1075.0</td>\n",
       "      <td>18.0</td>\n",
       "      <td>42425.0</td>\n",
       "      <td>15497.0</td>\n",
       "      <td>657.0</td>\n",
       "      <td>26271.0</td>\n",
       "    </tr>\n",
       "    <tr>\n",
       "      <th>2020-08-14</th>\n",
       "      <td>167</td>\n",
       "      <td>23</td>\n",
       "      <td>827.0</td>\n",
       "      <td>1028.0</td>\n",
       "      <td>22.0</td>\n",
       "      <td>43252.0</td>\n",
       "      <td>16525.0</td>\n",
       "      <td>679.0</td>\n",
       "      <td>26048.0</td>\n",
       "    </tr>\n",
       "    <tr>\n",
       "      <th>2020-08-15</th>\n",
       "      <td>168</td>\n",
       "      <td>24</td>\n",
       "      <td>716.0</td>\n",
       "      <td>1543.0</td>\n",
       "      <td>36.0</td>\n",
       "      <td>43968.0</td>\n",
       "      <td>18068.0</td>\n",
       "      <td>715.0</td>\n",
       "      <td>25185.0</td>\n",
       "    </tr>\n",
       "    <tr>\n",
       "      <th>2020-08-16</th>\n",
       "      <td>169</td>\n",
       "      <td>24</td>\n",
       "      <td>734.0</td>\n",
       "      <td>1454.0</td>\n",
       "      <td>20.0</td>\n",
       "      <td>44702.0</td>\n",
       "      <td>19522.0</td>\n",
       "      <td>735.0</td>\n",
       "      <td>24445.0</td>\n",
       "    </tr>\n",
       "    <tr>\n",
       "      <th>2020-08-17</th>\n",
       "      <td>170</td>\n",
       "      <td>24</td>\n",
       "      <td>640.0</td>\n",
       "      <td>1578.0</td>\n",
       "      <td>19.0</td>\n",
       "      <td>45342.0</td>\n",
       "      <td>21100.0</td>\n",
       "      <td>754.0</td>\n",
       "      <td>23488.0</td>\n",
       "    </tr>\n",
       "    <tr>\n",
       "      <th>2020-08-18</th>\n",
       "      <td>171</td>\n",
       "      <td>24</td>\n",
       "      <td>515.0</td>\n",
       "      <td>1095.0</td>\n",
       "      <td>21.0</td>\n",
       "      <td>45857.0</td>\n",
       "      <td>22195.0</td>\n",
       "      <td>775.0</td>\n",
       "      <td>22887.0</td>\n",
       "    </tr>\n",
       "    <tr>\n",
       "      <th>2020-08-19</th>\n",
       "      <td>172</td>\n",
       "      <td>24</td>\n",
       "      <td>354.0</td>\n",
       "      <td>1728.0</td>\n",
       "      <td>21.0</td>\n",
       "      <td>46211.0</td>\n",
       "      <td>23923.0</td>\n",
       "      <td>796.0</td>\n",
       "      <td>21492.0</td>\n",
       "    </tr>\n",
       "    <tr>\n",
       "      <th>2020-08-20</th>\n",
       "      <td>173</td>\n",
       "      <td>24</td>\n",
       "      <td>369.0</td>\n",
       "      <td>1512.0</td>\n",
       "      <td>20.0</td>\n",
       "      <td>46580.0</td>\n",
       "      <td>25435.0</td>\n",
       "      <td>816.0</td>\n",
       "      <td>20329.0</td>\n",
       "    </tr>\n",
       "    <tr>\n",
       "      <th>2020-08-21</th>\n",
       "      <td>174</td>\n",
       "      <td>24</td>\n",
       "      <td>330.0</td>\n",
       "      <td>1050.0</td>\n",
       "      <td>25.0</td>\n",
       "      <td>46910.0</td>\n",
       "      <td>26485.0</td>\n",
       "      <td>841.0</td>\n",
       "      <td>19584.0</td>\n",
       "    </tr>\n",
       "    <tr>\n",
       "      <th>2020-08-22</th>\n",
       "      <td>175</td>\n",
       "      <td>25</td>\n",
       "      <td>305.0</td>\n",
       "      <td>846.0</td>\n",
       "      <td>13.0</td>\n",
       "      <td>47215.0</td>\n",
       "      <td>27331.0</td>\n",
       "      <td>854.0</td>\n",
       "      <td>19030.0</td>\n",
       "    </tr>\n",
       "    <tr>\n",
       "      <th>2020-08-23</th>\n",
       "      <td>176</td>\n",
       "      <td>25</td>\n",
       "      <td>233.0</td>\n",
       "      <td>983.0</td>\n",
       "      <td>23.0</td>\n",
       "      <td>47448.0</td>\n",
       "      <td>28314.0</td>\n",
       "      <td>877.0</td>\n",
       "      <td>18257.0</td>\n",
       "    </tr>\n",
       "    <tr>\n",
       "      <th>2020-08-24</th>\n",
       "      <td>177</td>\n",
       "      <td>25</td>\n",
       "      <td>296.0</td>\n",
       "      <td>860.0</td>\n",
       "      <td>18.0</td>\n",
       "      <td>47744.0</td>\n",
       "      <td>29174.0</td>\n",
       "      <td>895.0</td>\n",
       "      <td>17675.0</td>\n",
       "    </tr>\n",
       "    <tr>\n",
       "      <th>2020-08-25</th>\n",
       "      <td>178</td>\n",
       "      <td>25</td>\n",
       "      <td>213.0</td>\n",
       "      <td>1077.0</td>\n",
       "      <td>28.0</td>\n",
       "      <td>47957.0</td>\n",
       "      <td>30251.0</td>\n",
       "      <td>923.0</td>\n",
       "      <td>16783.0</td>\n",
       "    </tr>\n",
       "    <tr>\n",
       "      <th>2020-08-26</th>\n",
       "      <td>179</td>\n",
       "      <td>25</td>\n",
       "      <td>210.0</td>\n",
       "      <td>930.0</td>\n",
       "      <td>13.0</td>\n",
       "      <td>48167.0</td>\n",
       "      <td>31181.0</td>\n",
       "      <td>936.0</td>\n",
       "      <td>16050.0</td>\n",
       "    </tr>\n",
       "    <tr>\n",
       "      <th>2020-08-27</th>\n",
       "      <td>180</td>\n",
       "      <td>25</td>\n",
       "      <td>187.0</td>\n",
       "      <td>783.0</td>\n",
       "      <td>25.0</td>\n",
       "      <td>48354.0</td>\n",
       "      <td>31964.0</td>\n",
       "      <td>961.0</td>\n",
       "      <td>15429.0</td>\n",
       "    </tr>\n",
       "    <tr>\n",
       "      <th>2020-08-28</th>\n",
       "      <td>181</td>\n",
       "      <td>25</td>\n",
       "      <td>172.0</td>\n",
       "      <td>693.0</td>\n",
       "      <td>22.0</td>\n",
       "      <td>48526.0</td>\n",
       "      <td>32657.0</td>\n",
       "      <td>983.0</td>\n",
       "      <td>14886.0</td>\n",
       "    </tr>\n",
       "    <tr>\n",
       "      <th>2020-08-29</th>\n",
       "      <td>182</td>\n",
       "      <td>26</td>\n",
       "      <td>113.0</td>\n",
       "      <td>905.0</td>\n",
       "      <td>17.0</td>\n",
       "      <td>48639.0</td>\n",
       "      <td>33562.0</td>\n",
       "      <td>1000.0</td>\n",
       "      <td>14077.0</td>\n",
       "    </tr>\n",
       "    <tr>\n",
       "      <th>2020-08-30</th>\n",
       "      <td>183</td>\n",
       "      <td>26</td>\n",
       "      <td>54.0</td>\n",
       "      <td>928.0</td>\n",
       "      <td>18.0</td>\n",
       "      <td>48693.0</td>\n",
       "      <td>34490.0</td>\n",
       "      <td>1018.0</td>\n",
       "      <td>13185.0</td>\n",
       "    </tr>\n",
       "    <tr>\n",
       "      <th>2020-08-31</th>\n",
       "      <td>184</td>\n",
       "      <td>26</td>\n",
       "      <td>24.0</td>\n",
       "      <td>822.0</td>\n",
       "      <td>19.0</td>\n",
       "      <td>48717.0</td>\n",
       "      <td>35312.0</td>\n",
       "      <td>1037.0</td>\n",
       "      <td>12368.0</td>\n",
       "    </tr>\n",
       "    <tr>\n",
       "      <th>2020-09-01</th>\n",
       "      <td>185</td>\n",
       "      <td>26</td>\n",
       "      <td>9.0</td>\n",
       "      <td>1211.0</td>\n",
       "      <td>12.0</td>\n",
       "      <td>48726.0</td>\n",
       "      <td>36523.0</td>\n",
       "      <td>1049.0</td>\n",
       "      <td>11154.0</td>\n",
       "    </tr>\n",
       "  </tbody>\n",
       "</table>\n",
       "</div>"
      ],
      "text/plain": [
       "                  dias  semana  infectados  recuperados  muertos  \\\n",
       "fecha_infeccioso                                                   \n",
       "2020-08-13         166      23       829.0       1075.0     18.0   \n",
       "2020-08-14         167      23       827.0       1028.0     22.0   \n",
       "2020-08-15         168      24       716.0       1543.0     36.0   \n",
       "2020-08-16         169      24       734.0       1454.0     20.0   \n",
       "2020-08-17         170      24       640.0       1578.0     19.0   \n",
       "2020-08-18         171      24       515.0       1095.0     21.0   \n",
       "2020-08-19         172      24       354.0       1728.0     21.0   \n",
       "2020-08-20         173      24       369.0       1512.0     20.0   \n",
       "2020-08-21         174      24       330.0       1050.0     25.0   \n",
       "2020-08-22         175      25       305.0        846.0     13.0   \n",
       "2020-08-23         176      25       233.0        983.0     23.0   \n",
       "2020-08-24         177      25       296.0        860.0     18.0   \n",
       "2020-08-25         178      25       213.0       1077.0     28.0   \n",
       "2020-08-26         179      25       210.0        930.0     13.0   \n",
       "2020-08-27         180      25       187.0        783.0     25.0   \n",
       "2020-08-28         181      25       172.0        693.0     22.0   \n",
       "2020-08-29         182      26       113.0        905.0     17.0   \n",
       "2020-08-30         183      26        54.0        928.0     18.0   \n",
       "2020-08-31         184      26        24.0        822.0     19.0   \n",
       "2020-09-01         185      26         9.0       1211.0     12.0   \n",
       "\n",
       "                  acumulado_infectados  acumulado_recuperados  \\\n",
       "fecha_infeccioso                                                \n",
       "2020-08-13                     42425.0                15497.0   \n",
       "2020-08-14                     43252.0                16525.0   \n",
       "2020-08-15                     43968.0                18068.0   \n",
       "2020-08-16                     44702.0                19522.0   \n",
       "2020-08-17                     45342.0                21100.0   \n",
       "2020-08-18                     45857.0                22195.0   \n",
       "2020-08-19                     46211.0                23923.0   \n",
       "2020-08-20                     46580.0                25435.0   \n",
       "2020-08-21                     46910.0                26485.0   \n",
       "2020-08-22                     47215.0                27331.0   \n",
       "2020-08-23                     47448.0                28314.0   \n",
       "2020-08-24                     47744.0                29174.0   \n",
       "2020-08-25                     47957.0                30251.0   \n",
       "2020-08-26                     48167.0                31181.0   \n",
       "2020-08-27                     48354.0                31964.0   \n",
       "2020-08-28                     48526.0                32657.0   \n",
       "2020-08-29                     48639.0                33562.0   \n",
       "2020-08-30                     48693.0                34490.0   \n",
       "2020-08-31                     48717.0                35312.0   \n",
       "2020-09-01                     48726.0                36523.0   \n",
       "\n",
       "                  acumulado_muertos  activos  \n",
       "fecha_infeccioso                              \n",
       "2020-08-13                    657.0  26271.0  \n",
       "2020-08-14                    679.0  26048.0  \n",
       "2020-08-15                    715.0  25185.0  \n",
       "2020-08-16                    735.0  24445.0  \n",
       "2020-08-17                    754.0  23488.0  \n",
       "2020-08-18                    775.0  22887.0  \n",
       "2020-08-19                    796.0  21492.0  \n",
       "2020-08-20                    816.0  20329.0  \n",
       "2020-08-21                    841.0  19584.0  \n",
       "2020-08-22                    854.0  19030.0  \n",
       "2020-08-23                    877.0  18257.0  \n",
       "2020-08-24                    895.0  17675.0  \n",
       "2020-08-25                    923.0  16783.0  \n",
       "2020-08-26                    936.0  16050.0  \n",
       "2020-08-27                    961.0  15429.0  \n",
       "2020-08-28                    983.0  14886.0  \n",
       "2020-08-29                   1000.0  14077.0  \n",
       "2020-08-30                   1018.0  13185.0  \n",
       "2020-08-31                   1037.0  12368.0  \n",
       "2020-09-01                   1049.0  11154.0  "
      ]
     },
     "execution_count": 3,
     "metadata": {},
     "output_type": "execute_result"
    }
   ],
   "source": [
    "urlDatasetMED = 'Datos/data_Medellin.pickle'\n",
    "dfMED = pd.read_pickle(urlDatasetMED)\n",
    "dfMED.tail(20)"
   ]
  },
  {
   "cell_type": "markdown",
   "metadata": {
    "colab_type": "text",
    "id": "HRu51ggLJj9p"
   },
   "source": [
    "### Activos"
   ]
  },
  {
   "cell_type": "markdown",
   "metadata": {},
   "source": [
    "Para la predicción de casos activos se usó una Regressión Lasso con caracteristicas Polinomiales de grado 5; previamente se estandarizaron los datos, y se entrenaron con un conjunto del 70% de los datos; estos datos se toman aleatoriamente, pero al graficarlos se orden en secuencia."
   ]
  },
  {
   "cell_type": "code",
   "execution_count": 6,
   "metadata": {
    "colab": {
     "base_uri": "https://localhost:8080/",
     "height": 221
    },
    "colab_type": "code",
    "executionInfo": {
     "elapsed": 742,
     "status": "ok",
     "timestamp": 1599052716093,
     "user": {
      "displayName": "Juan Manuel Lombana Martinez",
      "photoUrl": "https://lh3.googleusercontent.com/a-/AOh14GjjvnrdriZlzXxdV00af0OFnQ3lxzsrl5cE-wBq=s64",
      "userId": "06181135591528508533"
     },
     "user_tz": 300
    },
    "id": "hrHDX35Yhepj",
    "outputId": "a1c40f75-2700-4f6b-c1e0-7a17d6dd8a99"
   },
   "outputs": [
    {
     "data": {
      "text/plain": [
       "Pipeline(memory=None,\n",
       "         steps=[('standardscaler',\n",
       "                 StandardScaler(copy=True, with_mean=True, with_std=True)),\n",
       "                ('polynomialfeatures',\n",
       "                 PolynomialFeatures(degree=5, include_bias=True,\n",
       "                                    interaction_only=False, order='C')),\n",
       "                ('lasso',\n",
       "                 Lasso(alpha=1.0, copy_X=True, fit_intercept=True,\n",
       "                       max_iter=1000, normalize=False, positive=False,\n",
       "                       precompute=False, random_state=123, selection='cyclic',\n",
       "                       tol=0.0001, warm_start=False))],\n",
       "         verbose=False)"
      ]
     },
     "execution_count": 6,
     "metadata": {},
     "output_type": "execute_result"
    }
   ],
   "source": [
    "X = dfMED['dias'].values.reshape(-1,1) #Variable independiente.\n",
    "y = dfMED['activos'].values.reshape(-1,1) #Variable dependiente.\n",
    "#Se obtiene el 70% para entrenamiento y 30% para pruebas.\n",
    "X_train, X_test, y_train, y_test = train_test_split(X,y,test_size=0.3,random_state=123,shuffle=True)\n",
    "#Se crea un pipeline con el escalado, las caracteristicas polinomiales y la regresión lasso\n",
    "pipe = make_pipeline(StandardScaler(),PolynomialFeatures(degree=5),Lasso(random_state=123))\n",
    "#Se realiza el entrenamiento.\n",
    "pipe.fit(X_train,y_train)"
   ]
  },
  {
   "cell_type": "markdown",
   "metadata": {},
   "source": [
    "Se realizan las predicciones sobre el dataset de pruebas, adicionalmente se establece el pico en el día 175, por lo cual para fines de prueba se realizan predicciones desde dicho día, hasta el día 200 de la pandemia, para probar la predicción futura de los modelos a corto plazo."
   ]
  },
  {
   "cell_type": "code",
   "execution_count": 13,
   "metadata": {
    "colab": {},
    "colab_type": "code",
    "id": "nPalclh38qB3"
   },
   "outputs": [],
   "source": [
    "#Obtener predicciones para los datos de prueba.\n",
    "y_pred = pipe.predict(X_test)\n",
    "#Predicciones futuras.\n",
    "x_pred_future = np.arange(160,200,step=1)\n",
    "y_pred_future = pipe.predict(x_pred_future.reshape(-1,1))"
   ]
  },
  {
   "cell_type": "markdown",
   "metadata": {},
   "source": [
    "Se grafican los datos."
   ]
  },
  {
   "cell_type": "code",
   "execution_count": 15,
   "metadata": {
    "colab": {
     "base_uri": "https://localhost:8080/",
     "height": 499
    },
    "colab_type": "code",
    "executionInfo": {
     "elapsed": 1084,
     "status": "ok",
     "timestamp": 1599052726186,
     "user": {
      "displayName": "Juan Manuel Lombana Martinez",
      "photoUrl": "https://lh3.googleusercontent.com/a-/AOh14GjjvnrdriZlzXxdV00af0OFnQ3lxzsrl5cE-wBq=s64",
      "userId": "06181135591528508533"
     },
     "user_tz": 300
    },
    "id": "GJ01qHQx_SIY",
    "outputId": "ffd3eec2-7d98-4d48-beb1-5848d2f4b46f"
   },
   "outputs": [
    {
     "data": {
      "image/png": "[encoded data removed]",
      "text/plain": [
       "<Figure size 1296x576 with 1 Axes>"
      ]
     },
     "metadata": {
      "needs_background": "light"
     },
     "output_type": "display_data"
    }
   ],
   "source": [
    "f = plt.figure(figsize=(18,8))\n",
    "plt.title('Predicción de casos activos')\n",
    "plt.grid()\n",
    "plt.plot(X_train[X_train.flatten().argsort(),0],y_train[X_train.flatten().argsort(),0],'ob',markersize=3,label='Train')\n",
    "plt.plot(X_test[X_test.flatten().argsort(),0],y_test[X_test.flatten().argsort(),0],'or',markersize=2,label='Test')\n",
    "plt.plot(X_test[X_test.flatten().argsort(),0],y_pred[X_test.flatten().argsort()],'--g',label='Predict')\n",
    "plt.plot(x_pred_future,y_pred_future,'--',color='orange',label='Future Predict')\n",
    "plt.plot([160,160],[-5000,30000],'--',color='lightseagreen', label='Peak') #Peak of cases.\n",
    "plt.ylim(-5000,30000)\n",
    "plt.legend(loc='upper left');"
   ]
  },
  {
   "cell_type": "markdown",
   "metadata": {},
   "source": [
    "Se calculan las métricas de la regresión, en este caso se calculan las metricas completas sobre el conjunto de prueba, adicionalmente se computan las metricas solo desde el pico en adelante como indicar de las predicciones futuras."
   ]
  },
  {
   "cell_type": "code",
   "execution_count": 16,
   "metadata": {
    "colab": {
     "base_uri": "https://localhost:8080/",
     "height": 102
    },
    "colab_type": "code",
    "executionInfo": {
     "elapsed": 699,
     "status": "ok",
     "timestamp": 1599052740183,
     "user": {
      "displayName": "Juan Manuel Lombana Martinez",
      "photoUrl": "https://lh3.googleusercontent.com/a-/AOh14GjjvnrdriZlzXxdV00af0OFnQ3lxzsrl5cE-wBq=s64",
      "userId": "06181135591528508533"
     },
     "user_tz": 300
    },
    "id": "_NhMP7t3Q3XM",
    "outputId": "769fa212-5912-4c3d-8a5f-101a9f2d9a50"
   },
   "outputs": [
    {
     "name": "stdout",
     "output_type": "stream",
     "text": [
      "     ---- Métricas ----\n",
      "Total RMSE:\t\t1530\n",
      "Total MAE:\t\t1248\n",
      "After Peak RMSE:\t1876\n",
      "After Peak MAE:\t\t1481\n"
     ]
    }
   ],
   "source": [
    "x_val = X[160:]\n",
    "y_val = y[160:]\n",
    "y_pred_val = pipe.predict(x_val)\n",
    "print('     ---- Métricas ----')\n",
    "print('Total RMSE:\\t\\t{:.0f}'.format(np.sqrt(mean_squared_error(y_test, y_pred))))\n",
    "print('Total MAE:\\t\\t{:.0f}'.format(mean_absolute_error(y_test,y_pred)))\n",
    "print('After Peak RMSE:\\t{:.0f}'.format(np.sqrt(mean_squared_error(y_val, y_pred_val))))\n",
    "print('After Peak MAE:\\t\\t{:.0f}'.format(mean_absolute_error(y_val,y_pred_val)))"
   ]
  },
  {
   "cell_type": "markdown",
   "metadata": {
    "colab_type": "text",
    "id": "qlEu9h2VI-7U"
   },
   "source": [
    "### Recuperados\n",
    "Para la predicción de casos recuperados se usó una Regressión Lasso con caracteristicas Polinomiales de grado 5; previamente se estandarizaron los datos, y se entrenaron con un conjunto del 70% de los datos; estos datos se toman aleatoriamente, pero al graficarlos se orden en secuencia."
   ]
  },
  {
   "cell_type": "code",
   "execution_count": 17,
   "metadata": {
    "colab": {
     "base_uri": "https://localhost:8080/"
    },
    "colab_type": "code",
    "executionInfo": {
     "elapsed": 710,
     "status": "ok",
     "timestamp": 1599052750204,
     "user": {
      "displayName": "Juan Manuel Lombana Martinez",
      "photoUrl": "https://lh3.googleusercontent.com/a-/AOh14GjjvnrdriZlzXxdV00af0OFnQ3lxzsrl5cE-wBq=s64",
      "userId": "06181135591528508533"
     },
     "user_tz": 300
    },
    "id": "_zHxNJGwGZTj",
    "outputId": "06501e40-8dc4-4a46-a277-b854b433fdf4"
   },
   "outputs": [
    {
     "data": {
      "text/plain": [
       "Pipeline(memory=None,\n",
       "         steps=[('standardscaler',\n",
       "                 StandardScaler(copy=True, with_mean=True, with_std=True)),\n",
       "                ('polynomialfeatures',\n",
       "                 PolynomialFeatures(degree=5, include_bias=True,\n",
       "                                    interaction_only=False, order='C')),\n",
       "                ('lasso',\n",
       "                 Lasso(alpha=1.0, copy_X=True, fit_intercept=True,\n",
       "                       max_iter=1000, normalize=False, positive=False,\n",
       "                       precompute=False, random_state=123, selection='cyclic',\n",
       "                       tol=0.0001, warm_start=False))],\n",
       "         verbose=False)"
      ]
     },
     "execution_count": 17,
     "metadata": {},
     "output_type": "execute_result"
    }
   ],
   "source": [
    "X = dfMED['dias'].values.reshape(-1,1) #Variable independiente.\n",
    "y = dfMED['acumulado_recuperados'].values.reshape(-1,1) #Variable dependiente.\n",
    "#Se obtiene el 70% para entrenamiento y 30% para pruebas.\n",
    "X_train, X_test, y_train, y_test = train_test_split(X,y,test_size=0.3,random_state=123,shuffle=True)\n",
    "#Se crea un pipeline con el escalado, las caracteristicas polinomiales y la regresión lasso\n",
    "pipe = make_pipeline(StandardScaler(),PolynomialFeatures(degree=5),Lasso(random_state=123))\n",
    "#Se realiza el entrenamiento.\n",
    "pipe.fit(X_train,y_train)"
   ]
  },
  {
   "cell_type": "markdown",
   "metadata": {},
   "source": [
    "Se realizan las predicciones sobre el dataset de pruebas, adicionalmente se establece el pico en el día 175, por lo cual para fines de prueba se realizan predicciones desde dicho día, hasta el día 200 de la pandemia, para probar la predicción futura de los modelos a corto plazo."
   ]
  },
  {
   "cell_type": "code",
   "execution_count": 18,
   "metadata": {
    "colab": {},
    "colab_type": "code",
    "id": "cvqqk2ayJCl4"
   },
   "outputs": [],
   "source": [
    "#Obtener predicciones para los datos de prueba.\n",
    "y_pred = pipe.predict(X_test)\n",
    "#Predicciones futuras.\n",
    "x_pred_future = np.arange(160,200,step=1)\n",
    "y_pred_future = pipe.predict(x_pred_future.reshape(-1,1))"
   ]
  },
  {
   "cell_type": "markdown",
   "metadata": {},
   "source": [
    "Se grafican los datos."
   ]
  },
  {
   "cell_type": "code",
   "execution_count": 19,
   "metadata": {
    "colab": {
     "base_uri": "https://localhost:8080/"
    },
    "colab_type": "code",
    "executionInfo": {
     "elapsed": 1453,
     "status": "ok",
     "timestamp": 1599052752644,
     "user": {
      "displayName": "Juan Manuel Lombana Martinez",
      "photoUrl": "https://lh3.googleusercontent.com/a-/AOh14GjjvnrdriZlzXxdV00af0OFnQ3lxzsrl5cE-wBq=s64",
      "userId": "06181135591528508533"
     },
     "user_tz": 300
    },
    "id": "WbQV4J3XJEYa",
    "outputId": "3dc0b4b7-5c27-4f93-c8e0-2a90d8571153"
   },
   "outputs": [
    {
     "data": {
      "image/png": "[encoded data removed]",
      "text/plain": [
       "<Figure size 1296x576 with 1 Axes>"
      ]
     },
     "metadata": {
      "needs_background": "light"
     },
     "output_type": "display_data"
    }
   ],
   "source": [
    "f = plt.figure(figsize=(18,8))\n",
    "plt.title('Predicción de recuperados')\n",
    "plt.grid()\n",
    "plt.plot(X_train[X_train.flatten().argsort(),0],y_train[X_train.flatten().argsort(),0],'ob',markersize=3,label='Train')\n",
    "plt.plot(X_test[X_test.flatten().argsort(),0],y_test[X_test.flatten().argsort(),0],'or',markersize=2,label='Test')\n",
    "plt.plot(X_test[X_test.flatten().argsort(),0],y_pred[X_test.flatten().argsort()],'--g',label='Predict')\n",
    "plt.plot(x_pred_future,y_pred_future,'--',color='orange',label='Future Predict')\n",
    "plt.plot([160,160],[-5000,50000],'--',color='lightseagreen', label='Peak') #Peak of cases.\n",
    "plt.ylim(-5000,30000)\n",
    "plt.legend(loc='upper left');"
   ]
  },
  {
   "cell_type": "markdown",
   "metadata": {},
   "source": [
    "Se calculan las métricas de la regresión, en este caso se calculan las metricas completas sobre el conjunto de prueba, adicionalmente se computan las metricas solo desde el pico en adelante como indicar de las predicciones futuras."
   ]
  },
  {
   "cell_type": "code",
   "execution_count": 20,
   "metadata": {
    "colab": {
     "base_uri": "https://localhost:8080/"
    },
    "colab_type": "code",
    "executionInfo": {
     "elapsed": 905,
     "status": "ok",
     "timestamp": 1599052757674,
     "user": {
      "displayName": "Juan Manuel Lombana Martinez",
      "photoUrl": "https://lh3.googleusercontent.com/a-/AOh14GjjvnrdriZlzXxdV00af0OFnQ3lxzsrl5cE-wBq=s64",
      "userId": "06181135591528508533"
     },
     "user_tz": 300
    },
    "id": "vpXpyg6K2xu6",
    "outputId": "72cc7211-1a59-4c81-8e3b-5edeb1189752"
   },
   "outputs": [
    {
     "name": "stdout",
     "output_type": "stream",
     "text": [
      "     ---- Métricas ----\n",
      "Total RMSE:\t\t862\n",
      "Total MAE:\t\t548\n",
      "After Peak RMSE:\t1782\n",
      "After Peak MAE:\t\t1435\n"
     ]
    }
   ],
   "source": [
    "#Calculate Metrics of trained model\n",
    "x_val = X[160:]\n",
    "y_val = y[160:]\n",
    "y_pred_val = pipe.predict(x_val)\n",
    "print('     ---- Métricas ----')\n",
    "print('Total RMSE:\\t\\t{:.0f}'.format(np.sqrt(mean_squared_error(y_test, y_pred))))\n",
    "print('Total MAE:\\t\\t{:.0f}'.format(mean_absolute_error(y_test,y_pred)))\n",
    "print('After Peak RMSE:\\t{:.0f}'.format(np.sqrt(mean_squared_error(y_val, y_pred_val))))\n",
    "print('After Peak MAE:\\t\\t{:.0f}'.format(mean_absolute_error(y_val,y_pred_val)))"
   ]
  },
  {
   "cell_type": "markdown",
   "metadata": {
    "colab_type": "text",
    "id": "i2U-CF5PJrF0"
   },
   "source": [
    "### Muertes\n",
    "Para la predicción de las muertes se usó una Regressión Lasso con caracteristicas Polinomiales de grado 6; previamente se estandarizaron los datos, y se entrenaron con un conjunto del 70% de los datos; estos datos se toman aleatoriamente, pero al graficarlos se orden en secuencia."
   ]
  },
  {
   "cell_type": "code",
   "execution_count": 23,
   "metadata": {
    "colab": {
     "base_uri": "https://localhost:8080/"
    },
    "colab_type": "code",
    "executionInfo": {
     "elapsed": 753,
     "status": "ok",
     "timestamp": 1599052764782,
     "user": {
      "displayName": "Juan Manuel Lombana Martinez",
      "photoUrl": "https://lh3.googleusercontent.com/a-/AOh14GjjvnrdriZlzXxdV00af0OFnQ3lxzsrl5cE-wBq=s64",
      "userId": "06181135591528508533"
     },
     "user_tz": 300
    },
    "id": "ZLV827mPJGDi",
    "outputId": "53060c32-e2bb-4bd9-9df2-4822a563e5e6"
   },
   "outputs": [
    {
     "data": {
      "text/plain": [
       "Pipeline(memory=None,\n",
       "         steps=[('standardscaler',\n",
       "                 StandardScaler(copy=True, with_mean=True, with_std=True)),\n",
       "                ('polynomialfeatures',\n",
       "                 PolynomialFeatures(degree=6, include_bias=True,\n",
       "                                    interaction_only=False, order='C')),\n",
       "                ('lasso',\n",
       "                 Lasso(alpha=1.0, copy_X=True, fit_intercept=True,\n",
       "                       max_iter=1000, normalize=False, positive=False,\n",
       "                       precompute=False, random_state=123, selection='cyclic',\n",
       "                       tol=0.0001, warm_start=False))],\n",
       "         verbose=False)"
      ]
     },
     "execution_count": 23,
     "metadata": {},
     "output_type": "execute_result"
    }
   ],
   "source": [
    "X = dfMED['dias'].values.reshape(-1,1)\n",
    "y = dfMED['acumulado_muertos'].values.reshape(-1,1)\n",
    "X_train, X_test, y_train, y_test = train_test_split(X,y,test_size=0.3,random_state=123,shuffle=True)\n",
    "pipe = make_pipeline(StandardScaler(),PolynomialFeatures(degree=6),Lasso(random_state=123))\n",
    "pipe.fit(X_train,y_train)"
   ]
  },
  {
   "cell_type": "code",
   "execution_count": 24,
   "metadata": {
    "colab": {},
    "colab_type": "code",
    "id": "doTn5gN5J-MT"
   },
   "outputs": [],
   "source": [
    "y_pred = pipe.predict(X_test)\n",
    "x_pred_future = np.arange(160,200,step=1)\n",
    "y_pred_future = pipe.predict(x_pred_future.reshape(-1,1))"
   ]
  },
  {
   "cell_type": "code",
   "execution_count": 25,
   "metadata": {
    "colab": {
     "base_uri": "https://localhost:8080/"
    },
    "colab_type": "code",
    "executionInfo": {
     "elapsed": 870,
     "status": "ok",
     "timestamp": 1599052772309,
     "user": {
      "displayName": "Juan Manuel Lombana Martinez",
      "photoUrl": "https://lh3.googleusercontent.com/a-/AOh14GjjvnrdriZlzXxdV00af0OFnQ3lxzsrl5cE-wBq=s64",
      "userId": "06181135591528508533"
     },
     "user_tz": 300
    },
    "id": "uM57zoZDJ-tr",
    "outputId": "f4fd1cf8-bed4-4a35-b38b-5fea4028a8d8"
   },
   "outputs": [
    {
     "data": {
      "image/png": "[encoded data removed]",
      "text/plain": [
       "<Figure size 1296x576 with 1 Axes>"
      ]
     },
     "metadata": {
      "needs_background": "light"
     },
     "output_type": "display_data"
    }
   ],
   "source": [
    "#Graph ordered data.\n",
    "f = plt.figure(figsize=(18,8))\n",
    "plt.title('Predicción de muertes')\n",
    "plt.grid()\n",
    "plt.plot(X_train[X_train.flatten().argsort(),0],y_train[X_train.flatten().argsort(),0],'ob',markersize=3,label='Train')\n",
    "plt.plot(X_test[X_test.flatten().argsort(),0],y_test[X_test.flatten().argsort(),0],'or',markersize=2,label='Test')\n",
    "plt.plot(X_test[X_test.flatten().argsort(),0],y_pred[X_test.flatten().argsort()],'--g',label='Predict')\n",
    "plt.plot(x_pred_future,y_pred_future,'--',color='orange',label='Future Predict')\n",
    "plt.plot([160,160],[-10,1500],'--',color='lightseagreen', label='Peak') #Peak of cases.\n",
    "plt.ylim(-10,1500)\n",
    "plt.legend(loc='upper left');"
   ]
  },
  {
   "cell_type": "code",
   "execution_count": 26,
   "metadata": {
    "colab": {
     "base_uri": "https://localhost:8080/"
    },
    "colab_type": "code",
    "executionInfo": {
     "elapsed": 663,
     "status": "ok",
     "timestamp": 1599052776755,
     "user": {
      "displayName": "Juan Manuel Lombana Martinez",
      "photoUrl": "https://lh3.googleusercontent.com/a-/AOh14GjjvnrdriZlzXxdV00af0OFnQ3lxzsrl5cE-wBq=s64",
      "userId": "06181135591528508533"
     },
     "user_tz": 300
    },
    "id": "MH1iookH3-Lt",
    "outputId": "9f01f9dc-e2f1-4310-df6f-2df596bfeab6"
   },
   "outputs": [
    {
     "name": "stdout",
     "output_type": "stream",
     "text": [
      "     ---- Métricas ----\n",
      "Total RMSE:\t\t16\n",
      "Total MAE:\t\t12\n",
      "After Peak RMSE:\t20\n",
      "After Peak MAE:\t\t18\n"
     ]
    }
   ],
   "source": [
    "x_val = X[160:]\n",
    "y_val = y[160:]\n",
    "y_pred_val = pipe.predict(x_val)\n",
    "print('     ---- Métricas ----')\n",
    "print('Total RMSE:\\t\\t{:.0f}'.format(np.sqrt(mean_squared_error(y_test, y_pred))))\n",
    "print('Total MAE:\\t\\t{:.0f}'.format(mean_absolute_error(y_test,y_pred)))\n",
    "print('After Peak RMSE:\\t{:.0f}'.format(np.sqrt(mean_squared_error(y_val, y_pred_val))))\n",
    "print('After Peak MAE:\\t\\t{:.0f}'.format(mean_absolute_error(y_val,y_pred_val)))"
   ]
  },
  {
   "cell_type": "markdown",
   "metadata": {
    "colab_type": "text",
    "id": "86hUjNhNKaVc"
   },
   "source": [
    "### Infectados\n",
    "Para la predicción de los infectados se usó una Regressión Lasso con caracteristicas Polinomiales de grado 4; previamente se estandarizaron los datos, y se entrenaron con un conjunto del 70% de los datos; estos datos se toman aleatoriamente, pero al graficarlos se orden en secuencia."
   ]
  },
  {
   "cell_type": "code",
   "execution_count": 27,
   "metadata": {
    "colab": {
     "base_uri": "https://localhost:8080/",
     "height": 221
    },
    "colab_type": "code",
    "executionInfo": {
     "elapsed": 707,
     "status": "ok",
     "timestamp": 1599052781291,
     "user": {
      "displayName": "Juan Manuel Lombana Martinez",
      "photoUrl": "https://lh3.googleusercontent.com/a-/AOh14GjjvnrdriZlzXxdV00af0OFnQ3lxzsrl5cE-wBq=s64",
      "userId": "06181135591528508533"
     },
     "user_tz": 300
    },
    "id": "2tNQeSn_KBR0",
    "outputId": "e0deb692-b4e5-4d19-9c30-db2a5d7bf8c1"
   },
   "outputs": [
    {
     "data": {
      "text/plain": [
       "Pipeline(memory=None,\n",
       "         steps=[('standardscaler',\n",
       "                 StandardScaler(copy=True, with_mean=True, with_std=True)),\n",
       "                ('polynomialfeatures',\n",
       "                 PolynomialFeatures(degree=4, include_bias=True,\n",
       "                                    interaction_only=False, order='C')),\n",
       "                ('lasso',\n",
       "                 Lasso(alpha=1.0, copy_X=True, fit_intercept=True,\n",
       "                       max_iter=1000, normalize=False, positive=False,\n",
       "                       precompute=False, random_state=123, selection='cyclic',\n",
       "                       tol=0.0001, warm_start=False))],\n",
       "         verbose=False)"
      ]
     },
     "execution_count": 27,
     "metadata": {},
     "output_type": "execute_result"
    }
   ],
   "source": [
    "X = dfMED['dias'].values.reshape(-1,1)\n",
    "y = dfMED['acumulado_infectados'].values.reshape(-1,1)\n",
    "X_train, X_test, y_train, y_test = train_test_split(X,y,test_size=0.3,random_state=123,shuffle=True)\n",
    "pipe = make_pipeline(StandardScaler(),PolynomialFeatures(degree=4),Lasso(random_state=123))\n",
    "pipe.fit(X_train,y_train)"
   ]
  },
  {
   "cell_type": "code",
   "execution_count": 28,
   "metadata": {
    "colab": {},
    "colab_type": "code",
    "id": "m3voeNGUKf4B"
   },
   "outputs": [],
   "source": [
    "y_pred = pipe.predict(X_test)\n",
    "x_pred_future = np.arange(175,200,step=1)\n",
    "y_pred_future = pipe.predict(x_pred_future.reshape(-1,1))"
   ]
  },
  {
   "cell_type": "code",
   "execution_count": 29,
   "metadata": {
    "colab": {
     "base_uri": "https://localhost:8080/",
     "height": 499
    },
    "colab_type": "code",
    "executionInfo": {
     "elapsed": 981,
     "status": "ok",
     "timestamp": 1599052787685,
     "user": {
      "displayName": "Juan Manuel Lombana Martinez",
      "photoUrl": "https://lh3.googleusercontent.com/a-/AOh14GjjvnrdriZlzXxdV00af0OFnQ3lxzsrl5cE-wBq=s64",
      "userId": "06181135591528508533"
     },
     "user_tz": 300
    },
    "id": "2m1Rxj53Khjj",
    "outputId": "6583bf8f-9ba4-488f-c61c-d0c8d96fbb77"
   },
   "outputs": [
    {
     "data": {
      "image/png": "[encoded data removed]",
      "text/plain": [
       "<Figure size 1296x576 with 1 Axes>"
      ]
     },
     "metadata": {
      "needs_background": "light"
     },
     "output_type": "display_data"
    }
   ],
   "source": [
    "#Graph ordered data.\n",
    "f = plt.figure(figsize=(18,8))\n",
    "plt.title('Predicción de infectados')\n",
    "plt.grid()\n",
    "plt.plot(X_train[X_train.flatten().argsort(),0],y_train[X_train.flatten().argsort(),0],'ob',markersize=3,label='Train')\n",
    "plt.plot(X_test[X_test.flatten().argsort(),0],y_test[X_test.flatten().argsort(),0],'or',markersize=2,label='Test')\n",
    "plt.plot(X_test[X_test.flatten().argsort(),0],y_pred[X_test.flatten().argsort()],'--g',label='Predict')\n",
    "plt.plot(x_pred_future,y_pred_future,'--',color='orange',label='Future Predict')\n",
    "plt.plot([160,160],[-10000,60000],'--',color='lightseagreen', label='Peak') #Peak of cases.\n",
    "plt.ylim(-10000,60000)\n",
    "plt.legend(loc='upper left');"
   ]
  },
  {
   "cell_type": "code",
   "execution_count": 30,
   "metadata": {
    "colab": {
     "base_uri": "https://localhost:8080/",
     "height": 102
    },
    "colab_type": "code",
    "executionInfo": {
     "elapsed": 696,
     "status": "ok",
     "timestamp": 1599052792858,
     "user": {
      "displayName": "Juan Manuel Lombana Martinez",
      "photoUrl": "https://lh3.googleusercontent.com/a-/AOh14GjjvnrdriZlzXxdV00af0OFnQ3lxzsrl5cE-wBq=s64",
      "userId": "06181135591528508533"
     },
     "user_tz": 300
    },
    "id": "APnL6CHtxjqL",
    "outputId": "7605549d-5fed-48a2-c640-cbe976eaa0f5"
   },
   "outputs": [
    {
     "name": "stdout",
     "output_type": "stream",
     "text": [
      "     ---- Métricas ----\n",
      "Total RMSE:\t\t2305\n",
      "Total MAE:\t\t1954\n",
      "After Peak RMSE:\t2694\n",
      "After Peak MAE:\t\t2454\n"
     ]
    }
   ],
   "source": [
    "x_val = X[160:]\n",
    "y_val = y[160:]\n",
    "y_pred_val = pipe.predict(x_val)\n",
    "print('     ---- Métricas ----')\n",
    "print('Total RMSE:\\t\\t{:.0f}'.format(np.sqrt(mean_squared_error(y_test, y_pred))))\n",
    "print('Total MAE:\\t\\t{:.0f}'.format(mean_absolute_error(y_test,y_pred)))\n",
    "print('After Peak RMSE:\\t{:.0f}'.format(np.sqrt(mean_squared_error(y_val, y_pred_val))))\n",
    "print('After Peak MAE:\\t\\t{:.0f}'.format(mean_absolute_error(y_val,y_pred_val)))"
   ]
  },
  {
   "cell_type": "markdown",
   "metadata": {
    "colab_type": "text",
    "id": "J6mx0PZzOsaE"
   },
   "source": [
    "## Modelo Mediano Plazo\n",
    "Para los modelos de mediano plazo, se sigue la misma dinámica que en corto plazo, pero se trabaja con un conjunto de datos que se preprocesó para que tenga los datos acumulados semanalmente, esto permite obtener las predicciones de Infectados, recuperados y muertos por semana."
   ]
  },
  {
   "cell_type": "code",
   "execution_count": 31,
   "metadata": {
    "colab": {
     "base_uri": "https://localhost:8080/",
     "height": 700
    },
    "colab_type": "code",
    "executionInfo": {
     "elapsed": 3287,
     "status": "ok",
     "timestamp": 1599268045357,
     "user": {
      "displayName": "Juan Manuel Lombana Martinez",
      "photoUrl": "https://lh3.googleusercontent.com/a-/AOh14GjjvnrdriZlzXxdV00af0OFnQ3lxzsrl5cE-wBq=s64",
      "userId": "06181135591528508533"
     },
     "user_tz": 300
    },
    "id": "c9JymuCTOvRm",
    "outputId": "fd1d55e4-51f3-4dc4-a085-f58c7f22e482"
   },
   "outputs": [
    {
     "data": {
      "text/html": [
       "<div>\n",
       "<style scoped>\n",
       "    .dataframe tbody tr th:only-of-type {\n",
       "        vertical-align: middle;\n",
       "    }\n",
       "\n",
       "    .dataframe tbody tr th {\n",
       "        vertical-align: top;\n",
       "    }\n",
       "\n",
       "    .dataframe thead th {\n",
       "        text-align: right;\n",
       "    }\n",
       "</style>\n",
       "<table border=\"1\" class=\"dataframe\">\n",
       "  <thead>\n",
       "    <tr style=\"text-align: right;\">\n",
       "      <th></th>\n",
       "      <th>infectados</th>\n",
       "      <th>recuperados</th>\n",
       "      <th>muertos</th>\n",
       "      <th>acumulado_infectados</th>\n",
       "      <th>acumulado_recuperados</th>\n",
       "      <th>acumulado_muertos</th>\n",
       "      <th>activos</th>\n",
       "    </tr>\n",
       "    <tr>\n",
       "      <th>semana</th>\n",
       "      <th></th>\n",
       "      <th></th>\n",
       "      <th></th>\n",
       "      <th></th>\n",
       "      <th></th>\n",
       "      <th></th>\n",
       "      <th></th>\n",
       "    </tr>\n",
       "  </thead>\n",
       "  <tbody>\n",
       "    <tr>\n",
       "      <th>7</th>\n",
       "      <td>34.0</td>\n",
       "      <td>43.0</td>\n",
       "      <td>1.0</td>\n",
       "      <td>273.0</td>\n",
       "      <td>117.0</td>\n",
       "      <td>2.0</td>\n",
       "      <td>154.0</td>\n",
       "    </tr>\n",
       "    <tr>\n",
       "      <th>8</th>\n",
       "      <td>23.0</td>\n",
       "      <td>27.0</td>\n",
       "      <td>1.0</td>\n",
       "      <td>296.0</td>\n",
       "      <td>144.0</td>\n",
       "      <td>3.0</td>\n",
       "      <td>149.0</td>\n",
       "    </tr>\n",
       "    <tr>\n",
       "      <th>9</th>\n",
       "      <td>25.0</td>\n",
       "      <td>41.0</td>\n",
       "      <td>0.0</td>\n",
       "      <td>321.0</td>\n",
       "      <td>185.0</td>\n",
       "      <td>3.0</td>\n",
       "      <td>133.0</td>\n",
       "    </tr>\n",
       "    <tr>\n",
       "      <th>10</th>\n",
       "      <td>78.0</td>\n",
       "      <td>47.0</td>\n",
       "      <td>0.0</td>\n",
       "      <td>399.0</td>\n",
       "      <td>232.0</td>\n",
       "      <td>3.0</td>\n",
       "      <td>164.0</td>\n",
       "    </tr>\n",
       "    <tr>\n",
       "      <th>11</th>\n",
       "      <td>87.0</td>\n",
       "      <td>19.0</td>\n",
       "      <td>0.0</td>\n",
       "      <td>486.0</td>\n",
       "      <td>251.0</td>\n",
       "      <td>3.0</td>\n",
       "      <td>232.0</td>\n",
       "    </tr>\n",
       "    <tr>\n",
       "      <th>12</th>\n",
       "      <td>100.0</td>\n",
       "      <td>51.0</td>\n",
       "      <td>0.0</td>\n",
       "      <td>586.0</td>\n",
       "      <td>302.0</td>\n",
       "      <td>3.0</td>\n",
       "      <td>281.0</td>\n",
       "    </tr>\n",
       "    <tr>\n",
       "      <th>13</th>\n",
       "      <td>247.0</td>\n",
       "      <td>77.0</td>\n",
       "      <td>1.0</td>\n",
       "      <td>833.0</td>\n",
       "      <td>379.0</td>\n",
       "      <td>4.0</td>\n",
       "      <td>450.0</td>\n",
       "    </tr>\n",
       "    <tr>\n",
       "      <th>14</th>\n",
       "      <td>295.0</td>\n",
       "      <td>94.0</td>\n",
       "      <td>0.0</td>\n",
       "      <td>1128.0</td>\n",
       "      <td>473.0</td>\n",
       "      <td>4.0</td>\n",
       "      <td>651.0</td>\n",
       "    </tr>\n",
       "    <tr>\n",
       "      <th>15</th>\n",
       "      <td>748.0</td>\n",
       "      <td>94.0</td>\n",
       "      <td>3.0</td>\n",
       "      <td>1876.0</td>\n",
       "      <td>567.0</td>\n",
       "      <td>7.0</td>\n",
       "      <td>1302.0</td>\n",
       "    </tr>\n",
       "    <tr>\n",
       "      <th>16</th>\n",
       "      <td>1389.0</td>\n",
       "      <td>181.0</td>\n",
       "      <td>10.0</td>\n",
       "      <td>3265.0</td>\n",
       "      <td>748.0</td>\n",
       "      <td>17.0</td>\n",
       "      <td>2500.0</td>\n",
       "    </tr>\n",
       "    <tr>\n",
       "      <th>17</th>\n",
       "      <td>3001.0</td>\n",
       "      <td>264.0</td>\n",
       "      <td>16.0</td>\n",
       "      <td>6266.0</td>\n",
       "      <td>1012.0</td>\n",
       "      <td>33.0</td>\n",
       "      <td>5221.0</td>\n",
       "    </tr>\n",
       "    <tr>\n",
       "      <th>18</th>\n",
       "      <td>5773.0</td>\n",
       "      <td>285.0</td>\n",
       "      <td>28.0</td>\n",
       "      <td>12039.0</td>\n",
       "      <td>1297.0</td>\n",
       "      <td>61.0</td>\n",
       "      <td>10681.0</td>\n",
       "    </tr>\n",
       "    <tr>\n",
       "      <th>19</th>\n",
       "      <td>6936.0</td>\n",
       "      <td>430.0</td>\n",
       "      <td>80.0</td>\n",
       "      <td>18975.0</td>\n",
       "      <td>1727.0</td>\n",
       "      <td>141.0</td>\n",
       "      <td>17107.0</td>\n",
       "    </tr>\n",
       "    <tr>\n",
       "      <th>20</th>\n",
       "      <td>7193.0</td>\n",
       "      <td>1289.0</td>\n",
       "      <td>104.0</td>\n",
       "      <td>26168.0</td>\n",
       "      <td>3016.0</td>\n",
       "      <td>245.0</td>\n",
       "      <td>22907.0</td>\n",
       "    </tr>\n",
       "    <tr>\n",
       "      <th>21</th>\n",
       "      <td>6108.0</td>\n",
       "      <td>2328.0</td>\n",
       "      <td>133.0</td>\n",
       "      <td>32276.0</td>\n",
       "      <td>5344.0</td>\n",
       "      <td>378.0</td>\n",
       "      <td>26554.0</td>\n",
       "    </tr>\n",
       "    <tr>\n",
       "      <th>22</th>\n",
       "      <td>5270.0</td>\n",
       "      <td>4758.0</td>\n",
       "      <td>148.0</td>\n",
       "      <td>37546.0</td>\n",
       "      <td>10102.0</td>\n",
       "      <td>526.0</td>\n",
       "      <td>26918.0</td>\n",
       "    </tr>\n",
       "    <tr>\n",
       "      <th>23</th>\n",
       "      <td>5706.0</td>\n",
       "      <td>6423.0</td>\n",
       "      <td>153.0</td>\n",
       "      <td>43252.0</td>\n",
       "      <td>16525.0</td>\n",
       "      <td>679.0</td>\n",
       "      <td>26048.0</td>\n",
       "    </tr>\n",
       "    <tr>\n",
       "      <th>24</th>\n",
       "      <td>3658.0</td>\n",
       "      <td>9960.0</td>\n",
       "      <td>162.0</td>\n",
       "      <td>46910.0</td>\n",
       "      <td>26485.0</td>\n",
       "      <td>841.0</td>\n",
       "      <td>19584.0</td>\n",
       "    </tr>\n",
       "    <tr>\n",
       "      <th>25</th>\n",
       "      <td>1616.0</td>\n",
       "      <td>6172.0</td>\n",
       "      <td>142.0</td>\n",
       "      <td>48526.0</td>\n",
       "      <td>32657.0</td>\n",
       "      <td>983.0</td>\n",
       "      <td>14886.0</td>\n",
       "    </tr>\n",
       "    <tr>\n",
       "      <th>26</th>\n",
       "      <td>200.0</td>\n",
       "      <td>3866.0</td>\n",
       "      <td>66.0</td>\n",
       "      <td>48726.0</td>\n",
       "      <td>36523.0</td>\n",
       "      <td>1049.0</td>\n",
       "      <td>11154.0</td>\n",
       "    </tr>\n",
       "  </tbody>\n",
       "</table>\n",
       "</div>"
      ],
      "text/plain": [
       "        infectados  recuperados  muertos  acumulado_infectados  \\\n",
       "semana                                                           \n",
       "7             34.0         43.0      1.0                 273.0   \n",
       "8             23.0         27.0      1.0                 296.0   \n",
       "9             25.0         41.0      0.0                 321.0   \n",
       "10            78.0         47.0      0.0                 399.0   \n",
       "11            87.0         19.0      0.0                 486.0   \n",
       "12           100.0         51.0      0.0                 586.0   \n",
       "13           247.0         77.0      1.0                 833.0   \n",
       "14           295.0         94.0      0.0                1128.0   \n",
       "15           748.0         94.0      3.0                1876.0   \n",
       "16          1389.0        181.0     10.0                3265.0   \n",
       "17          3001.0        264.0     16.0                6266.0   \n",
       "18          5773.0        285.0     28.0               12039.0   \n",
       "19          6936.0        430.0     80.0               18975.0   \n",
       "20          7193.0       1289.0    104.0               26168.0   \n",
       "21          6108.0       2328.0    133.0               32276.0   \n",
       "22          5270.0       4758.0    148.0               37546.0   \n",
       "23          5706.0       6423.0    153.0               43252.0   \n",
       "24          3658.0       9960.0    162.0               46910.0   \n",
       "25          1616.0       6172.0    142.0               48526.0   \n",
       "26           200.0       3866.0     66.0               48726.0   \n",
       "\n",
       "        acumulado_recuperados  acumulado_muertos  activos  \n",
       "semana                                                     \n",
       "7                       117.0                2.0    154.0  \n",
       "8                       144.0                3.0    149.0  \n",
       "9                       185.0                3.0    133.0  \n",
       "10                      232.0                3.0    164.0  \n",
       "11                      251.0                3.0    232.0  \n",
       "12                      302.0                3.0    281.0  \n",
       "13                      379.0                4.0    450.0  \n",
       "14                      473.0                4.0    651.0  \n",
       "15                      567.0                7.0   1302.0  \n",
       "16                      748.0               17.0   2500.0  \n",
       "17                     1012.0               33.0   5221.0  \n",
       "18                     1297.0               61.0  10681.0  \n",
       "19                     1727.0              141.0  17107.0  \n",
       "20                     3016.0              245.0  22907.0  \n",
       "21                     5344.0              378.0  26554.0  \n",
       "22                    10102.0              526.0  26918.0  \n",
       "23                    16525.0              679.0  26048.0  \n",
       "24                    26485.0              841.0  19584.0  \n",
       "25                    32657.0              983.0  14886.0  \n",
       "26                    36523.0             1049.0  11154.0  "
      ]
     },
     "execution_count": 31,
     "metadata": {},
     "output_type": "execute_result"
    }
   ],
   "source": [
    "urlDatasetMED_w = 'Datos/data_weekly_Medellin.pickle'\n",
    "dfMED_w = pd.read_pickle(urlDatasetMED_w)\n",
    "dfMED_w.tail(20)"
   ]
  },
  {
   "cell_type": "markdown",
   "metadata": {
    "colab_type": "text",
    "id": "tzAqlcmnPA8x"
   },
   "source": [
    "### Activos"
   ]
  },
  {
   "cell_type": "code",
   "execution_count": 32,
   "metadata": {
    "colab": {
     "base_uri": "https://localhost:8080/",
     "height": 275
    },
    "colab_type": "code",
    "executionInfo": {
     "elapsed": 675,
     "status": "ok",
     "timestamp": 1599161513183,
     "user": {
      "displayName": "Juan Manuel Lombana Martinez",
      "photoUrl": "https://lh3.googleusercontent.com/a-/AOh14GjjvnrdriZlzXxdV00af0OFnQ3lxzsrl5cE-wBq=s64",
      "userId": "06181135591528508533"
     },
     "user_tz": 300
    },
    "id": "Z-ZwHvHeO77X",
    "outputId": "b166cfee-dd6e-4942-91be-f705ec500ebc"
   },
   "outputs": [
    {
     "data": {
      "text/plain": [
       "Pipeline(memory=None,\n",
       "         steps=[('standardscaler',\n",
       "                 StandardScaler(copy=True, with_mean=True, with_std=True)),\n",
       "                ('polynomialfeatures',\n",
       "                 PolynomialFeatures(degree=5, include_bias=True,\n",
       "                                    interaction_only=False, order='C')),\n",
       "                ('lasso',\n",
       "                 Lasso(alpha=1.0, copy_X=True, fit_intercept=True,\n",
       "                       max_iter=10000, normalize=False, positive=False,\n",
       "                       precompute=False, random_state=123, selection='cyclic',\n",
       "                       tol=0.0001, warm_start=False))],\n",
       "         verbose=False)"
      ]
     },
     "execution_count": 32,
     "metadata": {},
     "output_type": "execute_result"
    }
   ],
   "source": [
    "X = dfMED_w.index.values.reshape(-1,1)\n",
    "y = dfMED_w['activos'].values.reshape(-1,1)\n",
    "X_train, X_test, y_train, y_test = train_test_split(X,y,test_size=0.3,random_state=123,shuffle=True)\n",
    "pipe = make_pipeline(StandardScaler(),PolynomialFeatures(degree=5),Lasso(max_iter=10000,random_state=123))\n",
    "pipe.fit(X_train,y_train)"
   ]
  },
  {
   "cell_type": "markdown",
   "metadata": {},
   "source": [
    "El pico de la pandemia se grafica en la semana 22."
   ]
  },
  {
   "cell_type": "code",
   "execution_count": 39,
   "metadata": {
    "colab": {},
    "colab_type": "code",
    "id": "0Z7cB6kOPG-v"
   },
   "outputs": [],
   "source": [
    "y_pred = pipe.predict(X_test)\n",
    "x_pred_future = np.arange(0,30,step=1)\n",
    "y_pred_future = pipe.predict(x_pred_future.reshape(-1,1))"
   ]
  },
  {
   "cell_type": "code",
   "execution_count": 44,
   "metadata": {
    "colab": {
     "base_uri": "https://localhost:8080/",
     "height": 499
    },
    "colab_type": "code",
    "executionInfo": {
     "elapsed": 1061,
     "status": "ok",
     "timestamp": 1599161539417,
     "user": {
      "displayName": "Juan Manuel Lombana Martinez",
      "photoUrl": "https://lh3.googleusercontent.com/a-/AOh14GjjvnrdriZlzXxdV00af0OFnQ3lxzsrl5cE-wBq=s64",
      "userId": "06181135591528508533"
     },
     "user_tz": 300
    },
    "id": "mobqityePL2u",
    "outputId": "ca9dfe1a-96e9-4f49-e3ef-13c115839233"
   },
   "outputs": [
    {
     "data": {
      "image/png": "[encoded data removed]",
      "text/plain": [
       "<Figure size 1296x576 with 1 Axes>"
      ]
     },
     "metadata": {
      "needs_background": "light"
     },
     "output_type": "display_data"
    }
   ],
   "source": [
    "f = plt.figure(figsize=(18,8))\n",
    "plt.title('Predicción Semanal de casos activos')\n",
    "plt.grid()\n",
    "plt.plot(X_train[X_train.flatten().argsort(),0],y_train[X_train.flatten().argsort(),0],'ob',markersize=3,label='Train')\n",
    "plt.plot(X_test[X_test.flatten().argsort(),0],y_test[X_test.flatten().argsort(),0],'or',markersize=2,label='Test')\n",
    "plt.plot(x_pred_future[0:24],y_pred_future[0:24],'--g',label='Predict')\n",
    "plt.plot(x_pred_future[23:],y_pred_future[23:],'--',color='orange',label='Future Predict')\n",
    "plt.plot([22,22],[-5000,30000],'--',color='lightseagreen', label='Peak') #Peak of cases.\n",
    "plt.ylim(-5000,30000)\n",
    "plt.legend(loc='upper left');"
   ]
  },
  {
   "cell_type": "code",
   "execution_count": 50,
   "metadata": {
    "colab": {
     "base_uri": "https://localhost:8080/",
     "height": 102
    },
    "colab_type": "code",
    "executionInfo": {
     "elapsed": 511,
     "status": "ok",
     "timestamp": 1599107806964,
     "user": {
      "displayName": "Juan Manuel Lombana Martinez",
      "photoUrl": "https://lh3.googleusercontent.com/a-/AOh14GjjvnrdriZlzXxdV00af0OFnQ3lxzsrl5cE-wBq=s64",
      "userId": "06181135591528508533"
     },
     "user_tz": 300
    },
    "id": "ihYYQStNPW9O",
    "outputId": "d6c4c23d-837c-4610-e6d3-7b5a929419a7"
   },
   "outputs": [
    {
     "name": "stdout",
     "output_type": "stream",
     "text": [
      "     ---- Métricas ----\n",
      "Total RMSE:\t\t1803\n",
      "Total MAE:\t\t1157\n",
      "After Peak RMSE:\t2678\n",
      "After Peak MAE:\t\t2270\n"
     ]
    }
   ],
   "source": [
    "x_val = X[22:]\n",
    "y_val = y[22:]\n",
    "y_pred_val = pipe.predict(x_val)\n",
    "print('     ---- Métricas ----')\n",
    "print('Total RMSE:\\t\\t{:.0f}'.format(np.sqrt(mean_squared_error(y_test, y_pred))))\n",
    "print('Total MAE:\\t\\t{:.0f}'.format(mean_absolute_error(y_test,y_pred)))\n",
    "print('After Peak RMSE:\\t{:.0f}'.format(np.sqrt(mean_squared_error(y_val, y_pred_val))))\n",
    "print('After Peak MAE:\\t\\t{:.0f}'.format(mean_absolute_error(y_val,y_pred_val)))"
   ]
  },
  {
   "cell_type": "markdown",
   "metadata": {
    "colab_type": "text",
    "id": "r3gzJowqXxM9"
   },
   "source": [
    "### Recuperados"
   ]
  },
  {
   "cell_type": "code",
   "execution_count": 46,
   "metadata": {
    "colab": {
     "base_uri": "https://localhost:8080/",
     "height": 221
    },
    "colab_type": "code",
    "executionInfo": {
     "elapsed": 1102,
     "status": "ok",
     "timestamp": 1599268048919,
     "user": {
      "displayName": "Juan Manuel Lombana Martinez",
      "photoUrl": "https://lh3.googleusercontent.com/a-/AOh14GjjvnrdriZlzXxdV00af0OFnQ3lxzsrl5cE-wBq=s64",
      "userId": "06181135591528508533"
     },
     "user_tz": 300
    },
    "id": "rCtzv0sJQLSw",
    "outputId": "03a6923e-3ea8-443a-8d99-1a2926545f23"
   },
   "outputs": [
    {
     "data": {
      "text/plain": [
       "Pipeline(memory=None,\n",
       "         steps=[('standardscaler',\n",
       "                 StandardScaler(copy=True, with_mean=True, with_std=True)),\n",
       "                ('polynomialfeatures',\n",
       "                 PolynomialFeatures(degree=5, include_bias=True,\n",
       "                                    interaction_only=False, order='C')),\n",
       "                ('lasso',\n",
       "                 Lasso(alpha=1.0, copy_X=True, fit_intercept=True,\n",
       "                       max_iter=1000, normalize=False, positive=False,\n",
       "                       precompute=False, random_state=123, selection='cyclic',\n",
       "                       tol=0.0001, warm_start=False))],\n",
       "         verbose=False)"
      ]
     },
     "execution_count": 46,
     "metadata": {},
     "output_type": "execute_result"
    }
   ],
   "source": [
    "X = dfMED_w.index.values.reshape(-1,1)\n",
    "y = dfMED_w['acumulado_recuperados'].values.reshape(-1,1)\n",
    "X_train, X_test, y_train, y_test = train_test_split(X,y,test_size=0.3,random_state=123,shuffle=True)\n",
    "pipe = make_pipeline(StandardScaler(),PolynomialFeatures(degree=5),Lasso(random_state=123))\n",
    "pipe.fit(X_train,y_train)"
   ]
  },
  {
   "cell_type": "code",
   "execution_count": 47,
   "metadata": {
    "colab": {},
    "colab_type": "code",
    "executionInfo": {
     "elapsed": 1028,
     "status": "ok",
     "timestamp": 1599268050775,
     "user": {
      "displayName": "Juan Manuel Lombana Martinez",
      "photoUrl": "https://lh3.googleusercontent.com/a-/AOh14GjjvnrdriZlzXxdV00af0OFnQ3lxzsrl5cE-wBq=s64",
      "userId": "06181135591528508533"
     },
     "user_tz": 300
    },
    "id": "DxXcVIjOX3rq"
   },
   "outputs": [],
   "source": [
    "y_pred = pipe.predict(X_test)\n",
    "x_pred_future = np.arange(0,30,step=1)\n",
    "y_pred_future = pipe.predict(x_pred_future.reshape(-1,1))"
   ]
  },
  {
   "cell_type": "code",
   "execution_count": 48,
   "metadata": {
    "colab": {
     "base_uri": "https://localhost:8080/",
     "height": 499
    },
    "colab_type": "code",
    "executionInfo": {
     "elapsed": 988,
     "status": "ok",
     "timestamp": 1599268075548,
     "user": {
      "displayName": "Juan Manuel Lombana Martinez",
      "photoUrl": "https://lh3.googleusercontent.com/a-/AOh14GjjvnrdriZlzXxdV00af0OFnQ3lxzsrl5cE-wBq=s64",
      "userId": "06181135591528508533"
     },
     "user_tz": 300
    },
    "id": "FMIpg2T7X5lQ",
    "outputId": "e7f236c4-2fcb-448d-dadb-ceda51843345"
   },
   "outputs": [
    {
     "data": {
      "image/png": "[encoded data removed]",
      "text/plain": [
       "<Figure size 1296x576 with 1 Axes>"
      ]
     },
     "metadata": {
      "needs_background": "light"
     },
     "output_type": "display_data"
    }
   ],
   "source": [
    "#Graph ordered data.\n",
    "f = plt.figure(figsize=(18,8))\n",
    "plt.title('Predicción Semanal de recuperados')\n",
    "plt.grid()\n",
    "plt.plot(X_train[X_train.flatten().argsort(),0],y_train[X_train.flatten().argsort(),0],'ob',markersize=3,label='Train')\n",
    "plt.plot(X_test[X_test.flatten().argsort(),0],y_test[X_test.flatten().argsort(),0],'or',markersize=2,label='Test')\n",
    "plt.plot(x_pred_future[0:24],y_pred_future[0:24],'--g',label='Predict')\n",
    "plt.plot(x_pred_future[23:],y_pred_future[23:],'--',color='orange',label='Future Predict')\n",
    "plt.plot([22,22],[-5000,50000],'--',color='lightseagreen', label='Peak') #Peak of cases.\n",
    "plt.ylim(-5000,50000)\n",
    "plt.legend(loc='upper left');"
   ]
  },
  {
   "cell_type": "code",
   "execution_count": 49,
   "metadata": {
    "colab": {
     "base_uri": "https://localhost:8080/",
     "height": 102
    },
    "colab_type": "code",
    "executionInfo": {
     "elapsed": 642,
     "status": "ok",
     "timestamp": 1599160567717,
     "user": {
      "displayName": "Juan Manuel Lombana Martinez",
      "photoUrl": "https://lh3.googleusercontent.com/a-/AOh14GjjvnrdriZlzXxdV00af0OFnQ3lxzsrl5cE-wBq=s64",
      "userId": "06181135591528508533"
     },
     "user_tz": 300
    },
    "id": "WxVjNYR-X7P3",
    "outputId": "6293c17e-b75d-4269-d96a-ae72e913f1df"
   },
   "outputs": [
    {
     "name": "stdout",
     "output_type": "stream",
     "text": [
      "     ---- Métricas ----\n",
      "Total RMSE:\t\t1803\n",
      "Total MAE:\t\t1157\n",
      "After Peak RMSE:\t2678\n",
      "After Peak MAE:\t\t2270\n"
     ]
    }
   ],
   "source": [
    "x_val = X[22:]\n",
    "y_val = y[22:]\n",
    "y_pred_val = pipe.predict(x_val)\n",
    "print('     ---- Métricas ----')\n",
    "print('Total RMSE:\\t\\t{:.0f}'.format(np.sqrt(mean_squared_error(y_test, y_pred))))\n",
    "print('Total MAE:\\t\\t{:.0f}'.format(mean_absolute_error(y_test,y_pred)))\n",
    "print('After Peak RMSE:\\t{:.0f}'.format(np.sqrt(mean_squared_error(y_val, y_pred_val))))\n",
    "print('After Peak MAE:\\t\\t{:.0f}'.format(mean_absolute_error(y_val,y_pred_val)))"
   ]
  },
  {
   "cell_type": "markdown",
   "metadata": {
    "colab_type": "text",
    "id": "7GOGiriZcMo5"
   },
   "source": [
    "### Muertos"
   ]
  },
  {
   "cell_type": "code",
   "execution_count": 51,
   "metadata": {
    "colab": {
     "base_uri": "https://localhost:8080/",
     "height": 221
    },
    "colab_type": "code",
    "executionInfo": {
     "elapsed": 605,
     "status": "ok",
     "timestamp": 1599161309220,
     "user": {
      "displayName": "Juan Manuel Lombana Martinez",
      "photoUrl": "https://lh3.googleusercontent.com/a-/AOh14GjjvnrdriZlzXxdV00af0OFnQ3lxzsrl5cE-wBq=s64",
      "userId": "06181135591528508533"
     },
     "user_tz": 300
    },
    "id": "qishb1F7cOmZ",
    "outputId": "45135d7e-be04-4c49-9587-c4c9faa6e941"
   },
   "outputs": [
    {
     "data": {
      "text/plain": [
       "Pipeline(memory=None,\n",
       "         steps=[('standardscaler',\n",
       "                 StandardScaler(copy=True, with_mean=True, with_std=True)),\n",
       "                ('polynomialfeatures',\n",
       "                 PolynomialFeatures(degree=5, include_bias=True,\n",
       "                                    interaction_only=False, order='C')),\n",
       "                ('lasso',\n",
       "                 Lasso(alpha=1.0, copy_X=True, fit_intercept=True,\n",
       "                       max_iter=1000, normalize=False, positive=False,\n",
       "                       precompute=False, random_state=123, selection='cyclic',\n",
       "                       tol=0.0001, warm_start=False))],\n",
       "         verbose=False)"
      ]
     },
     "execution_count": 51,
     "metadata": {},
     "output_type": "execute_result"
    }
   ],
   "source": [
    "X = dfMED_w.index.values.reshape(-1,1)\n",
    "y = dfMED_w['acumulado_muertos'].values.reshape(-1,1)\n",
    "X_train, X_test, y_train, y_test = train_test_split(X,y,test_size=0.3,random_state=123,shuffle=True)\n",
    "pipe = make_pipeline(StandardScaler(),PolynomialFeatures(degree=5),Lasso(random_state=123))\n",
    "pipe.fit(X_train,y_train)"
   ]
  },
  {
   "cell_type": "code",
   "execution_count": 52,
   "metadata": {
    "colab": {},
    "colab_type": "code",
    "id": "swxCP_DrcRWQ"
   },
   "outputs": [],
   "source": [
    "y_pred = pipe.predict(X_test)\n",
    "x_pred_future = np.arange(0,30,step=1)\n",
    "y_pred_future = pipe.predict(x_pred_future.reshape(-1,1))"
   ]
  },
  {
   "cell_type": "code",
   "execution_count": 54,
   "metadata": {
    "colab": {
     "base_uri": "https://localhost:8080/",
     "height": 499
    },
    "colab_type": "code",
    "executionInfo": {
     "elapsed": 1046,
     "status": "ok",
     "timestamp": 1599161447629,
     "user": {
      "displayName": "Juan Manuel Lombana Martinez",
      "photoUrl": "https://lh3.googleusercontent.com/a-/AOh14GjjvnrdriZlzXxdV00af0OFnQ3lxzsrl5cE-wBq=s64",
      "userId": "06181135591528508533"
     },
     "user_tz": 300
    },
    "id": "7UsC9fb8cUa4",
    "outputId": "05f2531c-9a28-4615-b71c-0b57cf7d8d6c"
   },
   "outputs": [
    {
     "data": {
      "image/png": "[encoded data removed]",
      "text/plain": [
       "<Figure size 1296x576 with 1 Axes>"
      ]
     },
     "metadata": {
      "needs_background": "light"
     },
     "output_type": "display_data"
    }
   ],
   "source": [
    "#Graph ordered data.\n",
    "f = plt.figure(figsize=(18,8))\n",
    "plt.title('Predicción Semanal de Muertes')\n",
    "plt.grid()\n",
    "plt.plot(X_train[X_train.flatten().argsort(),0],y_train[X_train.flatten().argsort(),0],'ob',markersize=3,label='Train')\n",
    "plt.plot(X_test[X_test.flatten().argsort(),0],y_test[X_test.flatten().argsort(),0],'or',markersize=2,label='Test')\n",
    "plt.plot(x_pred_future[0:24],y_pred_future[0:24],'--g',label='Predict')\n",
    "plt.plot(x_pred_future[23:],y_pred_future[23:],'--',color='orange',label='Future Predict')\n",
    "plt.plot([22,22],[-5000,5000],'--',color='lightseagreen', label='Peak') #Peak of cases.\n",
    "plt.ylim(-2000,2000)\n",
    "plt.legend(loc='upper left');"
   ]
  },
  {
   "cell_type": "code",
   "execution_count": 55,
   "metadata": {
    "colab": {
     "base_uri": "https://localhost:8080/",
     "height": 102
    },
    "colab_type": "code",
    "executionInfo": {
     "elapsed": 630,
     "status": "ok",
     "timestamp": 1599161356262,
     "user": {
      "displayName": "Juan Manuel Lombana Martinez",
      "photoUrl": "https://lh3.googleusercontent.com/a-/AOh14GjjvnrdriZlzXxdV00af0OFnQ3lxzsrl5cE-wBq=s64",
      "userId": "06181135591528508533"
     },
     "user_tz": 300
    },
    "id": "GcerxUFacWyR",
    "outputId": "f0ebedc4-3ca3-4823-d509-69615dbdf23b"
   },
   "outputs": [
    {
     "name": "stdout",
     "output_type": "stream",
     "text": [
      "     ---- Métricas ----\n",
      "Total RMSE:\t\t34\n",
      "Total MAE:\t\t24\n",
      "After Peak RMSE:\t57\n",
      "After Peak MAE:\t\t56\n"
     ]
    }
   ],
   "source": [
    "x_val = X[22:]\n",
    "y_val = y[22:]\n",
    "y_pred_val = pipe.predict(x_val)\n",
    "print('     ---- Métricas ----')\n",
    "print('Total RMSE:\\t\\t{:.0f}'.format(np.sqrt(mean_squared_error(y_test, y_pred))))\n",
    "print('Total MAE:\\t\\t{:.0f}'.format(mean_absolute_error(y_test,y_pred)))\n",
    "print('After Peak RMSE:\\t{:.0f}'.format(np.sqrt(mean_squared_error(y_val, y_pred_val))))\n",
    "print('After Peak MAE:\\t\\t{:.0f}'.format(mean_absolute_error(y_val,y_pred_val)))"
   ]
  }
 ],
 "metadata": {
  "colab": {
   "authorship_tag": "ABX9TyPrfDS/xsy7pBi5E+JtIL1A",
   "collapsed_sections": [],
   "mount_file_id": "1e65ez2PT-HnjAITg0O_HtXOixMx6xamn",
   "name": "3_Modelo_JLM",
   "provenance": []
  },
  "kernelspec": {
   "display_name": "Python 3",
   "language": "python",
   "name": "python3"
  },
  "language_info": {
   "codemirror_mode": {
    "name": "ipython",
    "version": 3
   },
   "file_extension": ".py",
   "mimetype": "text/x-python",
   "name": "python",
   "nbconvert_exporter": "python",
   "pygments_lexer": "ipython3",
   "version": "3.7.4"
  }
 },
 "nbformat": 4,
 "nbformat_minor": 4
}
