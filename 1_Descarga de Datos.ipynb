{
 "cells": [
  {
   "cell_type": "markdown",
   "metadata": {},
   "source": [
    "## Descarga de Datos"
   ]
  },
  {
   "cell_type": "markdown",
   "metadata": {},
   "source": [
    "Para la tarea de descarga de datos, se ha usado la libreria `Leila` proveida por el departamento nacional de planeación de colombia, la cual permite acceder de forma sencilla al portal de datos http://datos.gov.co.\n",
    "\n",
    "Documentación: https://ucd-dnp.github.io/leila/\n",
    "\n",
    "Esta libreria se debe instalar en el entorno de ejecución con el siguiente comando."
   ]
  },
  {
   "cell_type": "code",
   "execution_count": 2,
   "metadata": {
    "colab": {
     "base_uri": "https://localhost:8080/",
     "height": 1000
    },
    "colab_type": "code",
    "executionInfo": {
     "elapsed": 26777,
     "status": "ok",
     "timestamp": 1599052205820,
     "user": {
      "displayName": "Juan Manuel Lombana Martinez",
      "photoUrl": "https://lh3.googleusercontent.com/a-/AOh14GjjvnrdriZlzXxdV00af0OFnQ3lxzsrl5cE-wBq=s64",
      "userId": "06181135591528508533"
     },
     "user_tz": 300
    },
    "id": "9IoLvQtSh4bw",
    "outputId": "b125a609-027d-419a-bc16-6e348a643731"
   },
   "outputs": [
    {
     "name": "stdout",
     "output_type": "stream",
     "text": [
      "Requirement already satisfied: leila in /Users/parque/anaconda3/lib/python3.7/site-packages (0.1)\n",
      "Requirement already satisfied: urllib3==1.25.9 in /Users/parque/anaconda3/lib/python3.7/site-packages (from leila) (1.25.9)\n",
      "Requirement already satisfied: pandas==1.0.3 in /Users/parque/anaconda3/lib/python3.7/site-packages (from leila) (1.0.3)\n",
      "Requirement already satisfied: requests==2.23.0 in /Users/parque/anaconda3/lib/python3.7/site-packages (from leila) (2.23.0)\n",
      "Requirement already satisfied: MarkupSafe==1.1.1 in /Users/parque/anaconda3/lib/python3.7/site-packages (from leila) (1.1.1)\n",
      "Requirement already satisfied: sodapy==2.1.0 in /Users/parque/anaconda3/lib/python3.7/site-packages (from leila) (2.1.0)\n",
      "Requirement already satisfied: xlrd==1.2.0 in /Users/parque/anaconda3/lib/python3.7/site-packages (from leila) (1.2.0)\n",
      "Requirement already satisfied: pytz==2020.1 in /Users/parque/anaconda3/lib/python3.7/site-packages (from leila) (2020.1)\n",
      "Requirement already satisfied: phik==0.10.0 in /Users/parque/anaconda3/lib/python3.7/site-packages (from leila) (0.10.0)\n",
      "Requirement already satisfied: python-dateutil==2.8.1 in /Users/parque/anaconda3/lib/python3.7/site-packages (from leila) (2.8.1)\n",
      "Requirement already satisfied: numpy>=1.18.4 in /Users/parque/anaconda3/lib/python3.7/site-packages (from leila) (1.19.1)\n",
      "Requirement already satisfied: six==1.14.0 in /Users/parque/anaconda3/lib/python3.7/site-packages (from leila) (1.14.0)\n",
      "Requirement already satisfied: idna==2.9 in /Users/parque/anaconda3/lib/python3.7/site-packages (from leila) (2.9)\n",
      "Requirement already satisfied: scipy==1.5.1 in /Users/parque/anaconda3/lib/python3.7/site-packages (from leila) (1.5.1)\n",
      "Requirement already satisfied: chardet==3.0.4 in /Users/parque/anaconda3/lib/python3.7/site-packages (from leila) (3.0.4)\n",
      "Requirement already satisfied: Jinja2==2.11.2 in /Users/parque/anaconda3/lib/python3.7/site-packages (from leila) (2.11.2)\n",
      "Requirement already satisfied: certifi==2020.4.5.1 in /Users/parque/anaconda3/lib/python3.7/site-packages (from leila) (2020.4.5.1)\n",
      "Requirement already satisfied: numba>=0.38.1 in /Users/parque/anaconda3/lib/python3.7/site-packages (from phik==0.10.0->leila) (0.50.1)\n",
      "Requirement already satisfied: joblib>=0.14.1 in /Users/parque/anaconda3/lib/python3.7/site-packages (from phik==0.10.0->leila) (0.16.0)\n",
      "Requirement already satisfied: matplotlib>=2.2.3 in /Users/parque/anaconda3/lib/python3.7/site-packages (from phik==0.10.0->leila) (3.3.1)\n",
      "Requirement already satisfied: llvmlite<0.34,>=0.33.0.dev0 in /Users/parque/anaconda3/lib/python3.7/site-packages (from numba>=0.38.1->phik==0.10.0->leila) (0.33.0+1.g022ab0f)\n",
      "Requirement already satisfied: setuptools in /Users/parque/anaconda3/lib/python3.7/site-packages (from numba>=0.38.1->phik==0.10.0->leila) (49.6.0.post20200814)\n",
      "Requirement already satisfied: pillow>=6.2.0 in /Users/parque/anaconda3/lib/python3.7/site-packages (from matplotlib>=2.2.3->phik==0.10.0->leila) (7.2.0)\n",
      "Requirement already satisfied: kiwisolver>=1.0.1 in /Users/parque/anaconda3/lib/python3.7/site-packages (from matplotlib>=2.2.3->phik==0.10.0->leila) (1.2.0)\n",
      "Requirement already satisfied: pyparsing!=2.0.4,!=2.1.2,!=2.1.6,>=2.0.3 in /Users/parque/anaconda3/lib/python3.7/site-packages (from matplotlib>=2.2.3->phik==0.10.0->leila) (2.4.7)\n",
      "Requirement already satisfied: cycler>=0.10 in /Users/parque/anaconda3/lib/python3.7/site-packages (from matplotlib>=2.2.3->phik==0.10.0->leila) (0.10.0)\n"
     ]
    }
   ],
   "source": [
    "!pip install leila"
   ]
  },
  {
   "cell_type": "code",
   "execution_count": 3,
   "metadata": {
    "colab": {
     "base_uri": "https://localhost:8080/",
     "height": 121
    },
    "colab_type": "code",
    "executionInfo": {
     "elapsed": 96808,
     "status": "ok",
     "timestamp": 1599052275862,
     "user": {
      "displayName": "Juan Manuel Lombana Martinez",
      "photoUrl": "https://lh3.googleusercontent.com/a-/AOh14GjjvnrdriZlzXxdV00af0OFnQ3lxzsrl5cE-wBq=s64",
      "userId": "06181135591528508533"
     },
     "user_tz": 300
    },
    "id": "HhtwgXCDiI9K",
    "outputId": "603e9a65-c951-4a0a-b277-fa6143d37b6f"
   },
   "outputs": [],
   "source": [
    "import pandas as pd\n",
    "from leila import datos_gov\n",
    "import os\n",
    "import glob\n",
    "\n",
    "##Sección de código para ejecutar el ejercicio en COLAB sin realizar ningún cambio adicional.\n",
    "#from google.colab import drive\n",
    "#drive.mount(\"/content/drive\")\n",
    "#baseUrl = '/content/drive/Shared drives/Analitica Predictiva/covid-19-flr-analitica-predictiva'\n",
    "#os.chdir(baseUrl)"
   ]
  },
  {
   "cell_type": "markdown",
   "metadata": {},
   "source": [
    "El portal de datos abiertos usa el protocolo OAuth, y el componente Socrata para realizar, la autenticación del usuario, asi mismo se debe obtener el identificador del dataset; estos datos son entregados por el portal de datos.gov.co.\n",
    "\n",
    "Invocamos el metodo `cargar_base` el cual realiza la descarga del archivo y entrega un `DataFrame` de pandas."
   ]
  },
  {
   "cell_type": "code",
   "execution_count": 4,
   "metadata": {
    "colab": {},
    "colab_type": "code",
    "executionInfo": {
     "elapsed": 114214,
     "status": "ok",
     "timestamp": 1599052293272,
     "user": {
      "displayName": "Juan Manuel Lombana Martinez",
      "photoUrl": "https://lh3.googleusercontent.com/a-/AOh14GjjvnrdriZlzXxdV00af0OFnQ3lxzsrl5cE-wBq=s64",
      "userId": "06181135591528508533"
     },
     "user_tz": 300
    },
    "id": "THN2bFeAlKWQ"
   },
   "outputs": [],
   "source": [
    "#Datos de acceso Socrata - Datos.gov.co\n",
    "app_token = '1MAgZ9RfTtiqZHi7jSrdh8w1b'\n",
    "datasetId = 'gt2j-8ykr' #Identificador del conjunto de datos oficial de Covid19 en Datos.gov.co (https://www.datos.gov.co/Salud-y-Protecci-n-Social/Casos-positivos-de-COVID-19-en-Colombia/gt2j-8ykr/data)\n",
    "#Descarga del archivo.\n",
    "dfCovid = datos_gov.cargar_base(datasetId,token=app_token)"
   ]
  },
  {
   "cell_type": "markdown",
   "metadata": {},
   "source": [
    "Se guarda el archivo descargado en formato pickle, este formato resulta más comodo que un CSV o un archivo de texto, pues guarda binariamente el dataframe y ofrece mejor rendimiento al momento de cargarlo en memoria."
   ]
  },
  {
   "cell_type": "code",
   "execution_count": 5,
   "metadata": {},
   "outputs": [
    {
     "data": {
      "text/plain": [
       "(650062, 21)"
      ]
     },
     "execution_count": 5,
     "metadata": {},
     "output_type": "execute_result"
    }
   ],
   "source": [
    "dfCovid.shape"
   ]
  },
  {
   "cell_type": "code",
   "execution_count": 6,
   "metadata": {
    "colab": {},
    "colab_type": "code",
    "executionInfo": {
     "elapsed": 122101,
     "status": "ok",
     "timestamp": 1599052301162,
     "user": {
      "displayName": "Juan Manuel Lombana Martinez",
      "photoUrl": "https://lh3.googleusercontent.com/a-/AOh14GjjvnrdriZlzXxdV00af0OFnQ3lxzsrl5cE-wBq=s64",
      "userId": "06181135591528508533"
     },
     "user_tz": 300
    },
    "id": "QLK9uwhwxc6V"
   },
   "outputs": [],
   "source": [
    "dfCovid.to_pickle('Datos/covid19.pkl')"
   ]
  }
 ],
 "metadata": {
  "colab": {
   "collapsed_sections": [],
   "name": "1_Descarga de Datos",
   "provenance": []
  },
  "kernelspec": {
   "display_name": "Python 3",
   "language": "python",
   "name": "python3"
  },
  "language_info": {
   "codemirror_mode": {
    "name": "ipython",
    "version": 3
   },
   "file_extension": ".py",
   "mimetype": "text/x-python",
   "name": "python",
   "nbconvert_exporter": "python",
   "pygments_lexer": "ipython3",
   "version": "3.7.3"
  }
 },
 "nbformat": 4,
 "nbformat_minor": 4
}
