{
 "cells": [
  {
   "cell_type": "code",
   "execution_count": 1,
   "metadata": {
    "colab": {
     "base_uri": "https://localhost:8080/",
     "height": 693
    },
    "colab_type": "code",
    "executionInfo": {
     "elapsed": 136076,
     "status": "error",
     "timestamp": 1599275647104,
     "user": {
      "displayName": "Sebastian Figueroa Canas",
      "photoUrl": "",
      "userId": "12681788632430459840"
     },
     "user_tz": 300
    },
    "id": "Zp2aWgjsLnyo",
    "outputId": "3c8870f7-40fe-44cf-e107-6ae4efe1a980",
    "tags": []
   },
   "outputs": [
    {
     "name": "stdout",
     "output_type": "stream",
     "text": [
      "../3_Modelo_Bogota.ipynb  **  ../3_Modelo_Medellin.ipynb\n",
      "../3_Modelo_Bogota.ipynb  **  ../3_Modelo_Cali.ipynb\n",
      "../3_Modelo_Bogota.ipynb  **  ../3_Modelo_Barranquilla.ipynb\n",
      "../3_Modelo_Bogota.ipynb  **  ../3_Modelo_Cartagena.ipynb\n"
     ]
    }
   ],
   "source": [
    "#Gereate ssh\n",
    "import pandas as pd\n",
    "import numpy as np\n",
    "import matplotlib.pyplot as plt\n",
    "import os\n",
    "import glob\n",
    "\n",
    "ciudades = ['Bogotá D.C.','Medellín','Cali','Barranquilla', 'Cartagena de Indias']\n",
    "names = ['Bogota','Medellin','Cali','Barranquilla','Cartagena']\n",
    "\n",
    "import shutil\n",
    "origName = '../3_Modelo_{}.ipynb'.format(names[0])\n",
    "for name in names:\n",
    "    if name == names[0]:      \n",
    "        continue\n",
    "    outname = '../3_Modelo_{}.ipynb'.format(name)\n",
    "    print(origName,\" ** \", outname)\n",
    "    shutil.copyfile(origName,outname)"
   ]
  },
  {
   "cell_type": "code",
   "execution_count": 22,
   "metadata": {},
   "outputs": [],
   "source": [
    "def CopyMdFile(file_name,name):\n",
    "    f = open(file_name,)\n",
    "    lines = f.read()\n",
    "    lines = lines.replace('Bogota',name)\n",
    "    newlines = lines.replace('Bogotá',name)\n",
    "    f.close()\n",
    "    f = open(file_name,'w')\n",
    "    f.write(newlines)\n",
    "    f.close()"
   ]
  },
  {
   "cell_type": "code",
   "execution_count": 26,
   "metadata": {
    "colab": {},
    "colab_type": "code",
    "id": "r7fK863-OzSz"
   },
   "outputs": [
    {
     "name": "stdout",
     "output_type": "stream",
     "text": [
      "../docs/resultados_Bogota.md  **  ../docs/resultados_Medellin.md\n",
      "../docs/resultados_Bogota.md  **  ../docs/resultados_Cali.md\n",
      "../docs/resultados_Bogota.md  **  ../docs/resultados_Barranquilla.md\n",
      "../docs/resultados_Bogota.md  **  ../docs/resultados_Cartagena.md\n"
     ]
    }
   ],
   "source": [
    "ciudades = ['Bogotá D.C.','Medellín','Cali','Barranquilla', 'Cartagena de Indias']\n",
    "names = ['Bogota','Medellin','Cali','Barranquilla','Cartagena']\n",
    "origName = '../docs/resultados_{}.md'.format(names[0])\n",
    "for name in names:\n",
    "    if name == names[0]:      \n",
    "        continue\n",
    "    outname = '../docs/resultados_{}.md'.format(name)\n",
    "    print(origName,\" ** \", outname)\n",
    "    shutil.copyfile(origName,outname)\n",
    "    CopyMdFile(outname,name)"
   ]
  },
  {
   "cell_type": "code",
   "execution_count": 13,
   "metadata": {},
   "outputs": [
    {
     "data": {
      "text/plain": [
       "'# Resultados Medellin\\n\\n[Volver](index.md)\\n\\n## Medellin\\n\\n## Corto Plazo\\n\\n### Total activos\\n\\n![Imágenes Medellin](images/pcp_Medellin_activos.png)\\n\\n### Total Infectados\\n\\n![Imágenes Medellin](images/pcp_Medellin_infectados.png)\\n\\n### Total muertes\\n\\n![Imágenes Medellin](images/pcp_Medellin_muertes.png)\\n\\n## Largo Plazo\\n\\n## Largo Plazo\\n\\n![Imágenes Medellin](images/plp_Medellin_activos.png)\\n![Imágenes Medellin](images/plp_Medellin_infectados.png)\\n![Imágenes Medellin](images/plp_Medellin_muertes.png)'"
      ]
     },
     "execution_count": 13,
     "metadata": {},
     "output_type": "execute_result"
    }
   ],
   "source": []
  },
  {
   "cell_type": "code",
   "execution_count": null,
   "metadata": {},
   "outputs": [],
   "source": []
  }
 ],
 "metadata": {
  "colab": {
   "authorship_tag": "ABX9TyOCLmnPtmML41UPIhoogrCB",
   "name": "Committer.ipynb",
   "provenance": []
  },
  "kernelspec": {
   "display_name": "Python 3",
   "language": "python",
   "name": "python3"
  },
  "language_info": {
   "codemirror_mode": {
    "name": "ipython",
    "version": 3
   },
   "file_extension": ".py",
   "mimetype": "text/x-python",
   "name": "python",
   "nbconvert_exporter": "python",
   "pygments_lexer": "ipython3",
   "version": "3.7.3"
  }
 },
 "nbformat": 4,
 "nbformat_minor": 4
}
