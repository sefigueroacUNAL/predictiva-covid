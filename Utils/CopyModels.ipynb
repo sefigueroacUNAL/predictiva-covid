{
 "cells": [
  {
   "cell_type": "code",
   "execution_count": 1,
   "metadata": {
    "colab": {
     "base_uri": "https://localhost:8080/",
     "height": 693
    },
    "colab_type": "code",
    "executionInfo": {
     "elapsed": 136076,
     "status": "error",
     "timestamp": 1599275647104,
     "user": {
      "displayName": "Sebastian Figueroa Canas",
      "photoUrl": "",
      "userId": "12681788632430459840"
     },
     "user_tz": 300
    },
    "id": "Zp2aWgjsLnyo",
    "outputId": "3c8870f7-40fe-44cf-e107-6ae4efe1a980",
    "tags": []
   },
   "outputs": [
    {
     "name": "stdout",
     "output_type": "stream",
     "text": [
      "../3_Modelo_Bogota.ipynb  **  ../3_Modelo_Medellin.ipynb\n",
      "../3_Modelo_Bogota.ipynb  **  ../3_Modelo_Cali.ipynb\n",
      "../3_Modelo_Bogota.ipynb  **  ../3_Modelo_Barranquilla.ipynb\n",
      "../3_Modelo_Bogota.ipynb  **  ../3_Modelo_Cartagena.ipynb\n"
     ]
    }
   ],
   "source": [
    "#Gereate ssh\n",
    "import pandas as pd\n",
    "import numpy as np\n",
    "import matplotlib.pyplot as plt\n",
    "import os\n",
    "import glob\n",
    "\n",
    "ciudades = ['Bogotá D.C.','Medellín','Cali','Barranquilla', 'Cartagena de Indias']\n",
    "names = ['Bogota','Medellin','Cali','Barranquilla','Cartagena']\n",
    "\n",
    "import shutil\n",
    "origName = '../3_Modelo_{}.ipynb'.format(names[0])\n",
    "for name in names:\n",
    "    if name == names[0]:      \n",
    "        continue\n",
    "    outname = '../3_Modelo_{}.ipynb'.format(name)\n",
    "    print(origName,\" ** \", outname)\n",
    "    shutil.copyfile(origName,outname)"
   ]
  },
  {
   "cell_type": "code",
   "execution_count": null,
   "metadata": {
    "colab": {},
    "colab_type": "code",
    "id": "r7fK863-OzSz"
   },
   "outputs": [],
   "source": []
  }
 ],
 "metadata": {
  "colab": {
   "authorship_tag": "ABX9TyOCLmnPtmML41UPIhoogrCB",
   "name": "Committer.ipynb",
   "provenance": []
  },
  "kernelspec": {
   "display_name": "Python 3",
   "language": "python",
   "name": "python3"
  },
  "language_info": {
   "codemirror_mode": {
    "name": "ipython",
    "version": 3
   },
   "file_extension": ".py",
   "mimetype": "text/x-python",
   "name": "python",
   "nbconvert_exporter": "python",
   "pygments_lexer": "ipython3",
   "version": "3.7.3"
  }
 },
 "nbformat": 4,
 "nbformat_minor": 4
}
