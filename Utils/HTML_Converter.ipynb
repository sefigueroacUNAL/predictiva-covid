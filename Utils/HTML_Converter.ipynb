{
 "cells": [
  {
   "cell_type": "markdown",
   "metadata": {},
   "source": [
    "# Conversor HTML\n",
    "\n",
    "Este cuaderno permite convertir, de forma automática, los libros que se utilizan en el proceso de la creación del modelo a un formato HTML. El resultado de la conversión queda ubicado en la carpeta docs con el fin de ser usados por GitHub pages."
   ]
  },
  {
   "cell_type": "code",
   "execution_count": 1,
   "metadata": {
    "tags": []
   },
   "outputs": [
    {
     "name": "stdout",
     "output_type": "stream",
     "text": [
      "[NbConvertApp] Converting notebook ../1_Descarga de Datos.ipynb to html\n",
      "[NbConvertApp] Writing 281085 bytes to ../docs/1_Descarga de Datos.html\n",
      "[NbConvertApp] Converting notebook ../2_Preprocesamiento.ipynb to html\n",
      "[NbConvertApp] Writing 979895 bytes to ../docs/2_Preprocesamiento.html\n"
     ]
    }
   ],
   "source": [
    "#Create jupyters as html for Download and preprocessing\n",
    "!jupyter nbconvert  --to html ../1_Descarga\\ de\\ Datos.ipynb --output-dir ../docs\n",
    "!jupyter nbconvert  --to html ../2_Preprocesamiento.ipynb --output-dir ../docs"
   ]
  },
  {
   "cell_type": "code",
   "execution_count": 2,
   "metadata": {
    "tags": []
   },
   "outputs": [
    {
     "name": "stdout",
     "output_type": "stream",
     "text": [
      "[NbConvertApp] Converting notebook ../3_Modelo_Barranquilla.ipynb to html\n",
      "[NbConvertApp] Executing notebook with kernel: python3\n",
      "[NbConvertApp] Writing 720421 bytes to ../docs/3_Modelo_Barranquilla.html\n",
      "[NbConvertApp] Converting notebook ../3_Modelo_Bogota.ipynb to html\n",
      "[NbConvertApp] Executing notebook with kernel: python3\n",
      "[NbConvertApp] Writing 724015 bytes to ../docs/3_Modelo_Bogota.html\n",
      "[NbConvertApp] Converting notebook ../3_Modelo_Cali.ipynb to html\n",
      "[NbConvertApp] Executing notebook with kernel: python3\n",
      "[NbConvertApp] Writing 713319 bytes to ../docs/3_Modelo_Cali.html\n",
      "[NbConvertApp] Converting notebook ../3_Modelo_Cartagena.ipynb to html\n",
      "[NbConvertApp] Executing notebook with kernel: python3\n",
      "[NbConvertApp] Writing 705761 bytes to ../docs/3_Modelo_Cartagena.html\n",
      "[NbConvertApp] Converting notebook ../3_Modelo_Medellin.ipynb to html\n",
      "[NbConvertApp] Executing notebook with kernel: python3\n",
      "[NbConvertApp] Writing 711126 bytes to ../docs/3_Modelo_Medellin.html\n"
     ]
    }
   ],
   "source": [
    "#Create jupyters as html for Models\n",
    "!jupyter nbconvert --execute --to html ../3_Modelo_*.ipynb --output-dir ../docs"
   ]
  },
  {
   "cell_type": "code",
   "execution_count": null,
   "metadata": {},
   "outputs": [],
   "source": []
  }
 ],
 "metadata": {
  "kernelspec": {
   "display_name": "Python 3",
   "language": "python",
   "name": "python3"
  },
  "language_info": {
   "codemirror_mode": {
    "name": "ipython",
    "version": 3
   },
   "file_extension": ".py",
   "mimetype": "text/x-python",
   "name": "python",
   "nbconvert_exporter": "python",
   "pygments_lexer": "ipython3",
   "version": "3.7.3"
  }
 },
 "nbformat": 4,
 "nbformat_minor": 4
}
