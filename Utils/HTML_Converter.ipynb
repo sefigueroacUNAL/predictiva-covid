{
 "cells": [
  {
   "cell_type": "code",
   "execution_count": 1,
   "metadata": {
    "tags": []
   },
   "outputs": [
    {
     "name": "stdout",
     "output_type": "stream",
     "text": [
      "[NbConvertApp] Converting notebook ../1_Descarga de Datos.ipynb to html\n",
      "[NbConvertApp] Executing notebook with kernel: python3\n",
      "[NbConvertApp] Writing 280818 bytes to ../docs/1_Descarga de Datos.html\n",
      "[NbConvertApp] Converting notebook ../2_Preprocesamiento.ipynb to html\n",
      "[NbConvertApp] Executing notebook with kernel: python3\n",
      "[NbConvertApp] Writing 978773 bytes to ../docs/2_Preprocesamiento.html\n",
      "[NbConvertApp] Converting notebook ../3_Modelo_Barranquilla.ipynb to html\n",
      "[NbConvertApp] Executing notebook with kernel: python3\n",
      "[NbConvertApp] Writing 691429 bytes to ../docs/3_Modelo_Barranquilla.html\n",
      "[NbConvertApp] Converting notebook ../3_Modelo_Bogota.ipynb to html\n",
      "[NbConvertApp] Executing notebook with kernel: python3\n",
      "[NbConvertApp] Writing 694052 bytes to ../docs/3_Modelo_Bogota.html\n",
      "[NbConvertApp] Converting notebook ../3_Modelo_Cali.ipynb to html\n",
      "[NbConvertApp] Executing notebook with kernel: python3\n",
      "[NbConvertApp] Writing 685764 bytes to ../docs/3_Modelo_Cali.html\n",
      "[NbConvertApp] Converting notebook ../3_Modelo_Cartagena.ipynb to html\n",
      "[NbConvertApp] Executing notebook with kernel: python3\n",
      "[NbConvertApp] Writing 666737 bytes to ../docs/3_Modelo_Cartagena.html\n",
      "[NbConvertApp] Converting notebook ../3_Modelo_Medellin.ipynb to html\n",
      "[NbConvertApp] Executing notebook with kernel: python3\n",
      "[NbConvertApp] Writing 691084 bytes to ../docs/3_Modelo_Medellin.html\n",
      "[NbConvertApp] Converting notebook ../3b_LinearRegressionModel.ipynb to html\n",
      "[NbConvertApp] Executing notebook with kernel: python3\n",
      "[NbConvertApp] ERROR | Error while converting '../3b_LinearRegressionModel.ipynb'\n",
      "Traceback (most recent call last):\n",
      "  File \"/Users/parque/anaconda3/lib/python3.7/site-packages/nbconvert/nbconvertapp.py\", line 410, in export_single_notebook\n",
      "    output, resources = self.exporter.from_filename(notebook_filename, resources=resources)\n",
      "  File \"/Users/parque/anaconda3/lib/python3.7/site-packages/nbconvert/exporters/exporter.py\", line 179, in from_filename\n",
      "    return self.from_file(f, resources=resources, **kw)\n",
      "  File \"/Users/parque/anaconda3/lib/python3.7/site-packages/nbconvert/exporters/exporter.py\", line 197, in from_file\n",
      "    return self.from_notebook_node(nbformat.read(file_stream, as_version=4), resources=resources, **kw)\n",
      "  File \"/Users/parque/anaconda3/lib/python3.7/site-packages/nbconvert/exporters/html.py\", line 95, in from_notebook_node\n",
      "    return super(HTMLExporter, self).from_notebook_node(nb, resources, **kw)\n",
      "  File \"/Users/parque/anaconda3/lib/python3.7/site-packages/nbconvert/exporters/templateexporter.py\", line 307, in from_notebook_node\n",
      "    nb_copy, resources = super(TemplateExporter, self).from_notebook_node(nb, resources, **kw)\n",
      "  File \"/Users/parque/anaconda3/lib/python3.7/site-packages/nbconvert/exporters/exporter.py\", line 139, in from_notebook_node\n",
      "    nb_copy, resources = self._preprocess(nb_copy, resources)\n",
      "  File \"/Users/parque/anaconda3/lib/python3.7/site-packages/nbconvert/exporters/exporter.py\", line 316, in _preprocess\n",
      "    nbc, resc = preprocessor(nbc, resc)\n",
      "  File \"/Users/parque/anaconda3/lib/python3.7/site-packages/nbconvert/preprocessors/base.py\", line 47, in __call__\n",
      "    return self.preprocess(nb, resources)\n",
      "  File \"/Users/parque/anaconda3/lib/python3.7/site-packages/nbconvert/preprocessors/execute.py\", line 405, in preprocess\n",
      "    nb, resources = super(ExecutePreprocessor, self).preprocess(nb, resources)\n",
      "  File \"/Users/parque/anaconda3/lib/python3.7/site-packages/nbconvert/preprocessors/base.py\", line 69, in preprocess\n",
      "    nb.cells[index], resources = self.preprocess_cell(cell, resources, index)\n",
      "  File \"/Users/parque/anaconda3/lib/python3.7/site-packages/nbconvert/preprocessors/execute.py\", line 448, in preprocess_cell\n",
      "    raise CellExecutionError.from_cell_and_msg(cell, out)\n",
      "nbconvert.preprocessors.execute.CellExecutionError: An error occurred while executing the following cell:\n",
      "------------------\n",
      "import pandas as pd\n",
      "import numpy as np\n",
      "import matplotlib.pyplot as plt\n",
      "from google.colab import drive\n",
      "import os\n",
      "import glob\n",
      "------------------\n",
      "\n",
      "\u001b[0;31m---------------------------------------------------------------------------\u001b[0m\n",
      "\u001b[0;31mModuleNotFoundError\u001b[0m                       Traceback (most recent call last)\n",
      "\u001b[0;32m<ipython-input-1-f19855913ccb>\u001b[0m in \u001b[0;36m<module>\u001b[0;34m\u001b[0m\n",
      "\u001b[1;32m      2\u001b[0m \u001b[0;32mimport\u001b[0m \u001b[0mnumpy\u001b[0m \u001b[0;32mas\u001b[0m \u001b[0mnp\u001b[0m\u001b[0;34m\u001b[0m\u001b[0;34m\u001b[0m\u001b[0m\n",
      "\u001b[1;32m      3\u001b[0m \u001b[0;32mimport\u001b[0m \u001b[0mmatplotlib\u001b[0m\u001b[0;34m.\u001b[0m\u001b[0mpyplot\u001b[0m \u001b[0;32mas\u001b[0m \u001b[0mplt\u001b[0m\u001b[0;34m\u001b[0m\u001b[0;34m\u001b[0m\u001b[0m\n",
      "\u001b[0;32m----> 4\u001b[0;31m \u001b[0;32mfrom\u001b[0m \u001b[0mgoogle\u001b[0m\u001b[0;34m.\u001b[0m\u001b[0mcolab\u001b[0m \u001b[0;32mimport\u001b[0m \u001b[0mdrive\u001b[0m\u001b[0;34m\u001b[0m\u001b[0;34m\u001b[0m\u001b[0m\n",
      "\u001b[0m\u001b[1;32m      5\u001b[0m \u001b[0;32mimport\u001b[0m \u001b[0mos\u001b[0m\u001b[0;34m\u001b[0m\u001b[0;34m\u001b[0m\u001b[0m\n",
      "\u001b[1;32m      6\u001b[0m \u001b[0;32mimport\u001b[0m \u001b[0mglob\u001b[0m\u001b[0;34m\u001b[0m\u001b[0;34m\u001b[0m\u001b[0m\n",
      "\n",
      "\u001b[0;31mModuleNotFoundError\u001b[0m: No module named 'google'\n",
      "ModuleNotFoundError: No module named 'google'\n",
      "\n"
     ]
    }
   ],
   "source": [
    "#Create jupyters as html\n",
    "!jupyter nbconvert --execute --to html ../*.ipynb --output-dir ../docs"
   ]
  },
  {
   "cell_type": "code",
   "execution_count": null,
   "metadata": {},
   "outputs": [],
   "source": []
  }
 ],
 "metadata": {
  "kernelspec": {
   "display_name": "Python 3",
   "language": "python",
   "name": "python3"
  },
  "language_info": {
   "codemirror_mode": {
    "name": "ipython",
    "version": 3
   },
   "file_extension": ".py",
   "mimetype": "text/x-python",
   "name": "python",
   "nbconvert_exporter": "python",
   "pygments_lexer": "ipython3",
   "version": "3.7.3"
  }
 },
 "nbformat": 4,
 "nbformat_minor": 4
}
