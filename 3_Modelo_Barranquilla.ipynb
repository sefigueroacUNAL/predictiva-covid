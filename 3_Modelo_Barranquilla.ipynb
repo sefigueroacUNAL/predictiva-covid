{
 "cells": [
  {
   "cell_type": "markdown",
   "metadata": {},
   "source": [
    "# Modelo para la Ciudad de Barranquilla"
   ]
  },
  {
   "cell_type": "code",
   "execution_count": 1,
   "metadata": {
    "colab": {},
    "colab_type": "code",
    "executionInfo": {
     "elapsed": 1674,
     "status": "ok",
     "timestamp": 1599268041527,
     "user": {
      "displayName": "Juan Manuel Lombana Martinez",
      "photoUrl": "https://lh3.googleusercontent.com/a-/AOh14GjjvnrdriZlzXxdV00af0OFnQ3lxzsrl5cE-wBq=s64",
      "userId": "06181135591528508533"
     },
     "user_tz": 300
    },
    "id": "H4cpgpvEVunf"
   },
   "outputs": [],
   "source": [
    "import numpy as np\n",
    "import pandas as pd\n",
    "import matplotlib.pyplot as plt"
   ]
  },
  {
   "cell_type": "code",
   "execution_count": 2,
   "metadata": {
    "colab": {
     "base_uri": "https://localhost:8080/",
     "height": 34
    },
    "colab_type": "code",
    "executionInfo": {
     "elapsed": 1657,
     "status": "ok",
     "timestamp": 1599268041527,
     "user": {
      "displayName": "Juan Manuel Lombana Martinez",
      "photoUrl": "https://lh3.googleusercontent.com/a-/AOh14GjjvnrdriZlzXxdV00af0OFnQ3lxzsrl5cE-wBq=s64",
      "userId": "06181135591528508533"
     },
     "user_tz": 300
    },
    "id": "y2gAPfWtWFTJ",
    "outputId": "6f65e17a-9c15-4450-92d3-b2b8285f5437"
   },
   "outputs": [],
   "source": [
    "##Sección de código para ejecutar el ejercicio en COLAB sin realizar ningún cambio adicional.\n",
    "#from google.colab import drive\n",
    "#drive.mount('/content/drive')\n",
    "#baseUrl = '/content/drive/Shared drives/Analitica Predictiva/covid-19-flr-analitica-predictiva'\n",
    "#os.chdir(baseUrl)"
   ]
  },
  {
   "cell_type": "markdown",
   "metadata": {},
   "source": [
    "Librerias requeridas para realizar los modelos."
   ]
  },
  {
   "cell_type": "code",
   "execution_count": 3,
   "metadata": {
    "colab": {},
    "colab_type": "code",
    "executionInfo": {
     "elapsed": 2183,
     "status": "ok",
     "timestamp": 1599268042062,
     "user": {
      "displayName": "Juan Manuel Lombana Martinez",
      "photoUrl": "https://lh3.googleusercontent.com/a-/AOh14GjjvnrdriZlzXxdV00af0OFnQ3lxzsrl5cE-wBq=s64",
      "userId": "06181135591528508533"
     },
     "user_tz": 300
    },
    "id": "LnzcztOtO2OW"
   },
   "outputs": [],
   "source": [
    "from sklearn.preprocessing import PolynomialFeatures, StandardScaler\n",
    "from sklearn.linear_model import Lasso\n",
    "from sklearn.pipeline import make_pipeline\n",
    "from sklearn.model_selection import train_test_split\n",
    "from sklearn.metrics import mean_squared_error, mean_absolute_error"
   ]
  },
  {
   "cell_type": "markdown",
   "metadata": {
    "colab_type": "text",
    "id": "QeVXw8BSZEyI"
   },
   "source": [
    "## Modelo Corto Plazo"
   ]
  },
  {
   "cell_type": "code",
   "execution_count": 4,
   "metadata": {},
   "outputs": [],
   "source": [
    "ciudades = ['Bogotá D.C.','Medellín','Cali','Barranquilla', 'Cartagena de Indias']\n",
    "names = ['Bogota','Medellin','Cali','Barranquilla','Cartagena']\n",
    "id_city = 3\n",
    "name = names[id_city]\n",
    "urlDataSet = 'Datos/data_{}.pickle'.format(name)"
   ]
  },
  {
   "cell_type": "markdown",
   "metadata": {},
   "source": [
    "Se carga el dataset generado en la sección de preprocesamiento, se muestran los últimos 20 registros, para validar visualmente los ultimos días de información."
   ]
  },
  {
   "cell_type": "code",
   "execution_count": 5,
   "metadata": {
    "colab": {
     "base_uri": "https://localhost:8080/",
     "height": 700
    },
    "colab_type": "code",
    "executionInfo": {
     "elapsed": 3102,
     "status": "ok",
     "timestamp": 1599052707567,
     "user": {
      "displayName": "Juan Manuel Lombana Martinez",
      "photoUrl": "https://lh3.googleusercontent.com/a-/AOh14GjjvnrdriZlzXxdV00af0OFnQ3lxzsrl5cE-wBq=s64",
      "userId": "06181135591528508533"
     },
     "user_tz": 300
    },
    "id": "EGxtOkIqY-yT",
    "outputId": "c6995f4a-7dea-4968-eeaa-c1b77d14a90b"
   },
   "outputs": [
    {
     "data": {
      "text/html": [
       "<div>\n",
       "<style scoped>\n",
       "    .dataframe tbody tr th:only-of-type {\n",
       "        vertical-align: middle;\n",
       "    }\n",
       "\n",
       "    .dataframe tbody tr th {\n",
       "        vertical-align: top;\n",
       "    }\n",
       "\n",
       "    .dataframe thead th {\n",
       "        text-align: right;\n",
       "    }\n",
       "</style>\n",
       "<table border=\"1\" class=\"dataframe\">\n",
       "  <thead>\n",
       "    <tr style=\"text-align: right;\">\n",
       "      <th></th>\n",
       "      <th>dias</th>\n",
       "      <th>semana</th>\n",
       "      <th>infectados</th>\n",
       "      <th>recuperados</th>\n",
       "      <th>muertos</th>\n",
       "      <th>acumulado_infectados</th>\n",
       "      <th>acumulado_recuperados</th>\n",
       "      <th>acumulado_muertos</th>\n",
       "      <th>activos</th>\n",
       "    </tr>\n",
       "    <tr>\n",
       "      <th>fecha_infeccioso</th>\n",
       "      <th></th>\n",
       "      <th></th>\n",
       "      <th></th>\n",
       "      <th></th>\n",
       "      <th></th>\n",
       "      <th></th>\n",
       "      <th></th>\n",
       "      <th></th>\n",
       "      <th></th>\n",
       "    </tr>\n",
       "  </thead>\n",
       "  <tbody>\n",
       "    <tr>\n",
       "      <th>2020-08-16</th>\n",
       "      <td>163</td>\n",
       "      <td>23</td>\n",
       "      <td>65.0</td>\n",
       "      <td>325.0</td>\n",
       "      <td>3.0</td>\n",
       "      <td>35017.0</td>\n",
       "      <td>28727.0</td>\n",
       "      <td>1668.0</td>\n",
       "      <td>4622.0</td>\n",
       "    </tr>\n",
       "    <tr>\n",
       "      <th>2020-08-17</th>\n",
       "      <td>164</td>\n",
       "      <td>23</td>\n",
       "      <td>59.0</td>\n",
       "      <td>412.0</td>\n",
       "      <td>4.0</td>\n",
       "      <td>35076.0</td>\n",
       "      <td>29139.0</td>\n",
       "      <td>1672.0</td>\n",
       "      <td>4265.0</td>\n",
       "    </tr>\n",
       "    <tr>\n",
       "      <th>2020-08-18</th>\n",
       "      <td>165</td>\n",
       "      <td>23</td>\n",
       "      <td>84.0</td>\n",
       "      <td>247.0</td>\n",
       "      <td>1.0</td>\n",
       "      <td>35160.0</td>\n",
       "      <td>29386.0</td>\n",
       "      <td>1673.0</td>\n",
       "      <td>4101.0</td>\n",
       "    </tr>\n",
       "    <tr>\n",
       "      <th>2020-08-19</th>\n",
       "      <td>166</td>\n",
       "      <td>23</td>\n",
       "      <td>67.0</td>\n",
       "      <td>257.0</td>\n",
       "      <td>2.0</td>\n",
       "      <td>35227.0</td>\n",
       "      <td>29643.0</td>\n",
       "      <td>1675.0</td>\n",
       "      <td>3909.0</td>\n",
       "    </tr>\n",
       "    <tr>\n",
       "      <th>2020-08-20</th>\n",
       "      <td>167</td>\n",
       "      <td>23</td>\n",
       "      <td>136.0</td>\n",
       "      <td>608.0</td>\n",
       "      <td>7.0</td>\n",
       "      <td>35363.0</td>\n",
       "      <td>30251.0</td>\n",
       "      <td>1682.0</td>\n",
       "      <td>3430.0</td>\n",
       "    </tr>\n",
       "    <tr>\n",
       "      <th>2020-08-21</th>\n",
       "      <td>168</td>\n",
       "      <td>24</td>\n",
       "      <td>74.0</td>\n",
       "      <td>267.0</td>\n",
       "      <td>2.0</td>\n",
       "      <td>35437.0</td>\n",
       "      <td>30518.0</td>\n",
       "      <td>1684.0</td>\n",
       "      <td>3235.0</td>\n",
       "    </tr>\n",
       "    <tr>\n",
       "      <th>2020-08-22</th>\n",
       "      <td>169</td>\n",
       "      <td>24</td>\n",
       "      <td>99.0</td>\n",
       "      <td>188.0</td>\n",
       "      <td>0.0</td>\n",
       "      <td>35536.0</td>\n",
       "      <td>30706.0</td>\n",
       "      <td>1684.0</td>\n",
       "      <td>3146.0</td>\n",
       "    </tr>\n",
       "    <tr>\n",
       "      <th>2020-08-23</th>\n",
       "      <td>170</td>\n",
       "      <td>24</td>\n",
       "      <td>29.0</td>\n",
       "      <td>211.0</td>\n",
       "      <td>2.0</td>\n",
       "      <td>35565.0</td>\n",
       "      <td>30917.0</td>\n",
       "      <td>1686.0</td>\n",
       "      <td>2962.0</td>\n",
       "    </tr>\n",
       "    <tr>\n",
       "      <th>2020-08-24</th>\n",
       "      <td>171</td>\n",
       "      <td>24</td>\n",
       "      <td>32.0</td>\n",
       "      <td>257.0</td>\n",
       "      <td>4.0</td>\n",
       "      <td>35597.0</td>\n",
       "      <td>31174.0</td>\n",
       "      <td>1690.0</td>\n",
       "      <td>2733.0</td>\n",
       "    </tr>\n",
       "    <tr>\n",
       "      <th>2020-08-25</th>\n",
       "      <td>172</td>\n",
       "      <td>24</td>\n",
       "      <td>44.0</td>\n",
       "      <td>289.0</td>\n",
       "      <td>2.0</td>\n",
       "      <td>35641.0</td>\n",
       "      <td>31463.0</td>\n",
       "      <td>1692.0</td>\n",
       "      <td>2486.0</td>\n",
       "    </tr>\n",
       "    <tr>\n",
       "      <th>2020-08-26</th>\n",
       "      <td>173</td>\n",
       "      <td>24</td>\n",
       "      <td>50.0</td>\n",
       "      <td>202.0</td>\n",
       "      <td>1.0</td>\n",
       "      <td>35691.0</td>\n",
       "      <td>31665.0</td>\n",
       "      <td>1693.0</td>\n",
       "      <td>2333.0</td>\n",
       "    </tr>\n",
       "    <tr>\n",
       "      <th>2020-08-27</th>\n",
       "      <td>174</td>\n",
       "      <td>24</td>\n",
       "      <td>37.0</td>\n",
       "      <td>247.0</td>\n",
       "      <td>3.0</td>\n",
       "      <td>35728.0</td>\n",
       "      <td>31912.0</td>\n",
       "      <td>1696.0</td>\n",
       "      <td>2120.0</td>\n",
       "    </tr>\n",
       "    <tr>\n",
       "      <th>2020-08-28</th>\n",
       "      <td>175</td>\n",
       "      <td>25</td>\n",
       "      <td>31.0</td>\n",
       "      <td>380.0</td>\n",
       "      <td>5.0</td>\n",
       "      <td>35759.0</td>\n",
       "      <td>32292.0</td>\n",
       "      <td>1701.0</td>\n",
       "      <td>1766.0</td>\n",
       "    </tr>\n",
       "    <tr>\n",
       "      <th>2020-08-29</th>\n",
       "      <td>176</td>\n",
       "      <td>25</td>\n",
       "      <td>51.0</td>\n",
       "      <td>162.0</td>\n",
       "      <td>4.0</td>\n",
       "      <td>35810.0</td>\n",
       "      <td>32454.0</td>\n",
       "      <td>1705.0</td>\n",
       "      <td>1651.0</td>\n",
       "    </tr>\n",
       "    <tr>\n",
       "      <th>2020-08-30</th>\n",
       "      <td>177</td>\n",
       "      <td>25</td>\n",
       "      <td>9.0</td>\n",
       "      <td>272.0</td>\n",
       "      <td>4.0</td>\n",
       "      <td>35819.0</td>\n",
       "      <td>32726.0</td>\n",
       "      <td>1709.0</td>\n",
       "      <td>1384.0</td>\n",
       "    </tr>\n",
       "    <tr>\n",
       "      <th>2020-08-31</th>\n",
       "      <td>178</td>\n",
       "      <td>25</td>\n",
       "      <td>32.0</td>\n",
       "      <td>101.0</td>\n",
       "      <td>2.0</td>\n",
       "      <td>35851.0</td>\n",
       "      <td>32827.0</td>\n",
       "      <td>1711.0</td>\n",
       "      <td>1313.0</td>\n",
       "    </tr>\n",
       "    <tr>\n",
       "      <th>2020-09-01</th>\n",
       "      <td>179</td>\n",
       "      <td>25</td>\n",
       "      <td>22.0</td>\n",
       "      <td>134.0</td>\n",
       "      <td>8.0</td>\n",
       "      <td>35873.0</td>\n",
       "      <td>32961.0</td>\n",
       "      <td>1719.0</td>\n",
       "      <td>1193.0</td>\n",
       "    </tr>\n",
       "    <tr>\n",
       "      <th>2020-09-02</th>\n",
       "      <td>180</td>\n",
       "      <td>25</td>\n",
       "      <td>17.0</td>\n",
       "      <td>132.0</td>\n",
       "      <td>4.0</td>\n",
       "      <td>35890.0</td>\n",
       "      <td>33093.0</td>\n",
       "      <td>1723.0</td>\n",
       "      <td>1074.0</td>\n",
       "    </tr>\n",
       "    <tr>\n",
       "      <th>2020-09-03</th>\n",
       "      <td>181</td>\n",
       "      <td>25</td>\n",
       "      <td>13.0</td>\n",
       "      <td>189.0</td>\n",
       "      <td>0.0</td>\n",
       "      <td>35903.0</td>\n",
       "      <td>33282.0</td>\n",
       "      <td>1723.0</td>\n",
       "      <td>898.0</td>\n",
       "    </tr>\n",
       "    <tr>\n",
       "      <th>2020-09-04</th>\n",
       "      <td>182</td>\n",
       "      <td>26</td>\n",
       "      <td>9.0</td>\n",
       "      <td>133.0</td>\n",
       "      <td>1.0</td>\n",
       "      <td>35912.0</td>\n",
       "      <td>33415.0</td>\n",
       "      <td>1724.0</td>\n",
       "      <td>773.0</td>\n",
       "    </tr>\n",
       "  </tbody>\n",
       "</table>\n",
       "</div>"
      ],
      "text/plain": [
       "                  dias  semana  infectados  recuperados  muertos  \\\n",
       "fecha_infeccioso                                                   \n",
       "2020-08-16         163      23        65.0        325.0      3.0   \n",
       "2020-08-17         164      23        59.0        412.0      4.0   \n",
       "2020-08-18         165      23        84.0        247.0      1.0   \n",
       "2020-08-19         166      23        67.0        257.0      2.0   \n",
       "2020-08-20         167      23       136.0        608.0      7.0   \n",
       "2020-08-21         168      24        74.0        267.0      2.0   \n",
       "2020-08-22         169      24        99.0        188.0      0.0   \n",
       "2020-08-23         170      24        29.0        211.0      2.0   \n",
       "2020-08-24         171      24        32.0        257.0      4.0   \n",
       "2020-08-25         172      24        44.0        289.0      2.0   \n",
       "2020-08-26         173      24        50.0        202.0      1.0   \n",
       "2020-08-27         174      24        37.0        247.0      3.0   \n",
       "2020-08-28         175      25        31.0        380.0      5.0   \n",
       "2020-08-29         176      25        51.0        162.0      4.0   \n",
       "2020-08-30         177      25         9.0        272.0      4.0   \n",
       "2020-08-31         178      25        32.0        101.0      2.0   \n",
       "2020-09-01         179      25        22.0        134.0      8.0   \n",
       "2020-09-02         180      25        17.0        132.0      4.0   \n",
       "2020-09-03         181      25        13.0        189.0      0.0   \n",
       "2020-09-04         182      26         9.0        133.0      1.0   \n",
       "\n",
       "                  acumulado_infectados  acumulado_recuperados  \\\n",
       "fecha_infeccioso                                                \n",
       "2020-08-16                     35017.0                28727.0   \n",
       "2020-08-17                     35076.0                29139.0   \n",
       "2020-08-18                     35160.0                29386.0   \n",
       "2020-08-19                     35227.0                29643.0   \n",
       "2020-08-20                     35363.0                30251.0   \n",
       "2020-08-21                     35437.0                30518.0   \n",
       "2020-08-22                     35536.0                30706.0   \n",
       "2020-08-23                     35565.0                30917.0   \n",
       "2020-08-24                     35597.0                31174.0   \n",
       "2020-08-25                     35641.0                31463.0   \n",
       "2020-08-26                     35691.0                31665.0   \n",
       "2020-08-27                     35728.0                31912.0   \n",
       "2020-08-28                     35759.0                32292.0   \n",
       "2020-08-29                     35810.0                32454.0   \n",
       "2020-08-30                     35819.0                32726.0   \n",
       "2020-08-31                     35851.0                32827.0   \n",
       "2020-09-01                     35873.0                32961.0   \n",
       "2020-09-02                     35890.0                33093.0   \n",
       "2020-09-03                     35903.0                33282.0   \n",
       "2020-09-04                     35912.0                33415.0   \n",
       "\n",
       "                  acumulado_muertos  activos  \n",
       "fecha_infeccioso                              \n",
       "2020-08-16                   1668.0   4622.0  \n",
       "2020-08-17                   1672.0   4265.0  \n",
       "2020-08-18                   1673.0   4101.0  \n",
       "2020-08-19                   1675.0   3909.0  \n",
       "2020-08-20                   1682.0   3430.0  \n",
       "2020-08-21                   1684.0   3235.0  \n",
       "2020-08-22                   1684.0   3146.0  \n",
       "2020-08-23                   1686.0   2962.0  \n",
       "2020-08-24                   1690.0   2733.0  \n",
       "2020-08-25                   1692.0   2486.0  \n",
       "2020-08-26                   1693.0   2333.0  \n",
       "2020-08-27                   1696.0   2120.0  \n",
       "2020-08-28                   1701.0   1766.0  \n",
       "2020-08-29                   1705.0   1651.0  \n",
       "2020-08-30                   1709.0   1384.0  \n",
       "2020-08-31                   1711.0   1313.0  \n",
       "2020-09-01                   1719.0   1193.0  \n",
       "2020-09-02                   1723.0   1074.0  \n",
       "2020-09-03                   1723.0    898.0  \n",
       "2020-09-04                   1724.0    773.0  "
      ]
     },
     "execution_count": 5,
     "metadata": {},
     "output_type": "execute_result"
    }
   ],
   "source": [
    "df_city = pd.read_pickle(urlDataSet)\n",
    "df = df_city.copy()\n",
    "df.tail(20)"
   ]
  },
  {
   "cell_type": "markdown",
   "metadata": {
    "colab_type": "text",
    "id": "HRu51ggLJj9p"
   },
   "source": [
    "### Activos"
   ]
  },
  {
   "cell_type": "markdown",
   "metadata": {},
   "source": [
    "Para la predicción de casos activos se usó una Regressión Lasso con caracteristicas Polinomiales de grado 5; previamente se estandarizaron los datos, y se entrenaron con un conjunto del 70% de los datos; estos datos se toman aleatoriamente, pero al graficarlos se orden en secuencia."
   ]
  },
  {
   "cell_type": "code",
   "execution_count": 6,
   "metadata": {
    "colab": {
     "base_uri": "https://localhost:8080/",
     "height": 221
    },
    "colab_type": "code",
    "executionInfo": {
     "elapsed": 742,
     "status": "ok",
     "timestamp": 1599052716093,
     "user": {
      "displayName": "Juan Manuel Lombana Martinez",
      "photoUrl": "https://lh3.googleusercontent.com/a-/AOh14GjjvnrdriZlzXxdV00af0OFnQ3lxzsrl5cE-wBq=s64",
      "userId": "06181135591528508533"
     },
     "user_tz": 300
    },
    "id": "hrHDX35Yhepj",
    "outputId": "a1c40f75-2700-4f6b-c1e0-7a17d6dd8a99"
   },
   "outputs": [
    {
     "data": {
      "text/plain": [
       "Pipeline(steps=[('standardscaler', StandardScaler()),\n",
       "                ('polynomialfeatures', PolynomialFeatures(degree=5)),\n",
       "                ('lasso', Lasso(random_state=123))])"
      ]
     },
     "execution_count": 6,
     "metadata": {},
     "output_type": "execute_result"
    }
   ],
   "source": [
    "totalDays = len(df['dias'].values)\n",
    "X = df['dias'].values[0:totalDays-5].reshape(-1,1) #Variable independiente.\n",
    "y = df['activos'].values[0:totalDays-5].reshape(-1,1) #Variable dependiente.\n",
    "#Datos de validación - nunca entran al modelo.\n",
    "X_v = df['dias'].values[totalDays-5:].reshape(-1,1)\n",
    "y_v = df['activos'].values[totalDays-5:].reshape(-1,1)\n",
    "#Se obtiene el 70% para entrenamiento y 30% para pruebas.\n",
    "X_train, X_test, y_train, y_test = train_test_split(X,y,test_size=0.3,random_state=123,shuffle=True)\n",
    "#Se crea un pipeline con el escalado, las caracteristicas polinomiales y la regresión lasso\n",
    "pipe = make_pipeline(StandardScaler(),PolynomialFeatures(degree=5),Lasso(random_state=123))\n",
    "#Se realiza el entrenamiento.\n",
    "pipe.fit(X_train,y_train)"
   ]
  },
  {
   "cell_type": "markdown",
   "metadata": {},
   "source": [
    "Se realizan las predicciones sobre el dataset de pruebas, adicionalmente se establece el pico en el día 175, por lo cual para fines de prueba se realizan predicciones desde dicho día, hasta el día 200 de la pandemia, para probar la predicción futura de los modelos a corto plazo."
   ]
  },
  {
   "cell_type": "code",
   "execution_count": 7,
   "metadata": {
    "colab": {},
    "colab_type": "code",
    "id": "nPalclh38qB3"
   },
   "outputs": [],
   "source": [
    "#Obtener predicciones para los datos de prueba.\n",
    "y_pred = pipe.predict(X_test)\n",
    "#Predicciones futuras.\n",
    "x_pred_future = np.arange(totalDays-10,totalDays,step=1)\n",
    "y_pred_future = pipe.predict(x_pred_future.reshape(-1,1))"
   ]
  },
  {
   "cell_type": "code",
   "execution_count": 8,
   "metadata": {},
   "outputs": [],
   "source": [
    "def GetMax(*args):\n",
    "    arr = np.array([[0]])\n",
    "    for arg in args:\n",
    "        s = [x for x in arg.shape]\n",
    "        l = np.prod(s)\n",
    "        a = np.array(arg.reshape(1,l))\n",
    "        arr = np.concatenate((a,arr),axis=1)\n",
    "    return arr.max()"
   ]
  },
  {
   "cell_type": "code",
   "execution_count": 9,
   "metadata": {},
   "outputs": [],
   "source": [
    "def GetPeak(*args):\n",
    "    x_arr = np.array([[0]])\n",
    "    y_arr = np.array([[0]])\n",
    "    for x,y in args:\n",
    "        s = [x for x in x.shape]\n",
    "        l = np.prod(s)\n",
    "        xr = np.array(x.reshape(1,l))\n",
    "        yr = np.array(y.reshape(1,l))\n",
    "        x_arr = np.concatenate((x_arr,xr),axis=1)\n",
    "        y_arr = np.concatenate((y_arr,yr),axis=1)\n",
    "        print(x_arr)\n",
    "        print(y_arr)\n",
    "        print(y_arr.max())\n",
    "    return x_arr[0][y_arr.argmax()]"
   ]
  },
  {
   "cell_type": "code",
   "execution_count": 10,
   "metadata": {
    "tags": []
   },
   "outputs": [
    {
     "name": "stdout",
     "output_type": "stream",
     "text": [
      "[[  0 138  60 137  77  90 159  41 136 166  93 154 141 164  33  31 152  82\n",
      "  122  42  87 139 147 151 162  79 169 157  95  53  10  23  37 134 110 167\n",
      "  120 142   8  72 114 148 163  36  20 121  28  13  88  24 100 127 143 144\n",
      "   85]]\n",
      "[[    0.         14735.51114939  -250.69192804 14947.0696069\n",
      "   3816.57037558  8252.30853826  7256.86811276  -878.69628664\n",
      "  15142.05999696  4222.56259633  9304.50655704  9417.56080984\n",
      "  14004.03645108  5068.30336998   -70.76098038   179.11171178\n",
      "  10241.97096995  5457.23933219 16079.5871738   -946.16769116\n",
      "   7193.59231357 14507.62654991 12138.69951571 10641.73995483\n",
      "   5936.81905965  4457.07180235  3024.68749798  8132.97685533\n",
      "   9994.46981654  -984.52171261  1122.30558972  1139.90394429\n",
      "   -525.58550002 15481.55283836 14382.32981661  3812.16140994\n",
      "  15944.76494943 13729.00713758   743.88856569  2336.06387399\n",
      "  15173.55458113 11781.27904855  5500.4701255   -419.60445603\n",
      "   1395.77436468 16020.16674134   560.75287985  1450.97808226\n",
      "   7546.24232236  1035.59658437 11644.6676004  16129.12536662\n",
      "  13439.00572768 13134.47150331  6491.96195877]]\n",
      "16129.125366620032\n"
     ]
    }
   ],
   "source": [
    "Ymax = GetMax(y_train,y_test,y_pred,y_pred_future)\n",
    "Xpeak = GetPeak((X_test,y_pred))"
   ]
  },
  {
   "cell_type": "markdown",
   "metadata": {},
   "source": [
    "Se grafican los datos."
   ]
  },
  {
   "cell_type": "code",
   "execution_count": 11,
   "metadata": {
    "colab": {
     "base_uri": "https://localhost:8080/",
     "height": 499
    },
    "colab_type": "code",
    "executionInfo": {
     "elapsed": 1084,
     "status": "ok",
     "timestamp": 1599052726186,
     "user": {
      "displayName": "Juan Manuel Lombana Martinez",
      "photoUrl": "https://lh3.googleusercontent.com/a-/AOh14GjjvnrdriZlzXxdV00af0OFnQ3lxzsrl5cE-wBq=s64",
      "userId": "06181135591528508533"
     },
     "user_tz": 300
    },
    "id": "GJ01qHQx_SIY",
    "outputId": "ffd3eec2-7d98-4d48-beb1-5848d2f4b46f"
   },
   "outputs": [
    {
     "data": {
      "image/png": "[encoded data removed]",
      "text/plain": [
       "<Figure size 1296x576 with 1 Axes>"
      ]
     },
     "metadata": {
      "needs_background": "light"
     },
     "output_type": "display_data"
    }
   ],
   "source": [
    "f = plt.figure(figsize=(18,8))\n",
    "plt.title('Predicción de casos activos')\n",
    "plt.grid()\n",
    "plt.plot(X_train[X_train.flatten().argsort(),0],y_train[X_train.flatten().argsort(),0],'ob',markersize=3,label='Train')\n",
    "plt.plot(X_test[X_test.flatten().argsort(),0],y_test[X_test.flatten().argsort(),0],'or',markersize=2,label='Test')\n",
    "plt.plot(X_v,y_v,'o',color='gray',markersize=2,label='Validation')\n",
    "plt.plot(X_test[X_test.flatten().argsort(),0],y_pred[X_test.flatten().argsort()],'--g',label='Predict')\n",
    "plt.plot(x_pred_future,y_pred_future,'--',color='orange',label='Future Predict')\n",
    "plt.plot([Xpeak,Xpeak],[-5000,Ymax],'--',color='lightseagreen', label='Peak') #Peak of cases.\n",
    "plt.ylim(-5000,Ymax)\n",
    "plt.legend(loc='upper left');\n",
    "plt.savefig('docs/images/pcp_{}_activos'.format(name))"
   ]
  },
  {
   "cell_type": "code",
   "execution_count": null,
   "metadata": {
    "tags": []
   },
   "outputs": [],
   "source": [
    "\n"
   ]
  },
  {
   "cell_type": "code",
   "execution_count": 12,
   "metadata": {},
   "outputs": [],
   "source": [
    "s = [y_pred_future.shape]\n",
    "l = np.prod(s)\n"
   ]
  },
  {
   "cell_type": "markdown",
   "metadata": {},
   "source": [
    "Se calculan las métricas de la regresión, en este caso se calculan las metricas completas sobre el conjunto de prueba, adicionalmente se computan las metricas solo desde el pico en adelante como indicar de las predicciones futuras."
   ]
  },
  {
   "cell_type": "code",
   "execution_count": 13,
   "metadata": {
    "colab": {
     "base_uri": "https://localhost:8080/",
     "height": 102
    },
    "colab_type": "code",
    "executionInfo": {
     "elapsed": 699,
     "status": "ok",
     "timestamp": 1599052740183,
     "user": {
      "displayName": "Juan Manuel Lombana Martinez",
      "photoUrl": "https://lh3.googleusercontent.com/a-/AOh14GjjvnrdriZlzXxdV00af0OFnQ3lxzsrl5cE-wBq=s64",
      "userId": "06181135591528508533"
     },
     "user_tz": 300
    },
    "id": "_NhMP7t3Q3XM",
    "outputId": "769fa212-5912-4c3d-8a5f-101a9f2d9a50",
    "tags": []
   },
   "outputs": [
    {
     "name": "stdout",
     "output_type": "stream",
     "text": [
      "     ---- Métricas ----\n",
      "Total RMSE:\t\t1556\n",
      "Total MAE:\t\t1343\n",
      "Future (5 days) RMSE:\t881\n",
      "Future (5 days) MAE:\t879\n"
     ]
    }
   ],
   "source": [
    "y_pred_val = pipe.predict(X_v)\n",
    "print('     ---- Métricas ----')\n",
    "print('Total RMSE:\\t\\t{:.0f}'.format(np.sqrt(mean_squared_error(y_test, y_pred))))\n",
    "print('Total MAE:\\t\\t{:.0f}'.format(mean_absolute_error(y_test,y_pred)))\n",
    "print('Future (5 days) RMSE:\\t{:.0f}'.format(np.sqrt(mean_squared_error(y_v, y_pred_val))))\n",
    "print('Future (5 days) MAE:\\t{:.0f}'.format(mean_absolute_error(y_v,y_pred_val)))"
   ]
  },
  {
   "cell_type": "markdown",
   "metadata": {
    "colab_type": "text",
    "id": "qlEu9h2VI-7U"
   },
   "source": [
    "### Recuperados\n",
    "Para la predicción de casos recuperados se usó una Regressión Lasso con caracteristicas Polinomiales de grado 4; previamente se estandarizaron los datos, y se entrenaron con un conjunto del 70% de los datos; estos datos se toman aleatoriamente, pero al graficarlos se orden en secuencia."
   ]
  },
  {
   "cell_type": "code",
   "execution_count": 14,
   "metadata": {
    "colab": {
     "base_uri": "https://localhost:8080/"
    },
    "colab_type": "code",
    "executionInfo": {
     "elapsed": 710,
     "status": "ok",
     "timestamp": 1599052750204,
     "user": {
      "displayName": "Juan Manuel Lombana Martinez",
      "photoUrl": "https://lh3.googleusercontent.com/a-/AOh14GjjvnrdriZlzXxdV00af0OFnQ3lxzsrl5cE-wBq=s64",
      "userId": "06181135591528508533"
     },
     "user_tz": 300
    },
    "id": "_zHxNJGwGZTj",
    "outputId": "06501e40-8dc4-4a46-a277-b854b433fdf4"
   },
   "outputs": [
    {
     "data": {
      "text/plain": [
       "Pipeline(steps=[('standardscaler', StandardScaler()),\n",
       "                ('polynomialfeatures', PolynomialFeatures(degree=4)),\n",
       "                ('lasso', Lasso(random_state=123))])"
      ]
     },
     "execution_count": 14,
     "metadata": {},
     "output_type": "execute_result"
    }
   ],
   "source": [
    "totalDays = len(df['dias'].values)\n",
    "X = df['dias'].values[0:totalDays-5].reshape(-1,1) #Variable independiente.\n",
    "y = df['acumulado_recuperados'].values[0:totalDays-5].reshape(-1,1) #Variable dependiente.\n",
    "#Datos de validación - nunca entran al modelo.\n",
    "X_v = df['dias'].values[totalDays-5:].reshape(-1,1)\n",
    "y_v = df['acumulado_recuperados'].values[totalDays-5:].reshape(-1,1)\n",
    "#Se obtiene el 70% para entrenamiento y 30% para pruebas.\n",
    "X_train, X_test, y_train, y_test = train_test_split(X,y,test_size=0.3,random_state=123,shuffle=True)\n",
    "#Se crea un pipeline con el escalado, las caracteristicas polinomiales y la regresión lasso\n",
    "pipe = make_pipeline(StandardScaler(),PolynomialFeatures(degree=4),Lasso(random_state=123))\n",
    "#Se realiza el entrenamiento.\n",
    "pipe.fit(X_train,y_train)"
   ]
  },
  {
   "cell_type": "markdown",
   "metadata": {},
   "source": [
    "Se realizan las predicciones sobre el dataset de pruebas, adicionalmente se establece el pico en el día 175, por lo cual para fines de prueba se realizan predicciones desde dicho día, hasta el día 200 de la pandemia, para probar la predicción futura de los modelos a corto plazo."
   ]
  },
  {
   "cell_type": "code",
   "execution_count": 15,
   "metadata": {
    "colab": {},
    "colab_type": "code",
    "id": "cvqqk2ayJCl4"
   },
   "outputs": [],
   "source": [
    "#Obtener predicciones para los datos de prueba.\n",
    "y_pred = pipe.predict(X_test)\n",
    "#Predicciones futuras.\n",
    "x_pred_future = np.arange(totalDays-10,totalDays,step=1)\n",
    "y_pred_future = pipe.predict(x_pred_future.reshape(-1,1))"
   ]
  },
  {
   "cell_type": "code",
   "execution_count": 16,
   "metadata": {},
   "outputs": [],
   "source": [
    "Ymax = GetMax(y_train,y_test,y_pred,y_pred_future)"
   ]
  },
  {
   "cell_type": "markdown",
   "metadata": {},
   "source": [
    "Se grafican los datos."
   ]
  },
  {
   "cell_type": "code",
   "execution_count": 17,
   "metadata": {
    "colab": {
     "base_uri": "https://localhost:8080/"
    },
    "colab_type": "code",
    "executionInfo": {
     "elapsed": 1453,
     "status": "ok",
     "timestamp": 1599052752644,
     "user": {
      "displayName": "Juan Manuel Lombana Martinez",
      "photoUrl": "https://lh3.googleusercontent.com/a-/AOh14GjjvnrdriZlzXxdV00af0OFnQ3lxzsrl5cE-wBq=s64",
      "userId": "06181135591528508533"
     },
     "user_tz": 300
    },
    "id": "WbQV4J3XJEYa",
    "outputId": "3dc0b4b7-5c27-4f93-c8e0-2a90d8571153"
   },
   "outputs": [
    {
     "data": {
      "image/png": "[encoded data removed]",
      "text/plain": [
       "<Figure size 1296x576 with 1 Axes>"
      ]
     },
     "metadata": {
      "needs_background": "light"
     },
     "output_type": "display_data"
    }
   ],
   "source": [
    "f = plt.figure(figsize=(18,8))\n",
    "plt.title('Predicción de recuperados')\n",
    "plt.grid()\n",
    "plt.plot(X_train[X_train.flatten().argsort(),0],y_train[X_train.flatten().argsort(),0],'ob',markersize=3,label='Train')\n",
    "plt.plot(X_test[X_test.flatten().argsort(),0],y_test[X_test.flatten().argsort(),0],'or',markersize=2,label='Test')\n",
    "plt.plot(X_v,y_v,'o',color='gray',markersize=2,label='Validation')\n",
    "plt.plot(X_test[X_test.flatten().argsort(),0],y_pred[X_test.flatten().argsort()],'--g',label='Predict')\n",
    "plt.plot(x_pred_future,y_pred_future,'--',color='orange',label='Future Predict')\n",
    "plt.plot([Xpeak,Xpeak],[-5000,Ymax],'--',color='lightseagreen', label='Peak') #Peak of cases.\n",
    "plt.ylim(-5000,Ymax)\n",
    "plt.legend(loc='upper left');\n",
    "plt.savefig('docs/images/pcp_{}_recuperados'.format(name))"
   ]
  },
  {
   "cell_type": "markdown",
   "metadata": {},
   "source": [
    "Se calculan las métricas de la regresión, en este caso se calculan las metricas completas sobre el conjunto de prueba, adicionalmente se computan las metricas solo desde el pico en adelante como indicar de las predicciones futuras."
   ]
  },
  {
   "cell_type": "code",
   "execution_count": 18,
   "metadata": {
    "colab": {
     "base_uri": "https://localhost:8080/"
    },
    "colab_type": "code",
    "executionInfo": {
     "elapsed": 905,
     "status": "ok",
     "timestamp": 1599052757674,
     "user": {
      "displayName": "Juan Manuel Lombana Martinez",
      "photoUrl": "https://lh3.googleusercontent.com/a-/AOh14GjjvnrdriZlzXxdV00af0OFnQ3lxzsrl5cE-wBq=s64",
      "userId": "06181135591528508533"
     },
     "user_tz": 300
    },
    "id": "vpXpyg6K2xu6",
    "outputId": "72cc7211-1a59-4c81-8e3b-5edeb1189752",
    "tags": []
   },
   "outputs": [
    {
     "name": "stdout",
     "output_type": "stream",
     "text": [
      "     ---- Métricas ----\n",
      "Total RMSE:\t\t1455\n",
      "Total MAE:\t\t1207\n",
      "Future (5 days) RMSE:\t3460\n",
      "Future (5 days) MAE:\t3419\n"
     ]
    }
   ],
   "source": [
    "y_pred_val = pipe.predict(X_v)\n",
    "print('     ---- Métricas ----')\n",
    "print('Total RMSE:\\t\\t{:.0f}'.format(np.sqrt(mean_squared_error(y_test, y_pred))))\n",
    "print('Total MAE:\\t\\t{:.0f}'.format(mean_absolute_error(y_test,y_pred)))\n",
    "print('Future (5 days) RMSE:\\t{:.0f}'.format(np.sqrt(mean_squared_error(y_v, y_pred_val))))\n",
    "print('Future (5 days) MAE:\\t{:.0f}'.format(mean_absolute_error(y_v,y_pred_val)))\n"
   ]
  },
  {
   "cell_type": "markdown",
   "metadata": {
    "colab_type": "text",
    "id": "i2U-CF5PJrF0"
   },
   "source": [
    "### Muertes\n",
    "Para la predicción de las muertes se usó una Regressión Lasso con caracteristicas Polinomiales de grado 6; previamente se estandarizaron los datos, y se entrenaron con un conjunto del 70% de los datos; estos datos se toman aleatoriamente, pero al graficarlos se orden en secuencia."
   ]
  },
  {
   "cell_type": "code",
   "execution_count": 19,
   "metadata": {
    "colab": {
     "base_uri": "https://localhost:8080/"
    },
    "colab_type": "code",
    "executionInfo": {
     "elapsed": 753,
     "status": "ok",
     "timestamp": 1599052764782,
     "user": {
      "displayName": "Juan Manuel Lombana Martinez",
      "photoUrl": "https://lh3.googleusercontent.com/a-/AOh14GjjvnrdriZlzXxdV00af0OFnQ3lxzsrl5cE-wBq=s64",
      "userId": "06181135591528508533"
     },
     "user_tz": 300
    },
    "id": "ZLV827mPJGDi",
    "outputId": "53060c32-e2bb-4bd9-9df2-4822a563e5e6"
   },
   "outputs": [
    {
     "data": {
      "text/plain": [
       "Pipeline(steps=[('standardscaler', StandardScaler()),\n",
       "                ('polynomialfeatures', PolynomialFeatures(degree=6)),\n",
       "                ('lasso', Lasso(max_iter=10000, random_state=123))])"
      ]
     },
     "execution_count": 19,
     "metadata": {},
     "output_type": "execute_result"
    }
   ],
   "source": [
    "totalDays = len(df['dias'].values)\n",
    "X = df['dias'].values[0:totalDays-5].reshape(-1,1) #Variable independiente.\n",
    "y = df['acumulado_muertos'].values[0:totalDays-5].reshape(-1,1) #Variable dependiente.\n",
    "#Datos de validación - nunca entran al modelo.\n",
    "X_v = df['dias'].values[totalDays-5:].reshape(-1,1)\n",
    "y_v = df['acumulado_muertos'].values[totalDays-5:].reshape(-1,1)\n",
    "\n",
    "X_train, X_test, y_train, y_test = train_test_split(X,y,test_size=0.3,random_state=123,shuffle=True)\n",
    "pipe = make_pipeline(StandardScaler(),PolynomialFeatures(degree=6),Lasso(random_state=123,max_iter=10000))\n",
    "pipe.fit(X_train,y_train)"
   ]
  },
  {
   "cell_type": "code",
   "execution_count": 20,
   "metadata": {
    "colab": {},
    "colab_type": "code",
    "id": "doTn5gN5J-MT"
   },
   "outputs": [],
   "source": [
    "y_pred = pipe.predict(X_test)\n",
    "x_pred_future = np.arange(totalDays-10,totalDays,step=1)\n",
    "y_pred_future = pipe.predict(x_pred_future.reshape(-1,1))\n",
    "Ymax = GetMax(y_train,y_test,y_pred,y_pred_future)"
   ]
  },
  {
   "cell_type": "code",
   "execution_count": 21,
   "metadata": {
    "colab": {
     "base_uri": "https://localhost:8080/"
    },
    "colab_type": "code",
    "executionInfo": {
     "elapsed": 870,
     "status": "ok",
     "timestamp": 1599052772309,
     "user": {
      "displayName": "Juan Manuel Lombana Martinez",
      "photoUrl": "https://lh3.googleusercontent.com/a-/AOh14GjjvnrdriZlzXxdV00af0OFnQ3lxzsrl5cE-wBq=s64",
      "userId": "06181135591528508533"
     },
     "user_tz": 300
    },
    "id": "uM57zoZDJ-tr",
    "outputId": "f4fd1cf8-bed4-4a35-b38b-5fea4028a8d8"
   },
   "outputs": [
    {
     "data": {
      "image/png": "[encoded data removed]",
      "text/plain": [
       "<Figure size 1296x576 with 1 Axes>"
      ]
     },
     "metadata": {
      "needs_background": "light"
     },
     "output_type": "display_data"
    }
   ],
   "source": [
    "#Graph ordered data.\n",
    "f = plt.figure(figsize=(18,8))\n",
    "plt.title('Predicción de muertes')\n",
    "plt.grid()\n",
    "plt.plot(X_train[X_train.flatten().argsort(),0],y_train[X_train.flatten().argsort(),0],'ob',markersize=3,label='Train')\n",
    "plt.plot(X_test[X_test.flatten().argsort(),0],y_test[X_test.flatten().argsort(),0],'or',markersize=2,label='Test')\n",
    "plt.plot(X_v,y_v,'o',color='gray',markersize=2,label='Validation')\n",
    "plt.plot(X_test[X_test.flatten().argsort(),0],y_pred[X_test.flatten().argsort()],'--g',label='Predict')\n",
    "plt.plot(x_pred_future,y_pred_future,'--',color='orange',label='Future Predict')\n",
    "plt.plot([Xpeak,Xpeak],[-10,Ymax],'--',color='lightseagreen', label='Peak') #Peak of cases.\n",
    "plt.ylim(-10,Ymax)\n",
    "plt.legend(loc='upper left');\n",
    "plt.savefig('docs/images/pcp_{}_muertes'.format(name))"
   ]
  },
  {
   "cell_type": "code",
   "execution_count": 22,
   "metadata": {
    "colab": {
     "base_uri": "https://localhost:8080/"
    },
    "colab_type": "code",
    "executionInfo": {
     "elapsed": 663,
     "status": "ok",
     "timestamp": 1599052776755,
     "user": {
      "displayName": "Juan Manuel Lombana Martinez",
      "photoUrl": "https://lh3.googleusercontent.com/a-/AOh14GjjvnrdriZlzXxdV00af0OFnQ3lxzsrl5cE-wBq=s64",
      "userId": "06181135591528508533"
     },
     "user_tz": 300
    },
    "id": "MH1iookH3-Lt",
    "outputId": "9f01f9dc-e2f1-4310-df6f-2df596bfeab6",
    "tags": []
   },
   "outputs": [
    {
     "name": "stdout",
     "output_type": "stream",
     "text": [
      "     ---- Métricas ----\n",
      "Total RMSE:\t\t37\n",
      "Total MAE:\t\t30\n",
      "Future (5 days) RMSE:\t24\n",
      "Future (5 days) MAE:\t17\n"
     ]
    }
   ],
   "source": [
    "y_pred_val = pipe.predict(X_v)\n",
    "print('     ---- Métricas ----')\n",
    "print('Total RMSE:\\t\\t{:.0f}'.format(np.sqrt(mean_squared_error(y_test, y_pred))))\n",
    "print('Total MAE:\\t\\t{:.0f}'.format(mean_absolute_error(y_test,y_pred)))\n",
    "print('Future (5 days) RMSE:\\t{:.0f}'.format(np.sqrt(mean_squared_error(y_v, y_pred_val))))\n",
    "print('Future (5 days) MAE:\\t{:.0f}'.format(mean_absolute_error(y_v,y_pred_val)))"
   ]
  },
  {
   "cell_type": "markdown",
   "metadata": {
    "colab_type": "text",
    "id": "86hUjNhNKaVc"
   },
   "source": [
    "### Infectados\n",
    "Para la predicción de los infectados se usó una Regressión Lasso con caracteristicas Polinomiales de grado 4; previamente se estandarizaron los datos, y se entrenaron con un conjunto del 70% de los datos; estos datos se toman aleatoriamente, pero al graficarlos se orden en secuencia."
   ]
  },
  {
   "cell_type": "code",
   "execution_count": 23,
   "metadata": {
    "colab": {
     "base_uri": "https://localhost:8080/",
     "height": 221
    },
    "colab_type": "code",
    "executionInfo": {
     "elapsed": 707,
     "status": "ok",
     "timestamp": 1599052781291,
     "user": {
      "displayName": "Juan Manuel Lombana Martinez",
      "photoUrl": "https://lh3.googleusercontent.com/a-/AOh14GjjvnrdriZlzXxdV00af0OFnQ3lxzsrl5cE-wBq=s64",
      "userId": "06181135591528508533"
     },
     "user_tz": 300
    },
    "id": "2tNQeSn_KBR0",
    "outputId": "e0deb692-b4e5-4d19-9c30-db2a5d7bf8c1"
   },
   "outputs": [
    {
     "data": {
      "text/plain": [
       "Pipeline(steps=[('standardscaler', StandardScaler()),\n",
       "                ('polynomialfeatures', PolynomialFeatures(degree=5)),\n",
       "                ('lasso', Lasso(random_state=123))])"
      ]
     },
     "execution_count": 23,
     "metadata": {},
     "output_type": "execute_result"
    }
   ],
   "source": [
    "totalDays = len(df['dias'].values)\n",
    "X = df['dias'].values[0:totalDays-5].reshape(-1,1) #Variable independiente.\n",
    "y = df['acumulado_infectados'].values[0:totalDays-5].reshape(-1,1) #Variable dependiente.\n",
    "#Datos de validación - nunca entran al modelo.\n",
    "X_v = df['dias'].values[totalDays-5:].reshape(-1,1)\n",
    "y_v = df['acumulado_infectados'].values[totalDays-5:].reshape(-1,1)\n",
    "\n",
    "X_train, X_test, y_train, y_test = train_test_split(X,y,test_size=0.3,random_state=123,shuffle=True)\n",
    "pipe = make_pipeline(StandardScaler(),PolynomialFeatures(degree=5),Lasso(random_state=123))\n",
    "pipe.fit(X_train,y_train)"
   ]
  },
  {
   "cell_type": "code",
   "execution_count": 24,
   "metadata": {
    "colab": {},
    "colab_type": "code",
    "id": "m3voeNGUKf4B"
   },
   "outputs": [],
   "source": [
    "y_pred = pipe.predict(X_test)\n",
    "x_pred_future = np.arange(totalDays-10,totalDays,step=1)\n",
    "y_pred_future = pipe.predict(x_pred_future.reshape(-1,1))\n",
    "Ymax = GetMax(y_train,y_test,y_pred,y_pred_future)"
   ]
  },
  {
   "cell_type": "code",
   "execution_count": 25,
   "metadata": {
    "colab": {
     "base_uri": "https://localhost:8080/",
     "height": 499
    },
    "colab_type": "code",
    "executionInfo": {
     "elapsed": 981,
     "status": "ok",
     "timestamp": 1599052787685,
     "user": {
      "displayName": "Juan Manuel Lombana Martinez",
      "photoUrl": "https://lh3.googleusercontent.com/a-/AOh14GjjvnrdriZlzXxdV00af0OFnQ3lxzsrl5cE-wBq=s64",
      "userId": "06181135591528508533"
     },
     "user_tz": 300
    },
    "id": "2m1Rxj53Khjj",
    "outputId": "6583bf8f-9ba4-488f-c61c-d0c8d96fbb77"
   },
   "outputs": [
    {
     "data": {
      "image/png": "[encoded data removed]",
      "text/plain": [
       "<Figure size 1296x576 with 1 Axes>"
      ]
     },
     "metadata": {
      "needs_background": "light"
     },
     "output_type": "display_data"
    }
   ],
   "source": [
    "#Graph ordered data.\n",
    "f = plt.figure(figsize=(18,8))\n",
    "plt.title('Predicción de infectados')\n",
    "plt.grid()\n",
    "plt.plot(X_train[X_train.flatten().argsort(),0],y_train[X_train.flatten().argsort(),0],'ob',markersize=3,label='Train')\n",
    "plt.plot(X_test[X_test.flatten().argsort(),0],y_test[X_test.flatten().argsort(),0],'or',markersize=2,label='Test')\n",
    "plt.plot(X_v,y_v,'o',color='gray',markersize=2,label='Validation')\n",
    "plt.plot(X_test[X_test.flatten().argsort(),0],y_pred[X_test.flatten().argsort()],'--g',label='Predict')\n",
    "plt.plot(x_pred_future,y_pred_future,'--',color='orange',label='Future Predict')\n",
    "plt.plot([Xpeak,Xpeak],[-10000,Ymax],'--',color='lightseagreen', label='Peak') #Peak of cases.\n",
    "plt.ylim(-10000,Ymax)\n",
    "plt.legend(loc='upper left');\n",
    "plt.savefig('docs/images/pcp_{}_infectados'.format(name))"
   ]
  },
  {
   "cell_type": "code",
   "execution_count": 26,
   "metadata": {
    "colab": {
     "base_uri": "https://localhost:8080/",
     "height": 102
    },
    "colab_type": "code",
    "executionInfo": {
     "elapsed": 696,
     "status": "ok",
     "timestamp": 1599052792858,
     "user": {
      "displayName": "Juan Manuel Lombana Martinez",
      "photoUrl": "https://lh3.googleusercontent.com/a-/AOh14GjjvnrdriZlzXxdV00af0OFnQ3lxzsrl5cE-wBq=s64",
      "userId": "06181135591528508533"
     },
     "user_tz": 300
    },
    "id": "APnL6CHtxjqL",
    "outputId": "7605549d-5fed-48a2-c640-cbe976eaa0f5",
    "tags": []
   },
   "outputs": [
    {
     "name": "stdout",
     "output_type": "stream",
     "text": [
      "     ---- Métricas ----\n",
      "Total RMSE:\t\t1035\n",
      "Total MAE:\t\t877\n",
      "Future (5 days) RMSE:\t2203\n",
      "Future (5 days) MAE:\t2159\n"
     ]
    }
   ],
   "source": [
    "y_pred_val = pipe.predict(X_v)\n",
    "print('     ---- Métricas ----')\n",
    "print('Total RMSE:\\t\\t{:.0f}'.format(np.sqrt(mean_squared_error(y_test, y_pred))))\n",
    "print('Total MAE:\\t\\t{:.0f}'.format(mean_absolute_error(y_test,y_pred)))\n",
    "print('Future (5 days) RMSE:\\t{:.0f}'.format(np.sqrt(mean_squared_error(y_v, y_pred_val))))\n",
    "print('Future (5 days) MAE:\\t{:.0f}'.format(mean_absolute_error(y_v,y_pred_val)))"
   ]
  },
  {
   "cell_type": "markdown",
   "metadata": {
    "colab_type": "text",
    "id": "J6mx0PZzOsaE"
   },
   "source": [
    "## Modelo Mediano Plazo\n",
    "Para los modelos de mediano plazo, se sigue la misma dinámica que en corto plazo, pero se trabaja con un conjunto de datos que se preprocesó para que tenga los datos acumulados semanalmente, esto permite obtener las predicciones de Infectados, recuperados y muertos por semana."
   ]
  },
  {
   "cell_type": "code",
   "execution_count": 27,
   "metadata": {
    "colab": {
     "base_uri": "https://localhost:8080/",
     "height": 700
    },
    "colab_type": "code",
    "executionInfo": {
     "elapsed": 3287,
     "status": "ok",
     "timestamp": 1599268045357,
     "user": {
      "displayName": "Juan Manuel Lombana Martinez",
      "photoUrl": "https://lh3.googleusercontent.com/a-/AOh14GjjvnrdriZlzXxdV00af0OFnQ3lxzsrl5cE-wBq=s64",
      "userId": "06181135591528508533"
     },
     "user_tz": 300
    },
    "id": "c9JymuCTOvRm",
    "outputId": "fd1d55e4-51f3-4dc4-a085-f58c7f22e482"
   },
   "outputs": [
    {
     "data": {
      "text/html": [
       "<div>\n",
       "<style scoped>\n",
       "    .dataframe tbody tr th:only-of-type {\n",
       "        vertical-align: middle;\n",
       "    }\n",
       "\n",
       "    .dataframe tbody tr th {\n",
       "        vertical-align: top;\n",
       "    }\n",
       "\n",
       "    .dataframe thead th {\n",
       "        text-align: right;\n",
       "    }\n",
       "</style>\n",
       "<table border=\"1\" class=\"dataframe\">\n",
       "  <thead>\n",
       "    <tr style=\"text-align: right;\">\n",
       "      <th></th>\n",
       "      <th>infectados</th>\n",
       "      <th>recuperados</th>\n",
       "      <th>muertos</th>\n",
       "      <th>acumulado_infectados</th>\n",
       "      <th>acumulado_recuperados</th>\n",
       "      <th>acumulado_muertos</th>\n",
       "      <th>activos</th>\n",
       "    </tr>\n",
       "    <tr>\n",
       "      <th>semana</th>\n",
       "      <th></th>\n",
       "      <th></th>\n",
       "      <th></th>\n",
       "      <th></th>\n",
       "      <th></th>\n",
       "      <th></th>\n",
       "      <th></th>\n",
       "    </tr>\n",
       "  </thead>\n",
       "  <tbody>\n",
       "    <tr>\n",
       "      <th>7</th>\n",
       "      <td>237.0</td>\n",
       "      <td>9.0</td>\n",
       "      <td>6.0</td>\n",
       "      <td>481.0</td>\n",
       "      <td>47.0</td>\n",
       "      <td>11.0</td>\n",
       "      <td>423.0</td>\n",
       "    </tr>\n",
       "    <tr>\n",
       "      <th>8</th>\n",
       "      <td>554.0</td>\n",
       "      <td>27.0</td>\n",
       "      <td>13.0</td>\n",
       "      <td>1035.0</td>\n",
       "      <td>74.0</td>\n",
       "      <td>24.0</td>\n",
       "      <td>937.0</td>\n",
       "    </tr>\n",
       "    <tr>\n",
       "      <th>9</th>\n",
       "      <td>640.0</td>\n",
       "      <td>27.0</td>\n",
       "      <td>11.0</td>\n",
       "      <td>1675.0</td>\n",
       "      <td>101.0</td>\n",
       "      <td>35.0</td>\n",
       "      <td>1539.0</td>\n",
       "    </tr>\n",
       "    <tr>\n",
       "      <th>10</th>\n",
       "      <td>1056.0</td>\n",
       "      <td>79.0</td>\n",
       "      <td>13.0</td>\n",
       "      <td>2731.0</td>\n",
       "      <td>180.0</td>\n",
       "      <td>48.0</td>\n",
       "      <td>2503.0</td>\n",
       "    </tr>\n",
       "    <tr>\n",
       "      <th>11</th>\n",
       "      <td>1316.0</td>\n",
       "      <td>147.0</td>\n",
       "      <td>44.0</td>\n",
       "      <td>4047.0</td>\n",
       "      <td>327.0</td>\n",
       "      <td>92.0</td>\n",
       "      <td>3628.0</td>\n",
       "    </tr>\n",
       "    <tr>\n",
       "      <th>12</th>\n",
       "      <td>2379.0</td>\n",
       "      <td>383.0</td>\n",
       "      <td>104.0</td>\n",
       "      <td>6426.0</td>\n",
       "      <td>710.0</td>\n",
       "      <td>196.0</td>\n",
       "      <td>5520.0</td>\n",
       "    </tr>\n",
       "    <tr>\n",
       "      <th>13</th>\n",
       "      <td>3822.0</td>\n",
       "      <td>545.0</td>\n",
       "      <td>164.0</td>\n",
       "      <td>10248.0</td>\n",
       "      <td>1255.0</td>\n",
       "      <td>360.0</td>\n",
       "      <td>8633.0</td>\n",
       "    </tr>\n",
       "    <tr>\n",
       "      <th>14</th>\n",
       "      <td>4372.0</td>\n",
       "      <td>425.0</td>\n",
       "      <td>231.0</td>\n",
       "      <td>14620.0</td>\n",
       "      <td>1680.0</td>\n",
       "      <td>591.0</td>\n",
       "      <td>12349.0</td>\n",
       "    </tr>\n",
       "    <tr>\n",
       "      <th>15</th>\n",
       "      <td>4906.0</td>\n",
       "      <td>1282.0</td>\n",
       "      <td>248.0</td>\n",
       "      <td>19526.0</td>\n",
       "      <td>2962.0</td>\n",
       "      <td>839.0</td>\n",
       "      <td>15725.0</td>\n",
       "    </tr>\n",
       "    <tr>\n",
       "      <th>16</th>\n",
       "      <td>4293.0</td>\n",
       "      <td>1915.0</td>\n",
       "      <td>215.0</td>\n",
       "      <td>23819.0</td>\n",
       "      <td>4877.0</td>\n",
       "      <td>1054.0</td>\n",
       "      <td>17888.0</td>\n",
       "    </tr>\n",
       "    <tr>\n",
       "      <th>17</th>\n",
       "      <td>3041.0</td>\n",
       "      <td>2187.0</td>\n",
       "      <td>199.0</td>\n",
       "      <td>26860.0</td>\n",
       "      <td>7064.0</td>\n",
       "      <td>1253.0</td>\n",
       "      <td>18543.0</td>\n",
       "    </tr>\n",
       "    <tr>\n",
       "      <th>18</th>\n",
       "      <td>2846.0</td>\n",
       "      <td>3653.0</td>\n",
       "      <td>144.0</td>\n",
       "      <td>29706.0</td>\n",
       "      <td>10717.0</td>\n",
       "      <td>1397.0</td>\n",
       "      <td>17592.0</td>\n",
       "    </tr>\n",
       "    <tr>\n",
       "      <th>19</th>\n",
       "      <td>1574.0</td>\n",
       "      <td>5339.0</td>\n",
       "      <td>111.0</td>\n",
       "      <td>31280.0</td>\n",
       "      <td>16056.0</td>\n",
       "      <td>1508.0</td>\n",
       "      <td>13716.0</td>\n",
       "    </tr>\n",
       "    <tr>\n",
       "      <th>20</th>\n",
       "      <td>1753.0</td>\n",
       "      <td>5301.0</td>\n",
       "      <td>74.0</td>\n",
       "      <td>33033.0</td>\n",
       "      <td>21357.0</td>\n",
       "      <td>1582.0</td>\n",
       "      <td>10094.0</td>\n",
       "    </tr>\n",
       "    <tr>\n",
       "      <th>21</th>\n",
       "      <td>1127.0</td>\n",
       "      <td>3271.0</td>\n",
       "      <td>42.0</td>\n",
       "      <td>34160.0</td>\n",
       "      <td>24628.0</td>\n",
       "      <td>1624.0</td>\n",
       "      <td>7908.0</td>\n",
       "    </tr>\n",
       "    <tr>\n",
       "      <th>22</th>\n",
       "      <td>630.0</td>\n",
       "      <td>2609.0</td>\n",
       "      <td>35.0</td>\n",
       "      <td>34790.0</td>\n",
       "      <td>27237.0</td>\n",
       "      <td>1659.0</td>\n",
       "      <td>5894.0</td>\n",
       "    </tr>\n",
       "    <tr>\n",
       "      <th>23</th>\n",
       "      <td>573.0</td>\n",
       "      <td>3014.0</td>\n",
       "      <td>23.0</td>\n",
       "      <td>35363.0</td>\n",
       "      <td>30251.0</td>\n",
       "      <td>1682.0</td>\n",
       "      <td>3430.0</td>\n",
       "    </tr>\n",
       "    <tr>\n",
       "      <th>24</th>\n",
       "      <td>365.0</td>\n",
       "      <td>1661.0</td>\n",
       "      <td>14.0</td>\n",
       "      <td>35728.0</td>\n",
       "      <td>31912.0</td>\n",
       "      <td>1696.0</td>\n",
       "      <td>2120.0</td>\n",
       "    </tr>\n",
       "    <tr>\n",
       "      <th>25</th>\n",
       "      <td>175.0</td>\n",
       "      <td>1370.0</td>\n",
       "      <td>27.0</td>\n",
       "      <td>35903.0</td>\n",
       "      <td>33282.0</td>\n",
       "      <td>1723.0</td>\n",
       "      <td>898.0</td>\n",
       "    </tr>\n",
       "    <tr>\n",
       "      <th>26</th>\n",
       "      <td>9.0</td>\n",
       "      <td>133.0</td>\n",
       "      <td>1.0</td>\n",
       "      <td>35912.0</td>\n",
       "      <td>33415.0</td>\n",
       "      <td>1724.0</td>\n",
       "      <td>773.0</td>\n",
       "    </tr>\n",
       "  </tbody>\n",
       "</table>\n",
       "</div>"
      ],
      "text/plain": [
       "        infectados  recuperados  muertos  acumulado_infectados  \\\n",
       "semana                                                           \n",
       "7            237.0          9.0      6.0                 481.0   \n",
       "8            554.0         27.0     13.0                1035.0   \n",
       "9            640.0         27.0     11.0                1675.0   \n",
       "10          1056.0         79.0     13.0                2731.0   \n",
       "11          1316.0        147.0     44.0                4047.0   \n",
       "12          2379.0        383.0    104.0                6426.0   \n",
       "13          3822.0        545.0    164.0               10248.0   \n",
       "14          4372.0        425.0    231.0               14620.0   \n",
       "15          4906.0       1282.0    248.0               19526.0   \n",
       "16          4293.0       1915.0    215.0               23819.0   \n",
       "17          3041.0       2187.0    199.0               26860.0   \n",
       "18          2846.0       3653.0    144.0               29706.0   \n",
       "19          1574.0       5339.0    111.0               31280.0   \n",
       "20          1753.0       5301.0     74.0               33033.0   \n",
       "21          1127.0       3271.0     42.0               34160.0   \n",
       "22           630.0       2609.0     35.0               34790.0   \n",
       "23           573.0       3014.0     23.0               35363.0   \n",
       "24           365.0       1661.0     14.0               35728.0   \n",
       "25           175.0       1370.0     27.0               35903.0   \n",
       "26             9.0        133.0      1.0               35912.0   \n",
       "\n",
       "        acumulado_recuperados  acumulado_muertos  activos  \n",
       "semana                                                     \n",
       "7                        47.0               11.0    423.0  \n",
       "8                        74.0               24.0    937.0  \n",
       "9                       101.0               35.0   1539.0  \n",
       "10                      180.0               48.0   2503.0  \n",
       "11                      327.0               92.0   3628.0  \n",
       "12                      710.0              196.0   5520.0  \n",
       "13                     1255.0              360.0   8633.0  \n",
       "14                     1680.0              591.0  12349.0  \n",
       "15                     2962.0              839.0  15725.0  \n",
       "16                     4877.0             1054.0  17888.0  \n",
       "17                     7064.0             1253.0  18543.0  \n",
       "18                    10717.0             1397.0  17592.0  \n",
       "19                    16056.0             1508.0  13716.0  \n",
       "20                    21357.0             1582.0  10094.0  \n",
       "21                    24628.0             1624.0   7908.0  \n",
       "22                    27237.0             1659.0   5894.0  \n",
       "23                    30251.0             1682.0   3430.0  \n",
       "24                    31912.0             1696.0   2120.0  \n",
       "25                    33282.0             1723.0    898.0  \n",
       "26                    33415.0             1724.0    773.0  "
      ]
     },
     "execution_count": 27,
     "metadata": {},
     "output_type": "execute_result"
    }
   ],
   "source": [
    "urlDataset_w = 'Datos/data_weekly_{}.pickle'.format(name)\n",
    "df_w = pd.read_pickle(urlDataset_w)\n",
    "df_w.tail(20)"
   ]
  },
  {
   "cell_type": "markdown",
   "metadata": {
    "colab_type": "text",
    "id": "tzAqlcmnPA8x"
   },
   "source": [
    "### Activos"
   ]
  },
  {
   "cell_type": "code",
   "execution_count": 28,
   "metadata": {
    "colab": {
     "base_uri": "https://localhost:8080/",
     "height": 275
    },
    "colab_type": "code",
    "executionInfo": {
     "elapsed": 675,
     "status": "ok",
     "timestamp": 1599161513183,
     "user": {
      "displayName": "Juan Manuel Lombana Martinez",
      "photoUrl": "https://lh3.googleusercontent.com/a-/AOh14GjjvnrdriZlzXxdV00af0OFnQ3lxzsrl5cE-wBq=s64",
      "userId": "06181135591528508533"
     },
     "user_tz": 300
    },
    "id": "Z-ZwHvHeO77X",
    "outputId": "b166cfee-dd6e-4942-91be-f705ec500ebc"
   },
   "outputs": [
    {
     "data": {
      "text/plain": [
       "Pipeline(steps=[('standardscaler', StandardScaler()),\n",
       "                ('polynomialfeatures', PolynomialFeatures(degree=5)),\n",
       "                ('lasso', Lasso(max_iter=10000, random_state=123))])"
      ]
     },
     "execution_count": 28,
     "metadata": {},
     "output_type": "execute_result"
    }
   ],
   "source": [
    "totalW = len(df_w.index.values)\n",
    "X = df_w.index.values[0:totalW-3].reshape(-1,1) #Variable independiente.\n",
    "y = df_w['activos'].values[0:totalW-3].reshape(-1,1) #Variable dependiente.\n",
    "#Datos de validación - nunca entran al modelo.\n",
    "X_v = df_w.index.values[totalW-3:].reshape(-1,1)\n",
    "y_v = df_w['activos'].values[totalW-3:].reshape(-1,1)\n",
    "\n",
    "X_train, X_test, y_train, y_test = train_test_split(X,y,test_size=0.3,random_state=123,shuffle=True)\n",
    "pipe = make_pipeline(StandardScaler(),PolynomialFeatures(degree=5),Lasso(max_iter=10000,random_state=123))\n",
    "pipe.fit(X_train,y_train)"
   ]
  },
  {
   "cell_type": "markdown",
   "metadata": {},
   "source": [
    "El pico de la pandemia se grafica en la semana:"
   ]
  },
  {
   "cell_type": "code",
   "execution_count": 29,
   "metadata": {
    "colab": {},
    "colab_type": "code",
    "id": "0Z7cB6kOPG-v",
    "tags": []
   },
   "outputs": [
    {
     "name": "stdout",
     "output_type": "stream",
     "text": [
      "[[ 0  5 20 21 18 15  8  7 11]]\n",
      "[[    0.         -1003.72697849 13508.17758794 10598.25228692\n",
      "  16506.87746741 14349.29228541  -412.73327707 -1167.67521422\n",
      "   4990.65807683]]\n",
      "16506.87746740928\n"
     ]
    },
    {
     "data": {
      "text/plain": [
       "18"
      ]
     },
     "execution_count": 29,
     "metadata": {},
     "output_type": "execute_result"
    }
   ],
   "source": [
    "y_pred = pipe.predict(X_test)\n",
    "x_pred_future = np.arange(0,totalW,step=1)\n",
    "y_pred_future = pipe.predict(x_pred_future.reshape(-1,1))\n",
    "Ymax = GetMax(y_train,y_test,y_pred,y_pred_future)\n",
    "Xpeak = GetPeak((X_test,y_pred))\n",
    "Xpeak"
   ]
  },
  {
   "cell_type": "code",
   "execution_count": 30,
   "metadata": {
    "colab": {
     "base_uri": "https://localhost:8080/",
     "height": 499
    },
    "colab_type": "code",
    "executionInfo": {
     "elapsed": 1061,
     "status": "ok",
     "timestamp": 1599161539417,
     "user": {
      "displayName": "Juan Manuel Lombana Martinez",
      "photoUrl": "https://lh3.googleusercontent.com/a-/AOh14GjjvnrdriZlzXxdV00af0OFnQ3lxzsrl5cE-wBq=s64",
      "userId": "06181135591528508533"
     },
     "user_tz": 300
    },
    "id": "mobqityePL2u",
    "outputId": "ca9dfe1a-96e9-4f49-e3ef-13c115839233"
   },
   "outputs": [
    {
     "data": {
      "image/png": "[encoded data removed]",
      "text/plain": [
       "<Figure size 1296x576 with 1 Axes>"
      ]
     },
     "metadata": {
      "needs_background": "light"
     },
     "output_type": "display_data"
    }
   ],
   "source": [
    "f = plt.figure(figsize=(18,8))\n",
    "plt.title('Predicción Semanal de casos activos')\n",
    "plt.grid()\n",
    "plt.plot(X_train[X_train.flatten().argsort(),0],y_train[X_train.flatten().argsort(),0],'ob',markersize=3,label='Train')\n",
    "plt.plot(X_test[X_test.flatten().argsort(),0],y_test[X_test.flatten().argsort(),0],'or',markersize=2,label='Test')\n",
    "plt.plot(X_v,y_v,'o',color='gray',markersize=2,label='Validation')\n",
    "plt.plot(x_pred_future[0:totalW-2],y_pred_future[0:totalW-2],'--g',label='Predict')\n",
    "plt.plot(x_pred_future[totalW-3:],y_pred_future[totalW-3:],'--',color='orange',label='Future Predict')\n",
    "plt.plot([Xpeak,Xpeak],[-5000,Ymax],'--',color='lightseagreen', label='Peak') #Peak of cases.\n",
    "plt.ylim(-5000,Ymax)\n",
    "plt.legend(loc='upper left');\n",
    "plt.savefig('docs/images/pmp_{}_activos'.format(name))"
   ]
  },
  {
   "cell_type": "code",
   "execution_count": 31,
   "metadata": {
    "colab": {
     "base_uri": "https://localhost:8080/",
     "height": 102
    },
    "colab_type": "code",
    "executionInfo": {
     "elapsed": 511,
     "status": "ok",
     "timestamp": 1599107806964,
     "user": {
      "displayName": "Juan Manuel Lombana Martinez",
      "photoUrl": "https://lh3.googleusercontent.com/a-/AOh14GjjvnrdriZlzXxdV00af0OFnQ3lxzsrl5cE-wBq=s64",
      "userId": "06181135591528508533"
     },
     "user_tz": 300
    },
    "id": "ihYYQStNPW9O",
    "outputId": "d6c4c23d-837c-4610-e6d3-7b5a929419a7",
    "tags": []
   },
   "outputs": [
    {
     "name": "stdout",
     "output_type": "stream",
     "text": [
      "     ---- Métricas ----\n",
      "Total RMSE:\t\t1918\n",
      "Total MAE:\t\t1749\n",
      "Future (3 weeks) RMSE:\t7910\n",
      "Future (3 weeks) MAE:\t7419\n"
     ]
    }
   ],
   "source": [
    "y_pred_val = pipe.predict(X_v)\n",
    "print('     ---- Métricas ----')\n",
    "print('Total RMSE:\\t\\t{:.0f}'.format(np.sqrt(mean_squared_error(y_test, y_pred))))\n",
    "print('Total MAE:\\t\\t{:.0f}'.format(mean_absolute_error(y_test,y_pred)))\n",
    "print('Future (3 weeks) RMSE:\\t{:.0f}'.format(np.sqrt(mean_squared_error(y_v, y_pred_val))))\n",
    "print('Future (3 weeks) MAE:\\t{:.0f}'.format(mean_absolute_error(y_v,y_pred_val)))"
   ]
  },
  {
   "cell_type": "markdown",
   "metadata": {
    "colab_type": "text",
    "id": "r3gzJowqXxM9"
   },
   "source": [
    "### Recuperados"
   ]
  },
  {
   "cell_type": "code",
   "execution_count": 32,
   "metadata": {
    "colab": {
     "base_uri": "https://localhost:8080/",
     "height": 221
    },
    "colab_type": "code",
    "executionInfo": {
     "elapsed": 1102,
     "status": "ok",
     "timestamp": 1599268048919,
     "user": {
      "displayName": "Juan Manuel Lombana Martinez",
      "photoUrl": "https://lh3.googleusercontent.com/a-/AOh14GjjvnrdriZlzXxdV00af0OFnQ3lxzsrl5cE-wBq=s64",
      "userId": "06181135591528508533"
     },
     "user_tz": 300
    },
    "id": "rCtzv0sJQLSw",
    "outputId": "03a6923e-3ea8-443a-8d99-1a2926545f23"
   },
   "outputs": [
    {
     "data": {
      "text/plain": [
       "Pipeline(steps=[('standardscaler', StandardScaler()),\n",
       "                ('polynomialfeatures', PolynomialFeatures(degree=5)),\n",
       "                ('lasso', Lasso(max_iter=10000, random_state=123))])"
      ]
     },
     "execution_count": 32,
     "metadata": {},
     "output_type": "execute_result"
    }
   ],
   "source": [
    "totalW = len(df_w.index.values)\n",
    "X = df_w.index.values[0:totalW-3].reshape(-1,1) #Variable independiente.\n",
    "y = df_w['acumulado_recuperados'].values[0:totalW-3].reshape(-1,1) #Variable dependiente.\n",
    "#Datos de validación - nunca entran al modelo.\n",
    "X_v = df_w.index.values[totalW-3:].reshape(-1,1)\n",
    "y_v = df_w['acumulado_recuperados'].values[totalW-3:].reshape(-1,1)\n",
    "\n",
    "X_train, X_test, y_train, y_test = train_test_split(X,y,test_size=0.3,random_state=123,shuffle=True)\n",
    "pipe = make_pipeline(StandardScaler(),PolynomialFeatures(degree=5),Lasso(random_state=123,max_iter=10000))\n",
    "pipe.fit(X_train,y_train)"
   ]
  },
  {
   "cell_type": "code",
   "execution_count": 33,
   "metadata": {
    "colab": {},
    "colab_type": "code",
    "executionInfo": {
     "elapsed": 1028,
     "status": "ok",
     "timestamp": 1599268050775,
     "user": {
      "displayName": "Juan Manuel Lombana Martinez",
      "photoUrl": "https://lh3.googleusercontent.com/a-/AOh14GjjvnrdriZlzXxdV00af0OFnQ3lxzsrl5cE-wBq=s64",
      "userId": "06181135591528508533"
     },
     "user_tz": 300
    },
    "id": "DxXcVIjOX3rq"
   },
   "outputs": [],
   "source": [
    "y_pred = pipe.predict(X_test)\n",
    "x_pred_future = np.arange(0,totalW,step=1)\n",
    "y_pred_future = pipe.predict(x_pred_future.reshape(-1,1))\n",
    "Ymax = GetMax(y_train,y_test,y_pred,y_pred_future)"
   ]
  },
  {
   "cell_type": "code",
   "execution_count": 34,
   "metadata": {
    "colab": {
     "base_uri": "https://localhost:8080/",
     "height": 499
    },
    "colab_type": "code",
    "executionInfo": {
     "elapsed": 988,
     "status": "ok",
     "timestamp": 1599268075548,
     "user": {
      "displayName": "Juan Manuel Lombana Martinez",
      "photoUrl": "https://lh3.googleusercontent.com/a-/AOh14GjjvnrdriZlzXxdV00af0OFnQ3lxzsrl5cE-wBq=s64",
      "userId": "06181135591528508533"
     },
     "user_tz": 300
    },
    "id": "FMIpg2T7X5lQ",
    "outputId": "e7f236c4-2fcb-448d-dadb-ceda51843345"
   },
   "outputs": [
    {
     "data": {
      "image/png": "[encoded data removed]",
      "text/plain": [
       "<Figure size 1296x576 with 1 Axes>"
      ]
     },
     "metadata": {
      "needs_background": "light"
     },
     "output_type": "display_data"
    }
   ],
   "source": [
    "#Graph ordered data.\n",
    "f = plt.figure(figsize=(18,8))\n",
    "plt.title('Predicción Semanal de recuperados')\n",
    "plt.grid()\n",
    "plt.plot(X_train[X_train.flatten().argsort(),0],y_train[X_train.flatten().argsort(),0],'ob',markersize=3,label='Train')\n",
    "plt.plot(X_test[X_test.flatten().argsort(),0],y_test[X_test.flatten().argsort(),0],'or',markersize=2,label='Test')\n",
    "plt.plot(X_v,y_v,'o',color='gray',markersize=2,label='Validation')\n",
    "plt.plot(x_pred_future[0:totalW-2],y_pred_future[0:totalW-2],'--g',label='Predict')\n",
    "plt.plot(x_pred_future[totalW-3:],y_pred_future[totalW-3:],'--',color='orange',label='Future Predict')\n",
    "plt.plot([Xpeak,Xpeak],[-5000,Ymax],'--',color='lightseagreen', label='Peak') #Peak of cases.\n",
    "plt.ylim(-5000,Ymax)\n",
    "plt.legend(loc='upper left');\n",
    "plt.savefig('docs/images/pmp_{}_recuperados'.format(name))"
   ]
  },
  {
   "cell_type": "code",
   "execution_count": 35,
   "metadata": {
    "colab": {
     "base_uri": "https://localhost:8080/",
     "height": 102
    },
    "colab_type": "code",
    "executionInfo": {
     "elapsed": 642,
     "status": "ok",
     "timestamp": 1599160567717,
     "user": {
      "displayName": "Juan Manuel Lombana Martinez",
      "photoUrl": "https://lh3.googleusercontent.com/a-/AOh14GjjvnrdriZlzXxdV00af0OFnQ3lxzsrl5cE-wBq=s64",
      "userId": "06181135591528508533"
     },
     "user_tz": 300
    },
    "id": "WxVjNYR-X7P3",
    "outputId": "6293c17e-b75d-4269-d96a-ae72e913f1df",
    "tags": []
   },
   "outputs": [
    {
     "name": "stdout",
     "output_type": "stream",
     "text": [
      "     ---- Métricas ----\n",
      "Total RMSE:\t\t1001\n",
      "Total MAE:\t\t770\n",
      "Future (3 weeks) RMSE:\t1560\n",
      "Future (3 weeks) MAE:\t1198\n"
     ]
    }
   ],
   "source": [
    "y_pred_val = pipe.predict(X_v)\n",
    "print('     ---- Métricas ----')\n",
    "print('Total RMSE:\\t\\t{:.0f}'.format(np.sqrt(mean_squared_error(y_test, y_pred))))\n",
    "print('Total MAE:\\t\\t{:.0f}'.format(mean_absolute_error(y_test,y_pred)))\n",
    "print('Future (3 weeks) RMSE:\\t{:.0f}'.format(np.sqrt(mean_squared_error(y_v, y_pred_val))))\n",
    "print('Future (3 weeks) MAE:\\t{:.0f}'.format(mean_absolute_error(y_v,y_pred_val)))"
   ]
  },
  {
   "cell_type": "markdown",
   "metadata": {
    "colab_type": "text",
    "id": "7GOGiriZcMo5"
   },
   "source": [
    "### Muertos"
   ]
  },
  {
   "cell_type": "code",
   "execution_count": 36,
   "metadata": {
    "colab": {
     "base_uri": "https://localhost:8080/",
     "height": 221
    },
    "colab_type": "code",
    "executionInfo": {
     "elapsed": 605,
     "status": "ok",
     "timestamp": 1599161309220,
     "user": {
      "displayName": "Juan Manuel Lombana Martinez",
      "photoUrl": "https://lh3.googleusercontent.com/a-/AOh14GjjvnrdriZlzXxdV00af0OFnQ3lxzsrl5cE-wBq=s64",
      "userId": "06181135591528508533"
     },
     "user_tz": 300
    },
    "id": "qishb1F7cOmZ",
    "outputId": "45135d7e-be04-4c49-9587-c4c9faa6e941"
   },
   "outputs": [
    {
     "data": {
      "text/plain": [
       "Pipeline(steps=[('standardscaler', StandardScaler()),\n",
       "                ('polynomialfeatures', PolynomialFeatures(degree=7)),\n",
       "                ('lasso', Lasso(max_iter=10000, random_state=123))])"
      ]
     },
     "execution_count": 36,
     "metadata": {},
     "output_type": "execute_result"
    }
   ],
   "source": [
    "totalW = len(df_w.index.values)\n",
    "X = df_w.index.values[0:totalW-3].reshape(-1,1) #Variable independiente.\n",
    "y = df_w['acumulado_muertos'].values[0:totalW-3].reshape(-1,1) #Variable dependiente.\n",
    "#Datos de validación - nunca entran al modelo.\n",
    "X_v = df_w.index.values[totalW-3:].reshape(-1,1)\n",
    "y_v = df_w['acumulado_muertos'].values[totalW-3:].reshape(-1,1)\n",
    "\n",
    "X_train, X_test, y_train, y_test = train_test_split(X,y,test_size=0.3,random_state=123,shuffle=True)\n",
    "pipe = make_pipeline(StandardScaler(),PolynomialFeatures(degree=7),Lasso(random_state=123,max_iter=10000))\n",
    "pipe.fit(X_train,y_train)"
   ]
  },
  {
   "cell_type": "code",
   "execution_count": 37,
   "metadata": {
    "colab": {},
    "colab_type": "code",
    "id": "swxCP_DrcRWQ"
   },
   "outputs": [],
   "source": [
    "y_pred = pipe.predict(X_test)\n",
    "x_pred_future = np.arange(0,totalW,step=1)\n",
    "y_pred_future = pipe.predict(x_pred_future.reshape(-1,1))\n",
    "Ymax = GetMax(y_train,y_test,y_pred,y_pred_future)"
   ]
  },
  {
   "cell_type": "code",
   "execution_count": 38,
   "metadata": {
    "colab": {
     "base_uri": "https://localhost:8080/",
     "height": 499
    },
    "colab_type": "code",
    "executionInfo": {
     "elapsed": 1046,
     "status": "ok",
     "timestamp": 1599161447629,
     "user": {
      "displayName": "Juan Manuel Lombana Martinez",
      "photoUrl": "https://lh3.googleusercontent.com/a-/AOh14GjjvnrdriZlzXxdV00af0OFnQ3lxzsrl5cE-wBq=s64",
      "userId": "06181135591528508533"
     },
     "user_tz": 300
    },
    "id": "7UsC9fb8cUa4",
    "outputId": "05f2531c-9a28-4615-b71c-0b57cf7d8d6c"
   },
   "outputs": [
    {
     "data": {
      "image/png": "[encoded data removed]",
      "text/plain": [
       "<Figure size 1296x576 with 1 Axes>"
      ]
     },
     "metadata": {
      "needs_background": "light"
     },
     "output_type": "display_data"
    }
   ],
   "source": [
    "#Graph ordered data.\n",
    "f = plt.figure(figsize=(18,8))\n",
    "plt.title('Predicción Semanal de Muertes')\n",
    "plt.grid()\n",
    "plt.plot(X_train[X_train.flatten().argsort(),0],y_train[X_train.flatten().argsort(),0],'ob',markersize=3,label='Train')\n",
    "plt.plot(X_test[X_test.flatten().argsort(),0],y_test[X_test.flatten().argsort(),0],'or',markersize=2,label='Test')\n",
    "plt.plot(X_v,y_v,'o',color='gray',markersize=2,label='Validation')\n",
    "plt.plot(x_pred_future[0:totalW-2],y_pred_future[0:totalW-2],'--g',label='Predict')\n",
    "plt.plot(x_pred_future[totalW-3:],y_pred_future[totalW-3:],'--',color='orange',label='Future Predict')\n",
    "plt.plot([Xpeak,Xpeak],[-5000,Ymax],'--',color='lightseagreen', label='Peak') #Peak of cases.\n",
    "plt.ylim(-2000,Ymax)\n",
    "plt.legend(loc='upper left');\n",
    "plt.savefig('docs/images/pmp_{}_muertes'.format(name))"
   ]
  },
  {
   "cell_type": "code",
   "execution_count": 39,
   "metadata": {
    "colab": {
     "base_uri": "https://localhost:8080/",
     "height": 102
    },
    "colab_type": "code",
    "executionInfo": {
     "elapsed": 630,
     "status": "ok",
     "timestamp": 1599161356262,
     "user": {
      "displayName": "Juan Manuel Lombana Martinez",
      "photoUrl": "https://lh3.googleusercontent.com/a-/AOh14GjjvnrdriZlzXxdV00af0OFnQ3lxzsrl5cE-wBq=s64",
      "userId": "06181135591528508533"
     },
     "user_tz": 300
    },
    "id": "GcerxUFacWyR",
    "outputId": "f0ebedc4-3ca3-4823-d509-69615dbdf23b",
    "tags": []
   },
   "outputs": [
    {
     "name": "stdout",
     "output_type": "stream",
     "text": [
      "     ---- Métricas ----\n",
      "Total RMSE:\t\t46\n",
      "Total MAE:\t\t44\n",
      "Future (3 weeks) RMSE:\t179\n",
      "Future (3 weeks) MAE:\t171\n"
     ]
    }
   ],
   "source": [
    "y_pred_val = pipe.predict(X_v)\n",
    "print('     ---- Métricas ----')\n",
    "print('Total RMSE:\\t\\t{:.0f}'.format(np.sqrt(mean_squared_error(y_test, y_pred))))\n",
    "print('Total MAE:\\t\\t{:.0f}'.format(mean_absolute_error(y_test,y_pred)))\n",
    "print('Future (3 weeks) RMSE:\\t{:.0f}'.format(np.sqrt(mean_squared_error(y_v, y_pred_val))))\n",
    "print('Future (3 weeks) MAE:\\t{:.0f}'.format(mean_absolute_error(y_v,y_pred_val)))"
   ]
  }
 ],
 "metadata": {
  "colab": {
   "authorship_tag": "ABX9TyPrfDS/xsy7pBi5E+JtIL1A",
   "collapsed_sections": [],
   "mount_file_id": "1e65ez2PT-HnjAITg0O_HtXOixMx6xamn",
   "name": "3_Modelo_JLM",
   "provenance": []
  },
  "kernelspec": {
   "display_name": "Python 3",
   "language": "python",
   "name": "python3"
  },
  "language_info": {
   "codemirror_mode": {
    "name": "ipython",
    "version": 3
   },
   "file_extension": ".py",
   "mimetype": "text/x-python",
   "name": "python",
   "nbconvert_exporter": "python",
   "pygments_lexer": "ipython3",
   "version": "3.7.3"
  }
 },
 "nbformat": 4,
 "nbformat_minor": 4
}
