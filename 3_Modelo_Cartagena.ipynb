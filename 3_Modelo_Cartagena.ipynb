{
 "cells": [
  {
   "cell_type": "markdown",
   "metadata": {},
   "source": [
    "# Modelo para la Ciudad de Cartagena"
   ]
  },
  {
   "cell_type": "code",
   "execution_count": 1,
   "metadata": {
    "colab": {},
    "colab_type": "code",
    "executionInfo": {
     "elapsed": 1674,
     "status": "ok",
     "timestamp": 1599268041527,
     "user": {
      "displayName": "Juan Manuel Lombana Martinez",
      "photoUrl": "https://lh3.googleusercontent.com/a-/AOh14GjjvnrdriZlzXxdV00af0OFnQ3lxzsrl5cE-wBq=s64",
      "userId": "06181135591528508533"
     },
     "user_tz": 300
    },
    "id": "H4cpgpvEVunf"
   },
   "outputs": [],
   "source": [
    "import numpy as np\n",
    "import pandas as pd\n",
    "import matplotlib.pyplot as plt"
   ]
  },
  {
   "cell_type": "code",
   "execution_count": 2,
   "metadata": {
    "colab": {
     "base_uri": "https://localhost:8080/",
     "height": 34
    },
    "colab_type": "code",
    "executionInfo": {
     "elapsed": 1657,
     "status": "ok",
     "timestamp": 1599268041527,
     "user": {
      "displayName": "Juan Manuel Lombana Martinez",
      "photoUrl": "https://lh3.googleusercontent.com/a-/AOh14GjjvnrdriZlzXxdV00af0OFnQ3lxzsrl5cE-wBq=s64",
      "userId": "06181135591528508533"
     },
     "user_tz": 300
    },
    "id": "y2gAPfWtWFTJ",
    "outputId": "6f65e17a-9c15-4450-92d3-b2b8285f5437"
   },
   "outputs": [],
   "source": [
    "##Sección de código para ejecutar el ejercicio en COLAB sin realizar ningún cambio adicional.\n",
    "#from google.colab import drive\n",
    "#drive.mount('/content/drive')\n",
    "#baseUrl = '/content/drive/Shared drives/Analitica Predictiva/covid-19-flr-analitica-predictiva'\n",
    "#os.chdir(baseUrl)"
   ]
  },
  {
   "cell_type": "markdown",
   "metadata": {},
   "source": [
    "Librerias requeridas para realizar los modelos."
   ]
  },
  {
   "cell_type": "code",
   "execution_count": 3,
   "metadata": {
    "colab": {},
    "colab_type": "code",
    "executionInfo": {
     "elapsed": 2183,
     "status": "ok",
     "timestamp": 1599268042062,
     "user": {
      "displayName": "Juan Manuel Lombana Martinez",
      "photoUrl": "https://lh3.googleusercontent.com/a-/AOh14GjjvnrdriZlzXxdV00af0OFnQ3lxzsrl5cE-wBq=s64",
      "userId": "06181135591528508533"
     },
     "user_tz": 300
    },
    "id": "LnzcztOtO2OW"
   },
   "outputs": [],
   "source": [
    "from sklearn.preprocessing import PolynomialFeatures, StandardScaler\n",
    "from sklearn.linear_model import Lasso\n",
    "from sklearn.pipeline import make_pipeline\n",
    "from sklearn.model_selection import train_test_split\n",
    "from sklearn.metrics import mean_squared_error, mean_absolute_error"
   ]
  },
  {
   "cell_type": "markdown",
   "metadata": {
    "colab_type": "text",
    "id": "QeVXw8BSZEyI"
   },
   "source": [
    "## Modelo Corto Plazo"
   ]
  },
  {
   "cell_type": "code",
   "execution_count": 4,
   "metadata": {},
   "outputs": [],
   "source": [
    "ciudades = ['Bogotá D.C.','Medellín','Cali','Barranquilla', 'Cartagena de Indias']\n",
    "names = ['Bogota','Medellin','Cali','Barranquilla','Cartagena']\n",
    "id_city = 4\n",
    "name = names[id_city]\n",
    "urlDataSet = 'Datos/data_{}.pickle'.format(name)"
   ]
  },
  {
   "cell_type": "markdown",
   "metadata": {},
   "source": [
    "Se carga el dataset generado en la sección de preprocesamiento, se muestran los últimos 20 registros, para validar visualmente los ultimos días de información."
   ]
  },
  {
   "cell_type": "code",
   "execution_count": 5,
   "metadata": {
    "colab": {
     "base_uri": "https://localhost:8080/",
     "height": 700
    },
    "colab_type": "code",
    "executionInfo": {
     "elapsed": 3102,
     "status": "ok",
     "timestamp": 1599052707567,
     "user": {
      "displayName": "Juan Manuel Lombana Martinez",
      "photoUrl": "https://lh3.googleusercontent.com/a-/AOh14GjjvnrdriZlzXxdV00af0OFnQ3lxzsrl5cE-wBq=s64",
      "userId": "06181135591528508533"
     },
     "user_tz": 300
    },
    "id": "EGxtOkIqY-yT",
    "outputId": "c6995f4a-7dea-4968-eeaa-c1b77d14a90b"
   },
   "outputs": [
    {
     "data": {
      "text/html": [
       "<div>\n",
       "<style scoped>\n",
       "    .dataframe tbody tr th:only-of-type {\n",
       "        vertical-align: middle;\n",
       "    }\n",
       "\n",
       "    .dataframe tbody tr th {\n",
       "        vertical-align: top;\n",
       "    }\n",
       "\n",
       "    .dataframe thead th {\n",
       "        text-align: right;\n",
       "    }\n",
       "</style>\n",
       "<table border=\"1\" class=\"dataframe\">\n",
       "  <thead>\n",
       "    <tr style=\"text-align: right;\">\n",
       "      <th></th>\n",
       "      <th>dias</th>\n",
       "      <th>semana</th>\n",
       "      <th>infectados</th>\n",
       "      <th>recuperados</th>\n",
       "      <th>muertos</th>\n",
       "      <th>acumulado_infectados</th>\n",
       "      <th>acumulado_recuperados</th>\n",
       "      <th>acumulado_muertos</th>\n",
       "      <th>activos</th>\n",
       "    </tr>\n",
       "    <tr>\n",
       "      <th>fecha_infeccioso</th>\n",
       "      <th></th>\n",
       "      <th></th>\n",
       "      <th></th>\n",
       "      <th></th>\n",
       "      <th></th>\n",
       "      <th></th>\n",
       "      <th></th>\n",
       "      <th></th>\n",
       "      <th></th>\n",
       "    </tr>\n",
       "  </thead>\n",
       "  <tbody>\n",
       "    <tr>\n",
       "      <th>2020-08-16</th>\n",
       "      <td>168</td>\n",
       "      <td>24</td>\n",
       "      <td>55.0</td>\n",
       "      <td>186.0</td>\n",
       "      <td>1.0</td>\n",
       "      <td>19706.0</td>\n",
       "      <td>15415.0</td>\n",
       "      <td>531.0</td>\n",
       "      <td>3760.0</td>\n",
       "    </tr>\n",
       "    <tr>\n",
       "      <th>2020-08-17</th>\n",
       "      <td>169</td>\n",
       "      <td>24</td>\n",
       "      <td>115.0</td>\n",
       "      <td>195.0</td>\n",
       "      <td>0.0</td>\n",
       "      <td>19821.0</td>\n",
       "      <td>15610.0</td>\n",
       "      <td>531.0</td>\n",
       "      <td>3680.0</td>\n",
       "    </tr>\n",
       "    <tr>\n",
       "      <th>2020-08-18</th>\n",
       "      <td>170</td>\n",
       "      <td>24</td>\n",
       "      <td>85.0</td>\n",
       "      <td>142.0</td>\n",
       "      <td>2.0</td>\n",
       "      <td>19906.0</td>\n",
       "      <td>15752.0</td>\n",
       "      <td>533.0</td>\n",
       "      <td>3621.0</td>\n",
       "    </tr>\n",
       "    <tr>\n",
       "      <th>2020-08-19</th>\n",
       "      <td>171</td>\n",
       "      <td>24</td>\n",
       "      <td>101.0</td>\n",
       "      <td>242.0</td>\n",
       "      <td>4.0</td>\n",
       "      <td>20007.0</td>\n",
       "      <td>15994.0</td>\n",
       "      <td>537.0</td>\n",
       "      <td>3476.0</td>\n",
       "    </tr>\n",
       "    <tr>\n",
       "      <th>2020-08-20</th>\n",
       "      <td>172</td>\n",
       "      <td>24</td>\n",
       "      <td>49.0</td>\n",
       "      <td>310.0</td>\n",
       "      <td>1.0</td>\n",
       "      <td>20056.0</td>\n",
       "      <td>16304.0</td>\n",
       "      <td>538.0</td>\n",
       "      <td>3214.0</td>\n",
       "    </tr>\n",
       "    <tr>\n",
       "      <th>2020-08-21</th>\n",
       "      <td>173</td>\n",
       "      <td>24</td>\n",
       "      <td>91.0</td>\n",
       "      <td>141.0</td>\n",
       "      <td>4.0</td>\n",
       "      <td>20147.0</td>\n",
       "      <td>16445.0</td>\n",
       "      <td>542.0</td>\n",
       "      <td>3160.0</td>\n",
       "    </tr>\n",
       "    <tr>\n",
       "      <th>2020-08-22</th>\n",
       "      <td>174</td>\n",
       "      <td>24</td>\n",
       "      <td>111.0</td>\n",
       "      <td>155.0</td>\n",
       "      <td>2.0</td>\n",
       "      <td>20258.0</td>\n",
       "      <td>16600.0</td>\n",
       "      <td>544.0</td>\n",
       "      <td>3114.0</td>\n",
       "    </tr>\n",
       "    <tr>\n",
       "      <th>2020-08-23</th>\n",
       "      <td>175</td>\n",
       "      <td>25</td>\n",
       "      <td>23.0</td>\n",
       "      <td>468.0</td>\n",
       "      <td>1.0</td>\n",
       "      <td>20281.0</td>\n",
       "      <td>17068.0</td>\n",
       "      <td>545.0</td>\n",
       "      <td>2668.0</td>\n",
       "    </tr>\n",
       "    <tr>\n",
       "      <th>2020-08-24</th>\n",
       "      <td>176</td>\n",
       "      <td>25</td>\n",
       "      <td>35.0</td>\n",
       "      <td>190.0</td>\n",
       "      <td>0.0</td>\n",
       "      <td>20316.0</td>\n",
       "      <td>17258.0</td>\n",
       "      <td>545.0</td>\n",
       "      <td>2513.0</td>\n",
       "    </tr>\n",
       "    <tr>\n",
       "      <th>2020-08-25</th>\n",
       "      <td>177</td>\n",
       "      <td>25</td>\n",
       "      <td>23.0</td>\n",
       "      <td>208.0</td>\n",
       "      <td>1.0</td>\n",
       "      <td>20339.0</td>\n",
       "      <td>17466.0</td>\n",
       "      <td>546.0</td>\n",
       "      <td>2327.0</td>\n",
       "    </tr>\n",
       "    <tr>\n",
       "      <th>2020-08-26</th>\n",
       "      <td>178</td>\n",
       "      <td>25</td>\n",
       "      <td>50.0</td>\n",
       "      <td>230.0</td>\n",
       "      <td>1.0</td>\n",
       "      <td>20389.0</td>\n",
       "      <td>17696.0</td>\n",
       "      <td>547.0</td>\n",
       "      <td>2146.0</td>\n",
       "    </tr>\n",
       "    <tr>\n",
       "      <th>2020-08-27</th>\n",
       "      <td>179</td>\n",
       "      <td>25</td>\n",
       "      <td>22.0</td>\n",
       "      <td>308.0</td>\n",
       "      <td>0.0</td>\n",
       "      <td>20411.0</td>\n",
       "      <td>18004.0</td>\n",
       "      <td>547.0</td>\n",
       "      <td>1860.0</td>\n",
       "    </tr>\n",
       "    <tr>\n",
       "      <th>2020-08-28</th>\n",
       "      <td>180</td>\n",
       "      <td>25</td>\n",
       "      <td>34.0</td>\n",
       "      <td>96.0</td>\n",
       "      <td>1.0</td>\n",
       "      <td>20445.0</td>\n",
       "      <td>18100.0</td>\n",
       "      <td>548.0</td>\n",
       "      <td>1797.0</td>\n",
       "    </tr>\n",
       "    <tr>\n",
       "      <th>2020-08-29</th>\n",
       "      <td>181</td>\n",
       "      <td>25</td>\n",
       "      <td>9.0</td>\n",
       "      <td>76.0</td>\n",
       "      <td>0.0</td>\n",
       "      <td>20454.0</td>\n",
       "      <td>18176.0</td>\n",
       "      <td>548.0</td>\n",
       "      <td>1730.0</td>\n",
       "    </tr>\n",
       "    <tr>\n",
       "      <th>2020-08-30</th>\n",
       "      <td>182</td>\n",
       "      <td>26</td>\n",
       "      <td>10.0</td>\n",
       "      <td>127.0</td>\n",
       "      <td>1.0</td>\n",
       "      <td>20464.0</td>\n",
       "      <td>18303.0</td>\n",
       "      <td>549.0</td>\n",
       "      <td>1612.0</td>\n",
       "    </tr>\n",
       "    <tr>\n",
       "      <th>2020-08-31</th>\n",
       "      <td>183</td>\n",
       "      <td>26</td>\n",
       "      <td>7.0</td>\n",
       "      <td>165.0</td>\n",
       "      <td>2.0</td>\n",
       "      <td>20471.0</td>\n",
       "      <td>18468.0</td>\n",
       "      <td>551.0</td>\n",
       "      <td>1452.0</td>\n",
       "    </tr>\n",
       "    <tr>\n",
       "      <th>2020-09-01</th>\n",
       "      <td>184</td>\n",
       "      <td>26</td>\n",
       "      <td>6.0</td>\n",
       "      <td>77.0</td>\n",
       "      <td>2.0</td>\n",
       "      <td>20477.0</td>\n",
       "      <td>18545.0</td>\n",
       "      <td>553.0</td>\n",
       "      <td>1379.0</td>\n",
       "    </tr>\n",
       "    <tr>\n",
       "      <th>2020-09-02</th>\n",
       "      <td>185</td>\n",
       "      <td>26</td>\n",
       "      <td>3.0</td>\n",
       "      <td>63.0</td>\n",
       "      <td>1.0</td>\n",
       "      <td>20480.0</td>\n",
       "      <td>18608.0</td>\n",
       "      <td>554.0</td>\n",
       "      <td>1318.0</td>\n",
       "    </tr>\n",
       "    <tr>\n",
       "      <th>2020-09-03</th>\n",
       "      <td>186</td>\n",
       "      <td>26</td>\n",
       "      <td>3.0</td>\n",
       "      <td>201.0</td>\n",
       "      <td>3.0</td>\n",
       "      <td>20483.0</td>\n",
       "      <td>18809.0</td>\n",
       "      <td>557.0</td>\n",
       "      <td>1117.0</td>\n",
       "    </tr>\n",
       "    <tr>\n",
       "      <th>2020-09-04</th>\n",
       "      <td>187</td>\n",
       "      <td>26</td>\n",
       "      <td>2.0</td>\n",
       "      <td>155.0</td>\n",
       "      <td>1.0</td>\n",
       "      <td>20485.0</td>\n",
       "      <td>18964.0</td>\n",
       "      <td>558.0</td>\n",
       "      <td>963.0</td>\n",
       "    </tr>\n",
       "  </tbody>\n",
       "</table>\n",
       "</div>"
      ],
      "text/plain": [
       "                  dias  semana  infectados  recuperados  muertos  \\\n",
       "fecha_infeccioso                                                   \n",
       "2020-08-16         168      24        55.0        186.0      1.0   \n",
       "2020-08-17         169      24       115.0        195.0      0.0   \n",
       "2020-08-18         170      24        85.0        142.0      2.0   \n",
       "2020-08-19         171      24       101.0        242.0      4.0   \n",
       "2020-08-20         172      24        49.0        310.0      1.0   \n",
       "2020-08-21         173      24        91.0        141.0      4.0   \n",
       "2020-08-22         174      24       111.0        155.0      2.0   \n",
       "2020-08-23         175      25        23.0        468.0      1.0   \n",
       "2020-08-24         176      25        35.0        190.0      0.0   \n",
       "2020-08-25         177      25        23.0        208.0      1.0   \n",
       "2020-08-26         178      25        50.0        230.0      1.0   \n",
       "2020-08-27         179      25        22.0        308.0      0.0   \n",
       "2020-08-28         180      25        34.0         96.0      1.0   \n",
       "2020-08-29         181      25         9.0         76.0      0.0   \n",
       "2020-08-30         182      26        10.0        127.0      1.0   \n",
       "2020-08-31         183      26         7.0        165.0      2.0   \n",
       "2020-09-01         184      26         6.0         77.0      2.0   \n",
       "2020-09-02         185      26         3.0         63.0      1.0   \n",
       "2020-09-03         186      26         3.0        201.0      3.0   \n",
       "2020-09-04         187      26         2.0        155.0      1.0   \n",
       "\n",
       "                  acumulado_infectados  acumulado_recuperados  \\\n",
       "fecha_infeccioso                                                \n",
       "2020-08-16                     19706.0                15415.0   \n",
       "2020-08-17                     19821.0                15610.0   \n",
       "2020-08-18                     19906.0                15752.0   \n",
       "2020-08-19                     20007.0                15994.0   \n",
       "2020-08-20                     20056.0                16304.0   \n",
       "2020-08-21                     20147.0                16445.0   \n",
       "2020-08-22                     20258.0                16600.0   \n",
       "2020-08-23                     20281.0                17068.0   \n",
       "2020-08-24                     20316.0                17258.0   \n",
       "2020-08-25                     20339.0                17466.0   \n",
       "2020-08-26                     20389.0                17696.0   \n",
       "2020-08-27                     20411.0                18004.0   \n",
       "2020-08-28                     20445.0                18100.0   \n",
       "2020-08-29                     20454.0                18176.0   \n",
       "2020-08-30                     20464.0                18303.0   \n",
       "2020-08-31                     20471.0                18468.0   \n",
       "2020-09-01                     20477.0                18545.0   \n",
       "2020-09-02                     20480.0                18608.0   \n",
       "2020-09-03                     20483.0                18809.0   \n",
       "2020-09-04                     20485.0                18964.0   \n",
       "\n",
       "                  acumulado_muertos  activos  \n",
       "fecha_infeccioso                              \n",
       "2020-08-16                    531.0   3760.0  \n",
       "2020-08-17                    531.0   3680.0  \n",
       "2020-08-18                    533.0   3621.0  \n",
       "2020-08-19                    537.0   3476.0  \n",
       "2020-08-20                    538.0   3214.0  \n",
       "2020-08-21                    542.0   3160.0  \n",
       "2020-08-22                    544.0   3114.0  \n",
       "2020-08-23                    545.0   2668.0  \n",
       "2020-08-24                    545.0   2513.0  \n",
       "2020-08-25                    546.0   2327.0  \n",
       "2020-08-26                    547.0   2146.0  \n",
       "2020-08-27                    547.0   1860.0  \n",
       "2020-08-28                    548.0   1797.0  \n",
       "2020-08-29                    548.0   1730.0  \n",
       "2020-08-30                    549.0   1612.0  \n",
       "2020-08-31                    551.0   1452.0  \n",
       "2020-09-01                    553.0   1379.0  \n",
       "2020-09-02                    554.0   1318.0  \n",
       "2020-09-03                    557.0   1117.0  \n",
       "2020-09-04                    558.0    963.0  "
      ]
     },
     "execution_count": 5,
     "metadata": {},
     "output_type": "execute_result"
    }
   ],
   "source": [
    "df_city = pd.read_pickle(urlDataSet)\n",
    "df = df_city.copy()\n",
    "df.tail(20)"
   ]
  },
  {
   "cell_type": "markdown",
   "metadata": {
    "colab_type": "text",
    "id": "HRu51ggLJj9p"
   },
   "source": [
    "### Activos"
   ]
  },
  {
   "cell_type": "markdown",
   "metadata": {},
   "source": [
    "Para la predicción de casos activos se usó una Regressión Lasso con caracteristicas Polinomiales de grado 5; previamente se estandarizaron los datos, y se entrenaron con un conjunto del 70% de los datos; estos datos se toman aleatoriamente, pero al graficarlos se orden en secuencia."
   ]
  },
  {
   "cell_type": "code",
   "execution_count": 6,
   "metadata": {
    "colab": {
     "base_uri": "https://localhost:8080/",
     "height": 221
    },
    "colab_type": "code",
    "executionInfo": {
     "elapsed": 742,
     "status": "ok",
     "timestamp": 1599052716093,
     "user": {
      "displayName": "Juan Manuel Lombana Martinez",
      "photoUrl": "https://lh3.googleusercontent.com/a-/AOh14GjjvnrdriZlzXxdV00af0OFnQ3lxzsrl5cE-wBq=s64",
      "userId": "06181135591528508533"
     },
     "user_tz": 300
    },
    "id": "hrHDX35Yhepj",
    "outputId": "a1c40f75-2700-4f6b-c1e0-7a17d6dd8a99"
   },
   "outputs": [
    {
     "data": {
      "text/plain": [
       "Pipeline(steps=[('standardscaler', StandardScaler()),\n",
       "                ('polynomialfeatures', PolynomialFeatures(degree=5)),\n",
       "                ('lasso', Lasso(random_state=123))])"
      ]
     },
     "execution_count": 6,
     "metadata": {},
     "output_type": "execute_result"
    }
   ],
   "source": [
    "totalDays = len(df['dias'].values)\n",
    "X = df['dias'].values[0:totalDays-5].reshape(-1,1) #Variable independiente.\n",
    "y = df['activos'].values[0:totalDays-5].reshape(-1,1) #Variable dependiente.\n",
    "#Datos de validación - nunca entran al modelo.\n",
    "X_v = df['dias'].values[totalDays-5:].reshape(-1,1)\n",
    "y_v = df['activos'].values[totalDays-5:].reshape(-1,1)\n",
    "#Se obtiene el 70% para entrenamiento y 30% para pruebas.\n",
    "X_train, X_test, y_train, y_test = train_test_split(X,y,test_size=0.3,random_state=123,shuffle=True)\n",
    "#Se crea un pipeline con el escalado, las caracteristicas polinomiales y la regresión lasso\n",
    "pipe = make_pipeline(StandardScaler(),PolynomialFeatures(degree=5),Lasso(random_state=123))\n",
    "#Se realiza el entrenamiento.\n",
    "pipe.fit(X_train,y_train)"
   ]
  },
  {
   "cell_type": "markdown",
   "metadata": {},
   "source": [
    "Se realizan las predicciones sobre el dataset de pruebas, adicionalmente se establece el pico en el día 175, por lo cual para fines de prueba se realizan predicciones desde dicho día, hasta el día 200 de la pandemia, para probar la predicción futura de los modelos a corto plazo."
   ]
  },
  {
   "cell_type": "code",
   "execution_count": 7,
   "metadata": {
    "colab": {},
    "colab_type": "code",
    "id": "nPalclh38qB3"
   },
   "outputs": [],
   "source": [
    "#Obtener predicciones para los datos de prueba.\n",
    "y_pred = pipe.predict(X_test)\n",
    "#Predicciones futuras.\n",
    "x_pred_future = np.arange(totalDays-10,totalDays,step=1)\n",
    "y_pred_future = pipe.predict(x_pred_future.reshape(-1,1))"
   ]
  },
  {
   "cell_type": "code",
   "execution_count": 8,
   "metadata": {},
   "outputs": [],
   "source": [
    "def GetMax(*args):\n",
    "    arr = np.array([[0]])\n",
    "    for arg in args:\n",
    "        s = [x for x in arg.shape]\n",
    "        l = np.prod(s)\n",
    "        a = np.array(arg.reshape(1,l))\n",
    "        arr = np.concatenate((a,arr),axis=1)\n",
    "    return arr.max()"
   ]
  },
  {
   "cell_type": "code",
   "execution_count": 9,
   "metadata": {},
   "outputs": [],
   "source": [
    "def GetPeak(*args):\n",
    "    x_arr = np.array([[0]])\n",
    "    y_arr = np.array([[0]])\n",
    "    for x,y in args:\n",
    "        s = [x for x in x.shape]\n",
    "        l = np.prod(s)\n",
    "        xr = np.array(x.reshape(1,l))\n",
    "        yr = np.array(y.reshape(1,l))\n",
    "        x_arr = np.concatenate((x_arr,xr),axis=1)\n",
    "        y_arr = np.concatenate((y_arr,yr),axis=1)\n",
    "    return x_arr[0][y_arr.argmax()]"
   ]
  },
  {
   "cell_type": "code",
   "execution_count": 10,
   "metadata": {
    "tags": []
   },
   "outputs": [],
   "source": [
    "Ymax = GetMax(y_train,y_test,y_pred,y_pred_future)\n",
    "Xpeak = GetPeak((X_test,y_pred))"
   ]
  },
  {
   "cell_type": "markdown",
   "metadata": {},
   "source": [
    "Se grafican los datos."
   ]
  },
  {
   "cell_type": "code",
   "execution_count": 11,
   "metadata": {
    "colab": {
     "base_uri": "https://localhost:8080/",
     "height": 499
    },
    "colab_type": "code",
    "executionInfo": {
     "elapsed": 1084,
     "status": "ok",
     "timestamp": 1599052726186,
     "user": {
      "displayName": "Juan Manuel Lombana Martinez",
      "photoUrl": "https://lh3.googleusercontent.com/a-/AOh14GjjvnrdriZlzXxdV00af0OFnQ3lxzsrl5cE-wBq=s64",
      "userId": "06181135591528508533"
     },
     "user_tz": 300
    },
    "id": "GJ01qHQx_SIY",
    "outputId": "ffd3eec2-7d98-4d48-beb1-5848d2f4b46f"
   },
   "outputs": [
    {
     "data": {
      "image/png": "[encoded data removed]",
      "text/plain": [
       "<Figure size 1296x576 with 1 Axes>"
      ]
     },
     "metadata": {
      "needs_background": "light"
     },
     "output_type": "display_data"
    }
   ],
   "source": [
    "f = plt.figure(figsize=(18,8))\n",
    "plt.title('Predicción de casos activos')\n",
    "plt.grid()\n",
    "plt.plot(X_train[X_train.flatten().argsort(),0],y_train[X_train.flatten().argsort(),0],'ob',markersize=3,label='Train')\n",
    "plt.plot(X_test[X_test.flatten().argsort(),0],y_test[X_test.flatten().argsort(),0],'or',markersize=2,label='Test')\n",
    "plt.plot(X_v,y_v,'o',color='gray',markersize=2,label='Validation')\n",
    "plt.plot(X_test[X_test.flatten().argsort(),0],y_pred[X_test.flatten().argsort()],'--g',label='Predict')\n",
    "plt.plot(x_pred_future,y_pred_future,'--',color='orange',label='Future Predict')\n",
    "plt.plot([Xpeak,Xpeak],[-5000,Ymax],'--',color='lightseagreen', label='Peak') #Peak of cases.\n",
    "plt.ylim(-5000,Ymax)\n",
    "plt.legend(loc='upper left');\n",
    "plt.savefig('docs/images/pcp_{}_activos'.format(name))"
   ]
  },
  {
   "cell_type": "code",
   "execution_count": null,
   "metadata": {
    "tags": []
   },
   "outputs": [],
   "source": [
    "\n"
   ]
  },
  {
   "cell_type": "code",
   "execution_count": 12,
   "metadata": {},
   "outputs": [],
   "source": [
    "s = [y_pred_future.shape]\n",
    "l = np.prod(s)\n"
   ]
  },
  {
   "cell_type": "markdown",
   "metadata": {},
   "source": [
    "Se calculan las métricas de la regresión, en este caso se calculan las metricas completas sobre el conjunto de prueba, adicionalmente se computan las metricas solo desde el pico en adelante como indicar de las predicciones futuras."
   ]
  },
  {
   "cell_type": "code",
   "execution_count": 13,
   "metadata": {
    "colab": {
     "base_uri": "https://localhost:8080/",
     "height": 102
    },
    "colab_type": "code",
    "executionInfo": {
     "elapsed": 699,
     "status": "ok",
     "timestamp": 1599052740183,
     "user": {
      "displayName": "Juan Manuel Lombana Martinez",
      "photoUrl": "https://lh3.googleusercontent.com/a-/AOh14GjjvnrdriZlzXxdV00af0OFnQ3lxzsrl5cE-wBq=s64",
      "userId": "06181135591528508533"
     },
     "user_tz": 300
    },
    "id": "_NhMP7t3Q3XM",
    "outputId": "769fa212-5912-4c3d-8a5f-101a9f2d9a50",
    "tags": []
   },
   "outputs": [
    {
     "name": "stdout",
     "output_type": "stream",
     "text": [
      "     ---- Métricas ----\n",
      "Total RMSE:\t\t231\n",
      "Total MAE:\t\t195\n",
      "Future (5 days) RMSE:\t106\n",
      "Future (5 days) MAE:\t95\n"
     ]
    }
   ],
   "source": [
    "y_pred_val = pipe.predict(X_v)\n",
    "print('     ---- Métricas ----')\n",
    "print('Total RMSE:\\t\\t{:.0f}'.format(np.sqrt(mean_squared_error(y_test, y_pred))))\n",
    "print('Total MAE:\\t\\t{:.0f}'.format(mean_absolute_error(y_test,y_pred)))\n",
    "print('Future (5 days) RMSE:\\t{:.0f}'.format(np.sqrt(mean_squared_error(y_v, y_pred_val))))\n",
    "print('Future (5 days) MAE:\\t{:.0f}'.format(mean_absolute_error(y_v,y_pred_val)))"
   ]
  },
  {
   "cell_type": "markdown",
   "metadata": {
    "colab_type": "text",
    "id": "qlEu9h2VI-7U"
   },
   "source": [
    "### Recuperados\n",
    "Para la predicción de casos recuperados se usó una Regressión Lasso con caracteristicas Polinomiales de grado 4; previamente se estandarizaron los datos, y se entrenaron con un conjunto del 70% de los datos; estos datos se toman aleatoriamente, pero al graficarlos se orden en secuencia."
   ]
  },
  {
   "cell_type": "code",
   "execution_count": 14,
   "metadata": {
    "colab": {
     "base_uri": "https://localhost:8080/"
    },
    "colab_type": "code",
    "executionInfo": {
     "elapsed": 710,
     "status": "ok",
     "timestamp": 1599052750204,
     "user": {
      "displayName": "Juan Manuel Lombana Martinez",
      "photoUrl": "https://lh3.googleusercontent.com/a-/AOh14GjjvnrdriZlzXxdV00af0OFnQ3lxzsrl5cE-wBq=s64",
      "userId": "06181135591528508533"
     },
     "user_tz": 300
    },
    "id": "_zHxNJGwGZTj",
    "outputId": "06501e40-8dc4-4a46-a277-b854b433fdf4"
   },
   "outputs": [
    {
     "data": {
      "text/plain": [
       "Pipeline(steps=[('standardscaler', StandardScaler()),\n",
       "                ('polynomialfeatures', PolynomialFeatures(degree=4)),\n",
       "                ('lasso', Lasso(random_state=123))])"
      ]
     },
     "execution_count": 14,
     "metadata": {},
     "output_type": "execute_result"
    }
   ],
   "source": [
    "totalDays = len(df['dias'].values)\n",
    "X = df['dias'].values[0:totalDays-5].reshape(-1,1) #Variable independiente.\n",
    "y = df['acumulado_recuperados'].values[0:totalDays-5].reshape(-1,1) #Variable dependiente.\n",
    "#Datos de validación - nunca entran al modelo.\n",
    "X_v = df['dias'].values[totalDays-5:].reshape(-1,1)\n",
    "y_v = df['acumulado_recuperados'].values[totalDays-5:].reshape(-1,1)\n",
    "#Se obtiene el 70% para entrenamiento y 30% para pruebas.\n",
    "X_train, X_test, y_train, y_test = train_test_split(X,y,test_size=0.3,random_state=123,shuffle=True)\n",
    "#Se crea un pipeline con el escalado, las caracteristicas polinomiales y la regresión lasso\n",
    "pipe = make_pipeline(StandardScaler(),PolynomialFeatures(degree=4),Lasso(random_state=123))\n",
    "#Se realiza el entrenamiento.\n",
    "pipe.fit(X_train,y_train)"
   ]
  },
  {
   "cell_type": "markdown",
   "metadata": {},
   "source": [
    "Se realizan las predicciones sobre el dataset de pruebas, adicionalmente se establece el pico en el día 175, por lo cual para fines de prueba se realizan predicciones desde dicho día, hasta el día 200 de la pandemia, para probar la predicción futura de los modelos a corto plazo."
   ]
  },
  {
   "cell_type": "code",
   "execution_count": 15,
   "metadata": {
    "colab": {},
    "colab_type": "code",
    "id": "cvqqk2ayJCl4"
   },
   "outputs": [],
   "source": [
    "#Obtener predicciones para los datos de prueba.\n",
    "y_pred = pipe.predict(X_test)\n",
    "#Predicciones futuras.\n",
    "x_pred_future = np.arange(totalDays-10,totalDays,step=1)\n",
    "y_pred_future = pipe.predict(x_pred_future.reshape(-1,1))"
   ]
  },
  {
   "cell_type": "code",
   "execution_count": 16,
   "metadata": {},
   "outputs": [],
   "source": [
    "Ymax = GetMax(y_train,y_test,y_pred,y_pred_future)"
   ]
  },
  {
   "cell_type": "markdown",
   "metadata": {},
   "source": [
    "Se grafican los datos."
   ]
  },
  {
   "cell_type": "code",
   "execution_count": 17,
   "metadata": {
    "colab": {
     "base_uri": "https://localhost:8080/"
    },
    "colab_type": "code",
    "executionInfo": {
     "elapsed": 1453,
     "status": "ok",
     "timestamp": 1599052752644,
     "user": {
      "displayName": "Juan Manuel Lombana Martinez",
      "photoUrl": "https://lh3.googleusercontent.com/a-/AOh14GjjvnrdriZlzXxdV00af0OFnQ3lxzsrl5cE-wBq=s64",
      "userId": "06181135591528508533"
     },
     "user_tz": 300
    },
    "id": "WbQV4J3XJEYa",
    "outputId": "3dc0b4b7-5c27-4f93-c8e0-2a90d8571153"
   },
   "outputs": [
    {
     "data": {
      "image/png": "[encoded data removed]",
      "text/plain": [
       "<Figure size 1296x576 with 1 Axes>"
      ]
     },
     "metadata": {
      "needs_background": "light"
     },
     "output_type": "display_data"
    }
   ],
   "source": [
    "f = plt.figure(figsize=(18,8))\n",
    "plt.title('Predicción de recuperados')\n",
    "plt.grid()\n",
    "plt.plot(X_train[X_train.flatten().argsort(),0],y_train[X_train.flatten().argsort(),0],'ob',markersize=3,label='Train')\n",
    "plt.plot(X_test[X_test.flatten().argsort(),0],y_test[X_test.flatten().argsort(),0],'or',markersize=2,label='Test')\n",
    "plt.plot(X_v,y_v,'o',color='gray',markersize=2,label='Validation')\n",
    "plt.plot(X_test[X_test.flatten().argsort(),0],y_pred[X_test.flatten().argsort()],'--g',label='Predict')\n",
    "plt.plot(x_pred_future,y_pred_future,'--',color='orange',label='Future Predict')\n",
    "plt.plot([Xpeak,Xpeak],[-5000,Ymax],'--',color='lightseagreen', label='Peak') #Peak of cases.\n",
    "plt.ylim(-5000,Ymax)\n",
    "plt.legend(loc='upper left');\n",
    "plt.savefig('docs/images/pcp_{}_recuperados'.format(name))"
   ]
  },
  {
   "cell_type": "markdown",
   "metadata": {},
   "source": [
    "Se calculan las métricas de la regresión, en este caso se calculan las metricas completas sobre el conjunto de prueba, adicionalmente se computan las metricas solo desde el pico en adelante como indicar de las predicciones futuras."
   ]
  },
  {
   "cell_type": "code",
   "execution_count": 18,
   "metadata": {
    "colab": {
     "base_uri": "https://localhost:8080/"
    },
    "colab_type": "code",
    "executionInfo": {
     "elapsed": 905,
     "status": "ok",
     "timestamp": 1599052757674,
     "user": {
      "displayName": "Juan Manuel Lombana Martinez",
      "photoUrl": "https://lh3.googleusercontent.com/a-/AOh14GjjvnrdriZlzXxdV00af0OFnQ3lxzsrl5cE-wBq=s64",
      "userId": "06181135591528508533"
     },
     "user_tz": 300
    },
    "id": "vpXpyg6K2xu6",
    "outputId": "72cc7211-1a59-4c81-8e3b-5edeb1189752",
    "tags": []
   },
   "outputs": [
    {
     "name": "stdout",
     "output_type": "stream",
     "text": [
      "     ---- Métricas ----\n",
      "Total RMSE:\t\t294\n",
      "Total MAE:\t\t248\n",
      "Future (5 days) RMSE:\t870\n",
      "Future (5 days) MAE:\t856\n"
     ]
    }
   ],
   "source": [
    "y_pred_val = pipe.predict(X_v)\n",
    "print('     ---- Métricas ----')\n",
    "print('Total RMSE:\\t\\t{:.0f}'.format(np.sqrt(mean_squared_error(y_test, y_pred))))\n",
    "print('Total MAE:\\t\\t{:.0f}'.format(mean_absolute_error(y_test,y_pred)))\n",
    "print('Future (5 days) RMSE:\\t{:.0f}'.format(np.sqrt(mean_squared_error(y_v, y_pred_val))))\n",
    "print('Future (5 days) MAE:\\t{:.0f}'.format(mean_absolute_error(y_v,y_pred_val)))\n"
   ]
  },
  {
   "cell_type": "markdown",
   "metadata": {
    "colab_type": "text",
    "id": "i2U-CF5PJrF0"
   },
   "source": [
    "### Muertes\n",
    "Para la predicción de las muertes se usó una Regressión Lasso con caracteristicas Polinomiales de grado 6; previamente se estandarizaron los datos, y se entrenaron con un conjunto del 70% de los datos; estos datos se toman aleatoriamente, pero al graficarlos se orden en secuencia."
   ]
  },
  {
   "cell_type": "code",
   "execution_count": 19,
   "metadata": {
    "colab": {
     "base_uri": "https://localhost:8080/"
    },
    "colab_type": "code",
    "executionInfo": {
     "elapsed": 753,
     "status": "ok",
     "timestamp": 1599052764782,
     "user": {
      "displayName": "Juan Manuel Lombana Martinez",
      "photoUrl": "https://lh3.googleusercontent.com/a-/AOh14GjjvnrdriZlzXxdV00af0OFnQ3lxzsrl5cE-wBq=s64",
      "userId": "06181135591528508533"
     },
     "user_tz": 300
    },
    "id": "ZLV827mPJGDi",
    "outputId": "53060c32-e2bb-4bd9-9df2-4822a563e5e6"
   },
   "outputs": [
    {
     "data": {
      "text/plain": [
       "Pipeline(steps=[('standardscaler', StandardScaler()),\n",
       "                ('polynomialfeatures', PolynomialFeatures(degree=6)),\n",
       "                ('lasso', Lasso(max_iter=10000, random_state=123))])"
      ]
     },
     "execution_count": 19,
     "metadata": {},
     "output_type": "execute_result"
    }
   ],
   "source": [
    "totalDays = len(df['dias'].values)\n",
    "X = df['dias'].values[0:totalDays-5].reshape(-1,1) #Variable independiente.\n",
    "y = df['acumulado_muertos'].values[0:totalDays-5].reshape(-1,1) #Variable dependiente.\n",
    "#Datos de validación - nunca entran al modelo.\n",
    "X_v = df['dias'].values[totalDays-5:].reshape(-1,1)\n",
    "y_v = df['acumulado_muertos'].values[totalDays-5:].reshape(-1,1)\n",
    "\n",
    "X_train, X_test, y_train, y_test = train_test_split(X,y,test_size=0.3,random_state=123,shuffle=True)\n",
    "pipe = make_pipeline(StandardScaler(),PolynomialFeatures(degree=6),Lasso(random_state=123,max_iter=10000))\n",
    "pipe.fit(X_train,y_train)"
   ]
  },
  {
   "cell_type": "code",
   "execution_count": 20,
   "metadata": {
    "colab": {},
    "colab_type": "code",
    "id": "doTn5gN5J-MT"
   },
   "outputs": [],
   "source": [
    "y_pred = pipe.predict(X_test)\n",
    "x_pred_future = np.arange(totalDays-10,totalDays,step=1)\n",
    "y_pred_future = pipe.predict(x_pred_future.reshape(-1,1))\n",
    "Ymax = GetMax(y_train,y_test,y_pred,y_pred_future)"
   ]
  },
  {
   "cell_type": "code",
   "execution_count": 21,
   "metadata": {
    "colab": {
     "base_uri": "https://localhost:8080/"
    },
    "colab_type": "code",
    "executionInfo": {
     "elapsed": 870,
     "status": "ok",
     "timestamp": 1599052772309,
     "user": {
      "displayName": "Juan Manuel Lombana Martinez",
      "photoUrl": "https://lh3.googleusercontent.com/a-/AOh14GjjvnrdriZlzXxdV00af0OFnQ3lxzsrl5cE-wBq=s64",
      "userId": "06181135591528508533"
     },
     "user_tz": 300
    },
    "id": "uM57zoZDJ-tr",
    "outputId": "f4fd1cf8-bed4-4a35-b38b-5fea4028a8d8"
   },
   "outputs": [
    {
     "data": {
      "image/png": "[encoded data removed]",
      "text/plain": [
       "<Figure size 1296x576 with 1 Axes>"
      ]
     },
     "metadata": {
      "needs_background": "light"
     },
     "output_type": "display_data"
    }
   ],
   "source": [
    "#Graph ordered data.\n",
    "f = plt.figure(figsize=(18,8))\n",
    "plt.title('Predicción de muertes')\n",
    "plt.grid()\n",
    "plt.plot(X_train[X_train.flatten().argsort(),0],y_train[X_train.flatten().argsort(),0],'ob',markersize=3,label='Train')\n",
    "plt.plot(X_test[X_test.flatten().argsort(),0],y_test[X_test.flatten().argsort(),0],'or',markersize=2,label='Test')\n",
    "plt.plot(X_v,y_v,'o',color='gray',markersize=2,label='Validation')\n",
    "plt.plot(X_test[X_test.flatten().argsort(),0],y_pred[X_test.flatten().argsort()],'--g',label='Predict')\n",
    "plt.plot(x_pred_future,y_pred_future,'--',color='orange',label='Future Predict')\n",
    "plt.plot([Xpeak,Xpeak],[-10,Ymax],'--',color='lightseagreen', label='Peak') #Peak of cases.\n",
    "plt.ylim(-10,Ymax)\n",
    "plt.legend(loc='upper left');\n",
    "plt.savefig('docs/images/pcp_{}_muertes'.format(name))"
   ]
  },
  {
   "cell_type": "code",
   "execution_count": 22,
   "metadata": {
    "colab": {
     "base_uri": "https://localhost:8080/"
    },
    "colab_type": "code",
    "executionInfo": {
     "elapsed": 663,
     "status": "ok",
     "timestamp": 1599052776755,
     "user": {
      "displayName": "Juan Manuel Lombana Martinez",
      "photoUrl": "https://lh3.googleusercontent.com/a-/AOh14GjjvnrdriZlzXxdV00af0OFnQ3lxzsrl5cE-wBq=s64",
      "userId": "06181135591528508533"
     },
     "user_tz": 300
    },
    "id": "MH1iookH3-Lt",
    "outputId": "9f01f9dc-e2f1-4310-df6f-2df596bfeab6",
    "tags": []
   },
   "outputs": [
    {
     "name": "stdout",
     "output_type": "stream",
     "text": [
      "     ---- Métricas ----\n",
      "Total RMSE:\t\t12\n",
      "Total MAE:\t\t10\n",
      "Future (5 days) RMSE:\t38\n",
      "Future (5 days) MAE:\t37\n"
     ]
    }
   ],
   "source": [
    "y_pred_val = pipe.predict(X_v)\n",
    "print('     ---- Métricas ----')\n",
    "print('Total RMSE:\\t\\t{:.0f}'.format(np.sqrt(mean_squared_error(y_test, y_pred))))\n",
    "print('Total MAE:\\t\\t{:.0f}'.format(mean_absolute_error(y_test,y_pred)))\n",
    "print('Future (5 days) RMSE:\\t{:.0f}'.format(np.sqrt(mean_squared_error(y_v, y_pred_val))))\n",
    "print('Future (5 days) MAE:\\t{:.0f}'.format(mean_absolute_error(y_v,y_pred_val)))"
   ]
  },
  {
   "cell_type": "markdown",
   "metadata": {
    "colab_type": "text",
    "id": "86hUjNhNKaVc"
   },
   "source": [
    "### Infectados\n",
    "Para la predicción de los infectados se usó una Regressión Lasso con caracteristicas Polinomiales de grado 4; previamente se estandarizaron los datos, y se entrenaron con un conjunto del 70% de los datos; estos datos se toman aleatoriamente, pero al graficarlos se orden en secuencia."
   ]
  },
  {
   "cell_type": "code",
   "execution_count": 23,
   "metadata": {
    "colab": {
     "base_uri": "https://localhost:8080/",
     "height": 221
    },
    "colab_type": "code",
    "executionInfo": {
     "elapsed": 707,
     "status": "ok",
     "timestamp": 1599052781291,
     "user": {
      "displayName": "Juan Manuel Lombana Martinez",
      "photoUrl": "https://lh3.googleusercontent.com/a-/AOh14GjjvnrdriZlzXxdV00af0OFnQ3lxzsrl5cE-wBq=s64",
      "userId": "06181135591528508533"
     },
     "user_tz": 300
    },
    "id": "2tNQeSn_KBR0",
    "outputId": "e0deb692-b4e5-4d19-9c30-db2a5d7bf8c1"
   },
   "outputs": [
    {
     "data": {
      "text/plain": [
       "Pipeline(steps=[('standardscaler', StandardScaler()),\n",
       "                ('polynomialfeatures', PolynomialFeatures(degree=5)),\n",
       "                ('lasso', Lasso(random_state=123))])"
      ]
     },
     "execution_count": 23,
     "metadata": {},
     "output_type": "execute_result"
    }
   ],
   "source": [
    "totalDays = len(df['dias'].values)\n",
    "X = df['dias'].values[0:totalDays-5].reshape(-1,1) #Variable independiente.\n",
    "y = df['acumulado_infectados'].values[0:totalDays-5].reshape(-1,1) #Variable dependiente.\n",
    "#Datos de validación - nunca entran al modelo.\n",
    "X_v = df['dias'].values[totalDays-5:].reshape(-1,1)\n",
    "y_v = df['acumulado_infectados'].values[totalDays-5:].reshape(-1,1)\n",
    "\n",
    "X_train, X_test, y_train, y_test = train_test_split(X,y,test_size=0.3,random_state=123,shuffle=True)\n",
    "pipe = make_pipeline(StandardScaler(),PolynomialFeatures(degree=5),Lasso(random_state=123))\n",
    "pipe.fit(X_train,y_train)"
   ]
  },
  {
   "cell_type": "code",
   "execution_count": 24,
   "metadata": {
    "colab": {},
    "colab_type": "code",
    "id": "m3voeNGUKf4B"
   },
   "outputs": [],
   "source": [
    "y_pred = pipe.predict(X_test)\n",
    "x_pred_future = np.arange(totalDays-10,totalDays,step=1)\n",
    "y_pred_future = pipe.predict(x_pred_future.reshape(-1,1))\n",
    "Ymax = GetMax(y_train,y_test,y_pred,y_pred_future)"
   ]
  },
  {
   "cell_type": "code",
   "execution_count": 25,
   "metadata": {
    "colab": {
     "base_uri": "https://localhost:8080/",
     "height": 499
    },
    "colab_type": "code",
    "executionInfo": {
     "elapsed": 981,
     "status": "ok",
     "timestamp": 1599052787685,
     "user": {
      "displayName": "Juan Manuel Lombana Martinez",
      "photoUrl": "https://lh3.googleusercontent.com/a-/AOh14GjjvnrdriZlzXxdV00af0OFnQ3lxzsrl5cE-wBq=s64",
      "userId": "06181135591528508533"
     },
     "user_tz": 300
    },
    "id": "2m1Rxj53Khjj",
    "outputId": "6583bf8f-9ba4-488f-c61c-d0c8d96fbb77"
   },
   "outputs": [
    {
     "data": {
      "image/png": "[encoded data removed]",
      "text/plain": [
       "<Figure size 1296x576 with 1 Axes>"
      ]
     },
     "metadata": {
      "needs_background": "light"
     },
     "output_type": "display_data"
    }
   ],
   "source": [
    "#Graph ordered data.\n",
    "f = plt.figure(figsize=(18,8))\n",
    "plt.title('Predicción de infectados')\n",
    "plt.grid()\n",
    "plt.plot(X_train[X_train.flatten().argsort(),0],y_train[X_train.flatten().argsort(),0],'ob',markersize=3,label='Train')\n",
    "plt.plot(X_test[X_test.flatten().argsort(),0],y_test[X_test.flatten().argsort(),0],'or',markersize=2,label='Test')\n",
    "plt.plot(X_v,y_v,'o',color='gray',markersize=2,label='Validation')\n",
    "plt.plot(X_test[X_test.flatten().argsort(),0],y_pred[X_test.flatten().argsort()],'--g',label='Predict')\n",
    "plt.plot(x_pred_future,y_pred_future,'--',color='orange',label='Future Predict')\n",
    "plt.plot([Xpeak,Xpeak],[-10000,Ymax],'--',color='lightseagreen', label='Peak') #Peak of cases.\n",
    "plt.ylim(-10000,Ymax)\n",
    "plt.legend(loc='upper left');\n",
    "plt.savefig('docs/images/pcp_{}_infectados'.format(name))"
   ]
  },
  {
   "cell_type": "code",
   "execution_count": 26,
   "metadata": {
    "colab": {
     "base_uri": "https://localhost:8080/",
     "height": 102
    },
    "colab_type": "code",
    "executionInfo": {
     "elapsed": 696,
     "status": "ok",
     "timestamp": 1599052792858,
     "user": {
      "displayName": "Juan Manuel Lombana Martinez",
      "photoUrl": "https://lh3.googleusercontent.com/a-/AOh14GjjvnrdriZlzXxdV00af0OFnQ3lxzsrl5cE-wBq=s64",
      "userId": "06181135591528508533"
     },
     "user_tz": 300
    },
    "id": "APnL6CHtxjqL",
    "outputId": "7605549d-5fed-48a2-c640-cbe976eaa0f5",
    "tags": []
   },
   "outputs": [
    {
     "name": "stdout",
     "output_type": "stream",
     "text": [
      "     ---- Métricas ----\n",
      "Total RMSE:\t\t191\n",
      "Total MAE:\t\t161\n",
      "Future (5 days) RMSE:\t424\n",
      "Future (5 days) MAE:\t414\n"
     ]
    }
   ],
   "source": [
    "y_pred_val = pipe.predict(X_v)\n",
    "print('     ---- Métricas ----')\n",
    "print('Total RMSE:\\t\\t{:.0f}'.format(np.sqrt(mean_squared_error(y_test, y_pred))))\n",
    "print('Total MAE:\\t\\t{:.0f}'.format(mean_absolute_error(y_test,y_pred)))\n",
    "print('Future (5 days) RMSE:\\t{:.0f}'.format(np.sqrt(mean_squared_error(y_v, y_pred_val))))\n",
    "print('Future (5 days) MAE:\\t{:.0f}'.format(mean_absolute_error(y_v,y_pred_val)))"
   ]
  },
  {
   "cell_type": "markdown",
   "metadata": {
    "colab_type": "text",
    "id": "J6mx0PZzOsaE"
   },
   "source": [
    "## Modelo Mediano Plazo\n",
    "Para los modelos de mediano plazo, se sigue la misma dinámica que en corto plazo, pero se trabaja con un conjunto de datos que se preprocesó para que tenga los datos acumulados semanalmente, esto permite obtener las predicciones de Infectados, recuperados y muertos por semana."
   ]
  },
  {
   "cell_type": "code",
   "execution_count": 27,
   "metadata": {
    "colab": {
     "base_uri": "https://localhost:8080/",
     "height": 700
    },
    "colab_type": "code",
    "executionInfo": {
     "elapsed": 3287,
     "status": "ok",
     "timestamp": 1599268045357,
     "user": {
      "displayName": "Juan Manuel Lombana Martinez",
      "photoUrl": "https://lh3.googleusercontent.com/a-/AOh14GjjvnrdriZlzXxdV00af0OFnQ3lxzsrl5cE-wBq=s64",
      "userId": "06181135591528508533"
     },
     "user_tz": 300
    },
    "id": "c9JymuCTOvRm",
    "outputId": "fd1d55e4-51f3-4dc4-a085-f58c7f22e482"
   },
   "outputs": [
    {
     "data": {
      "text/html": [
       "<div>\n",
       "<style scoped>\n",
       "    .dataframe tbody tr th:only-of-type {\n",
       "        vertical-align: middle;\n",
       "    }\n",
       "\n",
       "    .dataframe tbody tr th {\n",
       "        vertical-align: top;\n",
       "    }\n",
       "\n",
       "    .dataframe thead th {\n",
       "        text-align: right;\n",
       "    }\n",
       "</style>\n",
       "<table border=\"1\" class=\"dataframe\">\n",
       "  <thead>\n",
       "    <tr style=\"text-align: right;\">\n",
       "      <th></th>\n",
       "      <th>infectados</th>\n",
       "      <th>recuperados</th>\n",
       "      <th>muertos</th>\n",
       "      <th>acumulado_infectados</th>\n",
       "      <th>acumulado_recuperados</th>\n",
       "      <th>acumulado_muertos</th>\n",
       "      <th>activos</th>\n",
       "    </tr>\n",
       "    <tr>\n",
       "      <th>semana</th>\n",
       "      <th></th>\n",
       "      <th></th>\n",
       "      <th></th>\n",
       "      <th></th>\n",
       "      <th></th>\n",
       "      <th></th>\n",
       "      <th></th>\n",
       "    </tr>\n",
       "  </thead>\n",
       "  <tbody>\n",
       "    <tr>\n",
       "      <th>7</th>\n",
       "      <td>128.0</td>\n",
       "      <td>35.0</td>\n",
       "      <td>6.0</td>\n",
       "      <td>399.0</td>\n",
       "      <td>97.0</td>\n",
       "      <td>21.0</td>\n",
       "      <td>281.0</td>\n",
       "    </tr>\n",
       "    <tr>\n",
       "      <th>8</th>\n",
       "      <td>348.0</td>\n",
       "      <td>24.0</td>\n",
       "      <td>10.0</td>\n",
       "      <td>747.0</td>\n",
       "      <td>121.0</td>\n",
       "      <td>31.0</td>\n",
       "      <td>595.0</td>\n",
       "    </tr>\n",
       "    <tr>\n",
       "      <th>9</th>\n",
       "      <td>556.0</td>\n",
       "      <td>29.0</td>\n",
       "      <td>27.0</td>\n",
       "      <td>1303.0</td>\n",
       "      <td>150.0</td>\n",
       "      <td>58.0</td>\n",
       "      <td>1095.0</td>\n",
       "    </tr>\n",
       "    <tr>\n",
       "      <th>10</th>\n",
       "      <td>968.0</td>\n",
       "      <td>55.0</td>\n",
       "      <td>33.0</td>\n",
       "      <td>2271.0</td>\n",
       "      <td>205.0</td>\n",
       "      <td>91.0</td>\n",
       "      <td>1975.0</td>\n",
       "    </tr>\n",
       "    <tr>\n",
       "      <th>11</th>\n",
       "      <td>1435.0</td>\n",
       "      <td>214.0</td>\n",
       "      <td>37.0</td>\n",
       "      <td>3706.0</td>\n",
       "      <td>419.0</td>\n",
       "      <td>128.0</td>\n",
       "      <td>3159.0</td>\n",
       "    </tr>\n",
       "    <tr>\n",
       "      <th>12</th>\n",
       "      <td>870.0</td>\n",
       "      <td>322.0</td>\n",
       "      <td>41.0</td>\n",
       "      <td>4576.0</td>\n",
       "      <td>741.0</td>\n",
       "      <td>169.0</td>\n",
       "      <td>3666.0</td>\n",
       "    </tr>\n",
       "    <tr>\n",
       "      <th>13</th>\n",
       "      <td>1128.0</td>\n",
       "      <td>540.0</td>\n",
       "      <td>39.0</td>\n",
       "      <td>5704.0</td>\n",
       "      <td>1281.0</td>\n",
       "      <td>208.0</td>\n",
       "      <td>4215.0</td>\n",
       "    </tr>\n",
       "    <tr>\n",
       "      <th>14</th>\n",
       "      <td>1467.0</td>\n",
       "      <td>457.0</td>\n",
       "      <td>34.0</td>\n",
       "      <td>7171.0</td>\n",
       "      <td>1738.0</td>\n",
       "      <td>242.0</td>\n",
       "      <td>5191.0</td>\n",
       "    </tr>\n",
       "    <tr>\n",
       "      <th>15</th>\n",
       "      <td>1908.0</td>\n",
       "      <td>714.0</td>\n",
       "      <td>49.0</td>\n",
       "      <td>9079.0</td>\n",
       "      <td>2452.0</td>\n",
       "      <td>291.0</td>\n",
       "      <td>6336.0</td>\n",
       "    </tr>\n",
       "    <tr>\n",
       "      <th>16</th>\n",
       "      <td>1755.0</td>\n",
       "      <td>1363.0</td>\n",
       "      <td>63.0</td>\n",
       "      <td>10834.0</td>\n",
       "      <td>3815.0</td>\n",
       "      <td>354.0</td>\n",
       "      <td>6665.0</td>\n",
       "    </tr>\n",
       "    <tr>\n",
       "      <th>17</th>\n",
       "      <td>1928.0</td>\n",
       "      <td>1171.0</td>\n",
       "      <td>40.0</td>\n",
       "      <td>12762.0</td>\n",
       "      <td>4986.0</td>\n",
       "      <td>394.0</td>\n",
       "      <td>7382.0</td>\n",
       "    </tr>\n",
       "    <tr>\n",
       "      <th>18</th>\n",
       "      <td>1669.0</td>\n",
       "      <td>1478.0</td>\n",
       "      <td>32.0</td>\n",
       "      <td>14431.0</td>\n",
       "      <td>6464.0</td>\n",
       "      <td>426.0</td>\n",
       "      <td>7541.0</td>\n",
       "    </tr>\n",
       "    <tr>\n",
       "      <th>19</th>\n",
       "      <td>1431.0</td>\n",
       "      <td>1865.0</td>\n",
       "      <td>27.0</td>\n",
       "      <td>15862.0</td>\n",
       "      <td>8329.0</td>\n",
       "      <td>453.0</td>\n",
       "      <td>7080.0</td>\n",
       "    </tr>\n",
       "    <tr>\n",
       "      <th>20</th>\n",
       "      <td>1170.0</td>\n",
       "      <td>1765.0</td>\n",
       "      <td>31.0</td>\n",
       "      <td>17032.0</td>\n",
       "      <td>10094.0</td>\n",
       "      <td>484.0</td>\n",
       "      <td>6454.0</td>\n",
       "    </tr>\n",
       "    <tr>\n",
       "      <th>21</th>\n",
       "      <td>1077.0</td>\n",
       "      <td>2149.0</td>\n",
       "      <td>17.0</td>\n",
       "      <td>18109.0</td>\n",
       "      <td>12243.0</td>\n",
       "      <td>501.0</td>\n",
       "      <td>5365.0</td>\n",
       "    </tr>\n",
       "    <tr>\n",
       "      <th>22</th>\n",
       "      <td>749.0</td>\n",
       "      <td>1545.0</td>\n",
       "      <td>20.0</td>\n",
       "      <td>18858.0</td>\n",
       "      <td>13788.0</td>\n",
       "      <td>521.0</td>\n",
       "      <td>4549.0</td>\n",
       "    </tr>\n",
       "    <tr>\n",
       "      <th>23</th>\n",
       "      <td>793.0</td>\n",
       "      <td>1441.0</td>\n",
       "      <td>9.0</td>\n",
       "      <td>19651.0</td>\n",
       "      <td>15229.0</td>\n",
       "      <td>530.0</td>\n",
       "      <td>3892.0</td>\n",
       "    </tr>\n",
       "    <tr>\n",
       "      <th>24</th>\n",
       "      <td>607.0</td>\n",
       "      <td>1371.0</td>\n",
       "      <td>14.0</td>\n",
       "      <td>20258.0</td>\n",
       "      <td>16600.0</td>\n",
       "      <td>544.0</td>\n",
       "      <td>3114.0</td>\n",
       "    </tr>\n",
       "    <tr>\n",
       "      <th>25</th>\n",
       "      <td>196.0</td>\n",
       "      <td>1576.0</td>\n",
       "      <td>4.0</td>\n",
       "      <td>20454.0</td>\n",
       "      <td>18176.0</td>\n",
       "      <td>548.0</td>\n",
       "      <td>1730.0</td>\n",
       "    </tr>\n",
       "    <tr>\n",
       "      <th>26</th>\n",
       "      <td>31.0</td>\n",
       "      <td>788.0</td>\n",
       "      <td>10.0</td>\n",
       "      <td>20485.0</td>\n",
       "      <td>18964.0</td>\n",
       "      <td>558.0</td>\n",
       "      <td>963.0</td>\n",
       "    </tr>\n",
       "  </tbody>\n",
       "</table>\n",
       "</div>"
      ],
      "text/plain": [
       "        infectados  recuperados  muertos  acumulado_infectados  \\\n",
       "semana                                                           \n",
       "7            128.0         35.0      6.0                 399.0   \n",
       "8            348.0         24.0     10.0                 747.0   \n",
       "9            556.0         29.0     27.0                1303.0   \n",
       "10           968.0         55.0     33.0                2271.0   \n",
       "11          1435.0        214.0     37.0                3706.0   \n",
       "12           870.0        322.0     41.0                4576.0   \n",
       "13          1128.0        540.0     39.0                5704.0   \n",
       "14          1467.0        457.0     34.0                7171.0   \n",
       "15          1908.0        714.0     49.0                9079.0   \n",
       "16          1755.0       1363.0     63.0               10834.0   \n",
       "17          1928.0       1171.0     40.0               12762.0   \n",
       "18          1669.0       1478.0     32.0               14431.0   \n",
       "19          1431.0       1865.0     27.0               15862.0   \n",
       "20          1170.0       1765.0     31.0               17032.0   \n",
       "21          1077.0       2149.0     17.0               18109.0   \n",
       "22           749.0       1545.0     20.0               18858.0   \n",
       "23           793.0       1441.0      9.0               19651.0   \n",
       "24           607.0       1371.0     14.0               20258.0   \n",
       "25           196.0       1576.0      4.0               20454.0   \n",
       "26            31.0        788.0     10.0               20485.0   \n",
       "\n",
       "        acumulado_recuperados  acumulado_muertos  activos  \n",
       "semana                                                     \n",
       "7                        97.0               21.0    281.0  \n",
       "8                       121.0               31.0    595.0  \n",
       "9                       150.0               58.0   1095.0  \n",
       "10                      205.0               91.0   1975.0  \n",
       "11                      419.0              128.0   3159.0  \n",
       "12                      741.0              169.0   3666.0  \n",
       "13                     1281.0              208.0   4215.0  \n",
       "14                     1738.0              242.0   5191.0  \n",
       "15                     2452.0              291.0   6336.0  \n",
       "16                     3815.0              354.0   6665.0  \n",
       "17                     4986.0              394.0   7382.0  \n",
       "18                     6464.0              426.0   7541.0  \n",
       "19                     8329.0              453.0   7080.0  \n",
       "20                    10094.0              484.0   6454.0  \n",
       "21                    12243.0              501.0   5365.0  \n",
       "22                    13788.0              521.0   4549.0  \n",
       "23                    15229.0              530.0   3892.0  \n",
       "24                    16600.0              544.0   3114.0  \n",
       "25                    18176.0              548.0   1730.0  \n",
       "26                    18964.0              558.0    963.0  "
      ]
     },
     "execution_count": 27,
     "metadata": {},
     "output_type": "execute_result"
    }
   ],
   "source": [
    "urlDataset_w = 'Datos/data_weekly_{}.pickle'.format(name)\n",
    "df_w = pd.read_pickle(urlDataset_w)\n",
    "df_w.tail(20)"
   ]
  },
  {
   "cell_type": "markdown",
   "metadata": {
    "colab_type": "text",
    "id": "tzAqlcmnPA8x"
   },
   "source": [
    "### Activos"
   ]
  },
  {
   "cell_type": "code",
   "execution_count": 28,
   "metadata": {
    "colab": {
     "base_uri": "https://localhost:8080/",
     "height": 275
    },
    "colab_type": "code",
    "executionInfo": {
     "elapsed": 675,
     "status": "ok",
     "timestamp": 1599161513183,
     "user": {
      "displayName": "Juan Manuel Lombana Martinez",
      "photoUrl": "https://lh3.googleusercontent.com/a-/AOh14GjjvnrdriZlzXxdV00af0OFnQ3lxzsrl5cE-wBq=s64",
      "userId": "06181135591528508533"
     },
     "user_tz": 300
    },
    "id": "Z-ZwHvHeO77X",
    "outputId": "b166cfee-dd6e-4942-91be-f705ec500ebc"
   },
   "outputs": [
    {
     "data": {
      "text/plain": [
       "Pipeline(steps=[('standardscaler', StandardScaler()),\n",
       "                ('polynomialfeatures', PolynomialFeatures(degree=5)),\n",
       "                ('lasso', Lasso(max_iter=10000, random_state=123))])"
      ]
     },
     "execution_count": 28,
     "metadata": {},
     "output_type": "execute_result"
    }
   ],
   "source": [
    "totalW = len(df_w.index.values)\n",
    "X = df_w.index.values[0:totalW-3].reshape(-1,1) #Variable independiente.\n",
    "y = df_w['activos'].values[0:totalW-3].reshape(-1,1) #Variable dependiente.\n",
    "#Datos de validación - nunca entran al modelo.\n",
    "X_v = df_w.index.values[totalW-3:].reshape(-1,1)\n",
    "y_v = df_w['activos'].values[totalW-3:].reshape(-1,1)\n",
    "\n",
    "X_train, X_test, y_train, y_test = train_test_split(X,y,test_size=0.3,random_state=123,shuffle=True)\n",
    "pipe = make_pipeline(StandardScaler(),PolynomialFeatures(degree=5),Lasso(max_iter=10000,random_state=123))\n",
    "pipe.fit(X_train,y_train)"
   ]
  },
  {
   "cell_type": "markdown",
   "metadata": {},
   "source": [
    "El pico de la pandemia se grafica en la semana:"
   ]
  },
  {
   "cell_type": "code",
   "execution_count": 29,
   "metadata": {
    "colab": {},
    "colab_type": "code",
    "id": "0Z7cB6kOPG-v",
    "tags": []
   },
   "outputs": [
    {
     "data": {
      "text/plain": [
       "18"
      ]
     },
     "execution_count": 29,
     "metadata": {},
     "output_type": "execute_result"
    }
   ],
   "source": [
    "y_pred = pipe.predict(X_test)\n",
    "x_pred_future = np.arange(0,totalW,step=1)\n",
    "y_pred_future = pipe.predict(x_pred_future.reshape(-1,1))\n",
    "Ymax = GetMax(y_train,y_test,y_pred,y_pred_future)\n",
    "Xpeak = GetPeak((X_test,y_pred))\n",
    "Xpeak"
   ]
  },
  {
   "cell_type": "code",
   "execution_count": 30,
   "metadata": {
    "colab": {
     "base_uri": "https://localhost:8080/",
     "height": 499
    },
    "colab_type": "code",
    "executionInfo": {
     "elapsed": 1061,
     "status": "ok",
     "timestamp": 1599161539417,
     "user": {
      "displayName": "Juan Manuel Lombana Martinez",
      "photoUrl": "https://lh3.googleusercontent.com/a-/AOh14GjjvnrdriZlzXxdV00af0OFnQ3lxzsrl5cE-wBq=s64",
      "userId": "06181135591528508533"
     },
     "user_tz": 300
    },
    "id": "mobqityePL2u",
    "outputId": "ca9dfe1a-96e9-4f49-e3ef-13c115839233"
   },
   "outputs": [
    {
     "data": {
      "image/png": "[encoded data removed]",
      "text/plain": [
       "<Figure size 1296x576 with 1 Axes>"
      ]
     },
     "metadata": {
      "needs_background": "light"
     },
     "output_type": "display_data"
    }
   ],
   "source": [
    "f = plt.figure(figsize=(18,8))\n",
    "plt.title('Predicción Semanal de casos activos')\n",
    "plt.grid()\n",
    "plt.plot(X_train[X_train.flatten().argsort(),0],y_train[X_train.flatten().argsort(),0],'ob',markersize=3,label='Train')\n",
    "plt.plot(X_test[X_test.flatten().argsort(),0],y_test[X_test.flatten().argsort(),0],'or',markersize=2,label='Test')\n",
    "plt.plot(X_v,y_v,'o',color='gray',markersize=2,label='Validation')\n",
    "plt.plot(x_pred_future[0:totalW-2],y_pred_future[0:totalW-2],'--g',label='Predict')\n",
    "plt.plot(x_pred_future[totalW-3:],y_pred_future[totalW-3:],'--',color='orange',label='Future Predict')\n",
    "plt.plot([Xpeak,Xpeak],[-5000,Ymax],'--',color='lightseagreen', label='Peak') #Peak of cases.\n",
    "plt.ylim(-5000,Ymax)\n",
    "plt.legend(loc='upper left');\n",
    "plt.savefig('docs/images/pmp_{}_activos'.format(name))"
   ]
  },
  {
   "cell_type": "code",
   "execution_count": 31,
   "metadata": {
    "colab": {
     "base_uri": "https://localhost:8080/",
     "height": 102
    },
    "colab_type": "code",
    "executionInfo": {
     "elapsed": 511,
     "status": "ok",
     "timestamp": 1599107806964,
     "user": {
      "displayName": "Juan Manuel Lombana Martinez",
      "photoUrl": "https://lh3.googleusercontent.com/a-/AOh14GjjvnrdriZlzXxdV00af0OFnQ3lxzsrl5cE-wBq=s64",
      "userId": "06181135591528508533"
     },
     "user_tz": 300
    },
    "id": "ihYYQStNPW9O",
    "outputId": "d6c4c23d-837c-4610-e6d3-7b5a929419a7",
    "tags": []
   },
   "outputs": [
    {
     "name": "stdout",
     "output_type": "stream",
     "text": [
      "     ---- Métricas ----\n",
      "Total RMSE:\t\t322\n",
      "Total MAE:\t\t270\n",
      "Future (3 weeks) RMSE:\t1601\n",
      "Future (3 weeks) MAE:\t1508\n"
     ]
    }
   ],
   "source": [
    "y_pred_val = pipe.predict(X_v)\n",
    "print('     ---- Métricas ----')\n",
    "print('Total RMSE:\\t\\t{:.0f}'.format(np.sqrt(mean_squared_error(y_test, y_pred))))\n",
    "print('Total MAE:\\t\\t{:.0f}'.format(mean_absolute_error(y_test,y_pred)))\n",
    "print('Future (3 weeks) RMSE:\\t{:.0f}'.format(np.sqrt(mean_squared_error(y_v, y_pred_val))))\n",
    "print('Future (3 weeks) MAE:\\t{:.0f}'.format(mean_absolute_error(y_v,y_pred_val)))"
   ]
  },
  {
   "cell_type": "markdown",
   "metadata": {
    "colab_type": "text",
    "id": "r3gzJowqXxM9"
   },
   "source": [
    "### Recuperados"
   ]
  },
  {
   "cell_type": "code",
   "execution_count": 32,
   "metadata": {
    "colab": {
     "base_uri": "https://localhost:8080/",
     "height": 221
    },
    "colab_type": "code",
    "executionInfo": {
     "elapsed": 1102,
     "status": "ok",
     "timestamp": 1599268048919,
     "user": {
      "displayName": "Juan Manuel Lombana Martinez",
      "photoUrl": "https://lh3.googleusercontent.com/a-/AOh14GjjvnrdriZlzXxdV00af0OFnQ3lxzsrl5cE-wBq=s64",
      "userId": "06181135591528508533"
     },
     "user_tz": 300
    },
    "id": "rCtzv0sJQLSw",
    "outputId": "03a6923e-3ea8-443a-8d99-1a2926545f23"
   },
   "outputs": [
    {
     "data": {
      "text/plain": [
       "Pipeline(steps=[('standardscaler', StandardScaler()),\n",
       "                ('polynomialfeatures', PolynomialFeatures(degree=5)),\n",
       "                ('lasso', Lasso(max_iter=10000, random_state=123))])"
      ]
     },
     "execution_count": 32,
     "metadata": {},
     "output_type": "execute_result"
    }
   ],
   "source": [
    "totalW = len(df_w.index.values)\n",
    "X = df_w.index.values[0:totalW-3].reshape(-1,1) #Variable independiente.\n",
    "y = df_w['acumulado_recuperados'].values[0:totalW-3].reshape(-1,1) #Variable dependiente.\n",
    "#Datos de validación - nunca entran al modelo.\n",
    "X_v = df_w.index.values[totalW-3:].reshape(-1,1)\n",
    "y_v = df_w['acumulado_recuperados'].values[totalW-3:].reshape(-1,1)\n",
    "\n",
    "X_train, X_test, y_train, y_test = train_test_split(X,y,test_size=0.3,random_state=123,shuffle=True)\n",
    "pipe = make_pipeline(StandardScaler(),PolynomialFeatures(degree=5),Lasso(random_state=123,max_iter=10000))\n",
    "pipe.fit(X_train,y_train)"
   ]
  },
  {
   "cell_type": "code",
   "execution_count": 33,
   "metadata": {
    "colab": {},
    "colab_type": "code",
    "executionInfo": {
     "elapsed": 1028,
     "status": "ok",
     "timestamp": 1599268050775,
     "user": {
      "displayName": "Juan Manuel Lombana Martinez",
      "photoUrl": "https://lh3.googleusercontent.com/a-/AOh14GjjvnrdriZlzXxdV00af0OFnQ3lxzsrl5cE-wBq=s64",
      "userId": "06181135591528508533"
     },
     "user_tz": 300
    },
    "id": "DxXcVIjOX3rq"
   },
   "outputs": [],
   "source": [
    "y_pred = pipe.predict(X_test)\n",
    "x_pred_future = np.arange(0,totalW,step=1)\n",
    "y_pred_future = pipe.predict(x_pred_future.reshape(-1,1))\n",
    "Ymax = GetMax(y_train,y_test,y_pred,y_pred_future)"
   ]
  },
  {
   "cell_type": "code",
   "execution_count": 34,
   "metadata": {
    "colab": {
     "base_uri": "https://localhost:8080/",
     "height": 499
    },
    "colab_type": "code",
    "executionInfo": {
     "elapsed": 988,
     "status": "ok",
     "timestamp": 1599268075548,
     "user": {
      "displayName": "Juan Manuel Lombana Martinez",
      "photoUrl": "https://lh3.googleusercontent.com/a-/AOh14GjjvnrdriZlzXxdV00af0OFnQ3lxzsrl5cE-wBq=s64",
      "userId": "06181135591528508533"
     },
     "user_tz": 300
    },
    "id": "FMIpg2T7X5lQ",
    "outputId": "e7f236c4-2fcb-448d-dadb-ceda51843345"
   },
   "outputs": [
    {
     "data": {
      "image/png": "[encoded data removed]",
      "text/plain": [
       "<Figure size 1296x576 with 1 Axes>"
      ]
     },
     "metadata": {
      "needs_background": "light"
     },
     "output_type": "display_data"
    }
   ],
   "source": [
    "#Graph ordered data.\n",
    "f = plt.figure(figsize=(18,8))\n",
    "plt.title('Predicción Semanal de recuperados')\n",
    "plt.grid()\n",
    "plt.plot(X_train[X_train.flatten().argsort(),0],y_train[X_train.flatten().argsort(),0],'ob',markersize=3,label='Train')\n",
    "plt.plot(X_test[X_test.flatten().argsort(),0],y_test[X_test.flatten().argsort(),0],'or',markersize=2,label='Test')\n",
    "plt.plot(X_v,y_v,'o',color='gray',markersize=2,label='Validation')\n",
    "plt.plot(x_pred_future[0:totalW-2],y_pred_future[0:totalW-2],'--g',label='Predict')\n",
    "plt.plot(x_pred_future[totalW-3:],y_pred_future[totalW-3:],'--',color='orange',label='Future Predict')\n",
    "plt.plot([Xpeak,Xpeak],[-5000,Ymax],'--',color='lightseagreen', label='Peak') #Peak of cases.\n",
    "plt.ylim(-5000,Ymax)\n",
    "plt.legend(loc='upper left');\n",
    "plt.savefig('docs/images/pmp_{}_recuperados'.format(name))"
   ]
  },
  {
   "cell_type": "code",
   "execution_count": 35,
   "metadata": {
    "colab": {
     "base_uri": "https://localhost:8080/",
     "height": 102
    },
    "colab_type": "code",
    "executionInfo": {
     "elapsed": 642,
     "status": "ok",
     "timestamp": 1599160567717,
     "user": {
      "displayName": "Juan Manuel Lombana Martinez",
      "photoUrl": "https://lh3.googleusercontent.com/a-/AOh14GjjvnrdriZlzXxdV00af0OFnQ3lxzsrl5cE-wBq=s64",
      "userId": "06181135591528508533"
     },
     "user_tz": 300
    },
    "id": "WxVjNYR-X7P3",
    "outputId": "6293c17e-b75d-4269-d96a-ae72e913f1df",
    "tags": []
   },
   "outputs": [
    {
     "name": "stdout",
     "output_type": "stream",
     "text": [
      "     ---- Métricas ----\n",
      "Total RMSE:\t\t156\n",
      "Total MAE:\t\t105\n",
      "Future (3 weeks) RMSE:\t1094\n",
      "Future (3 weeks) MAE:\t866\n"
     ]
    }
   ],
   "source": [
    "y_pred_val = pipe.predict(X_v)\n",
    "print('     ---- Métricas ----')\n",
    "print('Total RMSE:\\t\\t{:.0f}'.format(np.sqrt(mean_squared_error(y_test, y_pred))))\n",
    "print('Total MAE:\\t\\t{:.0f}'.format(mean_absolute_error(y_test,y_pred)))\n",
    "print('Future (3 weeks) RMSE:\\t{:.0f}'.format(np.sqrt(mean_squared_error(y_v, y_pred_val))))\n",
    "print('Future (3 weeks) MAE:\\t{:.0f}'.format(mean_absolute_error(y_v,y_pred_val)))"
   ]
  },
  {
   "cell_type": "markdown",
   "metadata": {
    "colab_type": "text",
    "id": "7GOGiriZcMo5"
   },
   "source": [
    "### Muertos"
   ]
  },
  {
   "cell_type": "code",
   "execution_count": 36,
   "metadata": {
    "colab": {
     "base_uri": "https://localhost:8080/",
     "height": 221
    },
    "colab_type": "code",
    "executionInfo": {
     "elapsed": 605,
     "status": "ok",
     "timestamp": 1599161309220,
     "user": {
      "displayName": "Juan Manuel Lombana Martinez",
      "photoUrl": "https://lh3.googleusercontent.com/a-/AOh14GjjvnrdriZlzXxdV00af0OFnQ3lxzsrl5cE-wBq=s64",
      "userId": "06181135591528508533"
     },
     "user_tz": 300
    },
    "id": "qishb1F7cOmZ",
    "outputId": "45135d7e-be04-4c49-9587-c4c9faa6e941"
   },
   "outputs": [
    {
     "data": {
      "text/plain": [
       "Pipeline(steps=[('standardscaler', StandardScaler()),\n",
       "                ('polynomialfeatures', PolynomialFeatures(degree=7)),\n",
       "                ('lasso', Lasso(max_iter=10000, random_state=123))])"
      ]
     },
     "execution_count": 36,
     "metadata": {},
     "output_type": "execute_result"
    }
   ],
   "source": [
    "totalW = len(df_w.index.values)\n",
    "X = df_w.index.values[0:totalW-3].reshape(-1,1) #Variable independiente.\n",
    "y = df_w['acumulado_muertos'].values[0:totalW-3].reshape(-1,1) #Variable dependiente.\n",
    "#Datos de validación - nunca entran al modelo.\n",
    "X_v = df_w.index.values[totalW-3:].reshape(-1,1)\n",
    "y_v = df_w['acumulado_muertos'].values[totalW-3:].reshape(-1,1)\n",
    "\n",
    "X_train, X_test, y_train, y_test = train_test_split(X,y,test_size=0.3,random_state=123,shuffle=True)\n",
    "pipe = make_pipeline(StandardScaler(),PolynomialFeatures(degree=7),Lasso(random_state=123,max_iter=10000))\n",
    "pipe.fit(X_train,y_train)"
   ]
  },
  {
   "cell_type": "code",
   "execution_count": 37,
   "metadata": {
    "colab": {},
    "colab_type": "code",
    "id": "swxCP_DrcRWQ"
   },
   "outputs": [],
   "source": [
    "y_pred = pipe.predict(X_test)\n",
    "x_pred_future = np.arange(0,totalW,step=1)\n",
    "y_pred_future = pipe.predict(x_pred_future.reshape(-1,1))\n",
    "Ymax = GetMax(y_train,y_test,y_pred,y_pred_future)"
   ]
  },
  {
   "cell_type": "code",
   "execution_count": 38,
   "metadata": {
    "colab": {
     "base_uri": "https://localhost:8080/",
     "height": 499
    },
    "colab_type": "code",
    "executionInfo": {
     "elapsed": 1046,
     "status": "ok",
     "timestamp": 1599161447629,
     "user": {
      "displayName": "Juan Manuel Lombana Martinez",
      "photoUrl": "https://lh3.googleusercontent.com/a-/AOh14GjjvnrdriZlzXxdV00af0OFnQ3lxzsrl5cE-wBq=s64",
      "userId": "06181135591528508533"
     },
     "user_tz": 300
    },
    "id": "7UsC9fb8cUa4",
    "outputId": "05f2531c-9a28-4615-b71c-0b57cf7d8d6c"
   },
   "outputs": [
    {
     "data": {
      "image/png": "[encoded data removed]",
      "text/plain": [
       "<Figure size 1296x576 with 1 Axes>"
      ]
     },
     "metadata": {
      "needs_background": "light"
     },
     "output_type": "display_data"
    }
   ],
   "source": [
    "#Graph ordered data.\n",
    "f = plt.figure(figsize=(18,8))\n",
    "plt.title('Predicción Semanal de Muertes')\n",
    "plt.grid()\n",
    "plt.plot(X_train[X_train.flatten().argsort(),0],y_train[X_train.flatten().argsort(),0],'ob',markersize=3,label='Train')\n",
    "plt.plot(X_test[X_test.flatten().argsort(),0],y_test[X_test.flatten().argsort(),0],'or',markersize=2,label='Test')\n",
    "plt.plot(X_v,y_v,'o',color='gray',markersize=2,label='Validation')\n",
    "plt.plot(x_pred_future[0:totalW-2],y_pred_future[0:totalW-2],'--g',label='Predict')\n",
    "plt.plot(x_pred_future[totalW-3:],y_pred_future[totalW-3:],'--',color='orange',label='Future Predict')\n",
    "plt.plot([Xpeak,Xpeak],[-5000,Ymax],'--',color='lightseagreen', label='Peak') #Peak of cases.\n",
    "plt.ylim(-2000,Ymax)\n",
    "plt.legend(loc='upper left');\n",
    "plt.savefig('docs/images/pmp_{}_muertes'.format(name))"
   ]
  },
  {
   "cell_type": "code",
   "execution_count": 39,
   "metadata": {
    "colab": {
     "base_uri": "https://localhost:8080/",
     "height": 102
    },
    "colab_type": "code",
    "executionInfo": {
     "elapsed": 630,
     "status": "ok",
     "timestamp": 1599161356262,
     "user": {
      "displayName": "Juan Manuel Lombana Martinez",
      "photoUrl": "https://lh3.googleusercontent.com/a-/AOh14GjjvnrdriZlzXxdV00af0OFnQ3lxzsrl5cE-wBq=s64",
      "userId": "06181135591528508533"
     },
     "user_tz": 300
    },
    "id": "GcerxUFacWyR",
    "outputId": "f0ebedc4-3ca3-4823-d509-69615dbdf23b",
    "tags": []
   },
   "outputs": [
    {
     "name": "stdout",
     "output_type": "stream",
     "text": [
      "     ---- Métricas ----\n",
      "Total RMSE:\t\t14\n",
      "Total MAE:\t\t12\n",
      "Future (3 weeks) RMSE:\t169\n",
      "Future (3 weeks) MAE:\t148\n"
     ]
    }
   ],
   "source": [
    "y_pred_val = pipe.predict(X_v)\n",
    "print('     ---- Métricas ----')\n",
    "print('Total RMSE:\\t\\t{:.0f}'.format(np.sqrt(mean_squared_error(y_test, y_pred))))\n",
    "print('Total MAE:\\t\\t{:.0f}'.format(mean_absolute_error(y_test,y_pred)))\n",
    "print('Future (3 weeks) RMSE:\\t{:.0f}'.format(np.sqrt(mean_squared_error(y_v, y_pred_val))))\n",
    "print('Future (3 weeks) MAE:\\t{:.0f}'.format(mean_absolute_error(y_v,y_pred_val)))"
   ]
  }
 ],
 "metadata": {
  "colab": {
   "authorship_tag": "ABX9TyPrfDS/xsy7pBi5E+JtIL1A",
   "collapsed_sections": [],
   "mount_file_id": "1e65ez2PT-HnjAITg0O_HtXOixMx6xamn",
   "name": "3_Modelo_JLM",
   "provenance": []
  },
  "kernelspec": {
   "display_name": "Python 3",
   "language": "python",
   "name": "python3"
  },
  "language_info": {
   "codemirror_mode": {
    "name": "ipython",
    "version": 3
   },
   "file_extension": ".py",
   "mimetype": "text/x-python",
   "name": "python",
   "nbconvert_exporter": "python",
   "pygments_lexer": "ipython3",
   "version": "3.7.3"
  }
 },
 "nbformat": 4,
 "nbformat_minor": 4
}
