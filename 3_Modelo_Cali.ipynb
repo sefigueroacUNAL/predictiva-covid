{
 "cells": [
  {
   "cell_type": "markdown",
   "metadata": {},
   "source": [
    "# Modelo para la Ciudad de Cali"
   ]
  },
  {
   "cell_type": "code",
   "execution_count": 1,
   "metadata": {
    "colab": {},
    "colab_type": "code",
    "executionInfo": {
     "elapsed": 1674,
     "status": "ok",
     "timestamp": 1599268041527,
     "user": {
      "displayName": "Juan Manuel Lombana Martinez",
      "photoUrl": "https://lh3.googleusercontent.com/a-/AOh14GjjvnrdriZlzXxdV00af0OFnQ3lxzsrl5cE-wBq=s64",
      "userId": "06181135591528508533"
     },
     "user_tz": 300
    },
    "id": "H4cpgpvEVunf"
   },
   "outputs": [],
   "source": [
    "import numpy as np\n",
    "import pandas as pd\n",
    "import matplotlib.pyplot as plt"
   ]
  },
  {
   "cell_type": "code",
   "execution_count": 2,
   "metadata": {
    "colab": {
     "base_uri": "https://localhost:8080/",
     "height": 34
    },
    "colab_type": "code",
    "executionInfo": {
     "elapsed": 1657,
     "status": "ok",
     "timestamp": 1599268041527,
     "user": {
      "displayName": "Juan Manuel Lombana Martinez",
      "photoUrl": "https://lh3.googleusercontent.com/a-/AOh14GjjvnrdriZlzXxdV00af0OFnQ3lxzsrl5cE-wBq=s64",
      "userId": "06181135591528508533"
     },
     "user_tz": 300
    },
    "id": "y2gAPfWtWFTJ",
    "outputId": "6f65e17a-9c15-4450-92d3-b2b8285f5437"
   },
   "outputs": [],
   "source": [
    "##Sección de código para ejecutar el ejercicio en COLAB sin realizar ningún cambio adicional.\n",
    "#from google.colab import drive\n",
    "#drive.mount('/content/drive')\n",
    "#baseUrl = '/content/drive/Shared drives/Analitica Predictiva/covid-19-flr-analitica-predictiva'\n",
    "#os.chdir(baseUrl)"
   ]
  },
  {
   "cell_type": "markdown",
   "metadata": {},
   "source": [
    "Librerias requeridas para realizar los modelos."
   ]
  },
  {
   "cell_type": "code",
   "execution_count": 3,
   "metadata": {
    "colab": {},
    "colab_type": "code",
    "executionInfo": {
     "elapsed": 2183,
     "status": "ok",
     "timestamp": 1599268042062,
     "user": {
      "displayName": "Juan Manuel Lombana Martinez",
      "photoUrl": "https://lh3.googleusercontent.com/a-/AOh14GjjvnrdriZlzXxdV00af0OFnQ3lxzsrl5cE-wBq=s64",
      "userId": "06181135591528508533"
     },
     "user_tz": 300
    },
    "id": "LnzcztOtO2OW"
   },
   "outputs": [],
   "source": [
    "from sklearn.preprocessing import PolynomialFeatures, StandardScaler\n",
    "from sklearn.linear_model import Lasso\n",
    "from sklearn.pipeline import make_pipeline\n",
    "from sklearn.model_selection import train_test_split\n",
    "from sklearn.metrics import mean_squared_error, mean_absolute_error"
   ]
  },
  {
   "cell_type": "markdown",
   "metadata": {
    "colab_type": "text",
    "id": "QeVXw8BSZEyI"
   },
   "source": [
    "## Modelo Corto Plazo"
   ]
  },
  {
   "cell_type": "code",
   "execution_count": 4,
   "metadata": {},
   "outputs": [],
   "source": [
    "ciudades = ['Bogotá D.C.','Medellín','Cali','Barranquilla', 'Cartagena de Indias']\n",
    "names = ['Bogota','Medellin','Cali','Barranquilla','Cartagena']\n",
    "id_city = 2\n",
    "name = names[id_city]\n",
    "urlDataSet = 'Datos/data_{}.pickle'.format(name)"
   ]
  },
  {
   "cell_type": "markdown",
   "metadata": {},
   "source": [
    "Se carga el dataset generado en la sección de preprocesamiento, se muestran los últimos 20 registros, para validar visualmente los ultimos días de información."
   ]
  },
  {
   "cell_type": "code",
   "execution_count": 5,
   "metadata": {
    "colab": {
     "base_uri": "https://localhost:8080/",
     "height": 700
    },
    "colab_type": "code",
    "executionInfo": {
     "elapsed": 3102,
     "status": "ok",
     "timestamp": 1599052707567,
     "user": {
      "displayName": "Juan Manuel Lombana Martinez",
      "photoUrl": "https://lh3.googleusercontent.com/a-/AOh14GjjvnrdriZlzXxdV00af0OFnQ3lxzsrl5cE-wBq=s64",
      "userId": "06181135591528508533"
     },
     "user_tz": 300
    },
    "id": "EGxtOkIqY-yT",
    "outputId": "c6995f4a-7dea-4968-eeaa-c1b77d14a90b"
   },
   "outputs": [
    {
     "data": {
      "text/html": [
       "<div>\n",
       "<style scoped>\n",
       "    .dataframe tbody tr th:only-of-type {\n",
       "        vertical-align: middle;\n",
       "    }\n",
       "\n",
       "    .dataframe tbody tr th {\n",
       "        vertical-align: top;\n",
       "    }\n",
       "\n",
       "    .dataframe thead th {\n",
       "        text-align: right;\n",
       "    }\n",
       "</style>\n",
       "<table border=\"1\" class=\"dataframe\">\n",
       "  <thead>\n",
       "    <tr style=\"text-align: right;\">\n",
       "      <th></th>\n",
       "      <th>dias</th>\n",
       "      <th>semana</th>\n",
       "      <th>infectados</th>\n",
       "      <th>recuperados</th>\n",
       "      <th>muertos</th>\n",
       "      <th>acumulado_infectados</th>\n",
       "      <th>acumulado_recuperados</th>\n",
       "      <th>acumulado_muertos</th>\n",
       "      <th>activos</th>\n",
       "    </tr>\n",
       "    <tr>\n",
       "      <th>fecha_infeccioso</th>\n",
       "      <th></th>\n",
       "      <th></th>\n",
       "      <th></th>\n",
       "      <th></th>\n",
       "      <th></th>\n",
       "      <th></th>\n",
       "      <th></th>\n",
       "      <th></th>\n",
       "      <th></th>\n",
       "    </tr>\n",
       "  </thead>\n",
       "  <tbody>\n",
       "    <tr>\n",
       "      <th>2020-08-16</th>\n",
       "      <td>167</td>\n",
       "      <td>23</td>\n",
       "      <td>348.0</td>\n",
       "      <td>837.0</td>\n",
       "      <td>17.0</td>\n",
       "      <td>35202.0</td>\n",
       "      <td>19575.0</td>\n",
       "      <td>1147.0</td>\n",
       "      <td>14480.0</td>\n",
       "    </tr>\n",
       "    <tr>\n",
       "      <th>2020-08-17</th>\n",
       "      <td>168</td>\n",
       "      <td>24</td>\n",
       "      <td>342.0</td>\n",
       "      <td>982.0</td>\n",
       "      <td>19.0</td>\n",
       "      <td>35544.0</td>\n",
       "      <td>20557.0</td>\n",
       "      <td>1166.0</td>\n",
       "      <td>13821.0</td>\n",
       "    </tr>\n",
       "    <tr>\n",
       "      <th>2020-08-18</th>\n",
       "      <td>169</td>\n",
       "      <td>24</td>\n",
       "      <td>413.0</td>\n",
       "      <td>420.0</td>\n",
       "      <td>12.0</td>\n",
       "      <td>35957.0</td>\n",
       "      <td>20977.0</td>\n",
       "      <td>1178.0</td>\n",
       "      <td>13802.0</td>\n",
       "    </tr>\n",
       "    <tr>\n",
       "      <th>2020-08-19</th>\n",
       "      <td>170</td>\n",
       "      <td>24</td>\n",
       "      <td>397.0</td>\n",
       "      <td>716.0</td>\n",
       "      <td>15.0</td>\n",
       "      <td>36354.0</td>\n",
       "      <td>21693.0</td>\n",
       "      <td>1193.0</td>\n",
       "      <td>13468.0</td>\n",
       "    </tr>\n",
       "    <tr>\n",
       "      <th>2020-08-20</th>\n",
       "      <td>171</td>\n",
       "      <td>24</td>\n",
       "      <td>632.0</td>\n",
       "      <td>590.0</td>\n",
       "      <td>12.0</td>\n",
       "      <td>36986.0</td>\n",
       "      <td>22283.0</td>\n",
       "      <td>1205.0</td>\n",
       "      <td>13498.0</td>\n",
       "    </tr>\n",
       "    <tr>\n",
       "      <th>2020-08-21</th>\n",
       "      <td>172</td>\n",
       "      <td>24</td>\n",
       "      <td>404.0</td>\n",
       "      <td>504.0</td>\n",
       "      <td>17.0</td>\n",
       "      <td>37390.0</td>\n",
       "      <td>22787.0</td>\n",
       "      <td>1222.0</td>\n",
       "      <td>13381.0</td>\n",
       "    </tr>\n",
       "    <tr>\n",
       "      <th>2020-08-22</th>\n",
       "      <td>173</td>\n",
       "      <td>24</td>\n",
       "      <td>231.0</td>\n",
       "      <td>695.0</td>\n",
       "      <td>15.0</td>\n",
       "      <td>37621.0</td>\n",
       "      <td>23482.0</td>\n",
       "      <td>1237.0</td>\n",
       "      <td>12902.0</td>\n",
       "    </tr>\n",
       "    <tr>\n",
       "      <th>2020-08-23</th>\n",
       "      <td>174</td>\n",
       "      <td>24</td>\n",
       "      <td>196.0</td>\n",
       "      <td>490.0</td>\n",
       "      <td>16.0</td>\n",
       "      <td>37817.0</td>\n",
       "      <td>23972.0</td>\n",
       "      <td>1253.0</td>\n",
       "      <td>12592.0</td>\n",
       "    </tr>\n",
       "    <tr>\n",
       "      <th>2020-08-24</th>\n",
       "      <td>175</td>\n",
       "      <td>25</td>\n",
       "      <td>284.0</td>\n",
       "      <td>673.0</td>\n",
       "      <td>15.0</td>\n",
       "      <td>38101.0</td>\n",
       "      <td>24645.0</td>\n",
       "      <td>1268.0</td>\n",
       "      <td>12188.0</td>\n",
       "    </tr>\n",
       "    <tr>\n",
       "      <th>2020-08-25</th>\n",
       "      <td>176</td>\n",
       "      <td>25</td>\n",
       "      <td>225.0</td>\n",
       "      <td>612.0</td>\n",
       "      <td>14.0</td>\n",
       "      <td>38326.0</td>\n",
       "      <td>25257.0</td>\n",
       "      <td>1282.0</td>\n",
       "      <td>11787.0</td>\n",
       "    </tr>\n",
       "    <tr>\n",
       "      <th>2020-08-26</th>\n",
       "      <td>177</td>\n",
       "      <td>25</td>\n",
       "      <td>201.0</td>\n",
       "      <td>623.0</td>\n",
       "      <td>12.0</td>\n",
       "      <td>38527.0</td>\n",
       "      <td>25880.0</td>\n",
       "      <td>1294.0</td>\n",
       "      <td>11353.0</td>\n",
       "    </tr>\n",
       "    <tr>\n",
       "      <th>2020-08-27</th>\n",
       "      <td>178</td>\n",
       "      <td>25</td>\n",
       "      <td>192.0</td>\n",
       "      <td>693.0</td>\n",
       "      <td>15.0</td>\n",
       "      <td>38719.0</td>\n",
       "      <td>26573.0</td>\n",
       "      <td>1309.0</td>\n",
       "      <td>10837.0</td>\n",
       "    </tr>\n",
       "    <tr>\n",
       "      <th>2020-08-28</th>\n",
       "      <td>179</td>\n",
       "      <td>25</td>\n",
       "      <td>160.0</td>\n",
       "      <td>511.0</td>\n",
       "      <td>20.0</td>\n",
       "      <td>38879.0</td>\n",
       "      <td>27084.0</td>\n",
       "      <td>1329.0</td>\n",
       "      <td>10466.0</td>\n",
       "    </tr>\n",
       "    <tr>\n",
       "      <th>2020-08-29</th>\n",
       "      <td>180</td>\n",
       "      <td>25</td>\n",
       "      <td>113.0</td>\n",
       "      <td>684.0</td>\n",
       "      <td>14.0</td>\n",
       "      <td>38992.0</td>\n",
       "      <td>27768.0</td>\n",
       "      <td>1343.0</td>\n",
       "      <td>9881.0</td>\n",
       "    </tr>\n",
       "    <tr>\n",
       "      <th>2020-08-30</th>\n",
       "      <td>181</td>\n",
       "      <td>25</td>\n",
       "      <td>73.0</td>\n",
       "      <td>627.0</td>\n",
       "      <td>22.0</td>\n",
       "      <td>39065.0</td>\n",
       "      <td>28395.0</td>\n",
       "      <td>1365.0</td>\n",
       "      <td>9305.0</td>\n",
       "    </tr>\n",
       "    <tr>\n",
       "      <th>2020-08-31</th>\n",
       "      <td>182</td>\n",
       "      <td>26</td>\n",
       "      <td>74.0</td>\n",
       "      <td>470.0</td>\n",
       "      <td>20.0</td>\n",
       "      <td>39139.0</td>\n",
       "      <td>28865.0</td>\n",
       "      <td>1385.0</td>\n",
       "      <td>8889.0</td>\n",
       "    </tr>\n",
       "    <tr>\n",
       "      <th>2020-09-01</th>\n",
       "      <td>183</td>\n",
       "      <td>26</td>\n",
       "      <td>56.0</td>\n",
       "      <td>604.0</td>\n",
       "      <td>17.0</td>\n",
       "      <td>39195.0</td>\n",
       "      <td>29469.0</td>\n",
       "      <td>1402.0</td>\n",
       "      <td>8324.0</td>\n",
       "    </tr>\n",
       "    <tr>\n",
       "      <th>2020-09-02</th>\n",
       "      <td>184</td>\n",
       "      <td>26</td>\n",
       "      <td>30.0</td>\n",
       "      <td>679.0</td>\n",
       "      <td>10.0</td>\n",
       "      <td>39225.0</td>\n",
       "      <td>30148.0</td>\n",
       "      <td>1412.0</td>\n",
       "      <td>7665.0</td>\n",
       "    </tr>\n",
       "    <tr>\n",
       "      <th>2020-09-03</th>\n",
       "      <td>185</td>\n",
       "      <td>26</td>\n",
       "      <td>11.0</td>\n",
       "      <td>497.0</td>\n",
       "      <td>11.0</td>\n",
       "      <td>39236.0</td>\n",
       "      <td>30645.0</td>\n",
       "      <td>1423.0</td>\n",
       "      <td>7168.0</td>\n",
       "    </tr>\n",
       "    <tr>\n",
       "      <th>2020-09-04</th>\n",
       "      <td>186</td>\n",
       "      <td>26</td>\n",
       "      <td>7.0</td>\n",
       "      <td>296.0</td>\n",
       "      <td>9.0</td>\n",
       "      <td>39243.0</td>\n",
       "      <td>30941.0</td>\n",
       "      <td>1432.0</td>\n",
       "      <td>6870.0</td>\n",
       "    </tr>\n",
       "  </tbody>\n",
       "</table>\n",
       "</div>"
      ],
      "text/plain": [
       "                  dias  semana  infectados  recuperados  muertos  \\\n",
       "fecha_infeccioso                                                   \n",
       "2020-08-16         167      23       348.0        837.0     17.0   \n",
       "2020-08-17         168      24       342.0        982.0     19.0   \n",
       "2020-08-18         169      24       413.0        420.0     12.0   \n",
       "2020-08-19         170      24       397.0        716.0     15.0   \n",
       "2020-08-20         171      24       632.0        590.0     12.0   \n",
       "2020-08-21         172      24       404.0        504.0     17.0   \n",
       "2020-08-22         173      24       231.0        695.0     15.0   \n",
       "2020-08-23         174      24       196.0        490.0     16.0   \n",
       "2020-08-24         175      25       284.0        673.0     15.0   \n",
       "2020-08-25         176      25       225.0        612.0     14.0   \n",
       "2020-08-26         177      25       201.0        623.0     12.0   \n",
       "2020-08-27         178      25       192.0        693.0     15.0   \n",
       "2020-08-28         179      25       160.0        511.0     20.0   \n",
       "2020-08-29         180      25       113.0        684.0     14.0   \n",
       "2020-08-30         181      25        73.0        627.0     22.0   \n",
       "2020-08-31         182      26        74.0        470.0     20.0   \n",
       "2020-09-01         183      26        56.0        604.0     17.0   \n",
       "2020-09-02         184      26        30.0        679.0     10.0   \n",
       "2020-09-03         185      26        11.0        497.0     11.0   \n",
       "2020-09-04         186      26         7.0        296.0      9.0   \n",
       "\n",
       "                  acumulado_infectados  acumulado_recuperados  \\\n",
       "fecha_infeccioso                                                \n",
       "2020-08-16                     35202.0                19575.0   \n",
       "2020-08-17                     35544.0                20557.0   \n",
       "2020-08-18                     35957.0                20977.0   \n",
       "2020-08-19                     36354.0                21693.0   \n",
       "2020-08-20                     36986.0                22283.0   \n",
       "2020-08-21                     37390.0                22787.0   \n",
       "2020-08-22                     37621.0                23482.0   \n",
       "2020-08-23                     37817.0                23972.0   \n",
       "2020-08-24                     38101.0                24645.0   \n",
       "2020-08-25                     38326.0                25257.0   \n",
       "2020-08-26                     38527.0                25880.0   \n",
       "2020-08-27                     38719.0                26573.0   \n",
       "2020-08-28                     38879.0                27084.0   \n",
       "2020-08-29                     38992.0                27768.0   \n",
       "2020-08-30                     39065.0                28395.0   \n",
       "2020-08-31                     39139.0                28865.0   \n",
       "2020-09-01                     39195.0                29469.0   \n",
       "2020-09-02                     39225.0                30148.0   \n",
       "2020-09-03                     39236.0                30645.0   \n",
       "2020-09-04                     39243.0                30941.0   \n",
       "\n",
       "                  acumulado_muertos  activos  \n",
       "fecha_infeccioso                              \n",
       "2020-08-16                   1147.0  14480.0  \n",
       "2020-08-17                   1166.0  13821.0  \n",
       "2020-08-18                   1178.0  13802.0  \n",
       "2020-08-19                   1193.0  13468.0  \n",
       "2020-08-20                   1205.0  13498.0  \n",
       "2020-08-21                   1222.0  13381.0  \n",
       "2020-08-22                   1237.0  12902.0  \n",
       "2020-08-23                   1253.0  12592.0  \n",
       "2020-08-24                   1268.0  12188.0  \n",
       "2020-08-25                   1282.0  11787.0  \n",
       "2020-08-26                   1294.0  11353.0  \n",
       "2020-08-27                   1309.0  10837.0  \n",
       "2020-08-28                   1329.0  10466.0  \n",
       "2020-08-29                   1343.0   9881.0  \n",
       "2020-08-30                   1365.0   9305.0  \n",
       "2020-08-31                   1385.0   8889.0  \n",
       "2020-09-01                   1402.0   8324.0  \n",
       "2020-09-02                   1412.0   7665.0  \n",
       "2020-09-03                   1423.0   7168.0  \n",
       "2020-09-04                   1432.0   6870.0  "
      ]
     },
     "execution_count": 5,
     "metadata": {},
     "output_type": "execute_result"
    }
   ],
   "source": [
    "df_city = pd.read_pickle(urlDataSet)\n",
    "df = df_city.copy()\n",
    "df.tail(20)"
   ]
  },
  {
   "cell_type": "markdown",
   "metadata": {
    "colab_type": "text",
    "id": "HRu51ggLJj9p"
   },
   "source": [
    "### Activos"
   ]
  },
  {
   "cell_type": "markdown",
   "metadata": {},
   "source": [
    "Para la predicción de casos activos se usó una Regressión Lasso con caracteristicas Polinomiales de grado 5; previamente se estandarizaron los datos, y se entrenaron con un conjunto del 70% de los datos; estos datos se toman aleatoriamente, pero al graficarlos se orden en secuencia."
   ]
  },
  {
   "cell_type": "code",
   "execution_count": 6,
   "metadata": {
    "colab": {
     "base_uri": "https://localhost:8080/",
     "height": 221
    },
    "colab_type": "code",
    "executionInfo": {
     "elapsed": 742,
     "status": "ok",
     "timestamp": 1599052716093,
     "user": {
      "displayName": "Juan Manuel Lombana Martinez",
      "photoUrl": "https://lh3.googleusercontent.com/a-/AOh14GjjvnrdriZlzXxdV00af0OFnQ3lxzsrl5cE-wBq=s64",
      "userId": "06181135591528508533"
     },
     "user_tz": 300
    },
    "id": "hrHDX35Yhepj",
    "outputId": "a1c40f75-2700-4f6b-c1e0-7a17d6dd8a99"
   },
   "outputs": [
    {
     "data": {
      "text/plain": [
       "Pipeline(steps=[('standardscaler', StandardScaler()),\n",
       "                ('polynomialfeatures', PolynomialFeatures(degree=5)),\n",
       "                ('lasso', Lasso(random_state=123))])"
      ]
     },
     "execution_count": 6,
     "metadata": {},
     "output_type": "execute_result"
    }
   ],
   "source": [
    "totalDays = len(df['dias'].values)\n",
    "X = df['dias'].values[0:totalDays-5].reshape(-1,1) #Variable independiente.\n",
    "y = df['activos'].values[0:totalDays-5].reshape(-1,1) #Variable dependiente.\n",
    "#Datos de validación - nunca entran al modelo.\n",
    "X_v = df['dias'].values[totalDays-5:].reshape(-1,1)\n",
    "y_v = df['activos'].values[totalDays-5:].reshape(-1,1)\n",
    "#Se obtiene el 70% para entrenamiento y 30% para pruebas.\n",
    "X_train, X_test, y_train, y_test = train_test_split(X,y,test_size=0.3,random_state=123,shuffle=True)\n",
    "#Se crea un pipeline con el escalado, las caracteristicas polinomiales y la regresión lasso\n",
    "pipe = make_pipeline(StandardScaler(),PolynomialFeatures(degree=5),Lasso(random_state=123))\n",
    "#Se realiza el entrenamiento.\n",
    "pipe.fit(X_train,y_train)"
   ]
  },
  {
   "cell_type": "markdown",
   "metadata": {},
   "source": [
    "Se realizan las predicciones sobre el dataset de pruebas, adicionalmente se establece el pico en el día 175, por lo cual para fines de prueba se realizan predicciones desde dicho día, hasta el día 200 de la pandemia, para probar la predicción futura de los modelos a corto plazo."
   ]
  },
  {
   "cell_type": "code",
   "execution_count": 7,
   "metadata": {
    "colab": {},
    "colab_type": "code",
    "id": "nPalclh38qB3"
   },
   "outputs": [],
   "source": [
    "#Obtener predicciones para los datos de prueba.\n",
    "y_pred = pipe.predict(X_test)\n",
    "#Predicciones futuras.\n",
    "x_pred_future = np.arange(totalDays-10,totalDays,step=1)\n",
    "y_pred_future = pipe.predict(x_pred_future.reshape(-1,1))"
   ]
  },
  {
   "cell_type": "code",
   "execution_count": 8,
   "metadata": {},
   "outputs": [],
   "source": [
    "def GetMax(*args):\n",
    "    arr = np.array([[0]])\n",
    "    for arg in args:\n",
    "        s = [x for x in arg.shape]\n",
    "        l = np.prod(s)\n",
    "        a = np.array(arg.reshape(1,l))\n",
    "        arr = np.concatenate((a,arr),axis=1)\n",
    "    return arr.max()"
   ]
  },
  {
   "cell_type": "code",
   "execution_count": 9,
   "metadata": {},
   "outputs": [],
   "source": [
    "def GetPeak(*args):\n",
    "    x_arr = np.array([[0]])\n",
    "    y_arr = np.array([[0]])\n",
    "    for x,y in args:\n",
    "        s = [x for x in x.shape]\n",
    "        l = np.prod(s)\n",
    "        xr = np.array(x.reshape(1,l))\n",
    "        yr = np.array(y.reshape(1,l))\n",
    "        x_arr = np.concatenate((x_arr,xr),axis=1)\n",
    "        y_arr = np.concatenate((y_arr,yr),axis=1)\n",
    "    return x_arr[0][y_arr.argmax()]"
   ]
  },
  {
   "cell_type": "code",
   "execution_count": 10,
   "metadata": {
    "tags": []
   },
   "outputs": [],
   "source": [
    "Ymax = GetMax(y_train,y_test,y_pred,y_pred_future)\n",
    "Xpeak = GetPeak((X_test,y_pred))"
   ]
  },
  {
   "cell_type": "markdown",
   "metadata": {},
   "source": [
    "Se grafican los datos."
   ]
  },
  {
   "cell_type": "code",
   "execution_count": 11,
   "metadata": {
    "colab": {
     "base_uri": "https://localhost:8080/",
     "height": 499
    },
    "colab_type": "code",
    "executionInfo": {
     "elapsed": 1084,
     "status": "ok",
     "timestamp": 1599052726186,
     "user": {
      "displayName": "Juan Manuel Lombana Martinez",
      "photoUrl": "https://lh3.googleusercontent.com/a-/AOh14GjjvnrdriZlzXxdV00af0OFnQ3lxzsrl5cE-wBq=s64",
      "userId": "06181135591528508533"
     },
     "user_tz": 300
    },
    "id": "GJ01qHQx_SIY",
    "outputId": "ffd3eec2-7d98-4d48-beb1-5848d2f4b46f"
   },
   "outputs": [
    {
     "data": {
      "image/png": "[encoded data removed]",
      "text/plain": [
       "<Figure size 1296x576 with 1 Axes>"
      ]
     },
     "metadata": {
      "needs_background": "light"
     },
     "output_type": "display_data"
    }
   ],
   "source": [
    "f = plt.figure(figsize=(18,8))\n",
    "plt.title('Predicción de casos activos')\n",
    "plt.grid()\n",
    "plt.plot(X_train[X_train.flatten().argsort(),0],y_train[X_train.flatten().argsort(),0],'ob',markersize=3,label='Train')\n",
    "plt.plot(X_test[X_test.flatten().argsort(),0],y_test[X_test.flatten().argsort(),0],'or',markersize=2,label='Test')\n",
    "plt.plot(X_v,y_v,'o',color='gray',markersize=2,label='Validation')\n",
    "plt.plot(X_test[X_test.flatten().argsort(),0],y_pred[X_test.flatten().argsort()],'--g',label='Predict')\n",
    "plt.plot(x_pred_future,y_pred_future,'--',color='orange',label='Future Predict')\n",
    "plt.plot([Xpeak,Xpeak],[-5000,Ymax],'--',color='lightseagreen', label='Peak') #Peak of cases.\n",
    "plt.ylim(-5000,Ymax)\n",
    "plt.legend(loc='upper left');\n",
    "plt.savefig('docs/images/pcp_{}_activos'.format(name))"
   ]
  },
  {
   "cell_type": "code",
   "execution_count": null,
   "metadata": {
    "tags": []
   },
   "outputs": [],
   "source": [
    "\n"
   ]
  },
  {
   "cell_type": "code",
   "execution_count": 12,
   "metadata": {},
   "outputs": [],
   "source": [
    "s = [y_pred_future.shape]\n",
    "l = np.prod(s)\n"
   ]
  },
  {
   "cell_type": "markdown",
   "metadata": {},
   "source": [
    "Se calculan las métricas de la regresión, en este caso se calculan las metricas completas sobre el conjunto de prueba, adicionalmente se computan las metricas solo desde el pico en adelante como indicar de las predicciones futuras."
   ]
  },
  {
   "cell_type": "code",
   "execution_count": 13,
   "metadata": {
    "colab": {
     "base_uri": "https://localhost:8080/",
     "height": 102
    },
    "colab_type": "code",
    "executionInfo": {
     "elapsed": 699,
     "status": "ok",
     "timestamp": 1599052740183,
     "user": {
      "displayName": "Juan Manuel Lombana Martinez",
      "photoUrl": "https://lh3.googleusercontent.com/a-/AOh14GjjvnrdriZlzXxdV00af0OFnQ3lxzsrl5cE-wBq=s64",
      "userId": "06181135591528508533"
     },
     "user_tz": 300
    },
    "id": "_NhMP7t3Q3XM",
    "outputId": "769fa212-5912-4c3d-8a5f-101a9f2d9a50",
    "tags": []
   },
   "outputs": [
    {
     "name": "stdout",
     "output_type": "stream",
     "text": [
      "     ---- Métricas ----\n",
      "Total RMSE:\t\t505\n",
      "Total MAE:\t\t353\n",
      "Future (5 days) RMSE:\t2802\n",
      "Future (5 days) MAE:\t2674\n"
     ]
    }
   ],
   "source": [
    "y_pred_val = pipe.predict(X_v)\n",
    "print('     ---- Métricas ----')\n",
    "print('Total RMSE:\\t\\t{:.0f}'.format(np.sqrt(mean_squared_error(y_test, y_pred))))\n",
    "print('Total MAE:\\t\\t{:.0f}'.format(mean_absolute_error(y_test,y_pred)))\n",
    "print('Future (5 days) RMSE:\\t{:.0f}'.format(np.sqrt(mean_squared_error(y_v, y_pred_val))))\n",
    "print('Future (5 days) MAE:\\t{:.0f}'.format(mean_absolute_error(y_v,y_pred_val)))"
   ]
  },
  {
   "cell_type": "markdown",
   "metadata": {
    "colab_type": "text",
    "id": "qlEu9h2VI-7U"
   },
   "source": [
    "### Recuperados\n",
    "Para la predicción de casos recuperados se usó una Regressión Lasso con caracteristicas Polinomiales de grado 4; previamente se estandarizaron los datos, y se entrenaron con un conjunto del 70% de los datos; estos datos se toman aleatoriamente, pero al graficarlos se orden en secuencia."
   ]
  },
  {
   "cell_type": "code",
   "execution_count": 14,
   "metadata": {
    "colab": {
     "base_uri": "https://localhost:8080/"
    },
    "colab_type": "code",
    "executionInfo": {
     "elapsed": 710,
     "status": "ok",
     "timestamp": 1599052750204,
     "user": {
      "displayName": "Juan Manuel Lombana Martinez",
      "photoUrl": "https://lh3.googleusercontent.com/a-/AOh14GjjvnrdriZlzXxdV00af0OFnQ3lxzsrl5cE-wBq=s64",
      "userId": "06181135591528508533"
     },
     "user_tz": 300
    },
    "id": "_zHxNJGwGZTj",
    "outputId": "06501e40-8dc4-4a46-a277-b854b433fdf4"
   },
   "outputs": [
    {
     "data": {
      "text/plain": [
       "Pipeline(steps=[('standardscaler', StandardScaler()),\n",
       "                ('polynomialfeatures', PolynomialFeatures(degree=4)),\n",
       "                ('lasso', Lasso(random_state=123))])"
      ]
     },
     "execution_count": 14,
     "metadata": {},
     "output_type": "execute_result"
    }
   ],
   "source": [
    "totalDays = len(df['dias'].values)\n",
    "X = df['dias'].values[0:totalDays-5].reshape(-1,1) #Variable independiente.\n",
    "y = df['acumulado_recuperados'].values[0:totalDays-5].reshape(-1,1) #Variable dependiente.\n",
    "#Datos de validación - nunca entran al modelo.\n",
    "X_v = df['dias'].values[totalDays-5:].reshape(-1,1)\n",
    "y_v = df['acumulado_recuperados'].values[totalDays-5:].reshape(-1,1)\n",
    "#Se obtiene el 70% para entrenamiento y 30% para pruebas.\n",
    "X_train, X_test, y_train, y_test = train_test_split(X,y,test_size=0.3,random_state=123,shuffle=True)\n",
    "#Se crea un pipeline con el escalado, las caracteristicas polinomiales y la regresión lasso\n",
    "pipe = make_pipeline(StandardScaler(),PolynomialFeatures(degree=4),Lasso(random_state=123))\n",
    "#Se realiza el entrenamiento.\n",
    "pipe.fit(X_train,y_train)"
   ]
  },
  {
   "cell_type": "markdown",
   "metadata": {},
   "source": [
    "Se realizan las predicciones sobre el dataset de pruebas, adicionalmente se establece el pico en el día 175, por lo cual para fines de prueba se realizan predicciones desde dicho día, hasta el día 200 de la pandemia, para probar la predicción futura de los modelos a corto plazo."
   ]
  },
  {
   "cell_type": "code",
   "execution_count": 15,
   "metadata": {
    "colab": {},
    "colab_type": "code",
    "id": "cvqqk2ayJCl4"
   },
   "outputs": [],
   "source": [
    "#Obtener predicciones para los datos de prueba.\n",
    "y_pred = pipe.predict(X_test)\n",
    "#Predicciones futuras.\n",
    "x_pred_future = np.arange(totalDays-10,totalDays,step=1)\n",
    "y_pred_future = pipe.predict(x_pred_future.reshape(-1,1))"
   ]
  },
  {
   "cell_type": "code",
   "execution_count": 16,
   "metadata": {},
   "outputs": [],
   "source": [
    "Ymax = GetMax(y_train,y_test,y_pred,y_pred_future)"
   ]
  },
  {
   "cell_type": "markdown",
   "metadata": {},
   "source": [
    "Se grafican los datos."
   ]
  },
  {
   "cell_type": "code",
   "execution_count": 17,
   "metadata": {
    "colab": {
     "base_uri": "https://localhost:8080/"
    },
    "colab_type": "code",
    "executionInfo": {
     "elapsed": 1453,
     "status": "ok",
     "timestamp": 1599052752644,
     "user": {
      "displayName": "Juan Manuel Lombana Martinez",
      "photoUrl": "https://lh3.googleusercontent.com/a-/AOh14GjjvnrdriZlzXxdV00af0OFnQ3lxzsrl5cE-wBq=s64",
      "userId": "06181135591528508533"
     },
     "user_tz": 300
    },
    "id": "WbQV4J3XJEYa",
    "outputId": "3dc0b4b7-5c27-4f93-c8e0-2a90d8571153"
   },
   "outputs": [
    {
     "data": {
      "image/png": "[encoded data removed]",
      "text/plain": [
       "<Figure size 1296x576 with 1 Axes>"
      ]
     },
     "metadata": {
      "needs_background": "light"
     },
     "output_type": "display_data"
    }
   ],
   "source": [
    "f = plt.figure(figsize=(18,8))\n",
    "plt.title('Predicción de recuperados')\n",
    "plt.grid()\n",
    "plt.plot(X_train[X_train.flatten().argsort(),0],y_train[X_train.flatten().argsort(),0],'ob',markersize=3,label='Train')\n",
    "plt.plot(X_test[X_test.flatten().argsort(),0],y_test[X_test.flatten().argsort(),0],'or',markersize=2,label='Test')\n",
    "plt.plot(X_v,y_v,'o',color='gray',markersize=2,label='Validation')\n",
    "plt.plot(X_test[X_test.flatten().argsort(),0],y_pred[X_test.flatten().argsort()],'--g',label='Predict')\n",
    "plt.plot(x_pred_future,y_pred_future,'--',color='orange',label='Future Predict')\n",
    "plt.plot([Xpeak,Xpeak],[-5000,Ymax],'--',color='lightseagreen', label='Peak') #Peak of cases.\n",
    "plt.ylim(-5000,Ymax)\n",
    "plt.legend(loc='upper left');\n",
    "plt.savefig('docs/images/pcp_{}_recuperados'.format(name))"
   ]
  },
  {
   "cell_type": "markdown",
   "metadata": {},
   "source": [
    "Se calculan las métricas de la regresión, en este caso se calculan las metricas completas sobre el conjunto de prueba, adicionalmente se computan las metricas solo desde el pico en adelante como indicar de las predicciones futuras."
   ]
  },
  {
   "cell_type": "code",
   "execution_count": 18,
   "metadata": {
    "colab": {
     "base_uri": "https://localhost:8080/"
    },
    "colab_type": "code",
    "executionInfo": {
     "elapsed": 905,
     "status": "ok",
     "timestamp": 1599052757674,
     "user": {
      "displayName": "Juan Manuel Lombana Martinez",
      "photoUrl": "https://lh3.googleusercontent.com/a-/AOh14GjjvnrdriZlzXxdV00af0OFnQ3lxzsrl5cE-wBq=s64",
      "userId": "06181135591528508533"
     },
     "user_tz": 300
    },
    "id": "vpXpyg6K2xu6",
    "outputId": "72cc7211-1a59-4c81-8e3b-5edeb1189752",
    "tags": []
   },
   "outputs": [
    {
     "name": "stdout",
     "output_type": "stream",
     "text": [
      "     ---- Métricas ----\n",
      "Total RMSE:\t\t310\n",
      "Total MAE:\t\t203\n",
      "Future (5 days) RMSE:\t1800\n",
      "Future (5 days) MAE:\t1709\n"
     ]
    }
   ],
   "source": [
    "y_pred_val = pipe.predict(X_v)\n",
    "print('     ---- Métricas ----')\n",
    "print('Total RMSE:\\t\\t{:.0f}'.format(np.sqrt(mean_squared_error(y_test, y_pred))))\n",
    "print('Total MAE:\\t\\t{:.0f}'.format(mean_absolute_error(y_test,y_pred)))\n",
    "print('Future (5 days) RMSE:\\t{:.0f}'.format(np.sqrt(mean_squared_error(y_v, y_pred_val))))\n",
    "print('Future (5 days) MAE:\\t{:.0f}'.format(mean_absolute_error(y_v,y_pred_val)))\n"
   ]
  },
  {
   "cell_type": "markdown",
   "metadata": {
    "colab_type": "text",
    "id": "i2U-CF5PJrF0"
   },
   "source": [
    "### Muertes\n",
    "Para la predicción de las muertes se usó una Regressión Lasso con caracteristicas Polinomiales de grado 6; previamente se estandarizaron los datos, y se entrenaron con un conjunto del 70% de los datos; estos datos se toman aleatoriamente, pero al graficarlos se orden en secuencia."
   ]
  },
  {
   "cell_type": "code",
   "execution_count": 19,
   "metadata": {
    "colab": {
     "base_uri": "https://localhost:8080/"
    },
    "colab_type": "code",
    "executionInfo": {
     "elapsed": 753,
     "status": "ok",
     "timestamp": 1599052764782,
     "user": {
      "displayName": "Juan Manuel Lombana Martinez",
      "photoUrl": "https://lh3.googleusercontent.com/a-/AOh14GjjvnrdriZlzXxdV00af0OFnQ3lxzsrl5cE-wBq=s64",
      "userId": "06181135591528508533"
     },
     "user_tz": 300
    },
    "id": "ZLV827mPJGDi",
    "outputId": "53060c32-e2bb-4bd9-9df2-4822a563e5e6"
   },
   "outputs": [
    {
     "data": {
      "text/plain": [
       "Pipeline(steps=[('standardscaler', StandardScaler()),\n",
       "                ('polynomialfeatures', PolynomialFeatures(degree=6)),\n",
       "                ('lasso', Lasso(max_iter=10000, random_state=123))])"
      ]
     },
     "execution_count": 19,
     "metadata": {},
     "output_type": "execute_result"
    }
   ],
   "source": [
    "totalDays = len(df['dias'].values)\n",
    "X = df['dias'].values[0:totalDays-5].reshape(-1,1) #Variable independiente.\n",
    "y = df['acumulado_muertos'].values[0:totalDays-5].reshape(-1,1) #Variable dependiente.\n",
    "#Datos de validación - nunca entran al modelo.\n",
    "X_v = df['dias'].values[totalDays-5:].reshape(-1,1)\n",
    "y_v = df['acumulado_muertos'].values[totalDays-5:].reshape(-1,1)\n",
    "\n",
    "X_train, X_test, y_train, y_test = train_test_split(X,y,test_size=0.3,random_state=123,shuffle=True)\n",
    "pipe = make_pipeline(StandardScaler(),PolynomialFeatures(degree=6),Lasso(random_state=123,max_iter=10000))\n",
    "pipe.fit(X_train,y_train)"
   ]
  },
  {
   "cell_type": "code",
   "execution_count": 20,
   "metadata": {
    "colab": {},
    "colab_type": "code",
    "id": "doTn5gN5J-MT"
   },
   "outputs": [],
   "source": [
    "y_pred = pipe.predict(X_test)\n",
    "x_pred_future = np.arange(totalDays-10,totalDays,step=1)\n",
    "y_pred_future = pipe.predict(x_pred_future.reshape(-1,1))\n",
    "Ymax = GetMax(y_train,y_test,y_pred,y_pred_future)\n"
   ]
  },
  {
   "cell_type": "code",
   "execution_count": 21,
   "metadata": {
    "colab": {
     "base_uri": "https://localhost:8080/"
    },
    "colab_type": "code",
    "executionInfo": {
     "elapsed": 870,
     "status": "ok",
     "timestamp": 1599052772309,
     "user": {
      "displayName": "Juan Manuel Lombana Martinez",
      "photoUrl": "https://lh3.googleusercontent.com/a-/AOh14GjjvnrdriZlzXxdV00af0OFnQ3lxzsrl5cE-wBq=s64",
      "userId": "06181135591528508533"
     },
     "user_tz": 300
    },
    "id": "uM57zoZDJ-tr",
    "outputId": "f4fd1cf8-bed4-4a35-b38b-5fea4028a8d8"
   },
   "outputs": [
    {
     "data": {
      "image/png": "[encoded data removed]",
      "text/plain": [
       "<Figure size 1296x576 with 1 Axes>"
      ]
     },
     "metadata": {
      "needs_background": "light"
     },
     "output_type": "display_data"
    }
   ],
   "source": [
    "#Graph ordered data.\n",
    "f = plt.figure(figsize=(18,8))\n",
    "plt.title('Predicción de muertes')\n",
    "plt.grid()\n",
    "plt.plot(X_train[X_train.flatten().argsort(),0],y_train[X_train.flatten().argsort(),0],'ob',markersize=3,label='Train')\n",
    "plt.plot(X_test[X_test.flatten().argsort(),0],y_test[X_test.flatten().argsort(),0],'or',markersize=2,label='Test')\n",
    "plt.plot(X_v,y_v,'o',color='gray',markersize=2,label='Validation')\n",
    "plt.plot(X_test[X_test.flatten().argsort(),0],y_pred[X_test.flatten().argsort()],'--g',label='Predict')\n",
    "plt.plot(x_pred_future,y_pred_future,'--',color='orange',label='Future Predict')\n",
    "plt.plot([Xpeak,Xpeak],[-10,Ymax],'--',color='lightseagreen', label='Peak') #Peak of cases.\n",
    "plt.ylim(-10,Ymax)\n",
    "plt.legend(loc='upper left');\n",
    "plt.savefig('docs/images/pcp_{}_muertes'.format(name))"
   ]
  },
  {
   "cell_type": "code",
   "execution_count": 22,
   "metadata": {
    "colab": {
     "base_uri": "https://localhost:8080/"
    },
    "colab_type": "code",
    "executionInfo": {
     "elapsed": 663,
     "status": "ok",
     "timestamp": 1599052776755,
     "user": {
      "displayName": "Juan Manuel Lombana Martinez",
      "photoUrl": "https://lh3.googleusercontent.com/a-/AOh14GjjvnrdriZlzXxdV00af0OFnQ3lxzsrl5cE-wBq=s64",
      "userId": "06181135591528508533"
     },
     "user_tz": 300
    },
    "id": "MH1iookH3-Lt",
    "outputId": "9f01f9dc-e2f1-4310-df6f-2df596bfeab6",
    "tags": []
   },
   "outputs": [
    {
     "name": "stdout",
     "output_type": "stream",
     "text": [
      "     ---- Métricas ----\n",
      "Total RMSE:\t\t14\n",
      "Total MAE:\t\t10\n",
      "Future (5 days) RMSE:\t62\n",
      "Future (5 days) MAE:\t59\n"
     ]
    }
   ],
   "source": [
    "y_pred_val = pipe.predict(X_v)\n",
    "print('     ---- Métricas ----')\n",
    "print('Total RMSE:\\t\\t{:.0f}'.format(np.sqrt(mean_squared_error(y_test, y_pred))))\n",
    "print('Total MAE:\\t\\t{:.0f}'.format(mean_absolute_error(y_test,y_pred)))\n",
    "print('Future (5 days) RMSE:\\t{:.0f}'.format(np.sqrt(mean_squared_error(y_v, y_pred_val))))\n",
    "print('Future (5 days) MAE:\\t{:.0f}'.format(mean_absolute_error(y_v,y_pred_val)))"
   ]
  },
  {
   "cell_type": "markdown",
   "metadata": {
    "colab_type": "text",
    "id": "86hUjNhNKaVc"
   },
   "source": [
    "### Infectados\n",
    "Para la predicción de los infectados se usó una Regressión Lasso con caracteristicas Polinomiales de grado 4; previamente se estandarizaron los datos, y se entrenaron con un conjunto del 70% de los datos; estos datos se toman aleatoriamente, pero al graficarlos se orden en secuencia."
   ]
  },
  {
   "cell_type": "code",
   "execution_count": 23,
   "metadata": {
    "colab": {
     "base_uri": "https://localhost:8080/",
     "height": 221
    },
    "colab_type": "code",
    "executionInfo": {
     "elapsed": 707,
     "status": "ok",
     "timestamp": 1599052781291,
     "user": {
      "displayName": "Juan Manuel Lombana Martinez",
      "photoUrl": "https://lh3.googleusercontent.com/a-/AOh14GjjvnrdriZlzXxdV00af0OFnQ3lxzsrl5cE-wBq=s64",
      "userId": "06181135591528508533"
     },
     "user_tz": 300
    },
    "id": "2tNQeSn_KBR0",
    "outputId": "e0deb692-b4e5-4d19-9c30-db2a5d7bf8c1"
   },
   "outputs": [
    {
     "data": {
      "text/plain": [
       "Pipeline(steps=[('standardscaler', StandardScaler()),\n",
       "                ('polynomialfeatures', PolynomialFeatures(degree=5)),\n",
       "                ('lasso', Lasso(random_state=123))])"
      ]
     },
     "execution_count": 23,
     "metadata": {},
     "output_type": "execute_result"
    }
   ],
   "source": [
    "totalDays = len(df['dias'].values)\n",
    "X = df['dias'].values[0:totalDays-5].reshape(-1,1) #Variable independiente.\n",
    "y = df['acumulado_infectados'].values[0:totalDays-5].reshape(-1,1) #Variable dependiente.\n",
    "#Datos de validación - nunca entran al modelo.\n",
    "X_v = df['dias'].values[totalDays-5:].reshape(-1,1)\n",
    "y_v = df['acumulado_infectados'].values[totalDays-5:].reshape(-1,1)\n",
    "\n",
    "X_train, X_test, y_train, y_test = train_test_split(X,y,test_size=0.3,random_state=123,shuffle=True)\n",
    "pipe = make_pipeline(StandardScaler(),PolynomialFeatures(degree=5),Lasso(random_state=123))\n",
    "pipe.fit(X_train,y_train)"
   ]
  },
  {
   "cell_type": "code",
   "execution_count": 24,
   "metadata": {
    "colab": {},
    "colab_type": "code",
    "id": "m3voeNGUKf4B"
   },
   "outputs": [],
   "source": [
    "y_pred = pipe.predict(X_test)\n",
    "x_pred_future = np.arange(totalDays-10,totalDays,step=1)\n",
    "y_pred_future = pipe.predict(x_pred_future.reshape(-1,1))\n",
    "Ymax = GetMax(y_train,y_test,y_pred,y_pred_future)"
   ]
  },
  {
   "cell_type": "code",
   "execution_count": 25,
   "metadata": {
    "colab": {
     "base_uri": "https://localhost:8080/",
     "height": 499
    },
    "colab_type": "code",
    "executionInfo": {
     "elapsed": 981,
     "status": "ok",
     "timestamp": 1599052787685,
     "user": {
      "displayName": "Juan Manuel Lombana Martinez",
      "photoUrl": "https://lh3.googleusercontent.com/a-/AOh14GjjvnrdriZlzXxdV00af0OFnQ3lxzsrl5cE-wBq=s64",
      "userId": "06181135591528508533"
     },
     "user_tz": 300
    },
    "id": "2m1Rxj53Khjj",
    "outputId": "6583bf8f-9ba4-488f-c61c-d0c8d96fbb77"
   },
   "outputs": [
    {
     "data": {
      "image/png": "[encoded data removed]",
      "text/plain": [
       "<Figure size 1296x576 with 1 Axes>"
      ]
     },
     "metadata": {
      "needs_background": "light"
     },
     "output_type": "display_data"
    }
   ],
   "source": [
    "#Graph ordered data.\n",
    "f = plt.figure(figsize=(18,8))\n",
    "plt.title('Predicción de infectados')\n",
    "plt.grid()\n",
    "plt.plot(X_train[X_train.flatten().argsort(),0],y_train[X_train.flatten().argsort(),0],'ob',markersize=3,label='Train')\n",
    "plt.plot(X_test[X_test.flatten().argsort(),0],y_test[X_test.flatten().argsort(),0],'or',markersize=2,label='Test')\n",
    "plt.plot(X_v,y_v,'o',color='gray',markersize=2,label='Validation')\n",
    "plt.plot(X_test[X_test.flatten().argsort(),0],y_pred[X_test.flatten().argsort()],'--g',label='Predict')\n",
    "plt.plot(x_pred_future,y_pred_future,'--',color='orange',label='Future Predict')\n",
    "plt.plot([Xpeak,Xpeak],[-10000,Ymax],'--',color='lightseagreen', label='Peak') #Peak of cases.\n",
    "plt.ylim(-10000,Ymax)\n",
    "plt.legend(loc='upper left');\n",
    "plt.savefig('docs/images/pcp_{}_infectados'.format(name))"
   ]
  },
  {
   "cell_type": "code",
   "execution_count": 26,
   "metadata": {
    "colab": {
     "base_uri": "https://localhost:8080/",
     "height": 102
    },
    "colab_type": "code",
    "executionInfo": {
     "elapsed": 696,
     "status": "ok",
     "timestamp": 1599052792858,
     "user": {
      "displayName": "Juan Manuel Lombana Martinez",
      "photoUrl": "https://lh3.googleusercontent.com/a-/AOh14GjjvnrdriZlzXxdV00af0OFnQ3lxzsrl5cE-wBq=s64",
      "userId": "06181135591528508533"
     },
     "user_tz": 300
    },
    "id": "APnL6CHtxjqL",
    "outputId": "7605549d-5fed-48a2-c640-cbe976eaa0f5",
    "tags": []
   },
   "outputs": [
    {
     "name": "stdout",
     "output_type": "stream",
     "text": [
      "     ---- Métricas ----\n",
      "Total RMSE:\t\t298\n",
      "Total MAE:\t\t246\n",
      "Future (5 days) RMSE:\t604\n",
      "Future (5 days) MAE:\t573\n"
     ]
    }
   ],
   "source": [
    "y_pred_val = pipe.predict(X_v)\n",
    "print('     ---- Métricas ----')\n",
    "print('Total RMSE:\\t\\t{:.0f}'.format(np.sqrt(mean_squared_error(y_test, y_pred))))\n",
    "print('Total MAE:\\t\\t{:.0f}'.format(mean_absolute_error(y_test,y_pred)))\n",
    "print('Future (5 days) RMSE:\\t{:.0f}'.format(np.sqrt(mean_squared_error(y_v, y_pred_val))))\n",
    "print('Future (5 days) MAE:\\t{:.0f}'.format(mean_absolute_error(y_v,y_pred_val)))"
   ]
  },
  {
   "cell_type": "markdown",
   "metadata": {
    "colab_type": "text",
    "id": "J6mx0PZzOsaE"
   },
   "source": [
    "## Modelo Mediano Plazo\n",
    "Para los modelos de mediano plazo, se sigue la misma dinámica que en corto plazo, pero se trabaja con un conjunto de datos que se preprocesó para que tenga los datos acumulados semanalmente, esto permite obtener las predicciones de Infectados, recuperados y muertos por semana."
   ]
  },
  {
   "cell_type": "code",
   "execution_count": 27,
   "metadata": {
    "colab": {
     "base_uri": "https://localhost:8080/",
     "height": 700
    },
    "colab_type": "code",
    "executionInfo": {
     "elapsed": 3287,
     "status": "ok",
     "timestamp": 1599268045357,
     "user": {
      "displayName": "Juan Manuel Lombana Martinez",
      "photoUrl": "https://lh3.googleusercontent.com/a-/AOh14GjjvnrdriZlzXxdV00af0OFnQ3lxzsrl5cE-wBq=s64",
      "userId": "06181135591528508533"
     },
     "user_tz": 300
    },
    "id": "c9JymuCTOvRm",
    "outputId": "fd1d55e4-51f3-4dc4-a085-f58c7f22e482"
   },
   "outputs": [
    {
     "data": {
      "text/html": [
       "<div>\n",
       "<style scoped>\n",
       "    .dataframe tbody tr th:only-of-type {\n",
       "        vertical-align: middle;\n",
       "    }\n",
       "\n",
       "    .dataframe tbody tr th {\n",
       "        vertical-align: top;\n",
       "    }\n",
       "\n",
       "    .dataframe thead th {\n",
       "        text-align: right;\n",
       "    }\n",
       "</style>\n",
       "<table border=\"1\" class=\"dataframe\">\n",
       "  <thead>\n",
       "    <tr style=\"text-align: right;\">\n",
       "      <th></th>\n",
       "      <th>infectados</th>\n",
       "      <th>recuperados</th>\n",
       "      <th>muertos</th>\n",
       "      <th>acumulado_infectados</th>\n",
       "      <th>acumulado_recuperados</th>\n",
       "      <th>acumulado_muertos</th>\n",
       "      <th>activos</th>\n",
       "    </tr>\n",
       "    <tr>\n",
       "      <th>semana</th>\n",
       "      <th></th>\n",
       "      <th></th>\n",
       "      <th></th>\n",
       "      <th></th>\n",
       "      <th></th>\n",
       "      <th></th>\n",
       "      <th></th>\n",
       "    </tr>\n",
       "  </thead>\n",
       "  <tbody>\n",
       "    <tr>\n",
       "      <th>7</th>\n",
       "      <td>209.0</td>\n",
       "      <td>91.0</td>\n",
       "      <td>8.0</td>\n",
       "      <td>960.0</td>\n",
       "      <td>171.0</td>\n",
       "      <td>39.0</td>\n",
       "      <td>750.0</td>\n",
       "    </tr>\n",
       "    <tr>\n",
       "      <th>8</th>\n",
       "      <td>282.0</td>\n",
       "      <td>75.0</td>\n",
       "      <td>8.0</td>\n",
       "      <td>1242.0</td>\n",
       "      <td>246.0</td>\n",
       "      <td>47.0</td>\n",
       "      <td>949.0</td>\n",
       "    </tr>\n",
       "    <tr>\n",
       "      <th>9</th>\n",
       "      <td>445.0</td>\n",
       "      <td>149.0</td>\n",
       "      <td>11.0</td>\n",
       "      <td>1687.0</td>\n",
       "      <td>395.0</td>\n",
       "      <td>58.0</td>\n",
       "      <td>1234.0</td>\n",
       "    </tr>\n",
       "    <tr>\n",
       "      <th>10</th>\n",
       "      <td>579.0</td>\n",
       "      <td>157.0</td>\n",
       "      <td>13.0</td>\n",
       "      <td>2266.0</td>\n",
       "      <td>552.0</td>\n",
       "      <td>71.0</td>\n",
       "      <td>1643.0</td>\n",
       "    </tr>\n",
       "    <tr>\n",
       "      <th>11</th>\n",
       "      <td>711.0</td>\n",
       "      <td>128.0</td>\n",
       "      <td>23.0</td>\n",
       "      <td>2977.0</td>\n",
       "      <td>680.0</td>\n",
       "      <td>94.0</td>\n",
       "      <td>2203.0</td>\n",
       "    </tr>\n",
       "    <tr>\n",
       "      <th>12</th>\n",
       "      <td>799.0</td>\n",
       "      <td>296.0</td>\n",
       "      <td>32.0</td>\n",
       "      <td>3776.0</td>\n",
       "      <td>976.0</td>\n",
       "      <td>126.0</td>\n",
       "      <td>2674.0</td>\n",
       "    </tr>\n",
       "    <tr>\n",
       "      <th>13</th>\n",
       "      <td>1166.0</td>\n",
       "      <td>375.0</td>\n",
       "      <td>25.0</td>\n",
       "      <td>4942.0</td>\n",
       "      <td>1351.0</td>\n",
       "      <td>151.0</td>\n",
       "      <td>3440.0</td>\n",
       "    </tr>\n",
       "    <tr>\n",
       "      <th>14</th>\n",
       "      <td>1389.0</td>\n",
       "      <td>433.0</td>\n",
       "      <td>30.0</td>\n",
       "      <td>6331.0</td>\n",
       "      <td>1784.0</td>\n",
       "      <td>181.0</td>\n",
       "      <td>4366.0</td>\n",
       "    </tr>\n",
       "    <tr>\n",
       "      <th>15</th>\n",
       "      <td>1580.0</td>\n",
       "      <td>571.0</td>\n",
       "      <td>43.0</td>\n",
       "      <td>7911.0</td>\n",
       "      <td>2355.0</td>\n",
       "      <td>224.0</td>\n",
       "      <td>5332.0</td>\n",
       "    </tr>\n",
       "    <tr>\n",
       "      <th>16</th>\n",
       "      <td>2594.0</td>\n",
       "      <td>891.0</td>\n",
       "      <td>41.0</td>\n",
       "      <td>10505.0</td>\n",
       "      <td>3246.0</td>\n",
       "      <td>265.0</td>\n",
       "      <td>6994.0</td>\n",
       "    </tr>\n",
       "    <tr>\n",
       "      <th>17</th>\n",
       "      <td>3328.0</td>\n",
       "      <td>827.0</td>\n",
       "      <td>68.0</td>\n",
       "      <td>13833.0</td>\n",
       "      <td>4073.0</td>\n",
       "      <td>333.0</td>\n",
       "      <td>9427.0</td>\n",
       "    </tr>\n",
       "    <tr>\n",
       "      <th>18</th>\n",
       "      <td>3916.0</td>\n",
       "      <td>1217.0</td>\n",
       "      <td>86.0</td>\n",
       "      <td>17749.0</td>\n",
       "      <td>5290.0</td>\n",
       "      <td>419.0</td>\n",
       "      <td>12040.0</td>\n",
       "    </tr>\n",
       "    <tr>\n",
       "      <th>19</th>\n",
       "      <td>3939.0</td>\n",
       "      <td>1537.0</td>\n",
       "      <td>112.0</td>\n",
       "      <td>21688.0</td>\n",
       "      <td>6827.0</td>\n",
       "      <td>531.0</td>\n",
       "      <td>14330.0</td>\n",
       "    </tr>\n",
       "    <tr>\n",
       "      <th>20</th>\n",
       "      <td>3563.0</td>\n",
       "      <td>1860.0</td>\n",
       "      <td>169.0</td>\n",
       "      <td>25251.0</td>\n",
       "      <td>8687.0</td>\n",
       "      <td>700.0</td>\n",
       "      <td>15864.0</td>\n",
       "    </tr>\n",
       "    <tr>\n",
       "      <th>21</th>\n",
       "      <td>3999.0</td>\n",
       "      <td>2768.0</td>\n",
       "      <td>163.0</td>\n",
       "      <td>29250.0</td>\n",
       "      <td>11455.0</td>\n",
       "      <td>863.0</td>\n",
       "      <td>16932.0</td>\n",
       "    </tr>\n",
       "    <tr>\n",
       "      <th>22</th>\n",
       "      <td>3214.0</td>\n",
       "      <td>3009.0</td>\n",
       "      <td>155.0</td>\n",
       "      <td>32464.0</td>\n",
       "      <td>14464.0</td>\n",
       "      <td>1018.0</td>\n",
       "      <td>16982.0</td>\n",
       "    </tr>\n",
       "    <tr>\n",
       "      <th>23</th>\n",
       "      <td>2738.0</td>\n",
       "      <td>5111.0</td>\n",
       "      <td>129.0</td>\n",
       "      <td>35202.0</td>\n",
       "      <td>19575.0</td>\n",
       "      <td>1147.0</td>\n",
       "      <td>14480.0</td>\n",
       "    </tr>\n",
       "    <tr>\n",
       "      <th>24</th>\n",
       "      <td>2615.0</td>\n",
       "      <td>4397.0</td>\n",
       "      <td>106.0</td>\n",
       "      <td>37817.0</td>\n",
       "      <td>23972.0</td>\n",
       "      <td>1253.0</td>\n",
       "      <td>12592.0</td>\n",
       "    </tr>\n",
       "    <tr>\n",
       "      <th>25</th>\n",
       "      <td>1248.0</td>\n",
       "      <td>4423.0</td>\n",
       "      <td>112.0</td>\n",
       "      <td>39065.0</td>\n",
       "      <td>28395.0</td>\n",
       "      <td>1365.0</td>\n",
       "      <td>9305.0</td>\n",
       "    </tr>\n",
       "    <tr>\n",
       "      <th>26</th>\n",
       "      <td>178.0</td>\n",
       "      <td>2546.0</td>\n",
       "      <td>67.0</td>\n",
       "      <td>39243.0</td>\n",
       "      <td>30941.0</td>\n",
       "      <td>1432.0</td>\n",
       "      <td>6870.0</td>\n",
       "    </tr>\n",
       "  </tbody>\n",
       "</table>\n",
       "</div>"
      ],
      "text/plain": [
       "        infectados  recuperados  muertos  acumulado_infectados  \\\n",
       "semana                                                           \n",
       "7            209.0         91.0      8.0                 960.0   \n",
       "8            282.0         75.0      8.0                1242.0   \n",
       "9            445.0        149.0     11.0                1687.0   \n",
       "10           579.0        157.0     13.0                2266.0   \n",
       "11           711.0        128.0     23.0                2977.0   \n",
       "12           799.0        296.0     32.0                3776.0   \n",
       "13          1166.0        375.0     25.0                4942.0   \n",
       "14          1389.0        433.0     30.0                6331.0   \n",
       "15          1580.0        571.0     43.0                7911.0   \n",
       "16          2594.0        891.0     41.0               10505.0   \n",
       "17          3328.0        827.0     68.0               13833.0   \n",
       "18          3916.0       1217.0     86.0               17749.0   \n",
       "19          3939.0       1537.0    112.0               21688.0   \n",
       "20          3563.0       1860.0    169.0               25251.0   \n",
       "21          3999.0       2768.0    163.0               29250.0   \n",
       "22          3214.0       3009.0    155.0               32464.0   \n",
       "23          2738.0       5111.0    129.0               35202.0   \n",
       "24          2615.0       4397.0    106.0               37817.0   \n",
       "25          1248.0       4423.0    112.0               39065.0   \n",
       "26           178.0       2546.0     67.0               39243.0   \n",
       "\n",
       "        acumulado_recuperados  acumulado_muertos  activos  \n",
       "semana                                                     \n",
       "7                       171.0               39.0    750.0  \n",
       "8                       246.0               47.0    949.0  \n",
       "9                       395.0               58.0   1234.0  \n",
       "10                      552.0               71.0   1643.0  \n",
       "11                      680.0               94.0   2203.0  \n",
       "12                      976.0              126.0   2674.0  \n",
       "13                     1351.0              151.0   3440.0  \n",
       "14                     1784.0              181.0   4366.0  \n",
       "15                     2355.0              224.0   5332.0  \n",
       "16                     3246.0              265.0   6994.0  \n",
       "17                     4073.0              333.0   9427.0  \n",
       "18                     5290.0              419.0  12040.0  \n",
       "19                     6827.0              531.0  14330.0  \n",
       "20                     8687.0              700.0  15864.0  \n",
       "21                    11455.0              863.0  16932.0  \n",
       "22                    14464.0             1018.0  16982.0  \n",
       "23                    19575.0             1147.0  14480.0  \n",
       "24                    23972.0             1253.0  12592.0  \n",
       "25                    28395.0             1365.0   9305.0  \n",
       "26                    30941.0             1432.0   6870.0  "
      ]
     },
     "execution_count": 27,
     "metadata": {},
     "output_type": "execute_result"
    }
   ],
   "source": [
    "urlDataset_w = 'Datos/data_weekly_{}.pickle'.format(name)\n",
    "df_w = pd.read_pickle(urlDataset_w)\n",
    "df_w.tail(20)"
   ]
  },
  {
   "cell_type": "markdown",
   "metadata": {
    "colab_type": "text",
    "id": "tzAqlcmnPA8x"
   },
   "source": [
    "### Activos"
   ]
  },
  {
   "cell_type": "code",
   "execution_count": 28,
   "metadata": {
    "colab": {
     "base_uri": "https://localhost:8080/",
     "height": 275
    },
    "colab_type": "code",
    "executionInfo": {
     "elapsed": 675,
     "status": "ok",
     "timestamp": 1599161513183,
     "user": {
      "displayName": "Juan Manuel Lombana Martinez",
      "photoUrl": "https://lh3.googleusercontent.com/a-/AOh14GjjvnrdriZlzXxdV00af0OFnQ3lxzsrl5cE-wBq=s64",
      "userId": "06181135591528508533"
     },
     "user_tz": 300
    },
    "id": "Z-ZwHvHeO77X",
    "outputId": "b166cfee-dd6e-4942-91be-f705ec500ebc"
   },
   "outputs": [
    {
     "data": {
      "text/plain": [
       "Pipeline(steps=[('standardscaler', StandardScaler()),\n",
       "                ('polynomialfeatures', PolynomialFeatures(degree=5)),\n",
       "                ('lasso', Lasso(max_iter=10000, random_state=123))])"
      ]
     },
     "execution_count": 28,
     "metadata": {},
     "output_type": "execute_result"
    }
   ],
   "source": [
    "totalW = len(df_w.index.values)\n",
    "X = df_w.index.values[0:totalW-3].reshape(-1,1) #Variable independiente.\n",
    "y = df_w['activos'].values[0:totalW-3].reshape(-1,1) #Variable dependiente.\n",
    "#Datos de validación - nunca entran al modelo.\n",
    "X_v = df_w.index.values[totalW-3:].reshape(-1,1)\n",
    "y_v = df_w['activos'].values[totalW-3:].reshape(-1,1)\n",
    "\n",
    "X_train, X_test, y_train, y_test = train_test_split(X,y,test_size=0.3,random_state=123,shuffle=True)\n",
    "pipe = make_pipeline(StandardScaler(),PolynomialFeatures(degree=5),Lasso(max_iter=10000,random_state=123))\n",
    "pipe.fit(X_train,y_train)"
   ]
  },
  {
   "cell_type": "markdown",
   "metadata": {},
   "source": [
    "El pico de la pandemia se grafica en la semana 22."
   ]
  },
  {
   "cell_type": "code",
   "execution_count": 29,
   "metadata": {
    "colab": {},
    "colab_type": "code",
    "id": "0Z7cB6kOPG-v",
    "tags": []
   },
   "outputs": [
    {
     "data": {
      "text/plain": [
       "21"
      ]
     },
     "execution_count": 29,
     "metadata": {},
     "output_type": "execute_result"
    }
   ],
   "source": [
    "y_pred = pipe.predict(X_test)\n",
    "x_pred_future = np.arange(0,totalW,step=1)\n",
    "y_pred_future = pipe.predict(x_pred_future.reshape(-1,1))\n",
    "Ymax = GetMax(y_train,y_test,y_pred,y_pred_future)\n",
    "Xpeak = GetPeak((X_test,y_pred))\n",
    "Xpeak"
   ]
  },
  {
   "cell_type": "code",
   "execution_count": 30,
   "metadata": {
    "colab": {
     "base_uri": "https://localhost:8080/",
     "height": 499
    },
    "colab_type": "code",
    "executionInfo": {
     "elapsed": 1061,
     "status": "ok",
     "timestamp": 1599161539417,
     "user": {
      "displayName": "Juan Manuel Lombana Martinez",
      "photoUrl": "https://lh3.googleusercontent.com/a-/AOh14GjjvnrdriZlzXxdV00af0OFnQ3lxzsrl5cE-wBq=s64",
      "userId": "06181135591528508533"
     },
     "user_tz": 300
    },
    "id": "mobqityePL2u",
    "outputId": "ca9dfe1a-96e9-4f49-e3ef-13c115839233"
   },
   "outputs": [
    {
     "data": {
      "image/png": "[encoded data removed]",
      "text/plain": [
       "<Figure size 1296x576 with 1 Axes>"
      ]
     },
     "metadata": {
      "needs_background": "light"
     },
     "output_type": "display_data"
    }
   ],
   "source": [
    "f = plt.figure(figsize=(18,8))\n",
    "plt.title('Predicción Semanal de casos activos')\n",
    "plt.grid()\n",
    "plt.plot(X_train[X_train.flatten().argsort(),0],y_train[X_train.flatten().argsort(),0],'ob',markersize=3,label='Train')\n",
    "plt.plot(X_test[X_test.flatten().argsort(),0],y_test[X_test.flatten().argsort(),0],'or',markersize=2,label='Test')\n",
    "plt.plot(X_v,y_v,'o',color='gray',markersize=2,label='Validation')\n",
    "plt.plot(x_pred_future[0:totalW-2],y_pred_future[0:totalW-2],'--g',label='Predict')\n",
    "plt.plot(x_pred_future[totalW-3:],y_pred_future[totalW-3:],'--',color='orange',label='Future Predict')\n",
    "plt.plot([Xpeak,Xpeak],[-5000,Ymax],'--',color='lightseagreen', label='Peak') #Peak of cases.\n",
    "plt.ylim(-5000,Ymax)\n",
    "plt.legend(loc='upper left');\n",
    "plt.savefig('docs/images/pmp_{}_activos'.format(name))"
   ]
  },
  {
   "cell_type": "code",
   "execution_count": 31,
   "metadata": {
    "colab": {
     "base_uri": "https://localhost:8080/",
     "height": 102
    },
    "colab_type": "code",
    "executionInfo": {
     "elapsed": 511,
     "status": "ok",
     "timestamp": 1599107806964,
     "user": {
      "displayName": "Juan Manuel Lombana Martinez",
      "photoUrl": "https://lh3.googleusercontent.com/a-/AOh14GjjvnrdriZlzXxdV00af0OFnQ3lxzsrl5cE-wBq=s64",
      "userId": "06181135591528508533"
     },
     "user_tz": 300
    },
    "id": "ihYYQStNPW9O",
    "outputId": "d6c4c23d-837c-4610-e6d3-7b5a929419a7",
    "tags": []
   },
   "outputs": [
    {
     "name": "stdout",
     "output_type": "stream",
     "text": [
      "     ---- Métricas ----\n",
      "Total RMSE:\t\t328\n",
      "Total MAE:\t\t297\n",
      "Future (3 weeks) RMSE:\t9812\n",
      "Future (3 weeks) MAE:\t8045\n"
     ]
    }
   ],
   "source": [
    "y_pred_val = pipe.predict(X_v)\n",
    "print('     ---- Métricas ----')\n",
    "print('Total RMSE:\\t\\t{:.0f}'.format(np.sqrt(mean_squared_error(y_test, y_pred))))\n",
    "print('Total MAE:\\t\\t{:.0f}'.format(mean_absolute_error(y_test,y_pred)))\n",
    "print('Future (3 weeks) RMSE:\\t{:.0f}'.format(np.sqrt(mean_squared_error(y_v, y_pred_val))))\n",
    "print('Future (3 weeks) MAE:\\t{:.0f}'.format(mean_absolute_error(y_v,y_pred_val)))"
   ]
  },
  {
   "cell_type": "markdown",
   "metadata": {
    "colab_type": "text",
    "id": "r3gzJowqXxM9"
   },
   "source": [
    "### Recuperados"
   ]
  },
  {
   "cell_type": "code",
   "execution_count": 32,
   "metadata": {
    "colab": {
     "base_uri": "https://localhost:8080/",
     "height": 221
    },
    "colab_type": "code",
    "executionInfo": {
     "elapsed": 1102,
     "status": "ok",
     "timestamp": 1599268048919,
     "user": {
      "displayName": "Juan Manuel Lombana Martinez",
      "photoUrl": "https://lh3.googleusercontent.com/a-/AOh14GjjvnrdriZlzXxdV00af0OFnQ3lxzsrl5cE-wBq=s64",
      "userId": "06181135591528508533"
     },
     "user_tz": 300
    },
    "id": "rCtzv0sJQLSw",
    "outputId": "03a6923e-3ea8-443a-8d99-1a2926545f23"
   },
   "outputs": [
    {
     "data": {
      "text/plain": [
       "Pipeline(steps=[('standardscaler', StandardScaler()),\n",
       "                ('polynomialfeatures', PolynomialFeatures(degree=5)),\n",
       "                ('lasso', Lasso(max_iter=10000, random_state=123))])"
      ]
     },
     "execution_count": 32,
     "metadata": {},
     "output_type": "execute_result"
    }
   ],
   "source": [
    "totalW = len(df_w.index.values)\n",
    "X = df_w.index.values[0:totalW-3].reshape(-1,1) #Variable independiente.\n",
    "y = df_w['acumulado_recuperados'].values[0:totalW-3].reshape(-1,1) #Variable dependiente.\n",
    "#Datos de validación - nunca entran al modelo.\n",
    "X_v = df_w.index.values[totalW-3:].reshape(-1,1)\n",
    "y_v = df_w['acumulado_recuperados'].values[totalW-3:].reshape(-1,1)\n",
    "\n",
    "X_train, X_test, y_train, y_test = train_test_split(X,y,test_size=0.3,random_state=123,shuffle=True)\n",
    "pipe = make_pipeline(StandardScaler(),PolynomialFeatures(degree=5),Lasso(random_state=123,max_iter=10000))\n",
    "pipe.fit(X_train,y_train)"
   ]
  },
  {
   "cell_type": "code",
   "execution_count": 33,
   "metadata": {
    "colab": {},
    "colab_type": "code",
    "executionInfo": {
     "elapsed": 1028,
     "status": "ok",
     "timestamp": 1599268050775,
     "user": {
      "displayName": "Juan Manuel Lombana Martinez",
      "photoUrl": "https://lh3.googleusercontent.com/a-/AOh14GjjvnrdriZlzXxdV00af0OFnQ3lxzsrl5cE-wBq=s64",
      "userId": "06181135591528508533"
     },
     "user_tz": 300
    },
    "id": "DxXcVIjOX3rq"
   },
   "outputs": [],
   "source": [
    "y_pred = pipe.predict(X_test)\n",
    "x_pred_future = np.arange(0,totalW,step=1)\n",
    "y_pred_future = pipe.predict(x_pred_future.reshape(-1,1))\n",
    "Ymax = GetMax(y_train,y_test,y_pred,y_pred_future)"
   ]
  },
  {
   "cell_type": "code",
   "execution_count": 34,
   "metadata": {
    "colab": {
     "base_uri": "https://localhost:8080/",
     "height": 499
    },
    "colab_type": "code",
    "executionInfo": {
     "elapsed": 988,
     "status": "ok",
     "timestamp": 1599268075548,
     "user": {
      "displayName": "Juan Manuel Lombana Martinez",
      "photoUrl": "https://lh3.googleusercontent.com/a-/AOh14GjjvnrdriZlzXxdV00af0OFnQ3lxzsrl5cE-wBq=s64",
      "userId": "06181135591528508533"
     },
     "user_tz": 300
    },
    "id": "FMIpg2T7X5lQ",
    "outputId": "e7f236c4-2fcb-448d-dadb-ceda51843345"
   },
   "outputs": [
    {
     "data": {
      "image/png": "[encoded data removed]",
      "text/plain": [
       "<Figure size 1296x576 with 1 Axes>"
      ]
     },
     "metadata": {
      "needs_background": "light"
     },
     "output_type": "display_data"
    }
   ],
   "source": [
    "#Graph ordered data.\n",
    "f = plt.figure(figsize=(18,8))\n",
    "plt.title('Predicción Semanal de recuperados')\n",
    "plt.grid()\n",
    "plt.plot(X_train[X_train.flatten().argsort(),0],y_train[X_train.flatten().argsort(),0],'ob',markersize=3,label='Train')\n",
    "plt.plot(X_test[X_test.flatten().argsort(),0],y_test[X_test.flatten().argsort(),0],'or',markersize=2,label='Test')\n",
    "plt.plot(X_v,y_v,'o',color='gray',markersize=2,label='Validation')\n",
    "plt.plot(x_pred_future[0:totalW-2],y_pred_future[0:totalW-2],'--g',label='Predict')\n",
    "plt.plot(x_pred_future[totalW-3:],y_pred_future[totalW-3:],'--',color='orange',label='Future Predict')\n",
    "plt.plot([Xpeak,Xpeak],[-5000,Ymax],'--',color='lightseagreen', label='Peak') #Peak of cases.\n",
    "plt.ylim(-5000,Ymax)\n",
    "plt.legend(loc='upper left');\n",
    "plt.savefig('docs/images/pmp_{}_recuperados'.format(name))"
   ]
  },
  {
   "cell_type": "code",
   "execution_count": 35,
   "metadata": {
    "colab": {
     "base_uri": "https://localhost:8080/",
     "height": 102
    },
    "colab_type": "code",
    "executionInfo": {
     "elapsed": 642,
     "status": "ok",
     "timestamp": 1599160567717,
     "user": {
      "displayName": "Juan Manuel Lombana Martinez",
      "photoUrl": "https://lh3.googleusercontent.com/a-/AOh14GjjvnrdriZlzXxdV00af0OFnQ3lxzsrl5cE-wBq=s64",
      "userId": "06181135591528508533"
     },
     "user_tz": 300
    },
    "id": "WxVjNYR-X7P3",
    "outputId": "6293c17e-b75d-4269-d96a-ae72e913f1df",
    "tags": []
   },
   "outputs": [
    {
     "name": "stdout",
     "output_type": "stream",
     "text": [
      "     ---- Métricas ----\n",
      "Total RMSE:\t\t93\n",
      "Total MAE:\t\t86\n",
      "Future (3 weeks) RMSE:\t6527\n",
      "Future (3 weeks) MAE:\t5203\n"
     ]
    }
   ],
   "source": [
    "y_pred_val = pipe.predict(X_v)\n",
    "print('     ---- Métricas ----')\n",
    "print('Total RMSE:\\t\\t{:.0f}'.format(np.sqrt(mean_squared_error(y_test, y_pred))))\n",
    "print('Total MAE:\\t\\t{:.0f}'.format(mean_absolute_error(y_test,y_pred)))\n",
    "print('Future (3 weeks) RMSE:\\t{:.0f}'.format(np.sqrt(mean_squared_error(y_v, y_pred_val))))\n",
    "print('Future (3 weeks) MAE:\\t{:.0f}'.format(mean_absolute_error(y_v,y_pred_val)))"
   ]
  },
  {
   "cell_type": "markdown",
   "metadata": {
    "colab_type": "text",
    "id": "7GOGiriZcMo5"
   },
   "source": [
    "### Muertos"
   ]
  },
  {
   "cell_type": "code",
   "execution_count": 36,
   "metadata": {
    "colab": {
     "base_uri": "https://localhost:8080/",
     "height": 221
    },
    "colab_type": "code",
    "executionInfo": {
     "elapsed": 605,
     "status": "ok",
     "timestamp": 1599161309220,
     "user": {
      "displayName": "Juan Manuel Lombana Martinez",
      "photoUrl": "https://lh3.googleusercontent.com/a-/AOh14GjjvnrdriZlzXxdV00af0OFnQ3lxzsrl5cE-wBq=s64",
      "userId": "06181135591528508533"
     },
     "user_tz": 300
    },
    "id": "qishb1F7cOmZ",
    "outputId": "45135d7e-be04-4c49-9587-c4c9faa6e941"
   },
   "outputs": [
    {
     "data": {
      "text/plain": [
       "Pipeline(steps=[('standardscaler', StandardScaler()),\n",
       "                ('polynomialfeatures', PolynomialFeatures(degree=7)),\n",
       "                ('lasso', Lasso(max_iter=10000, random_state=123))])"
      ]
     },
     "execution_count": 36,
     "metadata": {},
     "output_type": "execute_result"
    }
   ],
   "source": [
    "totalW = len(df_w.index.values)\n",
    "X = df_w.index.values[0:totalW-3].reshape(-1,1) #Variable independiente.\n",
    "y = df_w['acumulado_muertos'].values[0:totalW-3].reshape(-1,1) #Variable dependiente.\n",
    "#Datos de validación - nunca entran al modelo.\n",
    "X_v = df_w.index.values[totalW-3:].reshape(-1,1)\n",
    "y_v = df_w['acumulado_muertos'].values[totalW-3:].reshape(-1,1)\n",
    "\n",
    "X_train, X_test, y_train, y_test = train_test_split(X,y,test_size=0.3,random_state=123,shuffle=True)\n",
    "pipe = make_pipeline(StandardScaler(),PolynomialFeatures(degree=7),Lasso(random_state=123,max_iter=10000))\n",
    "pipe.fit(X_train,y_train)"
   ]
  },
  {
   "cell_type": "code",
   "execution_count": 37,
   "metadata": {
    "colab": {},
    "colab_type": "code",
    "id": "swxCP_DrcRWQ"
   },
   "outputs": [],
   "source": [
    "y_pred = pipe.predict(X_test)\n",
    "x_pred_future = np.arange(0,totalW,step=1)\n",
    "y_pred_future = pipe.predict(x_pred_future.reshape(-1,1))\n",
    "Ymax = GetMax(y_train,y_test,y_pred,y_pred_future)"
   ]
  },
  {
   "cell_type": "code",
   "execution_count": 38,
   "metadata": {
    "colab": {
     "base_uri": "https://localhost:8080/",
     "height": 499
    },
    "colab_type": "code",
    "executionInfo": {
     "elapsed": 1046,
     "status": "ok",
     "timestamp": 1599161447629,
     "user": {
      "displayName": "Juan Manuel Lombana Martinez",
      "photoUrl": "https://lh3.googleusercontent.com/a-/AOh14GjjvnrdriZlzXxdV00af0OFnQ3lxzsrl5cE-wBq=s64",
      "userId": "06181135591528508533"
     },
     "user_tz": 300
    },
    "id": "7UsC9fb8cUa4",
    "outputId": "05f2531c-9a28-4615-b71c-0b57cf7d8d6c"
   },
   "outputs": [
    {
     "data": {
      "image/png": "[encoded data removed]",
      "text/plain": [
       "<Figure size 1296x576 with 1 Axes>"
      ]
     },
     "metadata": {
      "needs_background": "light"
     },
     "output_type": "display_data"
    }
   ],
   "source": [
    "#Graph ordered data.\n",
    "f = plt.figure(figsize=(18,8))\n",
    "plt.title('Predicción Semanal de Muertes')\n",
    "plt.grid()\n",
    "plt.plot(X_train[X_train.flatten().argsort(),0],y_train[X_train.flatten().argsort(),0],'ob',markersize=3,label='Train')\n",
    "plt.plot(X_test[X_test.flatten().argsort(),0],y_test[X_test.flatten().argsort(),0],'or',markersize=2,label='Test')\n",
    "plt.plot(X_v,y_v,'o',color='gray',markersize=2,label='Validation')\n",
    "plt.plot(x_pred_future[0:totalW-2],y_pred_future[0:totalW-2],'--g',label='Predict')\n",
    "plt.plot(x_pred_future[totalW-3:],y_pred_future[totalW-3:],'--',color='orange',label='Future Predict')\n",
    "plt.plot([Xpeak,Xpeak],[-5000,Ymax],'--',color='lightseagreen', label='Peak') #Peak of cases.\n",
    "plt.ylim(-2000,Ymax)\n",
    "plt.legend(loc='upper left');\n",
    "plt.savefig('docs/images/pmp_{}_muertes'.format(name))"
   ]
  },
  {
   "cell_type": "code",
   "execution_count": 39,
   "metadata": {
    "colab": {
     "base_uri": "https://localhost:8080/",
     "height": 102
    },
    "colab_type": "code",
    "executionInfo": {
     "elapsed": 630,
     "status": "ok",
     "timestamp": 1599161356262,
     "user": {
      "displayName": "Juan Manuel Lombana Martinez",
      "photoUrl": "https://lh3.googleusercontent.com/a-/AOh14GjjvnrdriZlzXxdV00af0OFnQ3lxzsrl5cE-wBq=s64",
      "userId": "06181135591528508533"
     },
     "user_tz": 300
    },
    "id": "GcerxUFacWyR",
    "outputId": "f0ebedc4-3ca3-4823-d509-69615dbdf23b",
    "tags": []
   },
   "outputs": [
    {
     "name": "stdout",
     "output_type": "stream",
     "text": [
      "     ---- Métricas ----\n",
      "Total RMSE:\t\t17\n",
      "Total MAE:\t\t12\n",
      "Future (3 weeks) RMSE:\t263\n",
      "Future (3 weeks) MAE:\t190\n"
     ]
    }
   ],
   "source": [
    "y_pred_val = pipe.predict(X_v)\n",
    "print('     ---- Métricas ----')\n",
    "print('Total RMSE:\\t\\t{:.0f}'.format(np.sqrt(mean_squared_error(y_test, y_pred))))\n",
    "print('Total MAE:\\t\\t{:.0f}'.format(mean_absolute_error(y_test,y_pred)))\n",
    "print('Future (3 weeks) RMSE:\\t{:.0f}'.format(np.sqrt(mean_squared_error(y_v, y_pred_val))))\n",
    "print('Future (3 weeks) MAE:\\t{:.0f}'.format(mean_absolute_error(y_v,y_pred_val)))"
   ]
  }
 ],
 "metadata": {
  "colab": {
   "authorship_tag": "ABX9TyPrfDS/xsy7pBi5E+JtIL1A",
   "collapsed_sections": [],
   "mount_file_id": "1e65ez2PT-HnjAITg0O_HtXOixMx6xamn",
   "name": "3_Modelo_JLM",
   "provenance": []
  },
  "kernelspec": {
   "display_name": "Python 3",
   "language": "python",
   "name": "python3"
  },
  "language_info": {
   "codemirror_mode": {
    "name": "ipython",
    "version": 3
   },
   "file_extension": ".py",
   "mimetype": "text/x-python",
   "name": "python",
   "nbconvert_exporter": "python",
   "pygments_lexer": "ipython3",
   "version": "3.7.3"
  }
 },
 "nbformat": 4,
 "nbformat_minor": 4
}
